{
  "cells": [
    {
      "cell_type": "markdown",
      "metadata": {
        "id": "sZd5yLnnHOK0"
      },
      "source": [
        "<img src=\"https://github.com/hernancontigiani/ceia_memorias_especializacion/raw/master/Figures/logoFIUBA.jpg\" width=\"500\" align=\"center\">\n",
        "\n",
        "\n",
        "# Procesamiento de lenguaje natural\n",
        "## Custom embedddings con Gensim\n",
        "\n"
      ]
    },
    {
      "cell_type": "markdown",
      "metadata": {
        "id": "vA7nqkumo9z9"
      },
      "source": [
        "### Objetivo\n",
        "El objetivo es utilizar documentos / corpus para crear embeddings de palabras basado en ese contexto. Se utilizará canciones de bandas para generar los embeddings, es decir, que los vectores tendrán la forma en función de como esa banda haya utilizado las palabras en sus canciones."
      ]
    },
    {
      "cell_type": "code",
      "execution_count": 1,
      "metadata": {
        "id": "lFToQs5FK5uZ"
      },
      "outputs": [],
      "source": [
        "import pandas as pd\n",
        "import matplotlib.pyplot as plt\n",
        "import seaborn as sns\n",
        "\n",
        "import multiprocessing\n",
        "from gensim.models import Word2Vec"
      ]
    },
    {
      "cell_type": "markdown",
      "metadata": {
        "id": "g07zJxG7H9vG"
      },
      "source": [
        "### Datos\n",
        "Utilizaremos como dataset el libro \"The Adventures of Sherlock Holmes\" de Arthur Conan Doyle"
      ]
    },
    {
      "cell_type": "code",
      "execution_count": 3,
      "metadata": {
        "id": "ticoqYD1Z3I7",
        "colab": {
          "base_uri": "https://localhost:8080/",
          "height": 206
        },
        "outputId": "1313488b-fb25-4f6b-dc6d-9770a73425a3"
      },
      "outputs": [
        {
          "output_type": "execute_result",
          "data": {
            "text/plain": [
              "                                                     0\n",
              "100  been burned, had you lived a few centuries ago...\n",
              "101  country walk on Thursday and came home in a dr...\n",
              "102  have changed my clothes I can’t imagine how yo...\n",
              "103  Jane, she is incorrigible, and my wife has giv...\n",
              "104         again, I fail to see how you work it out.”"
            ],
            "text/html": [
              "\n",
              "  <div id=\"df-dfbc6575-69a3-4ea7-847e-6cf9685072a3\">\n",
              "    <div class=\"colab-df-container\">\n",
              "      <div>\n",
              "<style scoped>\n",
              "    .dataframe tbody tr th:only-of-type {\n",
              "        vertical-align: middle;\n",
              "    }\n",
              "\n",
              "    .dataframe tbody tr th {\n",
              "        vertical-align: top;\n",
              "    }\n",
              "\n",
              "    .dataframe thead th {\n",
              "        text-align: right;\n",
              "    }\n",
              "</style>\n",
              "<table border=\"1\" class=\"dataframe\">\n",
              "  <thead>\n",
              "    <tr style=\"text-align: right;\">\n",
              "      <th></th>\n",
              "      <th>0</th>\n",
              "    </tr>\n",
              "  </thead>\n",
              "  <tbody>\n",
              "    <tr>\n",
              "      <th>100</th>\n",
              "      <td>been burned, had you lived a few centuries ago...</td>\n",
              "    </tr>\n",
              "    <tr>\n",
              "      <th>101</th>\n",
              "      <td>country walk on Thursday and came home in a dr...</td>\n",
              "    </tr>\n",
              "    <tr>\n",
              "      <th>102</th>\n",
              "      <td>have changed my clothes I can’t imagine how yo...</td>\n",
              "    </tr>\n",
              "    <tr>\n",
              "      <th>103</th>\n",
              "      <td>Jane, she is incorrigible, and my wife has giv...</td>\n",
              "    </tr>\n",
              "    <tr>\n",
              "      <th>104</th>\n",
              "      <td>again, I fail to see how you work it out.”</td>\n",
              "    </tr>\n",
              "  </tbody>\n",
              "</table>\n",
              "</div>\n",
              "      <button class=\"colab-df-convert\" onclick=\"convertToInteractive('df-dfbc6575-69a3-4ea7-847e-6cf9685072a3')\"\n",
              "              title=\"Convert this dataframe to an interactive table.\"\n",
              "              style=\"display:none;\">\n",
              "        \n",
              "  <svg xmlns=\"http://www.w3.org/2000/svg\" height=\"24px\"viewBox=\"0 0 24 24\"\n",
              "       width=\"24px\">\n",
              "    <path d=\"M0 0h24v24H0V0z\" fill=\"none\"/>\n",
              "    <path d=\"M18.56 5.44l.94 2.06.94-2.06 2.06-.94-2.06-.94-.94-2.06-.94 2.06-2.06.94zm-11 1L8.5 8.5l.94-2.06 2.06-.94-2.06-.94L8.5 2.5l-.94 2.06-2.06.94zm10 10l.94 2.06.94-2.06 2.06-.94-2.06-.94-.94-2.06-.94 2.06-2.06.94z\"/><path d=\"M17.41 7.96l-1.37-1.37c-.4-.4-.92-.59-1.43-.59-.52 0-1.04.2-1.43.59L10.3 9.45l-7.72 7.72c-.78.78-.78 2.05 0 2.83L4 21.41c.39.39.9.59 1.41.59.51 0 1.02-.2 1.41-.59l7.78-7.78 2.81-2.81c.8-.78.8-2.07 0-2.86zM5.41 20L4 18.59l7.72-7.72 1.47 1.35L5.41 20z\"/>\n",
              "  </svg>\n",
              "      </button>\n",
              "      \n",
              "  <style>\n",
              "    .colab-df-container {\n",
              "      display:flex;\n",
              "      flex-wrap:wrap;\n",
              "      gap: 12px;\n",
              "    }\n",
              "\n",
              "    .colab-df-convert {\n",
              "      background-color: #E8F0FE;\n",
              "      border: none;\n",
              "      border-radius: 50%;\n",
              "      cursor: pointer;\n",
              "      display: none;\n",
              "      fill: #1967D2;\n",
              "      height: 32px;\n",
              "      padding: 0 0 0 0;\n",
              "      width: 32px;\n",
              "    }\n",
              "\n",
              "    .colab-df-convert:hover {\n",
              "      background-color: #E2EBFA;\n",
              "      box-shadow: 0px 1px 2px rgba(60, 64, 67, 0.3), 0px 1px 3px 1px rgba(60, 64, 67, 0.15);\n",
              "      fill: #174EA6;\n",
              "    }\n",
              "\n",
              "    [theme=dark] .colab-df-convert {\n",
              "      background-color: #3B4455;\n",
              "      fill: #D2E3FC;\n",
              "    }\n",
              "\n",
              "    [theme=dark] .colab-df-convert:hover {\n",
              "      background-color: #434B5C;\n",
              "      box-shadow: 0px 1px 3px 1px rgba(0, 0, 0, 0.15);\n",
              "      filter: drop-shadow(0px 1px 2px rgba(0, 0, 0, 0.3));\n",
              "      fill: #FFFFFF;\n",
              "    }\n",
              "  </style>\n",
              "\n",
              "      <script>\n",
              "        const buttonEl =\n",
              "          document.querySelector('#df-dfbc6575-69a3-4ea7-847e-6cf9685072a3 button.colab-df-convert');\n",
              "        buttonEl.style.display =\n",
              "          google.colab.kernel.accessAllowed ? 'block' : 'none';\n",
              "\n",
              "        async function convertToInteractive(key) {\n",
              "          const element = document.querySelector('#df-dfbc6575-69a3-4ea7-847e-6cf9685072a3');\n",
              "          const dataTable =\n",
              "            await google.colab.kernel.invokeFunction('convertToInteractive',\n",
              "                                                     [key], {});\n",
              "          if (!dataTable) return;\n",
              "\n",
              "          const docLinkHtml = 'Like what you see? Visit the ' +\n",
              "            '<a target=\"_blank\" href=https://colab.research.google.com/notebooks/data_table.ipynb>data table notebook</a>'\n",
              "            + ' to learn more about interactive tables.';\n",
              "          element.innerHTML = '';\n",
              "          dataTable['output_type'] = 'display_data';\n",
              "          await google.colab.output.renderOutput(dataTable, element);\n",
              "          const docLink = document.createElement('div');\n",
              "          docLink.innerHTML = docLinkHtml;\n",
              "          element.appendChild(docLink);\n",
              "        }\n",
              "      </script>\n",
              "    </div>\n",
              "  </div>\n",
              "  "
            ]
          },
          "metadata": {},
          "execution_count": 3
        }
      ],
      "source": [
        "# Armar el dataset utilizando salto de línea para separar las oraciones/docs\n",
        "df = pd.read_csv('the_adventures_of_sherlock_holmes.txt', sep='/n', engine='python', header=None)\n",
        "df[100:105]"
      ]
    },
    {
      "cell_type": "code",
      "execution_count": 4,
      "metadata": {
        "id": "LEpKubK9XzXN",
        "colab": {
          "base_uri": "https://localhost:8080/"
        },
        "outputId": "f17cc82a-b437-4ea4-aa81-13183eed4f63"
      },
      "outputs": [
        {
          "output_type": "stream",
          "name": "stdout",
          "text": [
            "Cantidad de documentos: 9626\n"
          ]
        }
      ],
      "source": [
        "print(\"Cantidad de documentos:\", df.shape[0])"
      ]
    },
    {
      "cell_type": "markdown",
      "metadata": {
        "id": "ab94qaFlrA1G"
      },
      "source": [
        "### 1 - Preprocesamiento"
      ]
    },
    {
      "cell_type": "code",
      "execution_count": 5,
      "metadata": {
        "id": "rIsmMWmjrDHd"
      },
      "outputs": [],
      "source": [
        "from keras.preprocessing.text import text_to_word_sequence\n",
        "\n",
        "sentence_tokens = []\n",
        "# Recorrer todas las filas y transformar las oraciones\n",
        "# en una secuencia de palabras (esto podría realizarse con NLTK o spaCy también)\n",
        "for _, row in df[:None].iterrows():\n",
        "    sentence_tokens.append(text_to_word_sequence(row[0]))"
      ]
    },
    {
      "cell_type": "code",
      "execution_count": 6,
      "metadata": {
        "id": "CHepi_DGrbhq",
        "colab": {
          "base_uri": "https://localhost:8080/"
        },
        "outputId": "6817acf8-599a-44f3-dfaf-4e928803410c"
      },
      "outputs": [
        {
          "output_type": "execute_result",
          "data": {
            "text/plain": [
              "[['adler', 'of', 'dubious', 'and', 'questionable', 'memory'],\n",
              " ['i',\n",
              "  'had',\n",
              "  'seen',\n",
              "  'little',\n",
              "  'of',\n",
              "  'holmes',\n",
              "  'lately',\n",
              "  'my',\n",
              "  'marriage',\n",
              "  'had',\n",
              "  'drifted',\n",
              "  'us',\n",
              "  'away']]"
            ]
          },
          "metadata": {},
          "execution_count": 6
        }
      ],
      "source": [
        "# Demos un vistazo\n",
        "sentence_tokens[50:52]"
      ]
    },
    {
      "cell_type": "markdown",
      "metadata": {
        "id": "BaXV6nlHr5Aa"
      },
      "source": [
        "### 2 - Crear los vectores (word2vec)"
      ]
    },
    {
      "cell_type": "code",
      "execution_count": 7,
      "metadata": {
        "id": "OSb0v7h8r7hK"
      },
      "outputs": [],
      "source": [
        "from gensim.models.callbacks import CallbackAny2Vec\n",
        "# Durante el entrenamiento gensim por defecto no informa el \"loss\" en cada época\n",
        "# Sobrecargamos el callback para poder tener esta información\n",
        "class callback(CallbackAny2Vec):\n",
        "    \"\"\"\n",
        "    Callback to print loss after each epoch\n",
        "    \"\"\"\n",
        "    def __init__(self):\n",
        "        self.epoch = 0\n",
        "\n",
        "    def on_epoch_end(self, model):\n",
        "        loss = model.get_latest_training_loss()\n",
        "        if self.epoch == 0:\n",
        "            print('Loss after epoch {}: {}'.format(self.epoch, loss))\n",
        "        else:\n",
        "            print('Loss after epoch {}: {}'.format(self.epoch, loss- self.loss_previous_step))\n",
        "        self.epoch += 1\n",
        "        self.loss_previous_step = loss"
      ]
    },
    {
      "cell_type": "code",
      "execution_count": 8,
      "metadata": {
        "id": "i0wnDdv9sJ47"
      },
      "outputs": [],
      "source": [
        "# Crearmos el modelo generador de vectores\n",
        "# En este caso utilizaremos la estructura modelo Skipgram\n",
        "w2v_model = Word2Vec(min_count=5,    # frecuencia mínima de palabra para incluirla en el vocabulario\n",
        "                    window=2,       # cant de palabras antes y desp de la predicha\n",
        "                    vector_size=400,       # dimensionalidad de los vectores \n",
        "                    negative=20,    # cantidad de negative samples... 0 es no se usa\n",
        "                    workers=1,      # si tienen más cores pueden cambiar este valor\n",
        "                    sg=1)           # modelo 0:CBOW  1:skipgram"
      ]
    },
    {
      "cell_type": "code",
      "execution_count": 9,
      "metadata": {
        "id": "5lTt8wErsf17"
      },
      "outputs": [],
      "source": [
        "# Obtener el vocabulario con los tokens\n",
        "w2v_model.build_vocab(sentence_tokens)"
      ]
    },
    {
      "cell_type": "code",
      "execution_count": 10,
      "metadata": {
        "id": "TNc9qt4os5AT",
        "colab": {
          "base_uri": "https://localhost:8080/"
        },
        "outputId": "1cb5d2a1-5b85-499b-9857-cd655a5a76af"
      },
      "outputs": [
        {
          "output_type": "stream",
          "name": "stdout",
          "text": [
            "Cantidad de docs en el corpus: 9626\n"
          ]
        }
      ],
      "source": [
        "# Cantidad de filas/docs encontradas en el corpus\n",
        "print(\"Cantidad de docs en el corpus:\", w2v_model.corpus_count)"
      ]
    },
    {
      "cell_type": "code",
      "execution_count": 11,
      "metadata": {
        "id": "idw9cHF3tSMl",
        "colab": {
          "base_uri": "https://localhost:8080/"
        },
        "outputId": "eaab9926-7924-4ce4-a1ca-38e37dfd6e26"
      },
      "outputs": [
        {
          "output_type": "stream",
          "name": "stdout",
          "text": [
            "Cantidad de words distintas en el corpus: 2231\n"
          ]
        }
      ],
      "source": [
        "# Cantidad de words encontradas en el corpus\n",
        "print(\"Cantidad de words distintas en el corpus:\", len(w2v_model.wv.key_to_index))"
      ]
    },
    {
      "cell_type": "markdown",
      "metadata": {
        "id": "fC9mZ8DPk-UC"
      },
      "source": [
        "### 3 - Entrenar el modelo generador"
      ]
    },
    {
      "cell_type": "code",
      "execution_count": 12,
      "metadata": {
        "id": "QSp-x0PAsq56",
        "colab": {
          "base_uri": "https://localhost:8080/"
        },
        "outputId": "1ff17ae3-fc83-4bce-8609-672669746f2e"
      },
      "outputs": [
        {
          "output_type": "stream",
          "name": "stdout",
          "text": [
            "Loss after epoch 0: 882543.625\n",
            "Loss after epoch 1: 613979.25\n",
            "Loss after epoch 2: 582623.625\n",
            "Loss after epoch 3: 503463.75\n",
            "Loss after epoch 4: 498194.0\n",
            "Loss after epoch 5: 496698.0\n",
            "Loss after epoch 6: 491409.25\n",
            "Loss after epoch 7: 469579.5\n",
            "Loss after epoch 8: 458565.5\n",
            "Loss after epoch 9: 454541.0\n",
            "Loss after epoch 10: 452995.0\n",
            "Loss after epoch 11: 448325.0\n",
            "Loss after epoch 12: 446506.0\n",
            "Loss after epoch 13: 444282.5\n",
            "Loss after epoch 14: 440983.0\n",
            "Loss after epoch 15: 438874.0\n",
            "Loss after epoch 16: 431306.0\n",
            "Loss after epoch 17: 420712.0\n",
            "Loss after epoch 18: 419144.0\n",
            "Loss after epoch 19: 421645.0\n"
          ]
        },
        {
          "output_type": "execute_result",
          "data": {
            "text/plain": [
              "(1358642, 2224020)"
            ]
          },
          "metadata": {},
          "execution_count": 12
        }
      ],
      "source": [
        "# Entrenamos el modelo generador de vectores\n",
        "# Utilizamos nuestro callback\n",
        "w2v_model.train(sentence_tokens,\n",
        "                total_examples=w2v_model.corpus_count,\n",
        "                epochs=20,\n",
        "                compute_loss = True,\n",
        "                callbacks=[callback()]\n",
        "                )"
      ]
    },
    {
      "cell_type": "markdown",
      "metadata": {
        "id": "ddT9NVuNlCAe"
      },
      "source": [
        "### 4 - Ensayar"
      ]
    },
    {
      "cell_type": "code",
      "execution_count": null,
      "metadata": {
        "id": "6cHN9xGLuPEm",
        "outputId": "24de8796-6ec1-4671-e391-bb5eb51ad0f7"
      },
      "outputs": [
        {
          "data": {
            "text/plain": [
              "[('doctor', 0.5544066429138184),\n",
              " ('scoundrel', 0.5528813004493713),\n",
              " ('fancies', 0.5386099219322205),\n",
              " ('prison', 0.5357534885406494),\n",
              " ('suppose', 0.5331242680549622),\n",
              " ('dad', 0.5330371260643005),\n",
              " ('“perhaps', 0.5211277604103088),\n",
              " ('madam', 0.5177298784255981),\n",
              " ('“ha', 0.5131778717041016),\n",
              " ('thief', 0.5125296711921692)]"
            ]
          },
          "execution_count": 15,
          "metadata": {},
          "output_type": "execute_result"
        }
      ],
      "source": [
        "# Palabras que MÁS se relacionan con...:\n",
        "w2v_model.wv.most_similar(positive=[\"watson\"], topn=10)"
      ]
    },
    {
      "cell_type": "code",
      "execution_count": null,
      "metadata": {
        "id": "AhjZX-hC9zku",
        "outputId": "90aab3d8-2af2-4b59-a5b9-307a4fe29fed"
      },
      "outputs": [
        {
          "data": {
            "text/plain": [
              "[('sell', 0.49815037846565247),\n",
              " ('station', 0.4929080307483673),\n",
              " ('official', 0.4887022376060486),\n",
              " ('successful', 0.46999576687812805),\n",
              " ('paddington', 0.4625307321548462),\n",
              " ('county', 0.4597383439540863),\n",
              " ('begin', 0.45728635787963867),\n",
              " ('master', 0.4513097405433655),\n",
              " ('names', 0.44859105348587036),\n",
              " ('cabman', 0.4462090730667114)]"
            ]
          },
          "execution_count": 16,
          "metadata": {},
          "output_type": "execute_result"
        }
      ],
      "source": [
        "# Palabras que MÁS se relacionan con...:\n",
        "w2v_model.wv.most_similar(positive=[\"police\"], topn=10)"
      ]
    },
    {
      "cell_type": "code",
      "execution_count": null,
      "metadata": {
        "id": "DT4Rvno2mD65",
        "outputId": "7518f35e-71e3-42f6-d03d-484606f688a3"
      },
      "outputs": [
        {
          "data": {
            "text/plain": [
              "[('adventures', 0.5049884915351868),\n",
              " ('description', 0.4986458718776703),\n",
              " ('jabez', 0.49620577692985535),\n",
              " ('“come', 0.49538201093673706),\n",
              " ('“holmes', 0.4941169023513794),\n",
              " ('“which', 0.49400094151496887),\n",
              " ('breckinridge', 0.49189236760139465),\n",
              " ('engineer', 0.4801810383796692),\n",
              " ('“my', 0.4769778549671173),\n",
              " ('godfrey', 0.4756881892681122)]"
            ]
          },
          "execution_count": 17,
          "metadata": {},
          "output_type": "execute_result"
        }
      ],
      "source": [
        "# Palabras que MÁS se relacionan con...:\n",
        "w2v_model.wv.most_similar(positive=[\"sherlock\"], topn=10)"
      ]
    },
    {
      "cell_type": "code",
      "execution_count": null,
      "metadata": {
        "id": "XPLDPgzBmQXt",
        "outputId": "7727dabf-14e3-4408-a403-644e34ee6fcb"
      },
      "outputs": [
        {
          "data": {
            "text/plain": [
              "[('service', 0.5363479256629944),\n",
              " ('£', 0.529644250869751),\n",
              " ('keeping', 0.5126955509185791),\n",
              " ('confidence', 0.5062758922576904),\n",
              " ('practice', 0.5047531723976135)]"
            ]
          },
          "execution_count": 18,
          "metadata": {},
          "output_type": "execute_result"
        }
      ],
      "source": [
        "# Palabras que MÁS se relacionan con...:\n",
        "w2v_model.wv.most_similar(positive=[\"money\"], topn=5)"
      ]
    },
    {
      "cell_type": "markdown",
      "metadata": {
        "id": "_g8UVWe6lFmh"
      },
      "source": [
        "### 5 - Visualizar agrupación de vectores"
      ]
    },
    {
      "cell_type": "code",
      "execution_count": 13,
      "metadata": {
        "id": "pDxEVXAivjr9"
      },
      "outputs": [],
      "source": [
        "from sklearn.decomposition import IncrementalPCA    \n",
        "from sklearn.manifold import TSNE                   \n",
        "import numpy as np                                  \n",
        "\n",
        "def reduce_dimensions(model):\n",
        "    num_dimensions = 2  \n",
        "\n",
        "    vectors = np.asarray(model.wv.vectors)\n",
        "    labels = np.asarray(model.wv.index_to_key)  \n",
        "\n",
        "    tsne = TSNE(n_components=num_dimensions, random_state=0)\n",
        "    vectors = tsne.fit_transform(vectors)\n",
        "\n",
        "    x_vals = [v[0] for v in vectors]\n",
        "    y_vals = [v[1] for v in vectors]\n",
        "    return x_vals, y_vals, labels"
      ]
    },
    {
      "cell_type": "code",
      "execution_count": 14,
      "metadata": {
        "id": "NCCXtDpcugmd",
        "colab": {
          "base_uri": "https://localhost:8080/",
          "height": 542
        },
        "outputId": "61f63fb4-3168-4287-848b-855704d0d69a"
      },
      "outputs": [
        {
          "output_type": "display_data",
          "data": {
            "text/html": [
              "<html>\n",
              "<head><meta charset=\"utf-8\" /></head>\n",
              "<body>\n",
              "    <div>            <script src=\"https://cdnjs.cloudflare.com/ajax/libs/mathjax/2.7.5/MathJax.js?config=TeX-AMS-MML_SVG\"></script><script type=\"text/javascript\">if (window.MathJax && window.MathJax.Hub && window.MathJax.Hub.Config) {window.MathJax.Hub.Config({SVG: {font: \"STIX-Web\"}});}</script>                <script type=\"text/javascript\">window.PlotlyConfig = {MathJaxConfig: 'local'};</script>\n",
              "        <script src=\"https://cdn.plot.ly/plotly-2.18.2.min.js\"></script>                <div id=\"b974892e-2a64-4476-8eaf-e229aecba9ac\" class=\"plotly-graph-div\" style=\"height:525px; width:100%;\"></div>            <script type=\"text/javascript\">                                    window.PLOTLYENV=window.PLOTLYENV || {};                                    if (document.getElementById(\"b974892e-2a64-4476-8eaf-e229aecba9ac\")) {                    Plotly.newPlot(                        \"b974892e-2a64-4476-8eaf-e229aecba9ac\",                        [{\"hovertemplate\":\"x=%{x}<br>y=%{y}<br>text=%{text}<extra></extra>\",\"legendgroup\":\"\",\"marker\":{\"color\":\"#636efa\",\"symbol\":\"circle\"},\"mode\":\"markers+text\",\"name\":\"\",\"orientation\":\"v\",\"showlegend\":false,\"text\":[\"the\",\"and\",\"to\",\"of\",\"a\",\"i\",\"\\u201d\",\"in\",\"that\",\"it\",\"he\",\"was\",\"you\",\"his\",\"is\",\"my\",\"have\",\"with\",\"as\",\"had\",\"at\",\"which\",\"for\",\"be\",\"not\",\"me\",\"but\",\"from\",\"we\",\"this\",\"said\",\"upon\",\"there\",\"holmes\",\"him\",\"so\",\"her\",\"she\",\"all\",\"\\u2019\",\"been\",\"your\",\"on\",\"very\",\"by\",\"one\",\"are\",\"\\u201ci\",\"were\",\"an\",\"would\",\"no\",\"out\",\"what\",\"then\",\"when\",\"up\",\"man\",\"could\",\"has\",\"do\",\"into\",\"or\",\"little\",\"will\",\"who\",\"mr\",\"if\",\"some\",\"down\",\"see\",\"now\",\"our\",\"may\",\"should\",\"am\",\"us\",\"over\",\"they\",\"can\",\"more\",\"think\",\"about\",\"must\",\"shall\",\"room\",\"know\",\"before\",\"any\",\"other\",\"than\",\"only\",\"come\",\"time\",\"them\",\"two\",\"came\",\"did\",\"door\",\"back\",\"\\u201cit\",\"face\",\"might\",\"matter\",\"good\",\"much\",\"\\u201cyou\",\"house\",\"hand\",\"just\",\"way\",\"how\",\"case\",\"such\",\"well\",\"here\",\"heard\",\"where\",\"\\u201cand\",\"night\",\"made\",\"found\",\"however\",\"away\",\"day\",\"morning\",\"right\",\"own\",\"sherlock\",\"nothing\",\"go\",\"gutenberg\",\"after\",\"like\",\"never\",\"their\",\"tell\",\"say\",\"most\",\"through\",\"work\",\"last\",\"left\",\"its\",\"saw\",\"quite\",\"project\",\"\\u201cyes\",\"asked\",\"long\",\"eyes\",\"\\u201cbut\",\"side\",\"miss\",\"once\",\"took\",\"first\",\"yet\",\"st\",\"street\",\"young\",\"too\",\"these\",\"every\",\"round\",\"find\",\"small\",\"watson\",\"without\",\"take\",\"\\u201cthe\",\"still\",\"thought\",\"few\",\"myself\",\"sir\",\"make\",\"off\",\"until\",\"\\u201cwell\",\"light\",\"old\",\"business\",\"himself\",\"window\",\"even\",\"hands\",\"father\",\"seen\",\"three\",\"ever\",\"lady\",\"look\",\"friend\",\"went\",\"seemed\",\"head\",\"cried\",\"while\",\"put\"],\"x\":[-6.44820499420166,-6.6820855140686035,34.65966796875,16.191537857055664,2.7670390605926514,2.2321951389312744,2.7094602584838867,1.2498615980148315,12.812578201293945,4.523230075836182,5.719844818115234,-17.095590591430664,18.29343605041504,-25.453872680664062,8.5916166305542,-1.836700677871704,14.20661735534668,-11.021951675415039,-12.509406089782715,-4.67353630065918,6.402363300323486,-10.664134979248047,8.211063385009766,28.37578010559082,28.24325180053711,5.241127014160156,11.72998046875,1.8309446573257446,16.769994735717773,9.892045974731445,4.77634859085083,-29.41332244873047,18.968124389648438,-1.9926414489746094,-15.551937103271484,13.86338996887207,-13.568352699279785,-0.20794445276260376,16.051847457885742,5.943883895874023,-8.130829811096191,-2.4695019721984863,9.23148250579834,14.990189552307129,-5.390925884246826,1.9394862651824951,26.888874053955078,15.618520736694336,26.876026153564453,2.8106768131256104,25.362228393554688,8.890020370483398,-26.774744033813477,19.193063735961914,0.7884756922721863,1.5353060960769653,-32.48691177368164,1.7104095220565796,24.726829528808594,-4.558906078338623,22.878257751464844,-32.14301681518555,15.796746253967285,0.9761795997619629,23.613718032836914,-4.723963737487793,-4.698163032531738,24.307907104492188,12.310802459716797,-29.785022735595703,24.919845581054688,4.585870742797852,17.435977935791016,31.73345947265625,25.945039749145508,19.848628997802734,18.80491065979004,-32.873409271240234,23.020631790161133,25.12919807434082,19.50364112854004,20.37553596496582,8.510061264038086,25.98978614807129,24.748762130737305,-23.642431259155273,29.39809799194336,15.473347663879395,15.11015510559082,11.560626029968262,19.041179656982422,2.2710061073303223,20.991479873657227,-4.296018123626709,19.47395133972168,0.6906288266181946,-18.667402267456055,22.742429733276367,-25.13620376586914,-26.450502395629883,4.2693257331848145,-25.415245056152344,5.851999282836914,26.582809448242188,14.859724998474121,9.755215644836426,13.18484878540039,-16.408803939819336,-27.309587478637695,-8.683133125305176,-3.7679696083068848,19.633811950683594,3.310654878616333,8.184126853942871,9.925331115722656,9.67409610748291,-7.010873794555664,-29.409883499145508,11.040207862854004,-22.640708923339844,-6.474640369415283,-11.827179908752441,-0.45649969577789307,-24.326866149902344,5.667292594909668,5.55385160446167,2.0761044025421143,26.278335571289062,-2.560105323791504,21.759136199951172,20.845172882080078,11.596416473388672,5.604127407073975,-6.311167240142822,13.704485893249512,17.197528839111328,28.223384857177734,29.400390625,11.546226501464844,-9.519206047058105,12.24993896484375,4.365502834320068,-15.12035846710205,17.78542137145996,-15.870590209960938,11.002591133117676,11.058506965637207,9.473945617675781,4.212982654571533,-9.706015586853027,-27.262624740600586,10.929810523986816,-23.572830200195312,-2.7667930126190186,-2.5005297660827637,-26.231443405151367,0.8424273729324341,10.871243476867676,-9.156021118164062,-20.767580032348633,-5.7890472412109375,14.955473899841309,-3.695575475692749,11.047393798828125,-30.505077362060547,23.020761489868164,-14.743307113647461,12.627096176147461,22.610416412353516,25.279943466186523,-2.664189338684082,5.317627429962158,4.470471382141113,0.8870893120765686,-1.3415318727493286,8.357437133789062,25.942895889282227,-20.56071662902832,-3.6116766929626465,8.443187713623047,-18.546586990356445,0.5837081670761108,5.832725524902344,-16.284584045410156,-25.1783390045166,17.52157211303711,-29.75726890563965,-3.442221164703369,-6.920457363128662,0.9275678992271423,13.687950134277344,-5.911989688873291,19.5966796875,-9.244742393493652,-14.937091827392578,6.0748209953308105,-28.26268768310547,5.06692361831665,-7.646903991699219,20.55826759338379],\"xaxis\":\"x\",\"y\":[15.642985343933105,6.029508113861084,-12.107954025268555,14.906632423400879,0.6053001284599304,-21.880849838256836,-29.4338436126709,14.361059188842773,-12.977723121643066,-19.039167404174805,-28.13188934326172,-18.548351287841797,-22.35816764831543,24.812427520751953,-13.316221237182617,-26.649538040161133,-12.559985160827637,14.95416259765625,-19.00566864013672,-14.561899185180664,19.35533332824707,1.266890048980713,21.699926376342773,-12.748549461364746,-23.27228355407715,-18.74337387084961,-10.930827140808105,15.839349746704102,-21.718114852905273,5.277769088745117,-34.4856071472168,13.482157707214355,5.069157123565674,-30.025819778442383,-22.25663948059082,-18.136945724487305,-8.984325408935547,-22.309736251831055,18.118379592895508,-31.31097412109375,-14.724623680114746,-25.9041748046875,17.348125457763672,-17.707435607910156,10.947701454162598,17.32487678527832,10.852928161621094,-28.864110946655273,10.87110424041748,0.0014500580728054047,-27.689855575561523,-34.428470611572266,-6.352688312530518,-23.995832443237305,-24.65886688232422,-23.191131591796875,14.362065315246582,-1.9231942892074585,-23.9482364654541,-14.762126922607422,-23.71773338317871,11.976507186889648,27.664154052734375,-0.5112790465354919,-25.77248191833496,-17.96215057373047,-33.95641326904297,6.166872978210449,20.708208084106445,9.45239543914795,-19.139074325561523,-21.01280403137207,18.956483840942383,-16.859249114990234,-24.513872146606445,-28.232885360717773,-15.073905944824219,13.595608711242676,-13.07257080078125,-25.658174514770508,11.823341369628906,-29.281299591064453,19.707904815673828,-26.05690574645996,-25.09374237060547,8.50996208190918,-19.78546714782715,-11.447466850280762,25.57129669189453,16.39961051940918,12.26799201965332,-11.847909927368164,-14.9861421585083,-5.909626483917236,-1.1706936359405518,22.779417037963867,-13.921545028686523,-24.617544174194336,5.300464153289795,-6.362213611602783,-29.90401840209961,20.977914810180664,-14.24074935913086,-5.311122894287109,-15.369582176208496,-6.899372577667236,-30.620222091674805,9.046191215515137,18.135757446289062,-18.231313705444336,0.46935558319091797,-23.064367294311523,3.6066977977752686,4.054174900054932,-9.975274085998535,-23.711389541625977,-13.643982887268066,-4.395676612854004,-32.77381896972656,-9.06743335723877,-9.647047996520996,-16.217702865600586,-13.908617973327637,-6.529042720794678,22.28679084777832,22.668292999267578,-19.976139068603516,3.2554681301116943,-31.492782592773438,12.726018905639648,-13.726874351501465,35.75090789794922,19.86483383178711,6.723067760467529,-21.46135902404785,18.69444465637207,-17.733858108520508,-19.78184700012207,8.778402328491211,23.37289810180664,30.623546600341797,20.34345245361328,-11.074358940124512,17.94568634033203,-17.01378059387207,-14.194283485412598,34.85503005981445,-28.9570255279541,-32.70637512207031,16.47036361694336,22.343921661376953,-32.664283752441406,15.871243476867676,-36.64567565917969,-1.6509804725646973,-1.435872197151184,5.316430568695068,-10.737447738647461,-33.38079833984375,1.7860225439071655,-19.1435604095459,-17.832271575927734,22.267288208007812,19.19944953918457,12.92037296295166,-15.572565078735352,18.239843368530273,-28.622297286987305,7.300992488861084,-13.890474319458008,-27.91927146911621,-1.1701416969299316,-11.580121994018555,25.79027557373047,4.372471809387207,-32.98332595825195,-15.76926040649414,-3.5527403354644775,-3.4869003295898438,-28.896541595458984,12.187060356140137,16.570884704589844,2.3348753452301025,4.268843650817871,5.505842685699463,8.149909019470215,19.81037139892578,-20.825031280517578,-13.523857116699219,22.827226638793945,-21.47147560119629,-23.993234634399414,-11.858199119567871,-28.682401657104492,-14.797769546508789,-13.52657699584961,22.95600128173828,-34.05293273925781,8.047046661376953,-5.326499938964844],\"yaxis\":\"y\",\"type\":\"scatter\"}],                        {\"template\":{\"data\":{\"histogram2dcontour\":[{\"type\":\"histogram2dcontour\",\"colorbar\":{\"outlinewidth\":0,\"ticks\":\"\"},\"colorscale\":[[0.0,\"#0d0887\"],[0.1111111111111111,\"#46039f\"],[0.2222222222222222,\"#7201a8\"],[0.3333333333333333,\"#9c179e\"],[0.4444444444444444,\"#bd3786\"],[0.5555555555555556,\"#d8576b\"],[0.6666666666666666,\"#ed7953\"],[0.7777777777777778,\"#fb9f3a\"],[0.8888888888888888,\"#fdca26\"],[1.0,\"#f0f921\"]]}],\"choropleth\":[{\"type\":\"choropleth\",\"colorbar\":{\"outlinewidth\":0,\"ticks\":\"\"}}],\"histogram2d\":[{\"type\":\"histogram2d\",\"colorbar\":{\"outlinewidth\":0,\"ticks\":\"\"},\"colorscale\":[[0.0,\"#0d0887\"],[0.1111111111111111,\"#46039f\"],[0.2222222222222222,\"#7201a8\"],[0.3333333333333333,\"#9c179e\"],[0.4444444444444444,\"#bd3786\"],[0.5555555555555556,\"#d8576b\"],[0.6666666666666666,\"#ed7953\"],[0.7777777777777778,\"#fb9f3a\"],[0.8888888888888888,\"#fdca26\"],[1.0,\"#f0f921\"]]}],\"heatmap\":[{\"type\":\"heatmap\",\"colorbar\":{\"outlinewidth\":0,\"ticks\":\"\"},\"colorscale\":[[0.0,\"#0d0887\"],[0.1111111111111111,\"#46039f\"],[0.2222222222222222,\"#7201a8\"],[0.3333333333333333,\"#9c179e\"],[0.4444444444444444,\"#bd3786\"],[0.5555555555555556,\"#d8576b\"],[0.6666666666666666,\"#ed7953\"],[0.7777777777777778,\"#fb9f3a\"],[0.8888888888888888,\"#fdca26\"],[1.0,\"#f0f921\"]]}],\"heatmapgl\":[{\"type\":\"heatmapgl\",\"colorbar\":{\"outlinewidth\":0,\"ticks\":\"\"},\"colorscale\":[[0.0,\"#0d0887\"],[0.1111111111111111,\"#46039f\"],[0.2222222222222222,\"#7201a8\"],[0.3333333333333333,\"#9c179e\"],[0.4444444444444444,\"#bd3786\"],[0.5555555555555556,\"#d8576b\"],[0.6666666666666666,\"#ed7953\"],[0.7777777777777778,\"#fb9f3a\"],[0.8888888888888888,\"#fdca26\"],[1.0,\"#f0f921\"]]}],\"contourcarpet\":[{\"type\":\"contourcarpet\",\"colorbar\":{\"outlinewidth\":0,\"ticks\":\"\"}}],\"contour\":[{\"type\":\"contour\",\"colorbar\":{\"outlinewidth\":0,\"ticks\":\"\"},\"colorscale\":[[0.0,\"#0d0887\"],[0.1111111111111111,\"#46039f\"],[0.2222222222222222,\"#7201a8\"],[0.3333333333333333,\"#9c179e\"],[0.4444444444444444,\"#bd3786\"],[0.5555555555555556,\"#d8576b\"],[0.6666666666666666,\"#ed7953\"],[0.7777777777777778,\"#fb9f3a\"],[0.8888888888888888,\"#fdca26\"],[1.0,\"#f0f921\"]]}],\"surface\":[{\"type\":\"surface\",\"colorbar\":{\"outlinewidth\":0,\"ticks\":\"\"},\"colorscale\":[[0.0,\"#0d0887\"],[0.1111111111111111,\"#46039f\"],[0.2222222222222222,\"#7201a8\"],[0.3333333333333333,\"#9c179e\"],[0.4444444444444444,\"#bd3786\"],[0.5555555555555556,\"#d8576b\"],[0.6666666666666666,\"#ed7953\"],[0.7777777777777778,\"#fb9f3a\"],[0.8888888888888888,\"#fdca26\"],[1.0,\"#f0f921\"]]}],\"mesh3d\":[{\"type\":\"mesh3d\",\"colorbar\":{\"outlinewidth\":0,\"ticks\":\"\"}}],\"scatter\":[{\"fillpattern\":{\"fillmode\":\"overlay\",\"size\":10,\"solidity\":0.2},\"type\":\"scatter\"}],\"parcoords\":[{\"type\":\"parcoords\",\"line\":{\"colorbar\":{\"outlinewidth\":0,\"ticks\":\"\"}}}],\"scatterpolargl\":[{\"type\":\"scatterpolargl\",\"marker\":{\"colorbar\":{\"outlinewidth\":0,\"ticks\":\"\"}}}],\"bar\":[{\"error_x\":{\"color\":\"#2a3f5f\"},\"error_y\":{\"color\":\"#2a3f5f\"},\"marker\":{\"line\":{\"color\":\"#E5ECF6\",\"width\":0.5},\"pattern\":{\"fillmode\":\"overlay\",\"size\":10,\"solidity\":0.2}},\"type\":\"bar\"}],\"scattergeo\":[{\"type\":\"scattergeo\",\"marker\":{\"colorbar\":{\"outlinewidth\":0,\"ticks\":\"\"}}}],\"scatterpolar\":[{\"type\":\"scatterpolar\",\"marker\":{\"colorbar\":{\"outlinewidth\":0,\"ticks\":\"\"}}}],\"histogram\":[{\"marker\":{\"pattern\":{\"fillmode\":\"overlay\",\"size\":10,\"solidity\":0.2}},\"type\":\"histogram\"}],\"scattergl\":[{\"type\":\"scattergl\",\"marker\":{\"colorbar\":{\"outlinewidth\":0,\"ticks\":\"\"}}}],\"scatter3d\":[{\"type\":\"scatter3d\",\"line\":{\"colorbar\":{\"outlinewidth\":0,\"ticks\":\"\"}},\"marker\":{\"colorbar\":{\"outlinewidth\":0,\"ticks\":\"\"}}}],\"scattermapbox\":[{\"type\":\"scattermapbox\",\"marker\":{\"colorbar\":{\"outlinewidth\":0,\"ticks\":\"\"}}}],\"scatterternary\":[{\"type\":\"scatterternary\",\"marker\":{\"colorbar\":{\"outlinewidth\":0,\"ticks\":\"\"}}}],\"scattercarpet\":[{\"type\":\"scattercarpet\",\"marker\":{\"colorbar\":{\"outlinewidth\":0,\"ticks\":\"\"}}}],\"carpet\":[{\"aaxis\":{\"endlinecolor\":\"#2a3f5f\",\"gridcolor\":\"white\",\"linecolor\":\"white\",\"minorgridcolor\":\"white\",\"startlinecolor\":\"#2a3f5f\"},\"baxis\":{\"endlinecolor\":\"#2a3f5f\",\"gridcolor\":\"white\",\"linecolor\":\"white\",\"minorgridcolor\":\"white\",\"startlinecolor\":\"#2a3f5f\"},\"type\":\"carpet\"}],\"table\":[{\"cells\":{\"fill\":{\"color\":\"#EBF0F8\"},\"line\":{\"color\":\"white\"}},\"header\":{\"fill\":{\"color\":\"#C8D4E3\"},\"line\":{\"color\":\"white\"}},\"type\":\"table\"}],\"barpolar\":[{\"marker\":{\"line\":{\"color\":\"#E5ECF6\",\"width\":0.5},\"pattern\":{\"fillmode\":\"overlay\",\"size\":10,\"solidity\":0.2}},\"type\":\"barpolar\"}],\"pie\":[{\"automargin\":true,\"type\":\"pie\"}]},\"layout\":{\"autotypenumbers\":\"strict\",\"colorway\":[\"#636efa\",\"#EF553B\",\"#00cc96\",\"#ab63fa\",\"#FFA15A\",\"#19d3f3\",\"#FF6692\",\"#B6E880\",\"#FF97FF\",\"#FECB52\"],\"font\":{\"color\":\"#2a3f5f\"},\"hovermode\":\"closest\",\"hoverlabel\":{\"align\":\"left\"},\"paper_bgcolor\":\"white\",\"plot_bgcolor\":\"#E5ECF6\",\"polar\":{\"bgcolor\":\"#E5ECF6\",\"angularaxis\":{\"gridcolor\":\"white\",\"linecolor\":\"white\",\"ticks\":\"\"},\"radialaxis\":{\"gridcolor\":\"white\",\"linecolor\":\"white\",\"ticks\":\"\"}},\"ternary\":{\"bgcolor\":\"#E5ECF6\",\"aaxis\":{\"gridcolor\":\"white\",\"linecolor\":\"white\",\"ticks\":\"\"},\"baxis\":{\"gridcolor\":\"white\",\"linecolor\":\"white\",\"ticks\":\"\"},\"caxis\":{\"gridcolor\":\"white\",\"linecolor\":\"white\",\"ticks\":\"\"}},\"coloraxis\":{\"colorbar\":{\"outlinewidth\":0,\"ticks\":\"\"}},\"colorscale\":{\"sequential\":[[0.0,\"#0d0887\"],[0.1111111111111111,\"#46039f\"],[0.2222222222222222,\"#7201a8\"],[0.3333333333333333,\"#9c179e\"],[0.4444444444444444,\"#bd3786\"],[0.5555555555555556,\"#d8576b\"],[0.6666666666666666,\"#ed7953\"],[0.7777777777777778,\"#fb9f3a\"],[0.8888888888888888,\"#fdca26\"],[1.0,\"#f0f921\"]],\"sequentialminus\":[[0.0,\"#0d0887\"],[0.1111111111111111,\"#46039f\"],[0.2222222222222222,\"#7201a8\"],[0.3333333333333333,\"#9c179e\"],[0.4444444444444444,\"#bd3786\"],[0.5555555555555556,\"#d8576b\"],[0.6666666666666666,\"#ed7953\"],[0.7777777777777778,\"#fb9f3a\"],[0.8888888888888888,\"#fdca26\"],[1.0,\"#f0f921\"]],\"diverging\":[[0,\"#8e0152\"],[0.1,\"#c51b7d\"],[0.2,\"#de77ae\"],[0.3,\"#f1b6da\"],[0.4,\"#fde0ef\"],[0.5,\"#f7f7f7\"],[0.6,\"#e6f5d0\"],[0.7,\"#b8e186\"],[0.8,\"#7fbc41\"],[0.9,\"#4d9221\"],[1,\"#276419\"]]},\"xaxis\":{\"gridcolor\":\"white\",\"linecolor\":\"white\",\"ticks\":\"\",\"title\":{\"standoff\":15},\"zerolinecolor\":\"white\",\"automargin\":true,\"zerolinewidth\":2},\"yaxis\":{\"gridcolor\":\"white\",\"linecolor\":\"white\",\"ticks\":\"\",\"title\":{\"standoff\":15},\"zerolinecolor\":\"white\",\"automargin\":true,\"zerolinewidth\":2},\"scene\":{\"xaxis\":{\"backgroundcolor\":\"#E5ECF6\",\"gridcolor\":\"white\",\"linecolor\":\"white\",\"showbackground\":true,\"ticks\":\"\",\"zerolinecolor\":\"white\",\"gridwidth\":2},\"yaxis\":{\"backgroundcolor\":\"#E5ECF6\",\"gridcolor\":\"white\",\"linecolor\":\"white\",\"showbackground\":true,\"ticks\":\"\",\"zerolinecolor\":\"white\",\"gridwidth\":2},\"zaxis\":{\"backgroundcolor\":\"#E5ECF6\",\"gridcolor\":\"white\",\"linecolor\":\"white\",\"showbackground\":true,\"ticks\":\"\",\"zerolinecolor\":\"white\",\"gridwidth\":2}},\"shapedefaults\":{\"line\":{\"color\":\"#2a3f5f\"}},\"annotationdefaults\":{\"arrowcolor\":\"#2a3f5f\",\"arrowhead\":0,\"arrowwidth\":1},\"geo\":{\"bgcolor\":\"white\",\"landcolor\":\"#E5ECF6\",\"subunitcolor\":\"white\",\"showland\":true,\"showlakes\":true,\"lakecolor\":\"white\"},\"title\":{\"x\":0.05},\"mapbox\":{\"style\":\"light\"}}},\"xaxis\":{\"anchor\":\"y\",\"domain\":[0.0,1.0],\"title\":{\"text\":\"x\"}},\"yaxis\":{\"anchor\":\"x\",\"domain\":[0.0,1.0],\"title\":{\"text\":\"y\"}},\"legend\":{\"tracegroupgap\":0},\"margin\":{\"t\":60}},                        {\"responsive\": true}                    ).then(function(){\n",
              "                            \n",
              "var gd = document.getElementById('b974892e-2a64-4476-8eaf-e229aecba9ac');\n",
              "var x = new MutationObserver(function (mutations, observer) {{\n",
              "        var display = window.getComputedStyle(gd).display;\n",
              "        if (!display || display === 'none') {{\n",
              "            console.log([gd, 'removed!']);\n",
              "            Plotly.purge(gd);\n",
              "            observer.disconnect();\n",
              "        }}\n",
              "}});\n",
              "\n",
              "// Listen for the removal of the full notebook cells\n",
              "var notebookContainer = gd.closest('#notebook-container');\n",
              "if (notebookContainer) {{\n",
              "    x.observe(notebookContainer, {childList: true});\n",
              "}}\n",
              "\n",
              "// Listen for the clearing of the current output cell\n",
              "var outputEl = gd.closest('.output');\n",
              "if (outputEl) {{\n",
              "    x.observe(outputEl, {childList: true});\n",
              "}}\n",
              "\n",
              "                        })                };                            </script>        </div>\n",
              "</body>\n",
              "</html>"
            ]
          },
          "metadata": {}
        }
      ],
      "source": [
        "# Graficar los embedddings en 2D\n",
        "import plotly.graph_objects as go\n",
        "import plotly.express as px\n",
        "\n",
        "x_vals, y_vals, labels = reduce_dimensions(w2v_model)\n",
        "\n",
        "MAX_WORDS=200\n",
        "fig = px.scatter(x=x_vals[:MAX_WORDS], y=y_vals[:MAX_WORDS], text=labels[:MAX_WORDS])\n",
        "fig.show(renderer='colab') # esto para plotly en colab"
      ]
    },
    {
      "cell_type": "markdown",
      "metadata": {
        "id": "yMM_SHSaZ9N-"
      },
      "source": [
        "### Alumno"
      ]
    },
    {
      "cell_type": "markdown",
      "metadata": {
        "id": "WivQZ3ZCZ9N_"
      },
      "source": [
        "- Se observaron algunos resultados interesantes al buscar palabras relacionadas:\n",
        "* Watson -> doctor\n",
        "* Police -> official, county, station\n",
        "* Money -> service, £\n",
        "* Sherlock -> Holmes, engineer, adventure\n",
        "- Por otro lado, analizando el gráfico de los embeddings en 2D no están claras las relaciones o similitudes entre palabras. Posiblemente con mayor analisis exploratorio del corpus y mejorando el preprocesamiento se puedan mejorar los resultados."
      ]
    }
  ],
  "metadata": {
    "colab": {
      "provenance": []
    },
    "kernelspec": {
      "display_name": "Python 3 (ipykernel)",
      "language": "python",
      "name": "python3"
    },
    "language_info": {
      "codemirror_mode": {
        "name": "ipython",
        "version": 3
      },
      "file_extension": ".py",
      "mimetype": "text/x-python",
      "name": "python",
      "nbconvert_exporter": "python",
      "pygments_lexer": "ipython3",
      "version": "3.10.4"
    }
  },
  "nbformat": 4,
  "nbformat_minor": 0
}