{
 "cells": [
  {
   "cell_type": "markdown",
   "metadata": {
    "id": "sZd5yLnnHOK0"
   },
   "source": [
    "<img src=\"https://github.com/hernancontigiani/ceia_memorias_especializacion/raw/master/Figures/logoFIUBA.jpg\" width=\"500\" align=\"center\">\n",
    "\n",
    "\n",
    "# Procesamiento de lenguaje natural\n",
    "## Custom embedddings con Gensim\n",
    "\n"
   ]
  },
  {
   "cell_type": "markdown",
   "metadata": {
    "id": "vA7nqkumo9z9"
   },
   "source": [
    "### Objetivo\n",
    "El objetivo es utilizar documentos / corpus para crear embeddings de palabras basado en ese contexto. Se utilizará canciones de bandas para generar los embeddings, es decir, que los vectores tendrán la forma en función de como esa banda haya utilizado las palabras en sus canciones."
   ]
  },
  {
   "cell_type": "code",
   "execution_count": 1,
   "metadata": {
    "id": "lFToQs5FK5uZ"
   },
   "outputs": [],
   "source": [
    "import pandas as pd\n",
    "import matplotlib.pyplot as plt\n",
    "import seaborn as sns\n",
    "\n",
    "import multiprocessing\n",
    "from gensim.models import Word2Vec"
   ]
  },
  {
   "attachments": {},
   "cell_type": "markdown",
   "metadata": {
    "id": "g07zJxG7H9vG"
   },
   "source": [
    "### Datos\n",
    "Utilizaremos como dataset el libro \"The Adventures of Sherlock Holmes\" de Arthur Conan Doyle"
   ]
  },
  {
   "cell_type": "code",
   "execution_count": 4,
   "metadata": {
    "id": "ticoqYD1Z3I7"
   },
   "outputs": [
    {
     "data": {
      "text/html": [
       "<div>\n",
       "<style scoped>\n",
       "    .dataframe tbody tr th:only-of-type {\n",
       "        vertical-align: middle;\n",
       "    }\n",
       "\n",
       "    .dataframe tbody tr th {\n",
       "        vertical-align: top;\n",
       "    }\n",
       "\n",
       "    .dataframe thead th {\n",
       "        text-align: right;\n",
       "    }\n",
       "</style>\n",
       "<table border=\"1\" class=\"dataframe\">\n",
       "  <thead>\n",
       "    <tr style=\"text-align: right;\">\n",
       "      <th></th>\n",
       "      <th>0</th>\n",
       "    </tr>\n",
       "  </thead>\n",
       "  <tbody>\n",
       "    <tr>\n",
       "      <th>100</th>\n",
       "      <td>been burned, had you lived a few centuries ago...</td>\n",
       "    </tr>\n",
       "    <tr>\n",
       "      <th>101</th>\n",
       "      <td>country walk on Thursday and came home in a dr...</td>\n",
       "    </tr>\n",
       "    <tr>\n",
       "      <th>102</th>\n",
       "      <td>have changed my clothes I can’t imagine how yo...</td>\n",
       "    </tr>\n",
       "    <tr>\n",
       "      <th>103</th>\n",
       "      <td>Jane, she is incorrigible, and my wife has giv...</td>\n",
       "    </tr>\n",
       "    <tr>\n",
       "      <th>104</th>\n",
       "      <td>again, I fail to see how you work it out.”</td>\n",
       "    </tr>\n",
       "  </tbody>\n",
       "</table>\n",
       "</div>"
      ],
      "text/plain": [
       "                                                     0\n",
       "100  been burned, had you lived a few centuries ago...\n",
       "101  country walk on Thursday and came home in a dr...\n",
       "102  have changed my clothes I can’t imagine how yo...\n",
       "103  Jane, she is incorrigible, and my wife has giv...\n",
       "104         again, I fail to see how you work it out.”"
      ]
     },
     "execution_count": 4,
     "metadata": {},
     "output_type": "execute_result"
    }
   ],
   "source": [
    "# Armar el dataset utilizando salto de línea para separar las oraciones/docs\n",
    "df = pd.read_csv('the_adventures_of_sherlock_holmes.txt', sep='/n', engine='python', header=None)\n",
    "df[100:105]"
   ]
  },
  {
   "cell_type": "code",
   "execution_count": 5,
   "metadata": {
    "id": "LEpKubK9XzXN"
   },
   "outputs": [
    {
     "name": "stdout",
     "output_type": "stream",
     "text": [
      "Cantidad de documentos: 9626\n"
     ]
    }
   ],
   "source": [
    "print(\"Cantidad de documentos:\", df.shape[0])"
   ]
  },
  {
   "cell_type": "markdown",
   "metadata": {
    "id": "ab94qaFlrA1G"
   },
   "source": [
    "### 1 - Preprocesamiento"
   ]
  },
  {
   "cell_type": "code",
   "execution_count": 6,
   "metadata": {
    "id": "rIsmMWmjrDHd"
   },
   "outputs": [],
   "source": [
    "from keras.preprocessing.text import text_to_word_sequence\n",
    "\n",
    "sentence_tokens = []\n",
    "# Recorrer todas las filas y transformar las oraciones\n",
    "# en una secuencia de palabras (esto podría realizarse con NLTK o spaCy también)\n",
    "for _, row in df[:None].iterrows():\n",
    "    sentence_tokens.append(text_to_word_sequence(row[0]))"
   ]
  },
  {
   "cell_type": "code",
   "execution_count": 7,
   "metadata": {
    "id": "CHepi_DGrbhq"
   },
   "outputs": [
    {
     "data": {
      "text/plain": [
       "[['adler', 'of', 'dubious', 'and', 'questionable', 'memory'],\n",
       " ['i',\n",
       "  'had',\n",
       "  'seen',\n",
       "  'little',\n",
       "  'of',\n",
       "  'holmes',\n",
       "  'lately',\n",
       "  'my',\n",
       "  'marriage',\n",
       "  'had',\n",
       "  'drifted',\n",
       "  'us',\n",
       "  'away']]"
      ]
     },
     "execution_count": 7,
     "metadata": {},
     "output_type": "execute_result"
    }
   ],
   "source": [
    "# Demos un vistazo\n",
    "sentence_tokens[50:52]"
   ]
  },
  {
   "cell_type": "markdown",
   "metadata": {
    "id": "BaXV6nlHr5Aa"
   },
   "source": [
    "### 2 - Crear los vectores (word2vec)"
   ]
  },
  {
   "cell_type": "code",
   "execution_count": 8,
   "metadata": {
    "id": "OSb0v7h8r7hK"
   },
   "outputs": [],
   "source": [
    "from gensim.models.callbacks import CallbackAny2Vec\n",
    "# Durante el entrenamiento gensim por defecto no informa el \"loss\" en cada época\n",
    "# Sobrecargamos el callback para poder tener esta información\n",
    "class callback(CallbackAny2Vec):\n",
    "    \"\"\"\n",
    "    Callback to print loss after each epoch\n",
    "    \"\"\"\n",
    "    def __init__(self):\n",
    "        self.epoch = 0\n",
    "\n",
    "    def on_epoch_end(self, model):\n",
    "        loss = model.get_latest_training_loss()\n",
    "        if self.epoch == 0:\n",
    "            print('Loss after epoch {}: {}'.format(self.epoch, loss))\n",
    "        else:\n",
    "            print('Loss after epoch {}: {}'.format(self.epoch, loss- self.loss_previous_step))\n",
    "        self.epoch += 1\n",
    "        self.loss_previous_step = loss"
   ]
  },
  {
   "cell_type": "code",
   "execution_count": 9,
   "metadata": {
    "id": "i0wnDdv9sJ47"
   },
   "outputs": [],
   "source": [
    "# Crearmos el modelo generador de vectores\n",
    "# En este caso utilizaremos la estructura modelo Skipgram\n",
    "w2v_model = Word2Vec(min_count=5,    # frecuencia mínima de palabra para incluirla en el vocabulario\n",
    "                    window=2,       # cant de palabras antes y desp de la predicha\n",
    "                    vector_size=400,       # dimensionalidad de los vectores \n",
    "                    negative=20,    # cantidad de negative samples... 0 es no se usa\n",
    "                    workers=1,      # si tienen más cores pueden cambiar este valor\n",
    "                    sg=1)           # modelo 0:CBOW  1:skipgram"
   ]
  },
  {
   "cell_type": "code",
   "execution_count": 10,
   "metadata": {
    "id": "5lTt8wErsf17"
   },
   "outputs": [],
   "source": [
    "# Obtener el vocabulario con los tokens\n",
    "w2v_model.build_vocab(sentence_tokens)"
   ]
  },
  {
   "cell_type": "code",
   "execution_count": 11,
   "metadata": {
    "id": "TNc9qt4os5AT"
   },
   "outputs": [
    {
     "name": "stdout",
     "output_type": "stream",
     "text": [
      "Cantidad de docs en el corpus: 9626\n"
     ]
    }
   ],
   "source": [
    "# Cantidad de filas/docs encontradas en el corpus\n",
    "print(\"Cantidad de docs en el corpus:\", w2v_model.corpus_count)"
   ]
  },
  {
   "cell_type": "code",
   "execution_count": 12,
   "metadata": {
    "id": "idw9cHF3tSMl"
   },
   "outputs": [
    {
     "name": "stdout",
     "output_type": "stream",
     "text": [
      "Cantidad de words distintas en el corpus: 2231\n"
     ]
    }
   ],
   "source": [
    "# Cantidad de words encontradas en el corpus\n",
    "print(\"Cantidad de words distintas en el corpus:\", len(w2v_model.wv.key_to_index))"
   ]
  },
  {
   "cell_type": "markdown",
   "metadata": {
    "id": "fC9mZ8DPk-UC"
   },
   "source": [
    "### 3 - Entrenar el modelo generador"
   ]
  },
  {
   "cell_type": "code",
   "execution_count": 14,
   "metadata": {
    "id": "QSp-x0PAsq56"
   },
   "outputs": [
    {
     "name": "stdout",
     "output_type": "stream",
     "text": [
      "Loss after epoch 0: 569780.25\n",
      "Loss after epoch 1: 549811.25\n",
      "Loss after epoch 2: 509858.625\n",
      "Loss after epoch 3: 501082.375\n",
      "Loss after epoch 4: 462054.5\n",
      "Loss after epoch 5: 457606.0\n",
      "Loss after epoch 6: 454251.5\n",
      "Loss after epoch 7: 452311.75\n",
      "Loss after epoch 8: 433513.75\n",
      "Loss after epoch 9: 413787.0\n",
      "Loss after epoch 10: 408206.5\n",
      "Loss after epoch 11: 405479.5\n",
      "Loss after epoch 12: 404540.5\n",
      "Loss after epoch 13: 401732.5\n",
      "Loss after epoch 14: 400424.5\n",
      "Loss after epoch 15: 396792.0\n",
      "Loss after epoch 16: 394312.0\n",
      "Loss after epoch 17: 393497.0\n",
      "Loss after epoch 18: 392353.5\n",
      "Loss after epoch 19: 366448.0\n"
     ]
    },
    {
     "data": {
      "text/plain": [
       "(1359302, 2224020)"
      ]
     },
     "execution_count": 14,
     "metadata": {},
     "output_type": "execute_result"
    }
   ],
   "source": [
    "# Entrenamos el modelo generador de vectores\n",
    "# Utilizamos nuestro callback\n",
    "w2v_model.train(sentence_tokens,\n",
    "                total_examples=w2v_model.corpus_count,\n",
    "                epochs=20,\n",
    "                compute_loss = True,\n",
    "                callbacks=[callback()]\n",
    "                )"
   ]
  },
  {
   "cell_type": "markdown",
   "metadata": {
    "id": "ddT9NVuNlCAe"
   },
   "source": [
    "### 4 - Ensayar"
   ]
  },
  {
   "cell_type": "code",
   "execution_count": 15,
   "metadata": {
    "id": "6cHN9xGLuPEm"
   },
   "outputs": [
    {
     "data": {
      "text/plain": [
       "[('doctor', 0.5544066429138184),\n",
       " ('scoundrel', 0.5528813004493713),\n",
       " ('fancies', 0.5386099219322205),\n",
       " ('prison', 0.5357534885406494),\n",
       " ('suppose', 0.5331242680549622),\n",
       " ('dad', 0.5330371260643005),\n",
       " ('“perhaps', 0.5211277604103088),\n",
       " ('madam', 0.5177298784255981),\n",
       " ('“ha', 0.5131778717041016),\n",
       " ('thief', 0.5125296711921692)]"
      ]
     },
     "execution_count": 15,
     "metadata": {},
     "output_type": "execute_result"
    }
   ],
   "source": [
    "# Palabras que MÁS se relacionan con...:\n",
    "w2v_model.wv.most_similar(positive=[\"watson\"], topn=10)"
   ]
  },
  {
   "cell_type": "code",
   "execution_count": 16,
   "metadata": {},
   "outputs": [
    {
     "data": {
      "text/plain": [
       "[('sell', 0.49815037846565247),\n",
       " ('station', 0.4929080307483673),\n",
       " ('official', 0.4887022376060486),\n",
       " ('successful', 0.46999576687812805),\n",
       " ('paddington', 0.4625307321548462),\n",
       " ('county', 0.4597383439540863),\n",
       " ('begin', 0.45728635787963867),\n",
       " ('master', 0.4513097405433655),\n",
       " ('names', 0.44859105348587036),\n",
       " ('cabman', 0.4462090730667114)]"
      ]
     },
     "execution_count": 16,
     "metadata": {},
     "output_type": "execute_result"
    }
   ],
   "source": [
    "# Palabras que MÁS se relacionan con...:\n",
    "w2v_model.wv.most_similar(positive=[\"police\"], topn=10)"
   ]
  },
  {
   "cell_type": "code",
   "execution_count": 17,
   "metadata": {
    "id": "DT4Rvno2mD65"
   },
   "outputs": [
    {
     "data": {
      "text/plain": [
       "[('adventures', 0.5049884915351868),\n",
       " ('description', 0.4986458718776703),\n",
       " ('jabez', 0.49620577692985535),\n",
       " ('“come', 0.49538201093673706),\n",
       " ('“holmes', 0.4941169023513794),\n",
       " ('“which', 0.49400094151496887),\n",
       " ('breckinridge', 0.49189236760139465),\n",
       " ('engineer', 0.4801810383796692),\n",
       " ('“my', 0.4769778549671173),\n",
       " ('godfrey', 0.4756881892681122)]"
      ]
     },
     "execution_count": 17,
     "metadata": {},
     "output_type": "execute_result"
    }
   ],
   "source": [
    "# Palabras que MÁS se relacionan con...:\n",
    "w2v_model.wv.most_similar(positive=[\"sherlock\"], topn=10)"
   ]
  },
  {
   "cell_type": "code",
   "execution_count": 18,
   "metadata": {
    "id": "XPLDPgzBmQXt"
   },
   "outputs": [
    {
     "data": {
      "text/plain": [
       "[('service', 0.5363479256629944),\n",
       " ('£', 0.529644250869751),\n",
       " ('keeping', 0.5126955509185791),\n",
       " ('confidence', 0.5062758922576904),\n",
       " ('practice', 0.5047531723976135)]"
      ]
     },
     "execution_count": 18,
     "metadata": {},
     "output_type": "execute_result"
    }
   ],
   "source": [
    "# Palabras que MÁS se relacionan con...:\n",
    "w2v_model.wv.most_similar(positive=[\"money\"], topn=5)"
   ]
  },
  {
   "cell_type": "markdown",
   "metadata": {
    "id": "_g8UVWe6lFmh"
   },
   "source": [
    "### 5 - Visualizar agrupación de vectores"
   ]
  },
  {
   "cell_type": "code",
   "execution_count": 19,
   "metadata": {
    "id": "pDxEVXAivjr9"
   },
   "outputs": [],
   "source": [
    "from sklearn.decomposition import IncrementalPCA    \n",
    "from sklearn.manifold import TSNE                   \n",
    "import numpy as np                                  \n",
    "\n",
    "def reduce_dimensions(model):\n",
    "    num_dimensions = 2  \n",
    "\n",
    "    vectors = np.asarray(model.wv.vectors)\n",
    "    labels = np.asarray(model.wv.index_to_key)  \n",
    "\n",
    "    tsne = TSNE(n_components=num_dimensions, random_state=0)\n",
    "    vectors = tsne.fit_transform(vectors)\n",
    "\n",
    "    x_vals = [v[0] for v in vectors]\n",
    "    y_vals = [v[1] for v in vectors]\n",
    "    return x_vals, y_vals, labels"
   ]
  },
  {
   "cell_type": "code",
   "execution_count": 20,
   "metadata": {
    "id": "NCCXtDpcugmd"
   },
   "outputs": [
    {
     "name": "stderr",
     "output_type": "stream",
     "text": [
      "c:\\Python310\\lib\\site-packages\\sklearn\\manifold\\_t_sne.py:800: FutureWarning: The default initialization in TSNE will change from 'random' to 'pca' in 1.2.\n",
      "  warnings.warn(\n",
      "c:\\Python310\\lib\\site-packages\\sklearn\\manifold\\_t_sne.py:810: FutureWarning: The default learning rate in TSNE will change from 200.0 to 'auto' in 1.2.\n",
      "  warnings.warn(\n"
     ]
    },
    {
     "data": {
      "application/vnd.plotly.v1+json": {
       "config": {
        "plotlyServerURL": "https://plot.ly"
       },
       "data": [
        {
         "hovertemplate": "x=%{x}<br>y=%{y}<br>text=%{text}<extra></extra>",
         "legendgroup": "",
         "marker": {
          "color": "#636efa",
          "symbol": "circle"
         },
         "mode": "markers+text",
         "name": "",
         "orientation": "v",
         "showlegend": false,
         "text": [
          "the",
          "and",
          "to",
          "of",
          "a",
          "i",
          "”",
          "in",
          "that",
          "it",
          "he",
          "was",
          "you",
          "his",
          "is",
          "my",
          "have",
          "with",
          "as",
          "had",
          "at",
          "which",
          "for",
          "be",
          "not",
          "me",
          "but",
          "from",
          "we",
          "this",
          "said",
          "upon",
          "there",
          "holmes",
          "him",
          "so",
          "her",
          "she",
          "all",
          "’",
          "been",
          "your",
          "on",
          "very",
          "by",
          "one",
          "are",
          "“i",
          "were",
          "an",
          "would",
          "no",
          "out",
          "what",
          "then",
          "when",
          "up",
          "man",
          "could",
          "has",
          "do",
          "into",
          "or",
          "little",
          "will",
          "who",
          "mr",
          "if",
          "some",
          "down",
          "see",
          "now",
          "our",
          "may",
          "should",
          "am",
          "us",
          "over",
          "they",
          "can",
          "more",
          "think",
          "about",
          "must",
          "shall",
          "room",
          "know",
          "before",
          "any",
          "other",
          "than",
          "only",
          "come",
          "time",
          "them",
          "two",
          "came",
          "did",
          "door",
          "back",
          "“it",
          "face",
          "might",
          "matter",
          "good",
          "much",
          "“you",
          "house",
          "hand",
          "just",
          "way",
          "how",
          "case",
          "such",
          "well",
          "here",
          "heard",
          "where",
          "“and",
          "night",
          "made",
          "found",
          "however",
          "away",
          "day",
          "morning",
          "right",
          "own",
          "sherlock",
          "nothing",
          "go",
          "gutenberg",
          "after",
          "like",
          "never",
          "their",
          "tell",
          "say",
          "most",
          "through",
          "work",
          "last",
          "left",
          "its",
          "saw",
          "quite",
          "project",
          "“yes",
          "asked",
          "long",
          "eyes",
          "“but",
          "side",
          "miss",
          "once",
          "took",
          "first",
          "yet",
          "st",
          "street",
          "young",
          "too",
          "these",
          "every",
          "round",
          "find",
          "small",
          "watson",
          "without",
          "take",
          "“the",
          "still",
          "thought",
          "few",
          "myself",
          "sir",
          "make",
          "off",
          "until",
          "“well",
          "light",
          "old",
          "business",
          "himself",
          "window",
          "even",
          "hands",
          "father",
          "seen",
          "three",
          "ever",
          "lady",
          "look",
          "friend",
          "went",
          "seemed",
          "head",
          "cried",
          "while",
          "put"
         ],
         "type": "scatter",
         "x": [
          -6.748637,
          0.3622323,
          10.345069,
          -2.7393675,
          -16.358988,
          -15.816762,
          -13.864032,
          -14.422837,
          7.8394127,
          2.7617965,
          -13.316086,
          4.2828226,
          22.372995,
          -1.3602611,
          10.611191,
          2.347075,
          7.5415616,
          3.288131,
          8.944318,
          -5.8735476,
          -13.051925,
          0.6443861,
          8.538824,
          12.413125,
          -0.012717108,
          -9.576817,
          9.179355,
          -7.8868456,
          -12.495273,
          9.124854,
          -19.678392,
          -3.9682724,
          -14.724333,
          -19.060009,
          6.778158,
          15.00923,
          2.370003,
          -13.263454,
          -6.345898,
          -22.474314,
          -4.741295,
          14.496641,
          -26.319597,
          6.6187415,
          -7.633383,
          -5.326481,
          2.1780934,
          -22.214952,
          3.515649,
          -17.129576,
          4.8540015,
          8.277347,
          0.91368526,
          22.583862,
          -14.222941,
          -9.00367,
          -4.2725515,
          -23.19957,
          6.0854707,
          -2.2807708,
          14.116948,
          -3.9350717,
          9.827168,
          3.259914,
          20.713276,
          10.317699,
          -20.839703,
          22.634375,
          -1.7865705,
          -7.5228777,
          8.055433,
          9.243716,
          7.469987,
          12.201421,
          16.390491,
          16.735722,
          23.48265,
          2.3093672,
          4.911963,
          19.743984,
          16.365921,
          16.9433,
          18.493092,
          7.597691,
          19.06691,
          -6.542609,
          8.947664,
          10.237404,
          13.30406,
          5.5500956,
          16.427969,
          0.31904012,
          13.822472,
          -3.7657745,
          6.357124,
          -0.1004499,
          -6.576869,
          20.730871,
          -8.429637,
          7.4591994,
          13.763265,
          -1.0734078,
          2.8650246,
          16.898727,
          11.583901,
          9.507948,
          23.005264,
          1.133106,
          -4.976538,
          -12.691614,
          5.0678415,
          -27.77711,
          4.4571495,
          6.2440314,
          9.892033,
          -15.066953,
          -3.354732,
          -9.511924,
          -25.039402,
          10.591401,
          -15.868865,
          -7.7795515,
          -2.4202027,
          -8.9162,
          -10.515331,
          -9.81627,
          11.801522,
          14.5578375,
          -17.585005,
          21.80022,
          11.434954,
          13.074558,
          -7.9821,
          4.0875454,
          18.62439,
          18.16667,
          11.083041,
          -16.851063,
          -13.838241,
          2.4108074,
          13.460917,
          -9.010324,
          -7.597458,
          4.174374,
          -7.5749726,
          12.03951,
          13.016281,
          -27.946426,
          -20.82551,
          0.32942474,
          1.7976922,
          -22.841896,
          -5.0821605,
          -20.613413,
          3.1809714,
          -12.014043,
          2.7522223,
          5.9282055,
          -17.869778,
          -15.066712,
          17.48505,
          8.822406,
          4.819358,
          -6.8041773,
          -2.4986699,
          11.149602,
          -2.0554233,
          -18.701372,
          14.635801,
          12.114158,
          -16.11973,
          10.530277,
          1.8697091,
          -2.4343243,
          -6.0274105,
          -25.001888,
          12.985135,
          -5.1971326,
          -8.847382,
          -22.564932,
          -5.6613727,
          5.7258396,
          17.871399,
          -6.9845753,
          -8.623445,
          13.559738,
          2.4876268,
          -4.3799562,
          -0.97798246,
          -5.2872314,
          -0.78535086,
          -16.092518,
          8.3868065,
          -25.783865,
          -11.052641,
          20.026537,
          -2.8420122,
          -20.318193,
          -15.7891,
          5.3353195
         ],
         "xaxis": "x",
         "y": [
          -3.4217136,
          -3.322011,
          3.2680075,
          -6.9798217,
          18.993158,
          13.354461,
          -5.6629024,
          21.27072,
          1.8149941,
          18.774223,
          -2.2564492,
          -12.138308,
          4.204694,
          -19.131853,
          -7.2345557,
          0.85965,
          11.83282,
          -8.638284,
          -14.310926,
          3.0606952,
          -8.565744,
          -2.9501555,
          15.622677,
          12.384079,
          22.591644,
          -2.821766,
          -0.6824331,
          -1.8778098,
          10.050553,
          0.11685109,
          -10.867802,
          -2.539502,
          12.150349,
          -8.764227,
          9.34892,
          -11.706419,
          -0.9633604,
          8.951412,
          11.785394,
          -6.922752,
          2.8596487,
          3.1370726,
          -5.646759,
          -3.9125226,
          -4.0433965,
          13.879595,
          13.261055,
          -15.678545,
          1.9291645,
          10.2381525,
          6.805165,
          1.1073049,
          -22.063923,
          0.88371265,
          -0.47063613,
          -0.062095296,
          -4.9678893,
          5.832378,
          14.395408,
          5.4441,
          5.5019956,
          -22.709873,
          21.156557,
          -10.893888,
          5.7958484,
          -2.4377675,
          -3.3556926,
          6.791059,
          11.303958,
          -15.223794,
          11.746052,
          13.129255,
          15.614952,
          13.966911,
          3.5220265,
          1.5269171,
          -0.89769155,
          -8.786139,
          9.533981,
          8.623454,
          -6.790243,
          9.337468,
          0.47637868,
          17.3286,
          9.472153,
          -21.475351,
          11.940508,
          -15.771571,
          20.51626,
          17.684473,
          -6.1737595,
          18.669127,
          4.9125686,
          12.368644,
          15.285423,
          14.194845,
          -4.1608157,
          5.8081603,
          -7.0267997,
          2.974967,
          -2.6188219,
          -18.303602,
          10.234146,
          13.821991,
          1.0963012,
          -8.975393,
          4.542893,
          16.308258,
          -18.04407,
          3.5708563,
          3.3857038,
          -8.018607,
          4.015079,
          -6.502153,
          -10.165945,
          10.240406,
          9.127592,
          0.45837855,
          -9.768596,
          2.9269311,
          8.727293,
          6.1763315,
          6.730294,
          -0.1930011,
          13.808859,
          15.490208,
          -10.412652,
          1.181349,
          -5.4419956,
          -5.172883,
          6.435197,
          24.86012,
          13.810911,
          -13.926976,
          -2.8980064,
          8.394043,
          7.9926715,
          15.280316,
          19.373796,
          -23.639069,
          23.094044,
          11.78916,
          2.301562,
          -1.298374,
          8.925124,
          -7.3995743,
          23.740747,
          -1.6734765,
          -7.161296,
          -19.737204,
          -19.299522,
          -12.207671,
          -7.5591626,
          1.29111,
          6.0617123,
          -10.282574,
          6.420687,
          -3.3694396,
          2.0428767,
          -7.6413474,
          -7.9767003,
          -3.7907403,
          17.137033,
          12.918084,
          -13.047971,
          9.964131,
          -5.8307796,
          -12.330794,
          2.421649,
          9.59591,
          -18.512308,
          -11.385876,
          8.111925,
          18.012709,
          -20.543705,
          -11.939971,
          9.309914,
          0.680583,
          11.64348,
          -13.020056,
          -11.774371,
          -6.6841063,
          -9.768807,
          -12.793019,
          -9.273012,
          1.1655729,
          -19.9486,
          11.218767,
          7.5175285,
          21.620495,
          5.7801228,
          3.8147085,
          7.0582867,
          -2.6954305,
          -1.5860387,
          -0.26613402,
          -19.200415,
          -9.888046,
          -15.767785,
          11.878103
         ],
         "yaxis": "y"
        }
       ],
       "layout": {
        "legend": {
         "tracegroupgap": 0
        },
        "margin": {
         "t": 60
        },
        "template": {
         "data": {
          "bar": [
           {
            "error_x": {
             "color": "#2a3f5f"
            },
            "error_y": {
             "color": "#2a3f5f"
            },
            "marker": {
             "line": {
              "color": "#E5ECF6",
              "width": 0.5
             },
             "pattern": {
              "fillmode": "overlay",
              "size": 10,
              "solidity": 0.2
             }
            },
            "type": "bar"
           }
          ],
          "barpolar": [
           {
            "marker": {
             "line": {
              "color": "#E5ECF6",
              "width": 0.5
             },
             "pattern": {
              "fillmode": "overlay",
              "size": 10,
              "solidity": 0.2
             }
            },
            "type": "barpolar"
           }
          ],
          "carpet": [
           {
            "aaxis": {
             "endlinecolor": "#2a3f5f",
             "gridcolor": "white",
             "linecolor": "white",
             "minorgridcolor": "white",
             "startlinecolor": "#2a3f5f"
            },
            "baxis": {
             "endlinecolor": "#2a3f5f",
             "gridcolor": "white",
             "linecolor": "white",
             "minorgridcolor": "white",
             "startlinecolor": "#2a3f5f"
            },
            "type": "carpet"
           }
          ],
          "choropleth": [
           {
            "colorbar": {
             "outlinewidth": 0,
             "ticks": ""
            },
            "type": "choropleth"
           }
          ],
          "contour": [
           {
            "colorbar": {
             "outlinewidth": 0,
             "ticks": ""
            },
            "colorscale": [
             [
              0,
              "#0d0887"
             ],
             [
              0.1111111111111111,
              "#46039f"
             ],
             [
              0.2222222222222222,
              "#7201a8"
             ],
             [
              0.3333333333333333,
              "#9c179e"
             ],
             [
              0.4444444444444444,
              "#bd3786"
             ],
             [
              0.5555555555555556,
              "#d8576b"
             ],
             [
              0.6666666666666666,
              "#ed7953"
             ],
             [
              0.7777777777777778,
              "#fb9f3a"
             ],
             [
              0.8888888888888888,
              "#fdca26"
             ],
             [
              1,
              "#f0f921"
             ]
            ],
            "type": "contour"
           }
          ],
          "contourcarpet": [
           {
            "colorbar": {
             "outlinewidth": 0,
             "ticks": ""
            },
            "type": "contourcarpet"
           }
          ],
          "heatmap": [
           {
            "colorbar": {
             "outlinewidth": 0,
             "ticks": ""
            },
            "colorscale": [
             [
              0,
              "#0d0887"
             ],
             [
              0.1111111111111111,
              "#46039f"
             ],
             [
              0.2222222222222222,
              "#7201a8"
             ],
             [
              0.3333333333333333,
              "#9c179e"
             ],
             [
              0.4444444444444444,
              "#bd3786"
             ],
             [
              0.5555555555555556,
              "#d8576b"
             ],
             [
              0.6666666666666666,
              "#ed7953"
             ],
             [
              0.7777777777777778,
              "#fb9f3a"
             ],
             [
              0.8888888888888888,
              "#fdca26"
             ],
             [
              1,
              "#f0f921"
             ]
            ],
            "type": "heatmap"
           }
          ],
          "heatmapgl": [
           {
            "colorbar": {
             "outlinewidth": 0,
             "ticks": ""
            },
            "colorscale": [
             [
              0,
              "#0d0887"
             ],
             [
              0.1111111111111111,
              "#46039f"
             ],
             [
              0.2222222222222222,
              "#7201a8"
             ],
             [
              0.3333333333333333,
              "#9c179e"
             ],
             [
              0.4444444444444444,
              "#bd3786"
             ],
             [
              0.5555555555555556,
              "#d8576b"
             ],
             [
              0.6666666666666666,
              "#ed7953"
             ],
             [
              0.7777777777777778,
              "#fb9f3a"
             ],
             [
              0.8888888888888888,
              "#fdca26"
             ],
             [
              1,
              "#f0f921"
             ]
            ],
            "type": "heatmapgl"
           }
          ],
          "histogram": [
           {
            "marker": {
             "pattern": {
              "fillmode": "overlay",
              "size": 10,
              "solidity": 0.2
             }
            },
            "type": "histogram"
           }
          ],
          "histogram2d": [
           {
            "colorbar": {
             "outlinewidth": 0,
             "ticks": ""
            },
            "colorscale": [
             [
              0,
              "#0d0887"
             ],
             [
              0.1111111111111111,
              "#46039f"
             ],
             [
              0.2222222222222222,
              "#7201a8"
             ],
             [
              0.3333333333333333,
              "#9c179e"
             ],
             [
              0.4444444444444444,
              "#bd3786"
             ],
             [
              0.5555555555555556,
              "#d8576b"
             ],
             [
              0.6666666666666666,
              "#ed7953"
             ],
             [
              0.7777777777777778,
              "#fb9f3a"
             ],
             [
              0.8888888888888888,
              "#fdca26"
             ],
             [
              1,
              "#f0f921"
             ]
            ],
            "type": "histogram2d"
           }
          ],
          "histogram2dcontour": [
           {
            "colorbar": {
             "outlinewidth": 0,
             "ticks": ""
            },
            "colorscale": [
             [
              0,
              "#0d0887"
             ],
             [
              0.1111111111111111,
              "#46039f"
             ],
             [
              0.2222222222222222,
              "#7201a8"
             ],
             [
              0.3333333333333333,
              "#9c179e"
             ],
             [
              0.4444444444444444,
              "#bd3786"
             ],
             [
              0.5555555555555556,
              "#d8576b"
             ],
             [
              0.6666666666666666,
              "#ed7953"
             ],
             [
              0.7777777777777778,
              "#fb9f3a"
             ],
             [
              0.8888888888888888,
              "#fdca26"
             ],
             [
              1,
              "#f0f921"
             ]
            ],
            "type": "histogram2dcontour"
           }
          ],
          "mesh3d": [
           {
            "colorbar": {
             "outlinewidth": 0,
             "ticks": ""
            },
            "type": "mesh3d"
           }
          ],
          "parcoords": [
           {
            "line": {
             "colorbar": {
              "outlinewidth": 0,
              "ticks": ""
             }
            },
            "type": "parcoords"
           }
          ],
          "pie": [
           {
            "automargin": true,
            "type": "pie"
           }
          ],
          "scatter": [
           {
            "fillpattern": {
             "fillmode": "overlay",
             "size": 10,
             "solidity": 0.2
            },
            "type": "scatter"
           }
          ],
          "scatter3d": [
           {
            "line": {
             "colorbar": {
              "outlinewidth": 0,
              "ticks": ""
             }
            },
            "marker": {
             "colorbar": {
              "outlinewidth": 0,
              "ticks": ""
             }
            },
            "type": "scatter3d"
           }
          ],
          "scattercarpet": [
           {
            "marker": {
             "colorbar": {
              "outlinewidth": 0,
              "ticks": ""
             }
            },
            "type": "scattercarpet"
           }
          ],
          "scattergeo": [
           {
            "marker": {
             "colorbar": {
              "outlinewidth": 0,
              "ticks": ""
             }
            },
            "type": "scattergeo"
           }
          ],
          "scattergl": [
           {
            "marker": {
             "colorbar": {
              "outlinewidth": 0,
              "ticks": ""
             }
            },
            "type": "scattergl"
           }
          ],
          "scattermapbox": [
           {
            "marker": {
             "colorbar": {
              "outlinewidth": 0,
              "ticks": ""
             }
            },
            "type": "scattermapbox"
           }
          ],
          "scatterpolar": [
           {
            "marker": {
             "colorbar": {
              "outlinewidth": 0,
              "ticks": ""
             }
            },
            "type": "scatterpolar"
           }
          ],
          "scatterpolargl": [
           {
            "marker": {
             "colorbar": {
              "outlinewidth": 0,
              "ticks": ""
             }
            },
            "type": "scatterpolargl"
           }
          ],
          "scatterternary": [
           {
            "marker": {
             "colorbar": {
              "outlinewidth": 0,
              "ticks": ""
             }
            },
            "type": "scatterternary"
           }
          ],
          "surface": [
           {
            "colorbar": {
             "outlinewidth": 0,
             "ticks": ""
            },
            "colorscale": [
             [
              0,
              "#0d0887"
             ],
             [
              0.1111111111111111,
              "#46039f"
             ],
             [
              0.2222222222222222,
              "#7201a8"
             ],
             [
              0.3333333333333333,
              "#9c179e"
             ],
             [
              0.4444444444444444,
              "#bd3786"
             ],
             [
              0.5555555555555556,
              "#d8576b"
             ],
             [
              0.6666666666666666,
              "#ed7953"
             ],
             [
              0.7777777777777778,
              "#fb9f3a"
             ],
             [
              0.8888888888888888,
              "#fdca26"
             ],
             [
              1,
              "#f0f921"
             ]
            ],
            "type": "surface"
           }
          ],
          "table": [
           {
            "cells": {
             "fill": {
              "color": "#EBF0F8"
             },
             "line": {
              "color": "white"
             }
            },
            "header": {
             "fill": {
              "color": "#C8D4E3"
             },
             "line": {
              "color": "white"
             }
            },
            "type": "table"
           }
          ]
         },
         "layout": {
          "annotationdefaults": {
           "arrowcolor": "#2a3f5f",
           "arrowhead": 0,
           "arrowwidth": 1
          },
          "autotypenumbers": "strict",
          "coloraxis": {
           "colorbar": {
            "outlinewidth": 0,
            "ticks": ""
           }
          },
          "colorscale": {
           "diverging": [
            [
             0,
             "#8e0152"
            ],
            [
             0.1,
             "#c51b7d"
            ],
            [
             0.2,
             "#de77ae"
            ],
            [
             0.3,
             "#f1b6da"
            ],
            [
             0.4,
             "#fde0ef"
            ],
            [
             0.5,
             "#f7f7f7"
            ],
            [
             0.6,
             "#e6f5d0"
            ],
            [
             0.7,
             "#b8e186"
            ],
            [
             0.8,
             "#7fbc41"
            ],
            [
             0.9,
             "#4d9221"
            ],
            [
             1,
             "#276419"
            ]
           ],
           "sequential": [
            [
             0,
             "#0d0887"
            ],
            [
             0.1111111111111111,
             "#46039f"
            ],
            [
             0.2222222222222222,
             "#7201a8"
            ],
            [
             0.3333333333333333,
             "#9c179e"
            ],
            [
             0.4444444444444444,
             "#bd3786"
            ],
            [
             0.5555555555555556,
             "#d8576b"
            ],
            [
             0.6666666666666666,
             "#ed7953"
            ],
            [
             0.7777777777777778,
             "#fb9f3a"
            ],
            [
             0.8888888888888888,
             "#fdca26"
            ],
            [
             1,
             "#f0f921"
            ]
           ],
           "sequentialminus": [
            [
             0,
             "#0d0887"
            ],
            [
             0.1111111111111111,
             "#46039f"
            ],
            [
             0.2222222222222222,
             "#7201a8"
            ],
            [
             0.3333333333333333,
             "#9c179e"
            ],
            [
             0.4444444444444444,
             "#bd3786"
            ],
            [
             0.5555555555555556,
             "#d8576b"
            ],
            [
             0.6666666666666666,
             "#ed7953"
            ],
            [
             0.7777777777777778,
             "#fb9f3a"
            ],
            [
             0.8888888888888888,
             "#fdca26"
            ],
            [
             1,
             "#f0f921"
            ]
           ]
          },
          "colorway": [
           "#636efa",
           "#EF553B",
           "#00cc96",
           "#ab63fa",
           "#FFA15A",
           "#19d3f3",
           "#FF6692",
           "#B6E880",
           "#FF97FF",
           "#FECB52"
          ],
          "font": {
           "color": "#2a3f5f"
          },
          "geo": {
           "bgcolor": "white",
           "lakecolor": "white",
           "landcolor": "#E5ECF6",
           "showlakes": true,
           "showland": true,
           "subunitcolor": "white"
          },
          "hoverlabel": {
           "align": "left"
          },
          "hovermode": "closest",
          "mapbox": {
           "style": "light"
          },
          "paper_bgcolor": "white",
          "plot_bgcolor": "#E5ECF6",
          "polar": {
           "angularaxis": {
            "gridcolor": "white",
            "linecolor": "white",
            "ticks": ""
           },
           "bgcolor": "#E5ECF6",
           "radialaxis": {
            "gridcolor": "white",
            "linecolor": "white",
            "ticks": ""
           }
          },
          "scene": {
           "xaxis": {
            "backgroundcolor": "#E5ECF6",
            "gridcolor": "white",
            "gridwidth": 2,
            "linecolor": "white",
            "showbackground": true,
            "ticks": "",
            "zerolinecolor": "white"
           },
           "yaxis": {
            "backgroundcolor": "#E5ECF6",
            "gridcolor": "white",
            "gridwidth": 2,
            "linecolor": "white",
            "showbackground": true,
            "ticks": "",
            "zerolinecolor": "white"
           },
           "zaxis": {
            "backgroundcolor": "#E5ECF6",
            "gridcolor": "white",
            "gridwidth": 2,
            "linecolor": "white",
            "showbackground": true,
            "ticks": "",
            "zerolinecolor": "white"
           }
          },
          "shapedefaults": {
           "line": {
            "color": "#2a3f5f"
           }
          },
          "ternary": {
           "aaxis": {
            "gridcolor": "white",
            "linecolor": "white",
            "ticks": ""
           },
           "baxis": {
            "gridcolor": "white",
            "linecolor": "white",
            "ticks": ""
           },
           "bgcolor": "#E5ECF6",
           "caxis": {
            "gridcolor": "white",
            "linecolor": "white",
            "ticks": ""
           }
          },
          "title": {
           "x": 0.05
          },
          "xaxis": {
           "automargin": true,
           "gridcolor": "white",
           "linecolor": "white",
           "ticks": "",
           "title": {
            "standoff": 15
           },
           "zerolinecolor": "white",
           "zerolinewidth": 2
          },
          "yaxis": {
           "automargin": true,
           "gridcolor": "white",
           "linecolor": "white",
           "ticks": "",
           "title": {
            "standoff": 15
           },
           "zerolinecolor": "white",
           "zerolinewidth": 2
          }
         }
        },
        "xaxis": {
         "anchor": "y",
         "domain": [
          0,
          1
         ],
         "title": {
          "text": "x"
         }
        },
        "yaxis": {
         "anchor": "x",
         "domain": [
          0,
          1
         ],
         "title": {
          "text": "y"
         }
        }
       }
      }
     },
     "metadata": {},
     "output_type": "display_data"
    }
   ],
   "source": [
    "# Graficar los embedddings en 2D\n",
    "import plotly.graph_objects as go\n",
    "import plotly.express as px\n",
    "\n",
    "x_vals, y_vals, labels = reduce_dimensions(w2v_model)\n",
    "\n",
    "MAX_WORDS=200\n",
    "fig = px.scatter(x=x_vals[:MAX_WORDS], y=y_vals[:MAX_WORDS], text=labels[:MAX_WORDS])\n",
    "fig.show(renderer='vscode') # esto para plotly en colab"
   ]
  },
  {
   "cell_type": "markdown",
   "metadata": {
    "id": "yMM_SHSaZ9N-"
   },
   "source": [
    "### Alumno"
   ]
  },
  {
   "attachments": {},
   "cell_type": "markdown",
   "metadata": {
    "id": "WivQZ3ZCZ9N_"
   },
   "source": [
    "- Se observaron algunos resultados interesantes al buscar palabras relacionadas:\n",
    "* Watson -> doctor\n",
    "* Police -> official, county, station\n",
    "* Money -> service, £\n",
    "* Sherlock -> Holmes, engineer, adventure\n",
    "- Por otro lado, analizando el gráfico de los embeddings en 2D no están claras las relaciones o similitudes entre palabras. Posiblemente con mayor analisis exploratorio del corpus y mejorando el preprocesamiento se puedan mejorar los resultados."
   ]
  },
  {
   "cell_type": "markdown",
   "metadata": {},
   "source": []
  }
 ],
 "metadata": {
  "colab": {
   "collapsed_sections": [],
   "provenance": []
  },
  "kernelspec": {
   "display_name": "Python 3 (ipykernel)",
   "language": "python",
   "name": "python3"
  },
  "language_info": {
   "codemirror_mode": {
    "name": "ipython",
    "version": 3
   },
   "file_extension": ".py",
   "mimetype": "text/x-python",
   "name": "python",
   "nbconvert_exporter": "python",
   "pygments_lexer": "ipython3",
   "version": "3.10.4"
  }
 },
 "nbformat": 4,
 "nbformat_minor": 4
}
