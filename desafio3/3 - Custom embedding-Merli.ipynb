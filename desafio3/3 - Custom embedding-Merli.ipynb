{
 "cells": [
  {
   "cell_type": "markdown",
   "metadata": {
    "id": "sZd5yLnnHOK0"
   },
   "source": [
    "<img src=\"https://github.com/hernancontigiani/ceia_memorias_especializacion/raw/master/Figures/logoFIUBA.jpg\" width=\"500\" align=\"center\">\n",
    "\n",
    "\n",
    "# Procesamiento de lenguaje natural\n",
    "## Custom embedddings con Gensim\n",
    "\n"
   ]
  },
  {
   "cell_type": "markdown",
   "metadata": {
    "id": "vA7nqkumo9z9"
   },
   "source": [
    "### Objetivo\n",
    "El objetivo es utilizar documentos / corpus para crear embeddings de palabras basado en ese contexto. Se utilizará canciones de bandas para generar los embeddings, es decir, que los vectores tendrán la forma en función de como esa banda haya utilizado las palabras en sus canciones."
   ]
  },
  {
   "cell_type": "code",
   "execution_count": 1,
   "metadata": {
    "id": "lFToQs5FK5uZ"
   },
   "outputs": [],
   "source": [
    "import pandas as pd\n",
    "import matplotlib.pyplot as plt\n",
    "import seaborn as sns\n",
    "\n",
    "import multiprocessing\n",
    "from gensim.models import Word2Vec"
   ]
  },
  {
   "attachments": {},
   "cell_type": "markdown",
   "metadata": {
    "id": "g07zJxG7H9vG"
   },
   "source": [
    "### Datos\n",
    "Utilizaremos como dataset el libro \"The Adventures of Sherlock Holmes\" de Arthur Conan Doyle"
   ]
  },
  {
   "cell_type": "code",
   "execution_count": 103,
   "metadata": {
    "id": "ticoqYD1Z3I7"
   },
   "outputs": [
    {
     "data": {
      "text/html": [
       "<div>\n",
       "<style scoped>\n",
       "    .dataframe tbody tr th:only-of-type {\n",
       "        vertical-align: middle;\n",
       "    }\n",
       "\n",
       "    .dataframe tbody tr th {\n",
       "        vertical-align: top;\n",
       "    }\n",
       "\n",
       "    .dataframe thead th {\n",
       "        text-align: right;\n",
       "    }\n",
       "</style>\n",
       "<table border=\"1\" class=\"dataframe\">\n",
       "  <thead>\n",
       "    <tr style=\"text-align: right;\">\n",
       "      <th></th>\n",
       "      <th>0</th>\n",
       "    </tr>\n",
       "  </thead>\n",
       "  <tbody>\n",
       "    <tr>\n",
       "      <th>0</th>\n",
       "      <td>The Project Gutenberg eBook of The Adventures ...</td>\n",
       "    </tr>\n",
       "    <tr>\n",
       "      <th>1</th>\n",
       "      <td>This eBook is for the use of anyone anywhere i...</td>\n",
       "    </tr>\n",
       "    <tr>\n",
       "      <th>2</th>\n",
       "      <td>most other parts of the world at no cost and w...</td>\n",
       "    </tr>\n",
       "    <tr>\n",
       "      <th>3</th>\n",
       "      <td>whatsoever. You may copy it, give it away or r...</td>\n",
       "    </tr>\n",
       "    <tr>\n",
       "      <th>4</th>\n",
       "      <td>of the Project Gutenberg License included with...</td>\n",
       "    </tr>\n",
       "  </tbody>\n",
       "</table>\n",
       "</div>"
      ],
      "text/plain": [
       "                                                   0\n",
       "0  The Project Gutenberg eBook of The Adventures ...\n",
       "1  This eBook is for the use of anyone anywhere i...\n",
       "2  most other parts of the world at no cost and w...\n",
       "3  whatsoever. You may copy it, give it away or r...\n",
       "4  of the Project Gutenberg License included with..."
      ]
     },
     "execution_count": 103,
     "metadata": {},
     "output_type": "execute_result"
    }
   ],
   "source": [
    "# Armar el dataset utilizando salto de línea para separar las oraciones/docs\n",
    "df = pd.read_csv('the_adventures_of_sherlock_holmes.txt', sep='/n', engine='python', header=None)\n",
    "df.head()"
   ]
  },
  {
   "cell_type": "code",
   "execution_count": 104,
   "metadata": {
    "id": "LEpKubK9XzXN"
   },
   "outputs": [
    {
     "name": "stdout",
     "output_type": "stream",
     "text": [
      "Cantidad de documentos: 9626\n"
     ]
    }
   ],
   "source": [
    "print(\"Cantidad de documentos:\", df.shape[0])"
   ]
  },
  {
   "cell_type": "markdown",
   "metadata": {
    "id": "ab94qaFlrA1G"
   },
   "source": [
    "### 1 - Preprocesamiento"
   ]
  },
  {
   "cell_type": "code",
   "execution_count": 105,
   "metadata": {
    "id": "rIsmMWmjrDHd"
   },
   "outputs": [],
   "source": [
    "from keras.preprocessing.text import text_to_word_sequence\n",
    "\n",
    "sentence_tokens = []\n",
    "# Recorrer todas las filas y transformar las oraciones\n",
    "# en una secuencia de palabras (esto podría realizarse con NLTK o spaCy también)\n",
    "for _, row in df[:None].iterrows():\n",
    "    sentence_tokens.append(text_to_word_sequence(row[0]))"
   ]
  },
  {
   "cell_type": "code",
   "execution_count": 107,
   "metadata": {
    "id": "CHepi_DGrbhq"
   },
   "outputs": [
    {
     "data": {
      "text/plain": [
       "[['adler', 'of', 'dubious', 'and', 'questionable', 'memory'],\n",
       " ['i',\n",
       "  'had',\n",
       "  'seen',\n",
       "  'little',\n",
       "  'of',\n",
       "  'holmes',\n",
       "  'lately',\n",
       "  'my',\n",
       "  'marriage',\n",
       "  'had',\n",
       "  'drifted',\n",
       "  'us',\n",
       "  'away']]"
      ]
     },
     "execution_count": 107,
     "metadata": {},
     "output_type": "execute_result"
    }
   ],
   "source": [
    "# Demos un vistazo\n",
    "sentence_tokens[50:52]"
   ]
  },
  {
   "cell_type": "markdown",
   "metadata": {
    "id": "BaXV6nlHr5Aa"
   },
   "source": [
    "### 2 - Crear los vectores (word2vec)"
   ]
  },
  {
   "cell_type": "code",
   "execution_count": 108,
   "metadata": {
    "id": "OSb0v7h8r7hK"
   },
   "outputs": [],
   "source": [
    "from gensim.models.callbacks import CallbackAny2Vec\n",
    "# Durante el entrenamiento gensim por defecto no informa el \"loss\" en cada época\n",
    "# Sobrecargamos el callback para poder tener esta información\n",
    "class callback(CallbackAny2Vec):\n",
    "    \"\"\"\n",
    "    Callback to print loss after each epoch\n",
    "    \"\"\"\n",
    "    def __init__(self):\n",
    "        self.epoch = 0\n",
    "\n",
    "    def on_epoch_end(self, model):\n",
    "        loss = model.get_latest_training_loss()\n",
    "        if self.epoch == 0:\n",
    "            print('Loss after epoch {}: {}'.format(self.epoch, loss))\n",
    "        else:\n",
    "            print('Loss after epoch {}: {}'.format(self.epoch, loss- self.loss_previous_step))\n",
    "        self.epoch += 1\n",
    "        self.loss_previous_step = loss"
   ]
  },
  {
   "cell_type": "code",
   "execution_count": 109,
   "metadata": {
    "id": "i0wnDdv9sJ47"
   },
   "outputs": [],
   "source": [
    "# Crearmos el modelo generador de vectores\n",
    "# En este caso utilizaremos la estructura modelo Skipgram\n",
    "w2v_model = Word2Vec(min_count=5,    # frecuencia mínima de palabra para incluirla en el vocabulario\n",
    "                    window=2,       # cant de palabras antes y desp de la predicha\n",
    "                    vector_size=400,       # dimensionalidad de los vectores \n",
    "                    negative=20,    # cantidad de negative samples... 0 es no se usa\n",
    "                    workers=1,      # si tienen más cores pueden cambiar este valor\n",
    "                    sg=1)           # modelo 0:CBOW  1:skipgram"
   ]
  },
  {
   "cell_type": "code",
   "execution_count": 110,
   "metadata": {
    "id": "5lTt8wErsf17"
   },
   "outputs": [],
   "source": [
    "# Obtener el vocabulario con los tokens\n",
    "w2v_model.build_vocab(sentence_tokens)"
   ]
  },
  {
   "cell_type": "code",
   "execution_count": 111,
   "metadata": {
    "id": "TNc9qt4os5AT"
   },
   "outputs": [
    {
     "name": "stdout",
     "output_type": "stream",
     "text": [
      "Cantidad de docs en el corpus: 9626\n"
     ]
    }
   ],
   "source": [
    "# Cantidad de filas/docs encontradas en el corpus\n",
    "print(\"Cantidad de docs en el corpus:\", w2v_model.corpus_count)"
   ]
  },
  {
   "cell_type": "code",
   "execution_count": 112,
   "metadata": {
    "id": "idw9cHF3tSMl"
   },
   "outputs": [
    {
     "name": "stdout",
     "output_type": "stream",
     "text": [
      "Cantidad de words distintas en el corpus: 2231\n"
     ]
    }
   ],
   "source": [
    "# Cantidad de words encontradas en el corpus\n",
    "print(\"Cantidad de words distintas en el corpus:\", len(w2v_model.wv.key_to_index))"
   ]
  },
  {
   "cell_type": "markdown",
   "metadata": {
    "id": "fC9mZ8DPk-UC"
   },
   "source": [
    "### 3 - Entrenar el modelo generador"
   ]
  },
  {
   "cell_type": "code",
   "execution_count": 113,
   "metadata": {
    "id": "QSp-x0PAsq56"
   },
   "outputs": [
    {
     "name": "stdout",
     "output_type": "stream",
     "text": [
      "Loss after epoch 0: 882543.625\n",
      "Loss after epoch 1: 613979.25\n",
      "Loss after epoch 2: 582623.625\n",
      "Loss after epoch 3: 503463.75\n",
      "Loss after epoch 4: 498194.0\n",
      "Loss after epoch 5: 496698.0\n",
      "Loss after epoch 6: 491409.25\n",
      "Loss after epoch 7: 469579.5\n",
      "Loss after epoch 8: 458565.5\n",
      "Loss after epoch 9: 454541.0\n",
      "Loss after epoch 10: 452995.0\n",
      "Loss after epoch 11: 448325.0\n",
      "Loss after epoch 12: 446506.0\n",
      "Loss after epoch 13: 444282.5\n",
      "Loss after epoch 14: 440983.0\n",
      "Loss after epoch 15: 438874.0\n",
      "Loss after epoch 16: 431306.0\n",
      "Loss after epoch 17: 420712.0\n",
      "Loss after epoch 18: 419144.0\n",
      "Loss after epoch 19: 421645.0\n"
     ]
    },
    {
     "data": {
      "text/plain": [
       "(1358642, 2224020)"
      ]
     },
     "execution_count": 113,
     "metadata": {},
     "output_type": "execute_result"
    }
   ],
   "source": [
    "# Entrenamos el modelo generador de vectores\n",
    "# Utilizamos nuestro callback\n",
    "w2v_model.train(sentence_tokens,\n",
    "                total_examples=w2v_model.corpus_count,\n",
    "                epochs=20,\n",
    "                compute_loss = True,\n",
    "                callbacks=[callback()]\n",
    "                )"
   ]
  },
  {
   "cell_type": "markdown",
   "metadata": {
    "id": "ddT9NVuNlCAe"
   },
   "source": [
    "### 4 - Ensayar"
   ]
  },
  {
   "cell_type": "code",
   "execution_count": 114,
   "metadata": {
    "id": "6cHN9xGLuPEm"
   },
   "outputs": [
    {
     "data": {
      "text/plain": [
       "[('doctor', 0.833378255367279),\n",
       " ('suppose', 0.7919176816940308),\n",
       " ('“ha', 0.7917171120643616),\n",
       " ('prison', 0.7883281111717224),\n",
       " ('scoundrel', 0.7791693210601807),\n",
       " ('“certainly', 0.7760857939720154),\n",
       " ('patient', 0.7757074236869812),\n",
       " ('begin', 0.7752490043640137),\n",
       " ('madam', 0.7737632393836975),\n",
       " ('“ah', 0.7714954018592834)]"
      ]
     },
     "execution_count": 114,
     "metadata": {},
     "output_type": "execute_result"
    }
   ],
   "source": [
    "# Palabras que MÁS se relacionan con...:\n",
    "w2v_model.wv.most_similar(positive=[\"watson\"], topn=10)"
   ]
  },
  {
   "cell_type": "code",
   "execution_count": 117,
   "metadata": {},
   "outputs": [
    {
     "data": {
      "text/plain": [
       "[('facts', 0.7778236865997314),\n",
       " ('county', 0.7691174149513245),\n",
       " ('examine', 0.7650518417358398),\n",
       " ('goodness', 0.7591449022293091),\n",
       " ('ball', 0.758080244064331),\n",
       " ('cabman', 0.7580599784851074),\n",
       " ('deed', 0.7526472210884094),\n",
       " ('murderer', 0.7503688335418701),\n",
       " ('europe', 0.7496589422225952),\n",
       " ('paddington', 0.7493327856063843)]"
      ]
     },
     "execution_count": 117,
     "metadata": {},
     "output_type": "execute_result"
    }
   ],
   "source": [
    "# Palabras que MÁS se relacionan con...:\n",
    "w2v_model.wv.most_similar(positive=[\"police\"], topn=10)"
   ]
  },
  {
   "cell_type": "code",
   "execution_count": 121,
   "metadata": {
    "id": "DT4Rvno2mD65"
   },
   "outputs": [
    {
     "data": {
      "text/plain": [
       "[('lestrade', 0.7491377592086792),\n",
       " ('engineer', 0.7396234273910522),\n",
       " ('ross', 0.7299661636352539),\n",
       " ('“mr', 0.7264847159385681),\n",
       " ('laughing', 0.7201484441757202),\n",
       " ('jabez', 0.717681884765625),\n",
       " ('adventures', 0.7174314856529236),\n",
       " ('duncan', 0.715665876865387),\n",
       " ('“come', 0.7127528190612793),\n",
       " ('gravely', 0.7126884460449219)]"
      ]
     },
     "execution_count": 121,
     "metadata": {},
     "output_type": "execute_result"
    }
   ],
   "source": [
    "# Palabras que MÁS se relacionan con...:\n",
    "w2v_model.wv.most_similar(positive=[\"sherlock\"], topn=10)"
   ]
  },
  {
   "cell_type": "code",
   "execution_count": 122,
   "metadata": {
    "id": "XPLDPgzBmQXt"
   },
   "outputs": [
    {
     "data": {
      "text/plain": [
       "[('keeping', 0.8034171462059021),\n",
       " ('commission', 0.7993332743644714),\n",
       " ('service', 0.7904911637306213),\n",
       " ('poison', 0.7870985865592957),\n",
       " ('metallic', 0.7744030356407166)]"
      ]
     },
     "execution_count": 122,
     "metadata": {},
     "output_type": "execute_result"
    }
   ],
   "source": [
    "# Palabras que MÁS se relacionan con...:\n",
    "w2v_model.wv.most_similar(positive=[\"money\"], topn=5)"
   ]
  },
  {
   "cell_type": "markdown",
   "metadata": {
    "id": "_g8UVWe6lFmh"
   },
   "source": [
    "### 5 - Visualizar agrupación de vectores"
   ]
  },
  {
   "cell_type": "code",
   "execution_count": 123,
   "metadata": {
    "id": "pDxEVXAivjr9"
   },
   "outputs": [],
   "source": [
    "from sklearn.decomposition import IncrementalPCA    \n",
    "from sklearn.manifold import TSNE                   \n",
    "import numpy as np                                  \n",
    "\n",
    "def reduce_dimensions(model):\n",
    "    num_dimensions = 2  \n",
    "\n",
    "    vectors = np.asarray(model.wv.vectors)\n",
    "    labels = np.asarray(model.wv.index_to_key)  \n",
    "\n",
    "    tsne = TSNE(n_components=num_dimensions, random_state=0)\n",
    "    vectors = tsne.fit_transform(vectors)\n",
    "\n",
    "    x_vals = [v[0] for v in vectors]\n",
    "    y_vals = [v[1] for v in vectors]\n",
    "    return x_vals, y_vals, labels"
   ]
  },
  {
   "cell_type": "code",
   "execution_count": 124,
   "metadata": {
    "id": "NCCXtDpcugmd"
   },
   "outputs": [
    {
     "name": "stderr",
     "output_type": "stream",
     "text": [
      "c:\\Python310\\lib\\site-packages\\sklearn\\manifold\\_t_sne.py:800: FutureWarning:\n",
      "\n",
      "The default initialization in TSNE will change from 'random' to 'pca' in 1.2.\n",
      "\n",
      "c:\\Python310\\lib\\site-packages\\sklearn\\manifold\\_t_sne.py:810: FutureWarning:\n",
      "\n",
      "The default learning rate in TSNE will change from 200.0 to 'auto' in 1.2.\n",
      "\n"
     ]
    },
    {
     "data": {
      "application/vnd.plotly.v1+json": {
       "config": {
        "plotlyServerURL": "https://plot.ly"
       },
       "data": [
        {
         "hovertemplate": "x=%{x}<br>y=%{y}<br>text=%{text}<extra></extra>",
         "legendgroup": "",
         "marker": {
          "color": "#636efa",
          "symbol": "circle"
         },
         "mode": "markers+text",
         "name": "",
         "orientation": "v",
         "showlegend": false,
         "text": [
          "the",
          "and",
          "to",
          "of",
          "a",
          "i",
          "”",
          "in",
          "that",
          "it",
          "he",
          "was",
          "you",
          "his",
          "is",
          "my",
          "have",
          "with",
          "as",
          "had",
          "at",
          "which",
          "for",
          "be",
          "not",
          "me",
          "but",
          "from",
          "we",
          "this",
          "said",
          "upon",
          "there",
          "holmes",
          "him",
          "so",
          "her",
          "she",
          "all",
          "’",
          "been",
          "your",
          "on",
          "very",
          "by",
          "one",
          "are",
          "“i",
          "were",
          "an",
          "would",
          "no",
          "out",
          "what",
          "then",
          "when",
          "up",
          "man",
          "could",
          "has",
          "do",
          "into",
          "or",
          "little",
          "will",
          "who",
          "mr",
          "if",
          "some",
          "down",
          "see",
          "now",
          "our",
          "may",
          "should",
          "am",
          "us",
          "over",
          "they",
          "can",
          "more",
          "think",
          "about",
          "must",
          "shall",
          "room",
          "know",
          "before",
          "any",
          "other",
          "than",
          "only",
          "come",
          "time",
          "them",
          "two",
          "came",
          "did",
          "door",
          "back",
          "“it",
          "face",
          "might",
          "matter",
          "good",
          "much",
          "“you",
          "house",
          "hand",
          "just",
          "way",
          "how",
          "case",
          "such",
          "well",
          "here",
          "heard",
          "where",
          "“and",
          "night",
          "made",
          "found",
          "however",
          "away",
          "day",
          "morning",
          "right",
          "own",
          "sherlock",
          "nothing",
          "go",
          "gutenberg",
          "after",
          "like",
          "never",
          "their",
          "tell",
          "say",
          "most",
          "through",
          "work",
          "last",
          "left",
          "its",
          "saw",
          "quite",
          "project",
          "“yes",
          "asked",
          "long",
          "eyes",
          "“but",
          "side",
          "miss",
          "once",
          "took",
          "first",
          "yet",
          "st",
          "street",
          "young",
          "too",
          "these",
          "every",
          "round",
          "find",
          "small",
          "watson",
          "without",
          "take",
          "“the",
          "still",
          "thought",
          "few",
          "myself",
          "sir",
          "make",
          "off",
          "until",
          "“well",
          "light",
          "old",
          "business",
          "himself",
          "window",
          "even",
          "hands",
          "father",
          "seen",
          "three",
          "ever",
          "lady",
          "look",
          "friend",
          "went",
          "seemed",
          "head",
          "cried",
          "while",
          "put"
         ],
         "type": "scatter",
         "x": [
          -14.933893,
          -14.783196,
          9.18407,
          0.4272067,
          -10.904136,
          27.317139,
          29.453089,
          -12.345178,
          18.449148,
          22.717945,
          27.723444,
          7.879335,
          30.715065,
          -28.062956,
          15.879133,
          22.9745,
          9.377617,
          -16.583185,
          -0.09338887,
          8.346872,
          -13.73731,
          -13.896189,
          -14.316964,
          31.395227,
          38.817127,
          24.124945,
          15.816911,
          -12.721646,
          27.479765,
          3.6100874,
          33.296314,
          -31.113894,
          9.429216,
          -4.9389753,
          -12.321843,
          19.887356,
          -10.396174,
          27.152964,
          -1.023978,
          30.999966,
          6.0307136,
          39.97778,
          -10.087576,
          38.24172,
          -12.978576,
          -13.167683,
          -14.465901,
          37.74765,
          -14.536334,
          -9.828998,
          40.699425,
          35.77766,
          -22.945692,
          41.110218,
          36.648026,
          28.212307,
          -31.548319,
          11.567227,
          37.11114,
          8.415421,
          35.765285,
          -36.124004,
          0.6157844,
          -6.4075747,
          38.9181,
          12.174304,
          29.509047,
          12.881552,
          -13.227562,
          -41.85365,
          34.3567,
          25.163092,
          -0.32154173,
          34.613914,
          38.53808,
          39.2495,
          25.136343,
          -31.051783,
          26.40729,
          38.88808,
          6.6941433,
          37.550453,
          -12.298722,
          40.02483,
          38.006077,
          -41.25362,
          35.771244,
          16.973984,
          0.5308664,
          -8.348609,
          5.7625637,
          11.869911,
          25.663698,
          -0.47428557,
          11.238323,
          -24.35832,
          3.7565007,
          36.22101,
          -39.918774,
          -22.703243,
          27.964334,
          -27.128662,
          15.798767,
          19.284494,
          32.58323,
          39.219532,
          35.094067,
          -30.6765,
          -30.783827,
          4.0747633,
          -2.7463324,
          41.45533,
          -1.122171,
          6.093454,
          13.469077,
          28.375265,
          6.8851986,
          -43.03783,
          35.732594,
          -29.114649,
          -3.1868446,
          4.5259147,
          10.500385,
          -8.628758,
          -27.386026,
          -27.890701,
          8.636238,
          3.6334004,
          29.189981,
          10.144191,
          24.684347,
          -2.0477972,
          -14.82836,
          -10.097499,
          45.71289,
          -0.29953012,
          33.956356,
          35.676346,
          2.3998604,
          -38.539196,
          -1.6087228,
          -22.259851,
          -5.694486,
          0.8326443,
          6.2146726,
          18.651173,
          -1.0934262,
          31.093357,
          34.57869,
          -14.870516,
          -30.201715,
          35.444313,
          -36.70187,
          20.64763,
          -1.3012377,
          -24.526493,
          -4.2795577,
          14.88777,
          24.466993,
          -32.631966,
          13.145095,
          38.0919,
          -3.300046,
          -10.6209955,
          -32.486935,
          28.202982,
          -21.585007,
          29.666695,
          10.307887,
          29.834915,
          23.304966,
          -12.426151,
          17.94599,
          -19.602945,
          -4.835569,
          34.043007,
          31.555323,
          -24.728346,
          -26.348585,
          30.329212,
          -26.298824,
          -15.393299,
          2.3494039,
          -21.976788,
          -39.61468,
          4.7849455,
          -31.787172,
          14.967243,
          6.8671227,
          -24.369373,
          45.720657,
          15.140689,
          21.22667,
          19.582012,
          2.3788831,
          14.808407,
          -31.152903,
          33.346653,
          -12.432847,
          17.69761
         ],
         "xaxis": "x",
         "y": [
          6.972079,
          -16.509117,
          31.924417,
          19.953283,
          -2.8862581,
          -5.1201205,
          -17.00276,
          10.659428,
          1.6255221,
          1.63405,
          -12.3539505,
          -25.553562,
          0.42383236,
          -25.36304,
          -1.8115587,
          -16.505684,
          -10.829791,
          -8.752962,
          -22.477425,
          -14.787051,
          19.932331,
          1.7385023,
          22.753954,
          15.366702,
          12.36673,
          2.025261,
          2.696039,
          12.859947,
          -0.63027304,
          27.934015,
          -17.69567,
          -11.295978,
          15.476977,
          -27.174416,
          -27.520767,
          0.4004688,
          -19.223663,
          -12.111352,
          25.539545,
          -14.899287,
          -14.980358,
          -11.151752,
          25.703587,
          17.35441,
          3.1176994,
          16.792072,
          29.097271,
          -6.701177,
          29.021002,
          -3.3538206,
          2.0498965,
          -14.110318,
          -14.411344,
          8.956906,
          -18.743856,
          -6.526923,
          -13.479508,
          -23.154186,
          4.372411,
          -14.990595,
          2.4850402,
          -12.566544,
          35.842407,
          -1.8383355,
          1.9197847,
          -19.658102,
          -25.246983,
          26.196444,
          25.388933,
          -10.265771,
          6.7105575,
          -0.7755365,
          27.111164,
          17.454046,
          5.0965414,
          -2.2279863,
          2.6021032,
          -12.797472,
          11.119785,
          3.68126,
          25.208492,
          -2.7401338,
          21.806961,
          3.816152,
          3.4698012,
          -2.3747056,
          8.162196,
          4.750152,
          33.277615,
          22.091396,
          25.160868,
          -7.3498793,
          4.4830084,
          -7.6497836,
          9.767949,
          23.713892,
          -28.422394,
          1.4926107,
          -5.926274,
          -14.507305,
          -14.878313,
          -19.352755,
          -5.791868,
          20.354116,
          21.16717,
          15.164776,
          -7.9585752,
          3.518298,
          -17.684898,
          -0.7838803,
          -0.16684201,
          8.02407,
          5.273372,
          8.734795,
          2.3053281,
          -3.506279,
          -17.696056,
          -7.447519,
          -11.4984045,
          15.9976635,
          -9.466464,
          -22.52744,
          -8.445322,
          -9.17827,
          19.453344,
          19.575876,
          -29.404438,
          -16.840952,
          -23.114803,
          23.781622,
          5.9545484,
          43.55356,
          19.7797,
          -5.0770802,
          5.1217375,
          26.798939,
          9.279298,
          8.068435,
          20.765074,
          1.9847403,
          37.7803,
          19.127985,
          -20.133755,
          26.647984,
          -24.218357,
          -0.4949787,
          42.629974,
          -10.50318,
          -19.427402,
          -9.053829,
          -22.46029,
          -11.536361,
          -0.41680336,
          -24.503555,
          -3.3330061,
          -11.459993,
          5.0561666,
          2.1995494,
          -30.086895,
          5.3299694,
          -21.140104,
          17.205917,
          29.005978,
          19.707163,
          -11.065992,
          9.486683,
          -7.7855396,
          -8.360441,
          27.337502,
          11.459243,
          -21.250221,
          -21.468,
          -8.543077,
          22.79305,
          0.36379683,
          -13.5617285,
          10.125543,
          8.3206415,
          16.29214,
          -11.176358,
          -5.8738256,
          11.783456,
          6.762581,
          -12.366362,
          -6.0240993,
          17.836401,
          -21.191376,
          -17.610252,
          -17.499063,
          23.052193,
          5.118686,
          -22.802532,
          6.09417,
          -28.373041,
          -26.64826,
          -5.2142415,
          -23.694632,
          -17.15609,
          -5.49396,
          10.596532
         ],
         "yaxis": "y"
        }
       ],
       "layout": {
        "legend": {
         "tracegroupgap": 0
        },
        "margin": {
         "t": 60
        },
        "template": {
         "data": {
          "bar": [
           {
            "error_x": {
             "color": "#2a3f5f"
            },
            "error_y": {
             "color": "#2a3f5f"
            },
            "marker": {
             "line": {
              "color": "#E5ECF6",
              "width": 0.5
             },
             "pattern": {
              "fillmode": "overlay",
              "size": 10,
              "solidity": 0.2
             }
            },
            "type": "bar"
           }
          ],
          "barpolar": [
           {
            "marker": {
             "line": {
              "color": "#E5ECF6",
              "width": 0.5
             },
             "pattern": {
              "fillmode": "overlay",
              "size": 10,
              "solidity": 0.2
             }
            },
            "type": "barpolar"
           }
          ],
          "carpet": [
           {
            "aaxis": {
             "endlinecolor": "#2a3f5f",
             "gridcolor": "white",
             "linecolor": "white",
             "minorgridcolor": "white",
             "startlinecolor": "#2a3f5f"
            },
            "baxis": {
             "endlinecolor": "#2a3f5f",
             "gridcolor": "white",
             "linecolor": "white",
             "minorgridcolor": "white",
             "startlinecolor": "#2a3f5f"
            },
            "type": "carpet"
           }
          ],
          "choropleth": [
           {
            "colorbar": {
             "outlinewidth": 0,
             "ticks": ""
            },
            "type": "choropleth"
           }
          ],
          "contour": [
           {
            "colorbar": {
             "outlinewidth": 0,
             "ticks": ""
            },
            "colorscale": [
             [
              0,
              "#0d0887"
             ],
             [
              0.1111111111111111,
              "#46039f"
             ],
             [
              0.2222222222222222,
              "#7201a8"
             ],
             [
              0.3333333333333333,
              "#9c179e"
             ],
             [
              0.4444444444444444,
              "#bd3786"
             ],
             [
              0.5555555555555556,
              "#d8576b"
             ],
             [
              0.6666666666666666,
              "#ed7953"
             ],
             [
              0.7777777777777778,
              "#fb9f3a"
             ],
             [
              0.8888888888888888,
              "#fdca26"
             ],
             [
              1,
              "#f0f921"
             ]
            ],
            "type": "contour"
           }
          ],
          "contourcarpet": [
           {
            "colorbar": {
             "outlinewidth": 0,
             "ticks": ""
            },
            "type": "contourcarpet"
           }
          ],
          "heatmap": [
           {
            "colorbar": {
             "outlinewidth": 0,
             "ticks": ""
            },
            "colorscale": [
             [
              0,
              "#0d0887"
             ],
             [
              0.1111111111111111,
              "#46039f"
             ],
             [
              0.2222222222222222,
              "#7201a8"
             ],
             [
              0.3333333333333333,
              "#9c179e"
             ],
             [
              0.4444444444444444,
              "#bd3786"
             ],
             [
              0.5555555555555556,
              "#d8576b"
             ],
             [
              0.6666666666666666,
              "#ed7953"
             ],
             [
              0.7777777777777778,
              "#fb9f3a"
             ],
             [
              0.8888888888888888,
              "#fdca26"
             ],
             [
              1,
              "#f0f921"
             ]
            ],
            "type": "heatmap"
           }
          ],
          "heatmapgl": [
           {
            "colorbar": {
             "outlinewidth": 0,
             "ticks": ""
            },
            "colorscale": [
             [
              0,
              "#0d0887"
             ],
             [
              0.1111111111111111,
              "#46039f"
             ],
             [
              0.2222222222222222,
              "#7201a8"
             ],
             [
              0.3333333333333333,
              "#9c179e"
             ],
             [
              0.4444444444444444,
              "#bd3786"
             ],
             [
              0.5555555555555556,
              "#d8576b"
             ],
             [
              0.6666666666666666,
              "#ed7953"
             ],
             [
              0.7777777777777778,
              "#fb9f3a"
             ],
             [
              0.8888888888888888,
              "#fdca26"
             ],
             [
              1,
              "#f0f921"
             ]
            ],
            "type": "heatmapgl"
           }
          ],
          "histogram": [
           {
            "marker": {
             "pattern": {
              "fillmode": "overlay",
              "size": 10,
              "solidity": 0.2
             }
            },
            "type": "histogram"
           }
          ],
          "histogram2d": [
           {
            "colorbar": {
             "outlinewidth": 0,
             "ticks": ""
            },
            "colorscale": [
             [
              0,
              "#0d0887"
             ],
             [
              0.1111111111111111,
              "#46039f"
             ],
             [
              0.2222222222222222,
              "#7201a8"
             ],
             [
              0.3333333333333333,
              "#9c179e"
             ],
             [
              0.4444444444444444,
              "#bd3786"
             ],
             [
              0.5555555555555556,
              "#d8576b"
             ],
             [
              0.6666666666666666,
              "#ed7953"
             ],
             [
              0.7777777777777778,
              "#fb9f3a"
             ],
             [
              0.8888888888888888,
              "#fdca26"
             ],
             [
              1,
              "#f0f921"
             ]
            ],
            "type": "histogram2d"
           }
          ],
          "histogram2dcontour": [
           {
            "colorbar": {
             "outlinewidth": 0,
             "ticks": ""
            },
            "colorscale": [
             [
              0,
              "#0d0887"
             ],
             [
              0.1111111111111111,
              "#46039f"
             ],
             [
              0.2222222222222222,
              "#7201a8"
             ],
             [
              0.3333333333333333,
              "#9c179e"
             ],
             [
              0.4444444444444444,
              "#bd3786"
             ],
             [
              0.5555555555555556,
              "#d8576b"
             ],
             [
              0.6666666666666666,
              "#ed7953"
             ],
             [
              0.7777777777777778,
              "#fb9f3a"
             ],
             [
              0.8888888888888888,
              "#fdca26"
             ],
             [
              1,
              "#f0f921"
             ]
            ],
            "type": "histogram2dcontour"
           }
          ],
          "mesh3d": [
           {
            "colorbar": {
             "outlinewidth": 0,
             "ticks": ""
            },
            "type": "mesh3d"
           }
          ],
          "parcoords": [
           {
            "line": {
             "colorbar": {
              "outlinewidth": 0,
              "ticks": ""
             }
            },
            "type": "parcoords"
           }
          ],
          "pie": [
           {
            "automargin": true,
            "type": "pie"
           }
          ],
          "scatter": [
           {
            "fillpattern": {
             "fillmode": "overlay",
             "size": 10,
             "solidity": 0.2
            },
            "type": "scatter"
           }
          ],
          "scatter3d": [
           {
            "line": {
             "colorbar": {
              "outlinewidth": 0,
              "ticks": ""
             }
            },
            "marker": {
             "colorbar": {
              "outlinewidth": 0,
              "ticks": ""
             }
            },
            "type": "scatter3d"
           }
          ],
          "scattercarpet": [
           {
            "marker": {
             "colorbar": {
              "outlinewidth": 0,
              "ticks": ""
             }
            },
            "type": "scattercarpet"
           }
          ],
          "scattergeo": [
           {
            "marker": {
             "colorbar": {
              "outlinewidth": 0,
              "ticks": ""
             }
            },
            "type": "scattergeo"
           }
          ],
          "scattergl": [
           {
            "marker": {
             "colorbar": {
              "outlinewidth": 0,
              "ticks": ""
             }
            },
            "type": "scattergl"
           }
          ],
          "scattermapbox": [
           {
            "marker": {
             "colorbar": {
              "outlinewidth": 0,
              "ticks": ""
             }
            },
            "type": "scattermapbox"
           }
          ],
          "scatterpolar": [
           {
            "marker": {
             "colorbar": {
              "outlinewidth": 0,
              "ticks": ""
             }
            },
            "type": "scatterpolar"
           }
          ],
          "scatterpolargl": [
           {
            "marker": {
             "colorbar": {
              "outlinewidth": 0,
              "ticks": ""
             }
            },
            "type": "scatterpolargl"
           }
          ],
          "scatterternary": [
           {
            "marker": {
             "colorbar": {
              "outlinewidth": 0,
              "ticks": ""
             }
            },
            "type": "scatterternary"
           }
          ],
          "surface": [
           {
            "colorbar": {
             "outlinewidth": 0,
             "ticks": ""
            },
            "colorscale": [
             [
              0,
              "#0d0887"
             ],
             [
              0.1111111111111111,
              "#46039f"
             ],
             [
              0.2222222222222222,
              "#7201a8"
             ],
             [
              0.3333333333333333,
              "#9c179e"
             ],
             [
              0.4444444444444444,
              "#bd3786"
             ],
             [
              0.5555555555555556,
              "#d8576b"
             ],
             [
              0.6666666666666666,
              "#ed7953"
             ],
             [
              0.7777777777777778,
              "#fb9f3a"
             ],
             [
              0.8888888888888888,
              "#fdca26"
             ],
             [
              1,
              "#f0f921"
             ]
            ],
            "type": "surface"
           }
          ],
          "table": [
           {
            "cells": {
             "fill": {
              "color": "#EBF0F8"
             },
             "line": {
              "color": "white"
             }
            },
            "header": {
             "fill": {
              "color": "#C8D4E3"
             },
             "line": {
              "color": "white"
             }
            },
            "type": "table"
           }
          ]
         },
         "layout": {
          "annotationdefaults": {
           "arrowcolor": "#2a3f5f",
           "arrowhead": 0,
           "arrowwidth": 1
          },
          "autotypenumbers": "strict",
          "coloraxis": {
           "colorbar": {
            "outlinewidth": 0,
            "ticks": ""
           }
          },
          "colorscale": {
           "diverging": [
            [
             0,
             "#8e0152"
            ],
            [
             0.1,
             "#c51b7d"
            ],
            [
             0.2,
             "#de77ae"
            ],
            [
             0.3,
             "#f1b6da"
            ],
            [
             0.4,
             "#fde0ef"
            ],
            [
             0.5,
             "#f7f7f7"
            ],
            [
             0.6,
             "#e6f5d0"
            ],
            [
             0.7,
             "#b8e186"
            ],
            [
             0.8,
             "#7fbc41"
            ],
            [
             0.9,
             "#4d9221"
            ],
            [
             1,
             "#276419"
            ]
           ],
           "sequential": [
            [
             0,
             "#0d0887"
            ],
            [
             0.1111111111111111,
             "#46039f"
            ],
            [
             0.2222222222222222,
             "#7201a8"
            ],
            [
             0.3333333333333333,
             "#9c179e"
            ],
            [
             0.4444444444444444,
             "#bd3786"
            ],
            [
             0.5555555555555556,
             "#d8576b"
            ],
            [
             0.6666666666666666,
             "#ed7953"
            ],
            [
             0.7777777777777778,
             "#fb9f3a"
            ],
            [
             0.8888888888888888,
             "#fdca26"
            ],
            [
             1,
             "#f0f921"
            ]
           ],
           "sequentialminus": [
            [
             0,
             "#0d0887"
            ],
            [
             0.1111111111111111,
             "#46039f"
            ],
            [
             0.2222222222222222,
             "#7201a8"
            ],
            [
             0.3333333333333333,
             "#9c179e"
            ],
            [
             0.4444444444444444,
             "#bd3786"
            ],
            [
             0.5555555555555556,
             "#d8576b"
            ],
            [
             0.6666666666666666,
             "#ed7953"
            ],
            [
             0.7777777777777778,
             "#fb9f3a"
            ],
            [
             0.8888888888888888,
             "#fdca26"
            ],
            [
             1,
             "#f0f921"
            ]
           ]
          },
          "colorway": [
           "#636efa",
           "#EF553B",
           "#00cc96",
           "#ab63fa",
           "#FFA15A",
           "#19d3f3",
           "#FF6692",
           "#B6E880",
           "#FF97FF",
           "#FECB52"
          ],
          "font": {
           "color": "#2a3f5f"
          },
          "geo": {
           "bgcolor": "white",
           "lakecolor": "white",
           "landcolor": "#E5ECF6",
           "showlakes": true,
           "showland": true,
           "subunitcolor": "white"
          },
          "hoverlabel": {
           "align": "left"
          },
          "hovermode": "closest",
          "mapbox": {
           "style": "light"
          },
          "paper_bgcolor": "white",
          "plot_bgcolor": "#E5ECF6",
          "polar": {
           "angularaxis": {
            "gridcolor": "white",
            "linecolor": "white",
            "ticks": ""
           },
           "bgcolor": "#E5ECF6",
           "radialaxis": {
            "gridcolor": "white",
            "linecolor": "white",
            "ticks": ""
           }
          },
          "scene": {
           "xaxis": {
            "backgroundcolor": "#E5ECF6",
            "gridcolor": "white",
            "gridwidth": 2,
            "linecolor": "white",
            "showbackground": true,
            "ticks": "",
            "zerolinecolor": "white"
           },
           "yaxis": {
            "backgroundcolor": "#E5ECF6",
            "gridcolor": "white",
            "gridwidth": 2,
            "linecolor": "white",
            "showbackground": true,
            "ticks": "",
            "zerolinecolor": "white"
           },
           "zaxis": {
            "backgroundcolor": "#E5ECF6",
            "gridcolor": "white",
            "gridwidth": 2,
            "linecolor": "white",
            "showbackground": true,
            "ticks": "",
            "zerolinecolor": "white"
           }
          },
          "shapedefaults": {
           "line": {
            "color": "#2a3f5f"
           }
          },
          "ternary": {
           "aaxis": {
            "gridcolor": "white",
            "linecolor": "white",
            "ticks": ""
           },
           "baxis": {
            "gridcolor": "white",
            "linecolor": "white",
            "ticks": ""
           },
           "bgcolor": "#E5ECF6",
           "caxis": {
            "gridcolor": "white",
            "linecolor": "white",
            "ticks": ""
           }
          },
          "title": {
           "x": 0.05
          },
          "xaxis": {
           "automargin": true,
           "gridcolor": "white",
           "linecolor": "white",
           "ticks": "",
           "title": {
            "standoff": 15
           },
           "zerolinecolor": "white",
           "zerolinewidth": 2
          },
          "yaxis": {
           "automargin": true,
           "gridcolor": "white",
           "linecolor": "white",
           "ticks": "",
           "title": {
            "standoff": 15
           },
           "zerolinecolor": "white",
           "zerolinewidth": 2
          }
         }
        },
        "xaxis": {
         "anchor": "y",
         "domain": [
          0,
          1
         ],
         "title": {
          "text": "x"
         }
        },
        "yaxis": {
         "anchor": "x",
         "domain": [
          0,
          1
         ],
         "title": {
          "text": "y"
         }
        }
       }
      }
     },
     "metadata": {},
     "output_type": "display_data"
    }
   ],
   "source": [
    "# Graficar los embedddings en 2D\n",
    "import plotly.graph_objects as go\n",
    "import plotly.express as px\n",
    "\n",
    "x_vals, y_vals, labels = reduce_dimensions(w2v_model)\n",
    "\n",
    "MAX_WORDS=200\n",
    "fig = px.scatter(x=x_vals[:MAX_WORDS], y=y_vals[:MAX_WORDS], text=labels[:MAX_WORDS])\n",
    "fig.show(renderer='vscode') # esto para plotly en colab"
   ]
  },
  {
   "cell_type": "markdown",
   "metadata": {
    "id": "yMM_SHSaZ9N-"
   },
   "source": [
    "### Alumno"
   ]
  },
  {
   "attachments": {},
   "cell_type": "markdown",
   "metadata": {
    "id": "WivQZ3ZCZ9N_"
   },
   "source": [
    "- Se observaron algunos resultados interesantes al buscar palabras relacionadas:\n",
    "* Watson -> doctor, certainly\n",
    "* Police -> facts, county, examine, murderer\n",
    "* Money -> service, comission, poison\n",
    "* Sherlock -> Lestrade, engineer, adventure\n",
    "- Por otro lado, analizando el gráfico de los embeddings en 2D no están claras las relaciones o similitudes entre palabras. Posiblemente con mayor analisis exploratorio del corpus y mejorando el preprocesamiento se puedan mejorar los resultados."
   ]
  }
 ],
 "metadata": {
  "colab": {
   "collapsed_sections": [],
   "provenance": []
  },
  "kernelspec": {
   "display_name": "Python 3 (ipykernel)",
   "language": "python",
   "name": "python3"
  },
  "language_info": {
   "codemirror_mode": {
    "name": "ipython",
    "version": 3
   },
   "file_extension": ".py",
   "mimetype": "text/x-python",
   "name": "python",
   "nbconvert_exporter": "python",
   "pygments_lexer": "ipython3",
   "version": "3.10.4"
  }
 },
 "nbformat": 4,
 "nbformat_minor": 4
}
