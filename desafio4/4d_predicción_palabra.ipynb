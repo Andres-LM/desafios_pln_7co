{
  "cells": [
    {
      "cell_type": "markdown",
      "metadata": {
        "id": "g3yeJGnCYxuF"
      },
      "source": [
        "<img src=\"https://github.com/hernancontigiani/ceia_memorias_especializacion/raw/master/Figures/logoFIUBA.jpg\" width=\"500\" align=\"center\">\n",
        "\n",
        "\n",
        "# Procesamiento de lenguaje natural\n",
        "## Predicción de próxima palabra"
      ]
    },
    {
      "cell_type": "markdown",
      "metadata": {
        "id": "Iv5PEwGzZA9-"
      },
      "source": [
        "### Objetivo\n",
        "El objetivo es utilizar documentos / corpus para crear embeddings de palabras basado en ese contexto utilizando la layer Embedding de Keras. Se utilizará esos embeddings junto con layers LSTM para predeccir la próxima posible palabra."
      ]
    },
    {
      "cell_type": "code",
      "execution_count": 1,
      "metadata": {
        "id": "Y-QdFbHZYj7C"
      },
      "outputs": [],
      "source": [
        "import random\n",
        "import io\n",
        "import pickle\n",
        "\n",
        "import numpy as np\n",
        "import pandas as pd\n",
        "\n",
        "from tensorflow import keras\n",
        "from tensorflow.keras import layers\n",
        "from keras.utils.np_utils import to_categorical\n",
        "from keras.models import Sequential\n",
        "from keras.layers import Dense, LSTM, Embedding, Dropout"
      ]
    },
    {
      "cell_type": "markdown",
      "metadata": {
        "id": "xTvXlEKQZdqx"
      },
      "source": [
        "### Datos\n",
        "Utilizaremos como dataset canciones de bandas de habla inglés."
      ]
    },
    {
      "cell_type": "code",
      "execution_count": 2,
      "metadata": {
        "id": "IkdPfrQJZdB5",
        "colab": {
          "base_uri": "https://localhost:8080/"
        },
        "outputId": "c9e41299-2380-419c-8a1c-b3e86f8c6b55"
      },
      "outputs": [
        {
          "output_type": "stream",
          "name": "stdout",
          "text": [
            "--2023-05-02 12:39:14--  http://songs_dataset.zip/\n",
            "Resolving songs_dataset.zip (songs_dataset.zip)... failed: Name or service not known.\n",
            "wget: unable to resolve host address ‘songs_dataset.zip’\n",
            "--2023-05-02 12:39:14--  https://github.com/FIUBA-Posgrado-Inteligencia-Artificial/procesamiento_lenguaje_natural/raw/main/datasets/songs_dataset.zip\n",
            "Resolving github.com (github.com)... 192.30.255.113\n",
            "Connecting to github.com (github.com)|192.30.255.113|:443... connected.\n",
            "HTTP request sent, awaiting response... 302 Found\n",
            "Location: https://raw.githubusercontent.com/FIUBA-Posgrado-Inteligencia-Artificial/procesamiento_lenguaje_natural/main/datasets/songs_dataset.zip [following]\n",
            "--2023-05-02 12:39:14--  https://raw.githubusercontent.com/FIUBA-Posgrado-Inteligencia-Artificial/procesamiento_lenguaje_natural/main/datasets/songs_dataset.zip\n",
            "Resolving raw.githubusercontent.com (raw.githubusercontent.com)... 185.199.108.133, 185.199.109.133, 185.199.110.133, ...\n",
            "Connecting to raw.githubusercontent.com (raw.githubusercontent.com)|185.199.108.133|:443... connected.\n",
            "HTTP request sent, awaiting response... 200 OK\n",
            "Length: 2075036 (2.0M) [application/zip]\n",
            "Saving to: ‘songs_dataset.zip’\n",
            "\n",
            "songs_dataset.zip   100%[===================>]   1.98M  --.-KB/s    in 0.04s   \n",
            "\n",
            "2023-05-02 12:39:15 (56.5 MB/s) - ‘songs_dataset.zip’ saved [2075036/2075036]\n",
            "\n",
            "FINISHED --2023-05-02 12:39:15--\n",
            "Total wall clock time: 1.0s\n",
            "Downloaded: 1 files, 2.0M in 0.04s (56.5 MB/s)\n"
          ]
        }
      ],
      "source": [
        "# Descargar la carpeta de dataset\n",
        "import os\n",
        "import platform\n",
        "if os.access('./songs_dataset', os.F_OK) is False:\n",
        "    if os.access('songs_dataset.zip', os.F_OK) is False:\n",
        "        if platform.system() == 'Windows':\n",
        "            !curl https://raw.githubusercontent.com/FIUBA-Posgrado-Inteligencia-Artificial/procesamiento_lenguaje_natural/main/datasets/songs_dataset.zip -o songs_dataset.zip\n",
        "        else:\n",
        "            !wget songs_dataset.zip https://github.com/FIUBA-Posgrado-Inteligencia-Artificial/procesamiento_lenguaje_natural/raw/main/datasets/songs_dataset.zip\n",
        "    !unzip -q songs_dataset.zip   \n",
        "else:\n",
        "    print(\"El dataset ya se encuentra descargado\")"
      ]
    },
    {
      "cell_type": "code",
      "execution_count": 3,
      "metadata": {
        "id": "6j-3nQ4lZjfb",
        "colab": {
          "base_uri": "https://localhost:8080/"
        },
        "outputId": "6876c1f0-4fc4-4765-eeb2-4b2902ad6cd0"
      },
      "outputs": [
        {
          "output_type": "execute_result",
          "data": {
            "text/plain": [
              "['patti-smith.txt',\n",
              " 'beatles.txt',\n",
              " 'nursery_rhymes.txt',\n",
              " 'ludacris.txt',\n",
              " 'radiohead.txt',\n",
              " 'al-green.txt',\n",
              " 'kanye-west.txt',\n",
              " 'johnny-cash.txt',\n",
              " 'nicki-minaj.txt',\n",
              " 'lady-gaga.txt',\n",
              " 'eminem.txt',\n",
              " 'jimi-hendrix.txt',\n",
              " 'britney-spears.txt',\n",
              " 'kanye.txt',\n",
              " 'janisjoplin.txt',\n",
              " 'drake.txt',\n",
              " 'dr-seuss.txt',\n",
              " 'nickelback.txt',\n",
              " 'blink-182.txt',\n",
              " 'r-kelly.txt',\n",
              " 'dolly-parton.txt',\n",
              " 'amy-winehouse.txt',\n",
              " 'lil-wayne.txt',\n",
              " 'bob-dylan.txt',\n",
              " 'cake.txt',\n",
              " 'leonard-cohen.txt',\n",
              " 'alicia-keys.txt',\n",
              " 'bruno-mars.txt',\n",
              " 'dj-khaled.txt',\n",
              " 'nirvana.txt',\n",
              " 'paul-simon.txt',\n",
              " 'bob-marley.txt',\n",
              " 'Lil_Wayne.txt',\n",
              " 'notorious_big.txt',\n",
              " 'dickinson.txt',\n",
              " 'adele.txt',\n",
              " 'Kanye_West.txt',\n",
              " 'notorious-big.txt',\n",
              " 'joni-mitchell.txt',\n",
              " 'lin-manuel-miranda.txt',\n",
              " 'michael-jackson.txt',\n",
              " 'lorde.txt',\n",
              " 'bruce-springsteen.txt',\n",
              " 'bjork.txt',\n",
              " 'disney.txt',\n",
              " 'prince.txt',\n",
              " 'bieber.txt',\n",
              " 'rihanna.txt',\n",
              " 'missy-elliott.txt']"
            ]
          },
          "metadata": {},
          "execution_count": 3
        }
      ],
      "source": [
        "# Posibles bandas\n",
        "os.listdir(\"./songs_dataset/\")"
      ]
    },
    {
      "cell_type": "code",
      "execution_count": 29,
      "metadata": {
        "id": "Gb39v3PaZmRH",
        "colab": {
          "base_uri": "https://localhost:8080/",
          "height": 262
        },
        "outputId": "08ceb950-f5a1-41b7-cd0b-50266115e42d"
      },
      "outputs": [
        {
          "output_type": "stream",
          "name": "stderr",
          "text": [
            "<ipython-input-29-7c781694902b>:3: ParserWarning: Falling back to the 'python' engine because the 'c' engine does not support regex separators (separators > 1 char and different from '\\s+' are interpreted as regex); you can avoid this warning by specifying engine='python'.\n",
            "  df = pd.read_csv('songs_dataset/kanye-west.txt', sep='/n', header=None)\n"
          ]
        },
        {
          "output_type": "execute_result",
          "data": {
            "text/plain": [
              "                                            0\n",
              "0                    Let the suicide doors up\n",
              "1            I threw suicides on the tour bus\n",
              "2         I threw suicides on the private jet\n",
              "3     You know what that mean Im fly to death\n",
              "4  I step in Def Jam buildin like Im the shit"
            ],
            "text/html": [
              "\n",
              "  <div id=\"df-35276e78-2285-447b-8fdb-c545304f6c92\">\n",
              "    <div class=\"colab-df-container\">\n",
              "      <div>\n",
              "<style scoped>\n",
              "    .dataframe tbody tr th:only-of-type {\n",
              "        vertical-align: middle;\n",
              "    }\n",
              "\n",
              "    .dataframe tbody tr th {\n",
              "        vertical-align: top;\n",
              "    }\n",
              "\n",
              "    .dataframe thead th {\n",
              "        text-align: right;\n",
              "    }\n",
              "</style>\n",
              "<table border=\"1\" class=\"dataframe\">\n",
              "  <thead>\n",
              "    <tr style=\"text-align: right;\">\n",
              "      <th></th>\n",
              "      <th>0</th>\n",
              "    </tr>\n",
              "  </thead>\n",
              "  <tbody>\n",
              "    <tr>\n",
              "      <th>0</th>\n",
              "      <td>Let the suicide doors up</td>\n",
              "    </tr>\n",
              "    <tr>\n",
              "      <th>1</th>\n",
              "      <td>I threw suicides on the tour bus</td>\n",
              "    </tr>\n",
              "    <tr>\n",
              "      <th>2</th>\n",
              "      <td>I threw suicides on the private jet</td>\n",
              "    </tr>\n",
              "    <tr>\n",
              "      <th>3</th>\n",
              "      <td>You know what that mean Im fly to death</td>\n",
              "    </tr>\n",
              "    <tr>\n",
              "      <th>4</th>\n",
              "      <td>I step in Def Jam buildin like Im the shit</td>\n",
              "    </tr>\n",
              "  </tbody>\n",
              "</table>\n",
              "</div>\n",
              "      <button class=\"colab-df-convert\" onclick=\"convertToInteractive('df-35276e78-2285-447b-8fdb-c545304f6c92')\"\n",
              "              title=\"Convert this dataframe to an interactive table.\"\n",
              "              style=\"display:none;\">\n",
              "        \n",
              "  <svg xmlns=\"http://www.w3.org/2000/svg\" height=\"24px\"viewBox=\"0 0 24 24\"\n",
              "       width=\"24px\">\n",
              "    <path d=\"M0 0h24v24H0V0z\" fill=\"none\"/>\n",
              "    <path d=\"M18.56 5.44l.94 2.06.94-2.06 2.06-.94-2.06-.94-.94-2.06-.94 2.06-2.06.94zm-11 1L8.5 8.5l.94-2.06 2.06-.94-2.06-.94L8.5 2.5l-.94 2.06-2.06.94zm10 10l.94 2.06.94-2.06 2.06-.94-2.06-.94-.94-2.06-.94 2.06-2.06.94z\"/><path d=\"M17.41 7.96l-1.37-1.37c-.4-.4-.92-.59-1.43-.59-.52 0-1.04.2-1.43.59L10.3 9.45l-7.72 7.72c-.78.78-.78 2.05 0 2.83L4 21.41c.39.39.9.59 1.41.59.51 0 1.02-.2 1.41-.59l7.78-7.78 2.81-2.81c.8-.78.8-2.07 0-2.86zM5.41 20L4 18.59l7.72-7.72 1.47 1.35L5.41 20z\"/>\n",
              "  </svg>\n",
              "      </button>\n",
              "      \n",
              "  <style>\n",
              "    .colab-df-container {\n",
              "      display:flex;\n",
              "      flex-wrap:wrap;\n",
              "      gap: 12px;\n",
              "    }\n",
              "\n",
              "    .colab-df-convert {\n",
              "      background-color: #E8F0FE;\n",
              "      border: none;\n",
              "      border-radius: 50%;\n",
              "      cursor: pointer;\n",
              "      display: none;\n",
              "      fill: #1967D2;\n",
              "      height: 32px;\n",
              "      padding: 0 0 0 0;\n",
              "      width: 32px;\n",
              "    }\n",
              "\n",
              "    .colab-df-convert:hover {\n",
              "      background-color: #E2EBFA;\n",
              "      box-shadow: 0px 1px 2px rgba(60, 64, 67, 0.3), 0px 1px 3px 1px rgba(60, 64, 67, 0.15);\n",
              "      fill: #174EA6;\n",
              "    }\n",
              "\n",
              "    [theme=dark] .colab-df-convert {\n",
              "      background-color: #3B4455;\n",
              "      fill: #D2E3FC;\n",
              "    }\n",
              "\n",
              "    [theme=dark] .colab-df-convert:hover {\n",
              "      background-color: #434B5C;\n",
              "      box-shadow: 0px 1px 3px 1px rgba(0, 0, 0, 0.15);\n",
              "      filter: drop-shadow(0px 1px 2px rgba(0, 0, 0, 0.3));\n",
              "      fill: #FFFFFF;\n",
              "    }\n",
              "  </style>\n",
              "\n",
              "      <script>\n",
              "        const buttonEl =\n",
              "          document.querySelector('#df-35276e78-2285-447b-8fdb-c545304f6c92 button.colab-df-convert');\n",
              "        buttonEl.style.display =\n",
              "          google.colab.kernel.accessAllowed ? 'block' : 'none';\n",
              "\n",
              "        async function convertToInteractive(key) {\n",
              "          const element = document.querySelector('#df-35276e78-2285-447b-8fdb-c545304f6c92');\n",
              "          const dataTable =\n",
              "            await google.colab.kernel.invokeFunction('convertToInteractive',\n",
              "                                                     [key], {});\n",
              "          if (!dataTable) return;\n",
              "\n",
              "          const docLinkHtml = 'Like what you see? Visit the ' +\n",
              "            '<a target=\"_blank\" href=https://colab.research.google.com/notebooks/data_table.ipynb>data table notebook</a>'\n",
              "            + ' to learn more about interactive tables.';\n",
              "          element.innerHTML = '';\n",
              "          dataTable['output_type'] = 'display_data';\n",
              "          await google.colab.output.renderOutput(dataTable, element);\n",
              "          const docLink = document.createElement('div');\n",
              "          docLink.innerHTML = docLinkHtml;\n",
              "          element.appendChild(docLink);\n",
              "        }\n",
              "      </script>\n",
              "    </div>\n",
              "  </div>\n",
              "  "
            ]
          },
          "metadata": {},
          "execution_count": 29
        }
      ],
      "source": [
        "# Armar el dataset utilizando salto de línea para separar las oraciones/docs\n",
        "# Utilizamos el dataset de canciones de Kayne West (tiene un corpus un poco mayor)\n",
        "df = pd.read_csv('songs_dataset/kanye-west.txt', sep='/n', header=None)\n",
        "df.head()"
      ]
    },
    {
      "cell_type": "code",
      "execution_count": 30,
      "metadata": {
        "id": "riT898QlZnmF",
        "colab": {
          "base_uri": "https://localhost:8080/"
        },
        "outputId": "cb8c6320-6d6a-4319-c6f3-75b1b3739166"
      },
      "outputs": [
        {
          "output_type": "stream",
          "name": "stdout",
          "text": [
            "Cantidad de documentos: 6191\n"
          ]
        }
      ],
      "source": [
        "print(\"Cantidad de documentos:\", df.shape[0])"
      ]
    },
    {
      "cell_type": "markdown",
      "metadata": {
        "id": "RDoouHp7Zp6D"
      },
      "source": [
        "### 1 - Ejemplo de Preprocesamiento\n",
        "- Hay que transformar las oraciones en tokens.\n",
        "- Dichas oraciones hay que ajustarlas al tamaño fijo de nuestra sentencia de entrada al modelo.\n",
        "- Hay que separar las palabras objetivos (target) que el modelo debe predecir en cada sentencia armada."
      ]
    },
    {
      "cell_type": "code",
      "execution_count": 31,
      "metadata": {
        "id": "m5FeTaGvbDbw"
      },
      "outputs": [],
      "source": [
        "from keras.preprocessing.text import Tokenizer # equivalente a ltokenizer de nltk\n",
        "from keras.preprocessing.text import text_to_word_sequence # equivalente a word_teokenize de nltk\n",
        "from keras.utils import pad_sequences # se utilizará para padding\n",
        "\n",
        "# largo de la secuencia, incluye seq input + word output\n",
        "train_len = 4"
      ]
    },
    {
      "cell_type": "code",
      "execution_count": 32,
      "metadata": {
        "id": "Zf3O7eK6ZpP8",
        "colab": {
          "base_uri": "https://localhost:8080/",
          "height": 35
        },
        "outputId": "e8eca40e-50c8-4d15-b595-cb16fe1d2c48"
      },
      "outputs": [
        {
          "output_type": "execute_result",
          "data": {
            "text/plain": [
              "'Let the suicide doors up'"
            ],
            "application/vnd.google.colaboratory.intrinsic+json": {
              "type": "string"
            }
          },
          "metadata": {},
          "execution_count": 32
        }
      ],
      "source": [
        "# Ejemplo de como transformar una oración a tokens usando keras\n",
        "text = df.loc[0,0]\n",
        "text"
      ]
    },
    {
      "cell_type": "code",
      "execution_count": 33,
      "metadata": {
        "id": "AOv67Sj7aeFH",
        "colab": {
          "base_uri": "https://localhost:8080/"
        },
        "outputId": "58339fd7-2a74-4ce3-ca1e-39c13cabee8f"
      },
      "outputs": [
        {
          "output_type": "execute_result",
          "data": {
            "text/plain": [
              "['let', 'the', 'suicide', 'doors', 'up']"
            ]
          },
          "metadata": {},
          "execution_count": 33
        }
      ],
      "source": [
        "tokens = text_to_word_sequence(text) # entran oraciones -> salen vectores de N posiciones (tokens)\n",
        "tokens"
      ]
    },
    {
      "cell_type": "markdown",
      "metadata": {
        "id": "ZrlyqkoiaymK"
      },
      "source": [
        "1.1 - Transformar las oraciones en secuencias (tokens) de palabras"
      ]
    },
    {
      "cell_type": "code",
      "execution_count": 34,
      "metadata": {
        "id": "XH_L14Wjaowe"
      },
      "outputs": [],
      "source": [
        "# Recorrer todas las filas y transformar las oraciones\n",
        "# en secuencias de palabras\n",
        "sentence_tokens = []\n",
        "for _, row in df[:None].iterrows():\n",
        "    sentence_tokens.append(text_to_word_sequence(row[0]))"
      ]
    },
    {
      "cell_type": "code",
      "execution_count": 35,
      "metadata": {
        "id": "KASzU4CdaxbZ",
        "colab": {
          "base_uri": "https://localhost:8080/"
        },
        "outputId": "3e272cc4-bba0-4d99-dbcd-0c7457dac170"
      },
      "outputs": [
        {
          "output_type": "execute_result",
          "data": {
            "text/plain": [
              "[['let', 'the', 'suicide', 'doors', 'up'],\n",
              " ['i', 'threw', 'suicides', 'on', 'the', 'tour', 'bus'],\n",
              " ['i', 'threw', 'suicides', 'on', 'the', 'private', 'jet'],\n",
              " ['you', 'know', 'what', 'that', 'mean', 'im', 'fly', 'to', 'death']]"
            ]
          },
          "metadata": {},
          "execution_count": 35
        }
      ],
      "source": [
        "# Demos un vistazo\n",
        "sentence_tokens[:4]"
      ]
    },
    {
      "cell_type": "code",
      "execution_count": 36,
      "metadata": {
        "id": "A659lswTbIIB"
      },
      "outputs": [],
      "source": [
        "# Código para hacer el desfazaje de las palabras\n",
        "# según el train_len\n",
        "text_sequences = []\n",
        "\n",
        "for i in range(train_len, len(tokens)):\n",
        "  seq = tokens[i-train_len:i]\n",
        "  text_sequences.append(seq)"
      ]
    },
    {
      "cell_type": "code",
      "execution_count": 37,
      "metadata": {
        "id": "01JEoPPnbgRF",
        "colab": {
          "base_uri": "https://localhost:8080/"
        },
        "outputId": "bc5e6971-80ea-4d55-907c-ab633b836f04"
      },
      "outputs": [
        {
          "output_type": "execute_result",
          "data": {
            "text/plain": [
              "[['let', 'the', 'suicide', 'doors']]"
            ]
          },
          "metadata": {},
          "execution_count": 37
        }
      ],
      "source": [
        "# Demos un vistazo a nuestros vectores para entrenar el modelo\n",
        "text_sequences "
      ]
    },
    {
      "cell_type": "markdown",
      "metadata": {
        "id": "4B0gHnKVa4W_"
      },
      "source": [
        "1.2 - Crear los vectores de palabras (word2vec)\n",
        "\n",
        "Ahora necesitamos pasarlos a números para que lo entienda la red y separar input de output.\n",
        "- El Input seran integers (word2vec)\n",
        "- Mientras que el output será one hot encodeado (labels) del tamaño del vocabulario"
      ]
    },
    {
      "cell_type": "code",
      "execution_count": 38,
      "metadata": {
        "id": "fkPNvXeQcS0U"
      },
      "outputs": [],
      "source": [
        "tok = Tokenizer() \n",
        "\n",
        "# El tokeinzer \"aprende\" las palabras que se usaran\n",
        "# Se construye (fit) una vez por proyecto, se aplica N veces (tal cual un encoder)\n",
        "# El token 0 es reservado y no es asignado, esta sutileza nos dará un pequeño\n",
        "# problema al momento de hacer la codificación OHE, pero es sencillo de resolver\n",
        "tok.fit_on_texts(text_sequences) \n",
        "\n",
        "# Convertimos las palabras a números\n",
        "# entran palabras -> salen números\n",
        "sequences = tok.texts_to_sequences(text_sequences)"
      ]
    },
    {
      "cell_type": "code",
      "execution_count": 39,
      "metadata": {
        "id": "4SIc44IocyQb",
        "colab": {
          "base_uri": "https://localhost:8080/"
        },
        "outputId": "edc43e71-88f2-4fd0-b44d-e7fcba9cd846"
      },
      "outputs": [
        {
          "output_type": "execute_result",
          "data": {
            "text/plain": [
              "[[1, 2, 3, 4]]"
            ]
          },
          "metadata": {},
          "execution_count": 39
        }
      ],
      "source": [
        "# Ahora sequences tiene los números \"ID\", largo 4\n",
        "sequences"
      ]
    },
    {
      "cell_type": "code",
      "execution_count": 42,
      "metadata": {
        "id": "3ro81yCQc1oX",
        "colab": {
          "base_uri": "https://localhost:8080/"
        },
        "outputId": "8844a882-408c-4ebc-8f0b-a86f634879c7"
      },
      "outputs": [
        {
          "output_type": "stream",
          "name": "stdout",
          "text": [
            "1\n"
          ]
        }
      ],
      "source": [
        "# Cantidad de casos (doc) de entrada\n",
        "print(tok.document_count)"
      ]
    },
    {
      "cell_type": "code",
      "execution_count": 43,
      "metadata": {
        "id": "nzAWNfroc4u1",
        "colab": {
          "base_uri": "https://localhost:8080/"
        },
        "outputId": "7e9e27fe-acc6-4c4f-92f2-5e3b3ce442a2"
      },
      "outputs": [
        {
          "output_type": "stream",
          "name": "stdout",
          "text": [
            "4\n"
          ]
        }
      ],
      "source": [
        "# Cantidad de veces que aparece cada palabra\n",
        "print(len(tok.word_counts))"
      ]
    },
    {
      "cell_type": "code",
      "execution_count": 44,
      "metadata": {
        "id": "spTBxmFQc6h8",
        "colab": {
          "base_uri": "https://localhost:8080/"
        },
        "outputId": "6ecf3997-e1a2-419b-c16f-fd334156053a"
      },
      "outputs": [
        {
          "output_type": "stream",
          "name": "stdout",
          "text": [
            "{'let': 1, 'the': 2, 'suicide': 3, 'doors': 4}\n"
          ]
        }
      ],
      "source": [
        "# El índice para cada palabra\n",
        "# El sistema las ordena de las más populares a las menos populares\n",
        "print(tok.word_index)"
      ]
    },
    {
      "cell_type": "code",
      "execution_count": 45,
      "metadata": {
        "id": "nUDkjy80c77h",
        "colab": {
          "base_uri": "https://localhost:8080/"
        },
        "outputId": "b89d08fc-1275-43e8-8021-d082c7a436d3"
      },
      "outputs": [
        {
          "output_type": "stream",
          "name": "stdout",
          "text": [
            "defaultdict(<class 'int'>, {'let': 1, 'doors': 1, 'suicide': 1, 'the': 1})\n"
          ]
        }
      ],
      "source": [
        "# Cantidad de veces quea aparece cada palabra en cada \"documento\"\n",
        "# (1 documento = 1 caso de entrada)\n",
        "print(tok.word_docs)"
      ]
    },
    {
      "cell_type": "markdown",
      "metadata": {
        "id": "ohS5Tao1d2KB"
      },
      "source": [
        "### 2 - Preprocesamiento completo\n",
        "Debemos realizar los mismos pasos que en el ejemplo anterior, pero antes de eso debemos transformar ese dataset de filas de oraciones en un texto completo continuo para poder extraer el vocabulario."
      ]
    },
    {
      "cell_type": "code",
      "execution_count": 46,
      "metadata": {
        "id": "63Z2-Se2t27r",
        "colab": {
          "base_uri": "https://localhost:8080/"
        },
        "outputId": "4cae1c9c-63cb-4cf3-f472-783b79eec5b5"
      },
      "outputs": [
        {
          "output_type": "execute_result",
          "data": {
            "text/plain": [
              "0                              Let the suicide doors up\n",
              "1                      I threw suicides on the tour bus\n",
              "2                   I threw suicides on the private jet\n",
              "3               You know what that mean Im fly to death\n",
              "4            I step in Def Jam buildin like Im the shit\n",
              "5             Tell em give me fifty million or Ima quit\n",
              "6       Most rappers taste level aint at my waist level\n",
              "7             Turn up the bass til its upinyoface level\n",
              "8         Dont do no press but I get the most press kit\n",
              "9     Plus yo my bitch make your bitch look like Pre...\n",
              "10           Somethin bout Mary she gone off that molly\n",
              "11             Now the whole party is melted like Dal√≠\n",
              "12                     Now everybody is movin they body\n",
              "13         Dont sell me apartment Ill move in the lobby\n",
              "14            Niggas is loiterin just to feel important\n",
              "15            You gon see lawyers and niggas in Jordans\n",
              "Name: 0, dtype: object"
            ]
          },
          "metadata": {},
          "execution_count": 46
        }
      ],
      "source": [
        "# Vistazo a las primeras filas\n",
        "df.loc[:15,0]"
      ]
    },
    {
      "cell_type": "code",
      "execution_count": 47,
      "metadata": {
        "id": "kILsSoxTuHEr",
        "colab": {
          "base_uri": "https://localhost:8080/",
          "height": 125
        },
        "outputId": "0ac6d547-0f47-4a08-ae7a-25355fa4ecf5"
      },
      "outputs": [
        {
          "output_type": "execute_result",
          "data": {
            "text/plain": [
              "'Let the suicide doors up I threw suicides on the tour bus I threw suicides on the private jet You know what that mean Im fly to death I step in Def Jam buildin like Im the shit Tell em give me fifty million or Ima quit Most rappers taste level aint at my waist level Turn up the bass til its upinyoface level Dont do no press but I get the most press kit Plus yo my bitch make your bitch look like Precious Somethin bout Mary she gone off that molly Now the whole party is melted like Dal√≠ Now everybody is movin they body Dont sell me apartment Ill move in the lobby Niggas is loiterin just to feel important You gon see lawyers and niggas in Jordans She said Ye can we get married at the mall I said Look you need to crawl fore you ball Come and meet me in the bathroom stall And show me why you deserve to have it all Ball so hard That shit cray aint it Jay What she order fish filet Your whip so cold ‚Äì this old thing Act like youll ever be around mothafuckas like this again Bougie girl grab my hand Fuck that bitch she dont wanna dance Excuse my French but Im in France Im just sayin Prince Williams aint do it right if you ask me Cause I was him I would have married Kate and Ashley Whats Gucci my nigga Whats Louis my killa Whats drugs my dealer Whats that jacket Margiela Doctors say Im the illest Cause Im suffering from realness Got my niggas in Paris and they going gorillas huh Break records at Louis ate breakfast at Gucci My girl a superstar all from a home movie Bow on our arrival the unAmerican idols What niggas did in Paris got em hanging off the Eiffel Yeah Im talking business we talking CIA Im talking George Tenet I seen him the other day He asked me about my Maybach think he had the same Except mine tinted and his might have been rented You know white people get money dont spend it Or maybe they get money buy a business I rather buy gold chains and go ignant I know Spike Lee gon kill me but let me finish Blame it on the pigment we living no limits Them gold Master P ceilings was just a figment Of our imagination MTV cribs Now Im looking at a crib right next to where TC lives Thats Tom Cruise whatever she accuse He wasnt really drunk he just had a frew brews Pass the refreshments a cool cool beverage Everything I do need a news crews presence Speedboat swerve homie watch out for the waves Im way too black to burn from sun rays So I just meditate at the home in Pompeii About how I could build a new Rome in one day Everytime Im in Vegas they screaming like hes Elvis But I just wanna design hotels and nail it Shit is real got me feeling Israelian Like Bar Refaeli or Gisele no thats Brazilian Went through deep depression when my momma passed Suicide what kinda talk is that But I been talking to God for so long That if you look at my life I guess hes talking back Fucking with my clique What you doin in the club on a Thursday She say she only here for her girl birthday They ordered champagne but still look thirsty Rock Forever but just turned thirty I know I got a bad reputation Walkingroundalwaysmad reputation Leaveaprettygirlsad reputation Start a Fight Club Brad reputation I turnt the nightclub out of the basement Ill turn the plane round your ass keep complainin How you gon be mad on vacation Dutty wining round all these Jamaicans Uh this that prom shit This that whatwedodonttellyourmom shit This that redcupallonthelawn shit Got a fresh cut straight out the salon bitch I wanna fuck you hard on the sink After that give you somethin to drink Step back cant get spunk on the mink I mean damn what would Jeromey Romey Romey Rome think Hey you remember where we first met Okay I dont remember where we first met But hey admittin is the first step And hey you know aint nobody perfect And I know with the hoes I got the worst rep But hey their backstroke Im tryna perfect And hey ayo we made it Thanksgivin So hey maybe we can make it to Christmas She asked me what I wished for on my wishlist Have you ever asked your bitch for other bitches Maybe we could still make it to the church steps But first you gon remember how to forget After all these longass verses Im tired you tired Jesus wept Coke on her black skin made it stripe like a zebra I call that jungle fever You will not control the threesome Just roll the weed up until I get me some We formed a new religion No sins as long as theres permission And deception is the only felony So never fuck nobody without telling me Sunglasses and Advil Last night was mad real Sun coming up am I wonder if they got cabs still Thinking bout the girl in all leopard Who was rubbing the wood like Kiki Shepard Two tattoos one read No Apologies The other said Love is Cursed by Monogamy Its something that the pastor dont preach Its something that a teacher cant teach When we die the money we cant keep But we probably spend it all cause the pain aint cheap Preach Now if I fuck this model And she just bleached her asshole And I get bleach on my Tshirt Imma feel like an asshole I was high when I met her We was down in Tribeca She get under your skin if you let her She get under your skin if youuh I dont even want to talk about it I dont even want to talk about it I dont even want to say nothing Everybody gon say something Id be worried if they said nothing Remind me where I know you from She looking like she owe you some You know just what we want I want to wake up with you in my beautiful morning My momma was raised in the era when Clean water was only served to the fairer skin Doin clothes you would have thought I had help But they wasnt satisfied unless I picked the cotton myself You see its broke nigga racism Thats that Dont touch anything in the store And its rich nigga racism Thats that Come in please buy more What you want a Bentley Fur coat A diamond chain All you blacks want all the same things Used to only be niggas now everybody playin Spendin everything on Alexander Wang New Slaves I throw these Maybach keys I wear my heart on the sleeve I know that we the new slaves I see the blood on the leaves I see the blood on the leaves I see the blood on the leaves I know that we the new slaves I see the blood on the leaves They throwin hate at me Want me to stay at ease Fuck you and your corporation Yall niggas cant control me I know that we the new slaves I know that we the new slaves Im bout to wild the fuck out Im goin Bobby Boucher I know that pussy aint free You niggas pussy aint me Yall throwin contracts at me You know that niggas cant read Throw em some Maybach keys Fuck it cest la vie I know that we the new slaves Yall niggas cant fuck with me Yall niggas cant fuck with Ye Yall niggas cant fuck with Ye Ill move my family out the country So you cant see where I stay So go and grab the reporters So I can smash their recorders See theyll confuse us with some bullshit Like the New World Order Meanwhile the DEA Teamed up with the CCA They tryna lock niggas up They tryna make new slaves See thats that privately owned prison Get your piece today They prolly all in the Hamptons Braggin bout what they made Fuck you and your Hampton house Ill fuck your Hampton spouse Came on her Hampton blouse And in her Hampton mouth Yall bout to turn shit up Im bout to tear shit down Im bout to air shit out Now what the fuck they gon say now I just need to clear my mind now Its been racin since the summertime Now Im holdin down the summer now And all I want is what I cant buy now Cause I aint got the money on me right now And I told you to wait Yeah I told you to wait So Imma need a little more time now Cause I aint got the money on me right now And I thought you could wait Yeah I thought you could wait These bitches surroundin me All want something out me Then they talk about me Would be lost without me We couldve been somebody Thought youd be different bout it Now I know you not it So lets get on with it We couldve been somebody stead you had to tell somebody Lets take it back to the first party When you tried your first molly And came out of your body And came out of your body Running naked down the lobby And you was screamin that you love me Before the limelight tore ya Before the limelight stole ya Remember we were so young When I would hold you Before the blood on the leaves I know there aint wrong with me Something strange is happenin You couldve been somebody We couldve ugh we couldve been somebody Or was it on the first party When we tried our first molly And came out of our body And came out of our body Before they call lawyers Before you tried to destroy us How you gon lie to the lawyer Its like I dont even know ya I gotta bring it back to the nolia To all my second string bitches try and get a baby Trying to get a baby now you talkin crazy I dont give a damn if you used to talk to Jay Z He aint with you he with Beyonc√© you need to stop actin lazy She Instagram herself like BadBitchAlert He Instagram his watch like MadRichAlert He only wanna see that ass in reverse Twothousanddollar bag with no cash in your purse Now you sittin courtside wifey on the other side Gotta keep em separated I call that apartheid Then she said she impregnated thats the night your heart died Then you gotta go and tell your girl and report that Main reason cause your pastor said you cant abort that Now your driver say that new Benz you cant afford that All that cocaine on the table you cant snort that That goin to that owin money that the court got All in on that alimony uh yeahyeah she got you homie yeah til death but do your part unholy matrimony For my theme song black My leather black jeans on black My byanymeans on Pardon Im getting my scream on Enter the kingdom black But watch who you bring home They see a black man with a white woman At the top floor they gone come to kill King Kong Middle America packed in black Came to see me in my black skin black Number one question theyre askin Fuck every question you askin black If I dont get ran out by Catholics black Here come some conservative Baptists Claiming Im overreactin Like them black kids in Chiraq bitch Stop all that coon shit black Early morning cartoon shit black This is that goon shit Fuck up your whole afternoon shit Im aware Im a wolf Soon as the moon hit Im aware Im a king Back out the tomb bitch black Black out the room bitch black Stop all that coon shit black These niggas aint doin shit black Them niggas aint doin shit Come on homie what happened You niggas aint breathin you gaspin These niggas aint ready for action Readyready for action They smile in my face is what I dont like They steal your whole sound thats a soundbite The media crucify me like they did Christ They want to find me not breathing like they found Mike A girlll run her mouth only out of spite But I never hit a woman never in my life I was in too deep like Mekhi Phife In that pussy so deep I could have drowned twice Rose gold Jesus piece with the brown ice Eating good vegetarian with the brown rice Girls kissing girls cause its hot right But unless they use a strapon then they not dykes They aint about that life they aint about that life We hanging out that window its about to be a Suge night Free Bump J real nigga for life Shoutout to Derrick Rose man that nigga nice Shout out to LEP Jay Boogie right Chief Keef King Louie this is Chi right Right The best living or dead hands down huh Less talk more head right now huh And my eyes more red than the devil is And Im about to take it to another level bitch No matter who you go and get Aint nobody cold as this Do the rap and the track triple double no assists And my only focus is staying on some bogus shit Arguing with my older bitch acting like I owe her shit I heard that people sing raps to give the track pain Bought the chain that always give me back pain Fucking up my money so yeah I had to act sane Chi nigga but these hoes love my accent Chick came up to me and said This the number to dial If you wanna make your your now Mix that Goose and Malibu I call it Malibooyah Goddamn Yeezy how he hit them with a new style Know that motherfucker well What you gonna do now Whatever I want to do Gosh Its cool now Know Im gonna do ah its the new now Think you motherfuckers really really need to cool out Cause youll never get on top of this So mommy best advice is just to get on top of this Have you ever had sex with a pharaoh Put the pussy in a sarcophagus Now she claiming that I bruised her esophagus Head of the class and she just won a swallowship Im living in the future so the present is my past My presence is a present kiss my ass This Ye nigga Shoppin for the winter and its just May nigga Ball so hard man this shit cray nigga And you aint gettin money less you got eight figures For that Jesus piece man Ive been saved nigga Just talked to Farrakhan thats sensei nigga Told him Ive been on ten since the th grade nigga Got a middle finger longer than Dikembe my nigga uh I dont let em play with me I dont let em talk to me no kind of way Uh they better watch what they say to me Niggas still gettin popped on the day to day Yeah I still got the hundred with the small face nigga Might spend racks on my off day nigga You a fake Denzel like the Allstate nigga If you run into me better have Allstate with yah You a Rico Suave nigga Ride round listen to Sade nigga If you aint with us you in our way nigga You an actor you should be on Broadway nigga Cause you do shit the broad way nigga Your bitch got a ass but my broad way thicker Late for the class in the hallway nigga Yeah the dropout at it as always nigga as always All day nigga I could do this all day boy Im finna turn this bitch out They need that Ye in the streets boy theres been a mothafuckin drought Dont really matter what I make boy you know I still go wild Like a light skinned slave boy we in the mothafuckin house Right now you lookin real sus right now I swear Ive been on this flight like a month right now Stupid niggas gettin money Forrest Gump right now Shoutout to Jackie Chan I need to stunt right now Theyve been lookin at the Gram Ive been lookin at the Grammys Like huh thats us right now days everybody gettin paid Niggas lookin at me like Im worth both MJs People saying Ye Ye take it easy Gs for the Yeezys off of eBay Niggas do the most and they aint done shit Only way I can sum it up sumbitch I told I told ay ay I told you Up in the morning miss you bad Sorry I aint called you back Same problem my father had All his time all he had all he had In what he dreamed All his cash market crashed Hurt him bad people get divorced for that Drops some stacks pops is good Momma pass in Hollywood If you ask lost my soul Driving fast lost control Off the road jaw was broke Member we all was broke Member Im coming back Ill be taking all the stacks Soon as they like you make em unlike you Cause kissin people ass is so unlike you The only rapper compared to Michael So heres a few hatinass niggas to fight you And heres a few snakeass niggas to bite you And I dont even wanna hear bout what niggas might do Old niggas mentally still in high school Since the tight jeans they aint never liked you Pinkass polos with a fuckin backpack But everybody know you brought real rap back Nobody had swag man we the Rat Pack Virgil Pyrex Don C snapback Ibn diamond Chitown shinin Monop in this bitch again changed the climate Hop in this bitch again same thing Im in Until the day I get struck by lightning I just talked to Jesus He said What up Yeezus I said Shit Im chillin Tryna stack these millions I know he the most high But I am a close high Mi casa su casa Thats our cosa nostra I am a god I am a god I am a god For all my Southside niggas that know me best I feel like me and Taylor might still have sex Why I made that bitch famous God damn I made that bitch famous For all the girls that got dick from Kanye West If you see em in the streets give em Kanyes best Why They mad they aint famous God damn They mad theyre still nameless Talk that talk man Her man in the store tryna try his best But he just cant seem to get Kanye fresh But we still hood famous God damn Yeah we still hood famous I be Puerto Rican day parade floatin That Benz Marina Del Rey coastin She in school to be a real estate agent Last month I helped her with the car payment Young and we alive whoo We never gonna die whoo I just copped a jet to fly over personal debt Put one up in the sky The sun is in my eyes whoo Woke up and felt the vibe whoo No matter how hard they try whoo We never gonna die Hey baby you forgot your Ray Bans And my sheets still orange from your spray tan It was more than soft porn for the Kman She remember my Sprinter said I was in the grape van Uhm well cutie I like your bougie booty Come Erykah Badu me well lets make a movie Hell you know my repertoire is like a wrestler I show you the ropes connect the dots A country girl that love Hollywood Mama used to cook red beans and rice Now its Dennys in the morning spoil your appetite Liquor pouring and niggas swarming your section with erection Smoke in every direction middle finger pedestrians RB singers and lesbians rappers and managers Music and iPhone cameras This shit unanimous for you its damaging for you I think That pussy should only be holding exclusive rights to me I mean He flew you in this motherfucker on first class Even went out his way so you could check in an extra bag Now you wanna divide the yam like it equate the math That shit dont add up youre making him mad as fuck She said she came out here to find an Alist rapper I said baby spin that round and say the alphabet backwards Youre dealing with malpractice dont kill a good niggas confidence Just cause he a nerd and you dont know what a condom is The head still good though the head still good though Make me say Nam Myoho Renge Kyo Make a nigga say big words and act lyrical Make me get spiritual Make me believe in miracles Buddhist monks and Capn Crunch cereal Lord have mercy thou will not hurt me Five buddies all herded up on a Thursday Bottle service head service I came in first place The opportunity the proper top of breast and booty cheek The pop community I mean these bitches come with union fee And I want two of these moving units through consumer streets Then my shoe released she was kicking in gratuity And yeah G I was all for it She said K Lamar you kind of dumb to be a poet Imma put you on game for the lames that dont know theyre a rookie Instagram is the best way to promote some pussy Friday night tryna make it into the city Breakneck speeds passenger seat something pretty Thinking back to how I got here in the first place Second class bitches wouldnt let me on first base A backpack nigga with luxury taste buds And the Louis Vuitton store got all of my pay stubs Got pussy from beats I did for niggas more famous When did I become A list I wasnt even on a list Strippers get invited to where they only get hired When I get on my Steve Jobs somebody gon get fired I was uninspired since Lauryn Hill retired And Stacks man you preach it to the choir Any rumor you ever heard about me was true and legendary I done got Lewinsky and paid secretaries For all my niggas with babies by bitches That use they kids as meal tickets Not knowing the disconnect from the father The next generation will be the real victims I cant fault em really I remember Amber told my boy no matter what happens she aint going back to Philly Back to our regularly scheduled programmin Of weak content and slow jammin But dont worry this ones so jammin You know it LA its so jammin I be thinkin every day Mulholland Drive need to put up some god damn barricades I be paranoid every time The pressure the problem aint I be drivin The problem is I be textin My psychiatrist got kids that I inspired First song they played for me was bout their friend that just died Textin and drivin down Mulholland Drive Thats why Id rather take the I be worried bout my daughter I be worried bout Kim But Saint is baby Ye I aint worried bout him I had my life threatened by best friends who had selfish intents What Im supposed to do Ride around with a bulletproof car and some tints Every agent I know know I hate agents Im too black Im too vocal Im too flagrant Something smellin like shit thats the new fragrance Its just me I do it my way bitch Some days Im in my Yeezys some days Im in my Vans If I knew yall made plans I wouldnt have popped the Xans I know some fans who thought I wouldnt rap like this again But the writers block is over emcees cancel your plans A yearold yearold with rich nigga problems Tell my wife that I hate the Rolls so I dont never drive it It took months to get the Maybach all matted out And my assistant crashed it soon as they backed it out God damn got a bald fade I might slam Pink fur got Nori dressing like Cam Thank God for me Whole family gettin money thank God for E I love rockin jewelry a whole neck full Bitches say he funny and disrespectful I feel like Pablo when Im workin on my shoes I feel like Pablo when I see me on the news I feel like Pablo when Im workin on my house Tell em partys in here we dont need to go out We need the turbo thots high speed turbo thots Dropdrodrodrodrop it like Robocop She brace herself and hold my stomach good dickll do that She keep pushin me back good dickll do that She push me back when the dick go too deep This good dickll put your ass to sleep Get money money money money Big big money money money money And as far as real friends tell all my cousins I love em Even the one that stole the laptop you dirty motherfucker Damn your lips very soft As I turn my Blackberry off And I turn your bathwater on And you turn off your iPhone Careless whispers eye fuckin bitin ass Neck ears hair legs eating ass Your pussys too good I need to crash Your titties let em out free at last Thank God almighty they free at last We was up at the party but we was leavin fast Had to stop at Eleven like I needed gas Ouh Im lyin I needed condoms dont look through the glass Chasin love all the bittersweet hours lost Eatin Asian pussy all I need was sweet and sour sauce Tell your boss you need an extra hour off Get you super wet after we turn the shower off Uh picked up where we left off Uh I need you home when I get off Uh you know I need that wet mouth Uh I know you need that reptile Uh she cut from a different textile Uh she love different kinds of sex now Uh black girl sippin white wine Put my fist in her like a civil rights sign And grabbed it with a slight grind And held it til the right time Then she came like AAAAAHHH Bitch Im back out my coma Wakin up on your sofa When I park my Range Rover Slightly scratch your Corolla Okay I smashed your Corolla Im hangin on a hangover Five years we been over Ask me why I came over One more hit and I can own ya One more fuck and I can own ya One cold night in October Pussy had me floatin Feel like Deepak Chopra Pussy had me dead Might call Pac over Yeezys all on your sofa These the Red Octobers Still aint learn me no manners You love me when I aint sober You love me when Im hungover Even when I blow doja Then her auntie came over Skinny bitch with no shoulders Tellin you that Im bogus Bitch you dont even know us Baby girl hes a loner Baby girl hes a loner Latenight organ donor After that he disown ya After that hes just hopeless Soul mates become soulless When its over its over And bitch Im back out my coma Yeezy Yeezy Yeezy I feel so accomplished I done talked a lot of shit but I just did the numbers Herzog and Adidas man you know they love it If Nike aint have Drizzy man they wouldnt have nothin woo If Nike aint have Don C man they wouldnt have nothin ooh But Im all for the family tell em Get your money Yeezy Yeezy Yeezy they line up for days Nike out here bad they cant give shit away I stuck to my roots Im like Jimmy Fallon I aint dropped the album but the shoes went platinum Woo Every time I talk they say Im too aggressive I was out here spazzin all yall get the message On the field Im overreckless on my Odell Beckham Ima run the whole election yah Ive been trending years yall a couple days Yeezy in the house and we just got appraised Nike Nike treat employees just like slaves Gave LeBron a billi not to run away Yo thousand dollar fur for Nori I just copped it Yo Your baby daddy wont even take your daughter shoppin Yo I done wore designers I wont wear again Make em niggas famous they get arrogant Yeezy Yeezy Yeezy this is pure luxury I give em Grey Poupon on a DJ Mustard ah If you aint poppin shit then why you rap for Haaan Plus Kimoji just shut down the app store ah And we made a million a minute we made a million a minute Yeah we made a million a minute we made a million a minute ah Do anybody feel bad for Bill Cosby Did he forget the names just like Steve Harvey Yo Tell Adidas that we need a million in production Yo I done told yall all I needed was the infrastructure Boom Now we hottest in the streets it aint no discussion James Harden Swaggy P runnin up the budget Yoga flame Keep the work at my baby mamas mamas house Im a jerk you need to work you need to call my spouse Yeezy Yeezy take a picture with me on Rodeo Yeezy Yeezy Yeezy I might do my own hotel Couches couches couches couches which one should I pick I need extra deep I like my bitches extra thick sonic boom Every time I see the news man it bring me home Call up DJ Mano shout out Twilite Tone We just blessed to be alive yeah aint that the truth So lets celebrate the life of Timbuck Timbuck Timbuck Im living in that st Century doing something mean to it Do it better than anybody you ever seen do it Screams from the haters got a nice ring to it I guess every superhero need his theme music No one man should have all that power The clocks ticking I just count the hours Stop tripping Im tripping off the power stCentury schizoid man The system broken the school is closed the prisons open We aint got nothing to lose motherfucker we rolling Huh Motherfucker we rolling With some lightskinned girls and some Kelly Rowlands In this white man world we the ones chosen So goodnight cruel world Ill see you in the morning Huh Ill see you in the morning This is way too much I need a moment Fuck SNL and the whole cast Tell them Yeezy said they can kiss my whole ass More specifically they can kiss my asshole Im an asshole You niggas got jokes You shortminded niggas thoughts is Napoleon My furs is Mongolian my ice brought the goalies in And I embody every characteristic of the egotistic He knows hes so fucking gifted I just needed time alone with my own thoughts Got treasures in my mind but couldnt open up my own vault My childlike creativity purity and honesty Is honestly being crowded by these grown thoughts Reality is catching up with me Taking my inner child Im fighting for custody With these responsibilities that they entrusted me As I look down at my diamond encrusted piece Thinking Colin Powells Austin Powers Lost in translation with a whole fucking nation They say I was the abomination of Obamas nation Well thats a pretty bad way to start the conversation At the end of the day god damn it Im killing this shit I know damn well yall feeling this shit I dont need your pussy bitch Im on my own dick I aint gotta power trip who you going home with How Ye doing Im surviving I was drinking earlier now Im driving Where the bad bitches huh Where you hiding I got the power to make your life so exciting Dinner with Anna Wintour racing with Anja Rubik I told you motherfuckers it was more than the music In the projects one day to Project Runway We done heard all that loudass talking were used to it Im from where shorties fucked up doublecupped up Might even kill somebody and YouTube it To whoever think their words affect me is too stupid And if you can do it better than me then you do it We flyer than a parakeet floatin with no parachute Six thousand dollar pair of shoes we made it to the Paris news Dont talk about style cause I embarrass you Shut the fuck up when you talk to me fore I embarrass you And the whole industry want to fuck your old chick Only nigga I got respect for is Wiz And Ill admit I had fell in love with Kim Around the same time she had fell in love with him Well thats cool baby girl do ya thang Lucky I aint had Jay drop him from the team La Familia Roc Nation We in the building we still keep it basement Flyer than a parakeet floatin with no parachute Six thousand dollar pair of shoes I made it to the Paris news Dont talk about style cause Ill embarrass you Shut the fuck up when you talk to me fore I embarrass you GOOD Music we fresh we fresh Anything else we detest detest Bitchass niggas got ass and breasts All that said let me ask this question I believe theres a God above me Im just the God of everything else I put holes in everything else New God Flow fuck everything else Supreme dope dealer write it in bold letters They love a niggas spirit like Pac at the Coachella They said Pusha aint fit with the umbrella But I was good with the yay as a wholesaler I think its good that Ye got a blow dealer A hot temper matched with a cold killer I came aboard for more than just to rhyme with him Think when Puff woulda had Shyne with him yuugh Matchin Daytonas rose gold on us Goin H¬∑A¬∑M in Ibiza done took a toll on us But since you overdo it Ima pour more Well if you goin coupe Im goin four door Hold up I aint trying to stunt man But the Yeezys jumped over the Jumpman Went from most hated to the champion god flow I guess thats a feeling only me and Lebron know Im living three dreams Biggie Smalls Dr King Rodney Kings uhh cause Cause we cant get along no resolution Til we drown all these haters rest in peace to Whitney Houston Cars money girls and the clothes Aww man you sold your soul Naww man mad people was frontin Aww man made somethin from nothin Picture workin so hard and you cant cut through That can mess up your whole life like an uncle that touched you What has the world come to Im from the Where cops dont come through and dreams dont come true Like there the god go in his Murcielago From workin McDonalds barely payin the car note He even got enough to get his mama a condo Then they ran up and shot him right in front of his mom killings in a weekend killings in a week Man the summer too hot you can feel it in the street Welcome to Sunday service if you hope to someday serve us We got green in our eyes just follow my Erick Sermon Did Moses not part the water with the cane Did strippers not make an ark when I made it rain Did Yeezy not get signed by Hov and Dame And ran to Jacob and made the new Jesus chains In Jesus name let the choir say Im on fire ay thats what Richard Pryor say And well annihilate anybody that violate Ask any dope boy you know they admire Ye Ello ello ello hello white America assassinate my character Money matrimony yeah they tryna break the marriage up Who gon act phony or who gone try to embarrass ya Imma need a day off I think Ill call Ferris up Bueller had a Muller but I switched it for a Mille Cause Im richer and prior to this shit was moving free base Had a conference with the DJs Puerto Rico three days Poli with the PDs now they got our shit on replay Sorry Im in pajamas but I just got off the PJ And last party we had they shut down Prive Aint that where the Heat play Niggas hate ballas these days Yep Aint that like Lebron James Aint that just like D Wade Wait On a bathroom wall I wrote Id rather argue with you than be with someone else I took a piss and dismiss it like fuck it And I went and found somebody else Fuck arguing and harvesting the feelings Yo Id rather be by my fucking self Till about two am and I call back And I hang up and I start to blame myself Somebody help You werent perfect but you made life worth it Stick around some real feelings might surface Been a long time since I spoke to you in a bathroom Gripping you up fucking and choking you What the hell was I supposed to do I know you aint getting this type of dick from that local dude And if you are I hope you have a good time Cause I definitely be having mine And you aint finna see a mogul get emotional Every time I hear bout other niggas is strokin you Lying say I hit you he sitting there consoling you Running my name through the mud whos provoking you You should be grateful a nigga like me ever noticed you Now you noticeable and cant nobody get control of you AM and cant nobody get a hold of you Im calling your brothers phone like what was I supposed to do Even though I knew he never told the truth He was just gon say whatever that you told him to At a certain point I had to stop asking questions Yall got dirt on each other like mud wrestlers I heard he bought some coke with my money That aint right girl You getting blackmailed for that white girl You always said Yeezy I aint your right girl Youll probably find one of them I like arttype girls All of the lights shewascaughtinthehype girl And I was satisfied being in love with the lie Now who to blame you to blame me to blame For the pain and it poured every time when it rained Lets play the blame game Things used to be now they not Anything but us is who we are Disguising ourselves as secret lovers Weve become public enemies We walk away like strangers in the street Gone for eternity We erased one another So far from where we came With so much of everything how do we leave with nothing Lack of visual empathy equates the meaning of LOVE Hatred and attitude tear us entirely Chloe Mitchell And I know that you are somewhere doing your thing And when the phone called it just ring and ring You aint pick up but your phone accidentally called me back And I heard the whole thing I heard the whole thing the whole thing the whole thing You gotta let me know if I could be your Joseph Only tell you real shit thats the tea no sip Dont trip dont trip that pussy slippery no whip We aint trippin on shit we just sippin on this Just forget the whole shit we could laugh about nothin I impregnate your mind lets have a baby without fuckin yo I know its corny bitches you wish you could unfollow I know its corny niggas you wish you could unswallow I know its corny bitches you wish you could unfollow I know its corny niggas you wish you could unswallow I know its corny bitches you wish you could unfollow I know its corny niggas you wish you could unswallow You tried to play nice everybody just took advantage You left your fridge open somebody just took a sandwich I said baby what if you was clubbin Thuggin hustlin before you met your husband Then I said What if Mary was in the club Fore she met Joseph around hella thugs Cover Nori in lambs wool We surrounded by the fuckin wolves What if Mary What if Mary Was in the club was in the club Fore she met Joseph with no love Cover Saint in lambs wool And she was We surrounded by Surrounded by the fuckin wolves‚Äã‚Äã‚Äã I been waiting for a minute For my lady So I cant jeopardize that for one of these hoes I been living without limits As far as my business Im the only one thats in control I been feeling all Ive given For my children I will die for those I love God Im willing To make this my mission Give up the women Before I lose half of what I own I been thinking About my vision Pour out my feelings Revealing the layers to my soul My soul The layers to my soul Revealing the layers to my soul See before I let you go One last thing I need to let you know You aint never seen nothing crazier than This nigga when he off his Lexapro Remember that last time in Mexico Remember that last time the episode Asking me why the hell I text in code Four times just to say dont text me hoe Told you four times dont test me hoe Now we finna lose all selfcontrol But you aint finna be raising your voice at me Especially when we in the Giuseppe store But Imma have the last laugh in the end Cause Im from a tribe called check a hoe Yeah Imma have to laugh Indian Cause Im from a tribe called check a hoe And I She find pictures in my email I sent this bitch a picture of my dick I dont know what it is with females But Im not too good with that shit See I could have me a good girl And still be addicted to them hoodrats And I just blame everything on you At least you know thats what Im good at Never was much of a romantic I could never take the intimacy And I know I did damage Cause the look in your eyes is killing me I guess you are at an advantage Cause you can blame me for everything And I dont know how Imma manage If one day you just up and leave I had a dream I could buy my way to heaven When I awoke I spent that on a necklace I told God Id be back in a second Man its so hard not to act reckless To whom much is given much is tested Get arrested guess until he get the message I feel the pressure under more scrutiny And what I do act more stupidly Bought more jewelry more Louis V My Momma couldnt get through to me The drama people suing me Im on TV talking like its just you and me Im just saying how I feel man I aint one of the Cosbys I aint go to Hillman I guess the money shouldve changed him I guess I shouldve forgot where I came from Let up the suicide doors This is my life homie you decide yours I know that Jesus died for us But I couldnt tell ya who decide wars So I parallel double parked that motherfucker sideways Old folks talking bout back in my day But homie this is my day Class started hours ago oh am I late No I already graduated And you can live through anything if Magic made it They say I talk with so much emphasis Ooh they so sensitive Dont ever fix your lips like collagen And say something when you gon end up apologing Let me know if its a problem then aight man holla then Let the champagne splash Let that man get cash Let that man get past He dont even stop to get gas If he can move through the rumors He can drive off of fumes cause How he move in a room full of nos How he stay faithful in a room full of hoes Must be the pharaohs he in tune with his soul So when he buried in a tomb full of gold Treasure whats your pleasure Life is a UH depending how you dress her So if the devil wear Prada Adam Eve wear nada Im in between but way more fresher With way less effort cause when you try hard Thats when you die hard Your homies looking like why God When they reminisce over you my God Step up in this bitch like turn me up Im the one your bitch like Yeah Im the one your bitch like And I be talkin shit like I aint scared to lose a fistfight And she grabbin on my dick like She wanna see if itll fit right Thats just the wave Sun dont shine in the shade turn me up Bird cant fly in a cage turn me up Even when somebody go away turn me up The feelings dont really go away Thats just the wave yeah I fantasized bout this back in Chicago Mercy mercy me that Murcielago Thats me the first year that I blow How you say broke in Spanish Me no hablo Me drown sorrow in that Diablo Me found bravery in my bravado DJs need to listen to the models You aint got no fuckin Yeezy in your Serato You aint got no Yeezy nigga Stupid but what the hell do I know Im just a Chitown nigga with a Nas flow And my chick in that new Phoebe Philo So much head I woke up to Sleepy Hollow Look like a fat booty Celine Dion Sex is on fire Im the King of Leona Lewis Beyond the truest hey teacher teacher Tell me how do you respond to students And refresh the page and restart the memory Respark the soul and rebuild the energy We stopped the ignorance we killed the enemies Sorry for the night demons still visit me The plan was to drink until the pain over But whats worse the pain or the hangover Fresh air rollin down the window Too many Urkels on your team thats why your wins low Dont make me pull the toys out huh Dont make me pull the toys And fire up the engines huh And then they make noise Penitentiary chances the devil dances And eventually answers to the call of Autumn All of them fallin for the love of ballin Got caught with rocks the cop look like Alec Baldwin Inter century anthems based off inner city tantrums Based off the way we was branded Face it Jerome get more time than Brandon And at the airport they check all through my bag And tell me that its random But we stay winning this week has been a bad massage I need a happy ending and a new beginning And a new fitted and some job opportunities thats lucrative This the real world homie school finished They done stole your dreams you dunno who did it I treat the cash the way the government treats AIDS I wont be satisfied til all my niggas get it get it Is hip hop just a euphemism for a new religion The soul music of the slaves that the youth is missing This is more than just my road to redemption Malcolm West had the whole nation standing at attention As long as Im in Polo smiling they think they got me But they would try to crack me if they ever see a black me I thought I chose a field where they couldnt sack me If a nigga aint shootin a jump shot running a track meet But this pimp is at the top of Mount Olympus Ready for the Worlds game this is my Olympics We make em say ho cause the game is so pimpish Choke a South Park writer with a fishstick I insisted to get up offa this dick And these drugs niggas cant resist it Remind me of when they tried to have Ali enlisted If I ever wasnt the greatest nigga I must have missed it I need more drinks and less lights And that American Apparel girl in just tights She told the director she tryna get in a school He said ‚Äútake them glasses off and get in the pool‚Äù Its been a while since I watched the tube Cause like a Crip said I got way too many blues for any more bad news I was looking at my resume feeling real fresh today They rewrite history I dont believe in yesterday And whats a black Beatle anyway a fucking roach I guess thats why they got me sitting in fucking coach My guy said I need a different approach Cause people is looking at me like Im sniffing coke Its not funny anymore try different jokes Tell em hug and kiss my ass x and o And kiss the ring while they at it do my thing while I got it Play strings for the dramatic ending of that wack shit Act like I aint had a belt in two classes I aint got it Im coming after whoever who has it Im coming after whoever Who has it You blowin up thats good fantastic That yall its like that yall I dont really give a fuck about it at all Cause the same people that tried to black ball me Forgot about two things my black balls Cutie the bomb met her at a beauty salon With a baby Louis Vuitton under her underarm She said I can tell you rock I can tell by your charm Far as girls you got a flock I can tell by your charm and your arm But Im looking for the one have you seen her My psychic told me shell have a ass like Serena Trina Jennifer Lopez four kids And I gotta take all they bad asses to showbiz Okay get your kids but then they got their friends I pulled up in the Benz they all got up in We all went to din and then I had to pay If you fucking with this girl then you better be paid You know why It take too much to touch her From what I heard she got a baby by Busta My best friend say she used to fuck with Usher I dont care what none of yall say I still love her Eighteen years eighteen years She got one of your kids got you for eighteen years I know somebody paying child support for one of his kids His baby mama car and crib is bigger than his You will see him on TV any given Sunday Win the Super Bowl and drive off in a Hyundai She was supposed to buy your shorty Tyco with your money She went to the doctor got lipo with your money She walking around looking like Michael with your money Shouldve got that insured Geico for your money If you aint no punk Holla We want prenup We want prenup Yeah Its something that you need to have Cause when she leave your ass she gon leave with half Eighteen years eighteen years And on the th birthday he found out it wasnt his Now I aint saying you a gold digger you got needs You dont want a dude to smoke but he cant buy weed You go out to eat and he cant pay yall cant leave Theres dishes in the back he gotta roll up your sleeves But while yall washin watch him He gone make it into a Benz out of that Datsun He got that ambition baby look in his eyes This week he mopping floors next week its the fries So stick by his side I know theres dudes ballin and yeah thats nice And they gonna keep calling and trying but you stay right girl And when you get on hell leave your ass for a white girl May the Lord forgive us may the gods be with us In that magic hour I seen good Christians Make rash decisions oh she do it What happened to religion Oh she lose it She putting on her make up she casually allure Text message break ups the casualty of tour How she gon wake up and not love me no more I thought I was the asshole I guess its rubbing off Hood phenomenon the LeBron of rhyme Hard to be humble when you stunting on a jumbotron Im looking at her like this what you really wanted huh Why we argue anyway Oh I forgot its summertime When the sun go down its the magic hour And outta all the colors thatll fill up the skies You got green on your mind I can see it in your eyes Why you standing there with your face screwed up Dont leave while youre hot thats how Mase screwed up Throwing shit around the whole place screwed up Maybe I should call Mase so he could pray for us I hit the Jamaican spot at the bar take a seat I ordered the jerk she said you are what you eat You see I always loved that sense of humor But tonight you should have seen how quiet the room was The Lyor Cohen of Dior Homme Thats Dior Homme not Dior homie The crib Scarface could it be more Tony You love me for me Could you be more phony Damn Yeezy and Hov where the hell ya been Niggas talking real reckless stuntmen I adopted these niggas Phillip Drummond them Now Im about to make them tuck their whole summer in They say Im crazy but Im about to go dumb again They aint seen me cause I pulled up in my other Benz Last week I was in my other other Benz Throw your diamonds up cause we in this bitch another gain I made Jesus Walks Im never going to hell Couture level flow is never going on sale Luxury rap the Hermes of verses Sophisticated ignorance write my curses in cursive I get it custom you a customer You aint accustomed to going through customs You aint been nowhere hah And all the ladies in the house got them showing off Im done Ill hit you up ma√±anah Cant you see the private jets flying over you Maybach bumper sticker reads What would Hova do Jay is chillin Ye is chillin What more can I say We killin em Hold up before we end this campaign As you can see we done bodied the damn lames Lord please let them accept the things they cant change And pray that all of their pain be champagne Im so appalled Spalding ball Balding Donald Trump taking dollars from yall Baby youre fired your girlfriend hired But if you dont mind Ima keep you on call We above the law we dont give a fuck about yall I got dogs thatll chew a fucking hole through the wall But since they all lovers I need more rubbers And if I dont use rubbers need more covers Housekeeping I mean goddamn One time let it be a bad bitch sweeping That know we get Os like Cheerios That know because they seen us in the videos That know the day that you play me Would be the same day MTV play videos That was a little joke voila Praises due to the most high Allah Praises due to the most fly Prada Baby Im magic tada Address me as your highness high as United feet up and you are not invited Niggas be writing bullshit like they gotta work Niggas is going through real shit man they out of work Thats why another goddamn dance track gotta hurt Thats why Id rather spit something that got a purp Man I promise shes so selfconscious She has no idea what shes doing in college That major that she majored in dont make no money But she wont drop out her parents will look at her funny Now tell me that aint insecurr The concept of school seems so secure Sophomore three yurrs aint picked a carurr She like fuck it Ill just stay down here and do hair Cause thats enough money to buy her a few pairs of new Airs Cause her babydaddy dont really care Shes so precious with the peer pressure Couldnt afford a car so she named her daughter Alexis She had hair so long that it looked like weave Then she cut it all off now she look like Eve And she be dealin with some issues that you cant believe Single black female addicted to retail and well Man I promise Im so selfconscious Thats why you always see me with at least one of my watches Rollies and Pashas done drove me crazy I cant even pronounce nothing pass that versaysee Then I spent four hundred bucks on this Just to be like nigga you aint up on this And I cant even go to the grocery store Without some Ones thats clean and a shirt with a team It seems we living the American dream But the people highest up got the lowest selfesteem The prettiest people do the ugliest things For the road to riches and diamond rings We shine because they hate us floss cause they degrade us We trying to buy back our acres And for that paper look how low we a stoop Even if you in a Benz you still a nigga in a coupe I say fuck the police thats how I treat em We buy our way out of jail but we cant buy freedom Well buy a lot of clothes when we dont really need em Things we buy to cover up whats inside Cause they make us hate ourself and love they wealth Thats why shortys hollerin where the ballers at Drug dealer buy Jordans crackhead buy crack And a white man get paid off of all of that But I aint even gonna act holier than thou Cause fuck it I went to Jacob with thou Before I had a house and Id do it again Cause I want to be on Park pushin a Benz I want to act ballerific like its all terrific I got a couple pastdue bills I wont get specific I got a problem with spendin before I get it We all selfconscious Im just the first to admit it I say fuck the police thats how I treat em We buy our way out of jail but we cant buy freedom Well buy a lot of clothes when we dont really need em Things we buy to cover up whats inside Cause they make us hate ourself and love they wealth Thats why shortys hollerin where the ballers at Drug dealer buy Jordans crackhead buy crack And a white man get paid off of all of that But I aint even gonna act holier than thou Cause fuck it I went to Jacob with thou Before I had a house and Id do it again Cause I want to be on Park pushin a Benz I want to act ballerific like its all terrific I got a couple pastdue bills I wont get specific I got a problem with spendin before I get it We all selfconscious Im just the first to admit it I bet me and Ray J would be friends If we aint love the same bitch Yeah he might have hit it first Only problem is Im rich Uh Grammys superstar family We the new Jacksons Im all about that action Im about that Farrakhan Life is a marathon Ima shift the paradigm Ima turn up every time Ima bust a coachs head open on some Diddy shit If he ever talk to my son like an idiot One time for a nigga really gettin it Two times cause we got the whole city lit Advice to all my niggas impregnate Bridget So when she have a baby she gon make another nigga Got the Fruit of Islam in the trenches hah Even though they know Yeezus is a Christian hah She spent her whole check on some Christians And that girl aint even religious Walkin livin breathin god you know my past well Hard to believe in God your nigga got killed Blac Chyna fuckin Rob help him with the weight I wish my trainer would tell me what I overate So when Im on vacay I need to kick back What you want You want a boss or an RB nigga with a six pack I need every bad bitch up in Equinox I need to know right now if you a freak or not I need every bad bitch up in Equinox I need to know right now if you a freak or not Something wrong I hold my head MJ gone our nigga dead I slapped my girl she called the feds I did that time and spent that bread Im heading home Im almost there Im on my way heading up the stairs To my surprise a nigga replacing me I had to take him to that ghetto university Restraining order cant see my daughter Her mother brother grandmother hate me in that order Public visitation we met at Borders Told her she take me back Ill be more supportive I made mistakes I bumped my head Courts sucked me dry I spent that bread She need her daddy baby please Cant let her grow up in that ghetto university Yeezy season approachin Fuck whatever yall been hearin Fuck what fuck whatever yall been wearin A monster about to come alive again Soon as I pull up and park the Benz We get this bitch shaking like Parkinsons Take my number and lock it in Indian hair no moccasins Its too many hoes in this house of sin Real nigga back in the house again Black Timbs all on your couch again Black dick all in your spouse again And I know she like chocolate men She got more niggas off than Cochran hah Baby girl tryna get a nut And her girl tryna give it up Chopped em both down Dont judge em Joe Brown One last announcement No sports bra lets keep it bouncin Everybody wanna live at the top of the mountain Took her to the Bleau she tried to sip the fountain That when David Grutman kicked her out But I got her back in and put my dick in her mouth Niggas talking they bitchmade Ixnay off my dicksnay Thats Pig Latin itchbay who gon stop me huh Last night aint go so well got kicked up out the hotel Got a little freaky like Marvin Albert Yes Tell Howard Cosell You just a commentator if you getting paper Everybody I know from the hood got common haters In some relations youre just supposed to say none Heard she fucked the doorman Well thats cool I fucked the waitress Heard Yeezy was racist well I guess thats on one basis I only like green faces Maybe its cause she into Leos and I was into trios Plus all the trips to Rio couldnt have helped Its gettin cold better bring your ski clothes Peekin through the keyhole the door locked by myself And Im feelin it right now cause its the time when my heart got shot down Blocka blocka blockablocka blocka Pour a little champagne cranberry vodka Feelin lied to like parents never said you adopted Your feelins like Zulu then nothing is a Shaka I hit her with Jamaican dick Im the new Shabba She lookin for her daddy call me Big Poppa On to the next saga Focus on the future and let the crew knock her Star Wars fur yeah Im rockin Chewbacca The one Chief Rocka numberone Chief Rocka Is it genocide Cause I can still hear his mama cry Know the family traumatized Shots left holes in his face about piranhasized The old pastor closed the cold casket And said the church aint got enough room for all the tombs Its a war going on outside we aint safe from I feel the pain in my city wherever I go soldiers died in Iraq died in Chicago I arrived on the day Fred Hampton died Uh real niggas just multiply And they say by I was supposed to die So Im out here celebrating my postdemise If you put crabs in a barrel to ensure your survival Youre gon end up pulling down niggas that look just like you What up Blood What up cuz Its all black I love us Yeah its all messed up when its nowhere to go So we wont take the time out til we reach the TOP From parolees to hold Gs sold keys low keys We like the promised land of the OGs In the past if you picture events like a black tie What the last thing you expect to see black guys Whats the life expectancy for black guys The systems working effectively thats why Ill be a real man take care of your son Every problem you had before this day is now done New crib watch a movie Cause aint nothin on the news but the blues Hit the mall pick up some Gucci Now aint nothing new but your shoes Sunday morning praise the Lord Youre the girl that Jesus had been saving me for So lets savor this moment and take it to the floor Black excellence truly yours You say you never saw this comin well youre not alone Million dollar renovations to a happy home My ex says she gave me the best years of her life I saw a recent picture of her I guess she was right I wake up assessin the damages Checkin MediaTakeOut Pictures of me drunk walkin out with a bitch But its blurry enough to get the fake out I wake up all veggies no eggs I hit the gym all chest no legs Yep then I made myself a smoothie Yeah then me and wifey make a movie Chicago St Louis St Louis to Chicago √Åndale √Åndale EI EI uh oh You had me drivin far enough to switch the time zone You was the best of all time at the time though Yeah you wasnt mine though I remember rappin for Jay and Cam Young producer just trying to get his flows off I remember being nervous to do Victoria Secret Til I pictured everybody with their clothes off Expedition was Eddie Bauer edition Im drivin with no winter tires in December Skrrt skrrt skrrt like a private school for women Then I get there and all the Popeyes is finished girl You dont love me you just pretendin I need that happy beginnin middle and endin Chicago St Louis St Louis to Chicago Its gettin hot in here thats all that I know Got a hotel room stars for you You call down for an omelet Girl its in the morning You realize we at the DoubleTree not the Aria Only thing open is Waffle House girl dont start with me I used the Western Union for you like its no prob Cause you was in college complainin about its no jobs But you were suckin a nigga dick the whole time Well I guess a blowjobs better than no job This the crayist shit in the club Since In Da Club Its so packed I might ride around On my bodyguards back like Prince in the club She say Can you get my friends in the club I say Can you get my Benz in the club If not treat your friends like my Benz Park they ass outside til the evenin end When I go raw I like to leave it in When I wake up I like to go again When I go to work she gotta call it in She cant go to work same clothes again And her heart colder than the souls of men Louboutin on the toes again Tight dress dancin close to him Yeezus just rose again I drink a Boost for breakfast an Ensure for dessert Somebody ordered pancakes I just sip the sizzurp That right there could drive a sane man berserk Not to worry Mr HtotheIzzos back to wizerk How do you console my mom or give her light support Telling her her sons on life support And just imagine how my girl feel On the plane scared as hell that her guy look like Emmett Till She was with me before the deal shed been trying to be mine She a Delta so shed been throwing that Dynasty sign No use in me tryin to be lyin I been tryin to be signed Tryin to be a millionaire how I used two lifelines In the same hospital where Biggie Smalls died The doctor said I had blood clots but I aint Jamaican man Story on MTV and I aint trying to make a band I swear this right here history in the making man What if somebody from the Chi that was ill got a deal On the hottest rap label around But he wasnt talking about coke and birds It was more like spoken word Except hes really putting it down And he explained the story about how blacks came from glory And what we need to do in the game Good dude bad night right place wrong time In the blink of a eye his whole life changed If you could feel how my face felt You would know how Mase felt Thank God I aint too cool for the safe belt I swear to God Driver wants to sue I got a lawyer for the case to keep whats in my safe safe My dawgs couldnt tell if I I looked like Tom Cruise in Vanilla Sky It was televised Theres been an accident like GEICO They thought I was burnt up like Pepsi did Michael I must got a angel cause look how death missed his ass Unbreakable what you thought theyd call me Mr Glass Look back on my life like the Ghost of Christmas Past Toys R Us where I used to spend that Christmas cash And I still wont grow up Im a grownass kid Swear I should be locked up for stupid shit that I did But Im a champion so I turned tragedy to triumph Make music thats fire spit my soul through the wire Lets get lost tonight You could be my black Kate Moss tonight Play secretary Im the boss tonight And you dont give a fuck what they all say right Awesome the Christian in Christian Dior Damn they dont make em like this anymore I ask cause Im not sure Do anybody make real shit anymore Bow in the presence of greatness Cause right now thou hast forsaken us You should be honored by my lateness That I would even show up to this fake shit So go ahead go nuts go apeshit Specially in my Pastel on my Bape shit Act like you cant tell who made this New Gospel homie take six and take this haters I dont know if you got a man or not If you made plans or not If God put me in your plans or not Im trippin this drink got me saying a lot But I know that God put you in front of me So how the hell could you front on me Theres a thousand yous theres only one of me Im trippin Im caught up in the moment right Cause its Louis Vuitton Don night So we gon do everything that Kan like Heard theyd do anything for a Klondike Well Id do anything for a blonde dyke And shell do anything for the limelight And well do anything when the times right Uh baby youre makin it Harder better faster stronger Damn baby pussy cant be your only hustle Unless you bad as Naomi Russell I mean a lot of niggas got money So basically Russell aint the only Russell Russell Brand Russell Crowe Zero Zero Zero Zero a whole lot of Os What you after actor money You in line behind currency yeah you after money Bullet proof condom when Im in these hoes Got staples on my dick why Fuckin centerfolds And I swear to God they so cold Got a nigga in Miami wearing winter clothes I got my fur on feelin like Jerome She got her fur too we got our his and her on Dont look at the jewelry or get your burrr on Too close you comatose so dope you overdose Get back you overclose Oh no the hood was strugglin But then I blessed them with that Polo Niggas was making music and then my first solo Collo Drolo sponsored by Manolo She got Zeppi Notos ready for some photos Yeah and Im cold bitch please try to keep the door closed Lanvin thousand dollar tee with no logos Let me show you what I see when my eyes closed She dont believe in shooting stars But she believe in shoes and cars Wood floors in the new apartment Couture from the stores departments You more like love to start shit Im more of the trips to Florida Ordered the hors doeuvres views of the water Straight from a page of your favorite author And the weather so breezy Man why cant life always be this easy She in the mirror dancing so sleazy I get a call like Where are you Yeezy And try to hit you with the olwuwopte Til I got flashed by the paparazzi Damn these niggas got me I hate these niggas more than a Nazi I know its been a while sweetheart We hardly talk I was doing my thang I know it was foul baby Aye babe lately youve been all on my brain And if somebody woulda told me a month ago Fronting though yo I wouldnt wanna know If somebody woulda told me a year ago Itll go get this difficult Feeling like Katrina with no FEMA Like Martin with no Gina Like a flight with no visa First class with the seat back I still see ya In my past you on the other side of the glass Of my memorys museum Im just saying hey Mona Lisa Come home you know you cant roam without Caesar The all around the world Digital Underground Pac The Rudolph the rednosed reindeer of the Roc I take my chain my seconds of fame And come back next year with the whole fucking game Aint nobody expect Kanye to end up on top They expected that College Dropout to drop and then flop Then maybe he stop savin all the good beats for himself RocAFellas only niggas that helped My money was thinner than Sean Pauls goatee hair Now Jean Paul Gaultier cologne fill the air here They say he bougie he bigheaded Would you please stop talking about how my dick head is Flow infectious give me seconds Ill have a buzz bigger than insects in Texas Its funny how wasnt nobody interested Til the night I almost killed myself in Lexus Now was Kanye the most overlooked Yes sir Now is Kanye the most overbooked Yes sir Though the fans want the feeling of A Tribe Called Quest But all they got left is this guy called West Thatll take Freeway throw him on tracks with Mos Def Call him Kwali or Kweli I put him on songs with JayZ Im the Gap like Banana Republic and Old Navy and oooh It come out sweeter than old Sadie Nice as BunB when I met him at the Source awards Girl he had with him ass coulda won the horse awards And I was almost famous now everybody love Kanye Im almost Raymond Some say he arrogant Can yall blame him It was straight embarrassing how yall played him Last year shoppin my demo I was tryin to shine Every motherfucker told me that I couldnt rhyme Now I could let these dream killers kill my selfesteem Or use my arrogance as the steam to power my dreams I use it as my gas so they say that Im gassed But without it Id be last so I ought to laugh So I dont listen to the suits behind the desk no more You niggas wear suits cause you cant dress no more You cant say shit to Kanye West no more I rocked people I was just on tour nigga Im Kan the Louis Vuitton Don Bought my mom a purse now she Louis Vuitton Mom I aint play the hand I was dealt I changed my cards I prayed to the skies and I changed my stars I went to the malls and I balled too hard Oh my god is that a black card I turned around and replied Why yes But I prefer the term African American Express Brains power and muscle like Dame Puffy and Russell Your boy back on his hustle you know what Ive been up to Killin yall niggas on that lyrical shit Mayonnaisecolored Benz I push Miracle Whips I met this girl when I was years old And what I loved most she had so much soul She said Excuse me lil homie I know you dont know me But my name is Windy and I like to blow trees And from that point I never blow her off Niggas come from out of town I like to show her off They like to act tough she like to tow em off And make em straighten up their hat Cause she know they soft And when I grew up she showed me how to go downtown In the nighttime her face lit up so astoundin I told her in my heart is where shell always be She never messed with entertainers cause they always leave She said It felt like they walked and drove on me Knew I was gang affiliated got on TV and told on me I guess thats why last winter she got so cold on me She said Ye keep making that keep making that Keep making that platinum and gold for me But if you really cared for her then you wouldnt have never hit the airport to follow your dreams Sometimes I still talk to her but when I talk to her It always seems like she talking bout me She said You left your kids and they just like you They wanna rap and make soul beats just like you But they just not you and I just got through Talking bout what we tryin to do just not new Now everybody got the game figured out all wrong I guess you never know what you got til its gone I guess thats why Im here and I cant come back home And guess when I heard that When I was back home Every interview Im representin you makin you proud Reach for the stars so if you fall you land on a cloud Jump in the crowd spark your lighters wave em around If you dont know by now Im talking bout ChiTown It was all good just a week ago niggas feel theyselves And that Watch the Throne drop niggas kill themselves What niggas gon do Hov This a new crack on a new stove Im in the twodoor true that niggas telling me You back Like a nigga ever left up out this bitch huh And if lifes a bitch bet she suck my dick huh And I bet she fucked the whole clique huh By the way nigga you should fucking quit nigga Just forget it you talk it I live it Like Eli I did it jokes on you motherfucker and I get it No paper ho but you can have some more of me Oragy or are we speaking metaphorically Historically Im kicking bitches out like Pam nigga Going H¬∑A¬∑M nigga Me and Jigga And a nigga still young thats why I have no kids But Ive been practicing with some actresses as bad as shit Had a few white girls asses flat as shit But the heads so good damn a nigga glad he hit Got em jumping out the building watch out below A million out the door Im about to go H¬∑A¬∑M I treat the label like money from my shows GOOD woulda been God except I added more Os If I knew she was cheating and still bought her more clothes Its cause I was too busy with my Baltimore you know Some people call that the art of war you know I guess it depends what you falling for the clothes Cars money girls and the clothes Aw money you sold your soul Nah man mad people was fronting Goddamn we made something from nothing Youre my devil youre my angel Youre my heaven youre my hell Youre my now youre my forever Youre my freedom youre my jail Youre my lies youre my truth Youre my war youre my truce Youre my questions youre my proof Youre my stress and youre my masseuse Ma ma se ma ma se ma ma ku sa Lost in this plastic life Lets break out of this fakeass party Turn this into a classic night If we die in each others arms still get laid in the afterlife If we die in each others arms still get laid yeah yeah yeah My wife said I cant say no to nobody And at this rate we gon both die broke Got friends that ask me for money knowin Im in debt And like my wife said I still didnt say no People tryna say Im goin crazy on Twitter My friends best advice was to stay low I guess its hard to decipher all of the bills Especially when you got family members on payroll The media said it was outlandish spendin The media said hes way out of control I just feel like Im the only one not pretendin Im not out of control Im just not in they control I know Im the most influential That TIME cover was just confirmation This generations closest thing to Einstein So dont worry about me Im fine I can see a thousand years from now in real life Skate on the paradigm and shift it when I feel like Troll conventional thought dont need to question I know its antiquated so sometimes I get aggressive Thank God For Jay Electra he down with the mission Did it with with no permission on our own conditions Most Blacks with money have been beaten to submission Yeezy with the big house did it way different Never listen to Hollywood producers Dont stare at money too long its Medusa The ultimate Gemini has survived I wasnt supposed to make it past Ive been wakin the spirits of millions more to come A million illegally downloaded my truth over the drums I believe in the children listen to the kids bro If the phone ringin go and get your kids ho Brother Don Muhammad told the minister about the presentation He sat back and smiled Black on black lies is worse than black on black crime The Jews share their truth on how to make a dime Most black men couldnt balance a checkbook But buy a new car talkin bout how my neck look Well it all looks great Four hundred years later we buyin our own chains The light is before us brothers so the devil workin hard Real family stick together and see through the mirage The smokescreens perceptions of false reality Who the real owner if your boss gets a salary I am one with the people I am one with the people real Ive been woken from enlightened mans dream Checkin Instagram comments to crowdsource my self esteem Let me not say too much or do too much Cause if Im up way too much Im out of touch Im prayin a outofbody experience will happen So the people can see my light now its not just rappin God I have humbled myself before the court Drop my ego and confidence was my last resort I know I know he got a plan I know Im on your beams One set of footsteps you was carryin me When I turned on the news and they was buryin me One set of footsteps you was carryin me When I was negotiatin with Apple it was Larry and me Told Tim Cook to call me I was scary to see I wouldve took a hundred million and gave to Hov I heard its the way they did it when we only had a stove But its better that I stayed at home with my folks Cause if Jay a billionaire then Ima never go broke Only thing I ask is next time Im on stage we all go We all go Not just by myself lookin for niggas like wheres Waldo She got the same shoes as my wife but she copped em at Aldo Modern day MJ with a off the wall flow Closed eyes see things Fire up tweaking You in my freak dreams You in my freak dreams Bad bitch you dig that Get stacks drive cars Whip out bitch out Tits out oh shit My dick out can she suck it right now Fuck can she fuck right now I done asked twice now Can you bring your price down Lil Boosie with the wipe down A little woozy but Im nice now What the fuck right now What the fuck right now What the what the fuck right now What if we fuck right now What if we fucked right in the middle Of this mothafuckin dinner table What if we fucked at this Vogue party Would we be the life of the whole party Shut down the whole party Would everybody start fuckin Would everybody start fuckin Would everybody start fuckin They dont want nothin You mothafuckas livin like half of your level half of your life I smack her on her ass if she ghetto I aint gon lie We be in the bathroom fuckin like Baby dont get too loud I can I can see it yeah Pablo bought a Roley and a rottweiler Seem like the more fame I only got wilder Hands up we just doing what the cops taught us Hands up we just doing what the cops taught us Ive been outta my mind a long time Ive been outta my mind a long time Ive been saying how I feel at the wrong time Might not come when you want but Im on time Ive been outta my mind a long time Ive been outta my mind a long time I know I know I shouldnt even bother With all these gossiping nopussygetting bloggers Fashion show in Gotham I need another costume PETAs mad cause I made a jacket outta possum Awesome Steve Jobs mixed with Steve Austin Rich slave in the fabric store picking cotton If Hov J then every Jordan need a Rodman Man Jay they dont really want no problems Driving in the same car that they killed Pac in Driving in the same urrr that they killed Pac in Hands up we just doing what the cops taught us Hands up hands up then the cops shot us You know what the Midwest is Young and restless Where restless niggas might snatch your necklace And next these niggas might jack your Lexus Somebody tell these niggas who Kanye West is I walk through the valley of the Chi where death is Top floor the view alone will leave you breathless gasps Try to catch it gasps its kinda hard Getting choked by detectives yeah yeah now check the method They be askin us questions harass and arrest us Sayin We eat pieces of shit like you for breakfast Huh Yall eat pieces of shit Whats the basis We aint going nowhere but got suits and cases A trunk full of coke rental car from Avis My mama used to say only Jesus can save us Well mama I know I act a fool But Ill be gone til November I got packs to move I hope To the hustlers killers murderers drug dealers even the scrippers Jesus walks for them To the victims of welfare for we livin in Hell here hell yeah Jesus walks for them Now hear ye hear ye want to see Thee more clearly I know he hear me when my feet get weary Cause were the almost nearly extinct We rappers is role models we rap we dont think I aint here to argue about his facial features Or here to convert atheists into believers Im just tryna say the way school need teachers The way Kathie Lee needed Regis thats the way I need Jesus So here go my single dog radio needs this They say you can rap about anything except for Jesus That means guns sex lies videotape But if I talk about God my record wont get played huh Well if this take away from my spins Whichll probably take away from my ends Then I hope this take away from my sins And bring the day that Im dreamin about Next time Im in the club everybody screamin out Wake up Mr West Mr West Mr Fresh Mister by himself hes so impressed I mean damn did you even see the test You got Ds muthafucka Ds Rosie Perez And yer ass barely passed any and every class Looking at every ass cheated on every test I guess this is my dissertation Homie this shit is basic welcome to Graduation Good morning on this day we become legendary Everything we dreamed of Im like the fly Malcolm X buy any jeans necessary Detroit Red cleaned up From the streets to the league from a eighth to a ki But you graduate when you make it up outta the streets From the moments of pain look how far we done came Haters saying you changed now you doing your thang Good morning look at the valedictorian Scared of the future while I hop in the DeLorean Scared to face the world complacent career student Some people graduate but be still stupid They tell you read this eat this dont look around Just peep this preachers teach us Jesus Okay look up now they done stoled yo streetness After all of that you received this Im the one baby yeah Im the one baby Since God gave his only begotten son baby Its hard preachin the gospel to the slums lately So I had to put the church on the drums baby You on a run baby you on a run baby You think you free but you a slave to the funds baby You think you me but you aint me what you done lately Mhm thats cool but I been runnin on the sun baby We on a galaxy the haters cannot visit Thats my reality so get off my Scott Disick If you ever held a title belt you would know how Michael felt Tyson Jackson Jordan Michael Phelps Yeahhh had to take it to another realm Cause everything around me got me underwhelmed Best way to describe my position is at the helm Best way to describe my new whip Yeeeaaaalmmp Welcome to the good life where niggas who sell D Wont even get pulled over in they new V The good life lets go on a living spree Shit they say the best things in life are free The good life it feel like Atlanta It feel like LA it feel like Miami It feel like NY summertime Chi Ah Now throw yo hands up in the sky So I roll through good Yall pop the trunk I pop the hood Ferrari And she got the goods And she got that ass I got to look sorry Welcome to the good life Where we like the girls who aint on TV Cause they got mo ass than the models The good life so keep it comin with the bottles Cause she feel booze like she bombed at Apollo The good life it feel like Houston It feel like Philly it feel like DC It feel like VA or the Bay or Yay Ay this is the good life Welcome to the good life Homey tell me whats good Why I only got a problem when you in the hood Welcome to the good life Like Im new in the hood The only thing I wish I wish a nigga would Welcome to the good life He probably think he could But but I dont think he should Welcome to the good life told me go head switch the style up And if they hate then let em hate and watch the money pile up Have you ever popped champagne on a plane while gettin some brain Whipped it out she said I never seen Snakes on a Plane Whether you broke or rich you gotta get this Havin moneys not everything not havin it is I was splurgin on Tryst but when I get my card back Activated Im back to Vegas Cause the good life I always had a passion for flashin Befo I had it I closed my eyes and imagined the good life Back when they thought pink Polos would hurt the Roc Before Cam got the shit to pop The doors was closed I felt like Bad Boys street team I couldnt work the locks Now lets go take em back to the plan Me and my momma hopped in that UHaul van Any pessimists I aint talk to them Plus I aint have no phone in my apartament Lets take em back to the club Least about an hour I stand on line I just wanted to dance I went to Jacob an hour After I got my advance I just wanted to shine Jay favorite line Dawg in due time Now he look at me like Damn dawg You where I am A hiphop legend I think I died in that accident cause this must be Heaven Back when Gucci was the shit to rock Back when Slick Rick got the shit to pop Id do anything to say I got it Damn them new loafers hurt my pocket Before anybody wanted K West beats Me and my girl split the buffet at KFC Dog I was having nervous breakdowns Like Man these niggas that much better than me Baby Im going on an aeroplane And I dont know if Ill be back again Sure enough I sent the plane tickets But when she came to kick it things became different Any girl I cheated on sheets I skeeted on Couldnt keep it at home thought I needed a Nia Long Im trying to right my wrongs But its funny them same wrongs helped me write this song Close your eyes and imagine feel the magic Vegas on acid seen through Yves St Laurent glasses And Ive realized that Ive arrived Cause it take more than a magazine to kill my Vibe Does he write his own rhymes well sort of I think em That mean I forgot better shit than you ever thought of Damn is he really that caught up I ask if you talked about classics do my name get brought up I remember I couldnt afford a Ford Escort Or even a fourtrack recorder So its only right that I let the top drop on a droptop Porsche Its for yourself thats important If your stripper name Porscha and you get tips from many men Then your fat friend her nickname is Minivan Excuse me thats just the Henny man I smoke I drink Im supposed to stop I cant because I was sick about awards couldnt nobody cure me Only playa that got robbed but kept all his jewelry Alicia Keys tried to talk some sense in him minutes later sein theres no convincin him What more could you ask for The international asshole Who complain about what he is owed And throw a tantrum like he is years old You gotta love it though somebody still speaks from his soul And wouldnt change by the change or the game or the fame When he came in the game he made his own lane Now all I need is yall to pronounce my name Its Kanye but some of my plaques they still say Kayne Got family in the D Kinfolk from Motown Back in the Chi them Folks aint from Moe Town Life movin too fast I need to slow down Girl aint give me no ass ya need to go down My father been said I need Jesus So he took me to church and let the water wash over my caesar The preacher said we need leaders Right then my body got still like a paraplegic You know who you call you got a message then leave it The Roc stand tall and you would never believe it Take your diamonds and throw em up like you bulimic Yeah the beat cold but the flow is anemic After debris settles and the dust get swept off Big K pick up where young Hov left off Right when magazines wrote Kanye West off I dropped my new shit it sound like the best of ARs lookin like Pssh we messed up Grammy night damn right we got dressed up Bottle after bottle till we got messed up In the studio with Really Doe yeah he next up People askin me if Im gon give my chain back Thatll be the same day I give the game back You know the next question dog Yo where Dame at This track the Indian dance to bring our reign back Whats up with you and Jay man are yall ok man They pray for the death of our dynasty like Amen Rrrrright here stands a man With the power to make a diamond with his bare hands I get down for my grandfather who took my mama Made her sit in that seat where white folks aint want us to eat At the tender age of she was arrested for the sitins And with that in my blood I was born to be different Now niggas cant make it to ballots to choose leadership But we can make it to Jacobs and to the dealership Swear I hear new music and I just dont be feelin it Racisms still alive they just be concealin it But I know they dont want me in the damn club They even made me show ID to get inside of Sams Club I done did dirt and went to church and get my hands scrubbed Swear Ive been baptized least or times But in the land where niggas praise Yukons and getting paid Its gonna take a lot more than coupons to get us saved Like it take a lot more than doo rags to get you waves Nothing sad as that day my girls father passed away So I promised to Mr Rainey Im gonna marry your daughter And you know I gotta thank you for the way that she was brought up And I know that you were smiling when you see the car I bought her You sent tears from heaven when you seen my car get balled up But I cant complain what the accident did to my left eye Cause look what an accident did to Left Eye First Aaliyah now Romeo must die I know I got angels watching me from the other side Its the Hard Knock Life Tour sellout picture Us in the mall coppin Iceberg and yell out Jigga Yeah thats what well yell out yell out You know the name do I gotta spell out or tell bout JAY and Ye so shy Now he wont even step to his idol to say hi Standing there like a mime and let the chance pass by Back of my mind He could change your life With all these beats I did at least let him hear it At least you can brag to ya friends back at the gig But he got me out me out my momma crib Then he help me get my momma a crib Fresh off the plane Im off to Baseline Nothing handed out Im bout to take mine round the same time of that Blueprint And these beats in my pocket was that blueprint for him Id play my little songs in that old back room Hed bob his head and say Damn Oh thats you But by The Black Album I was blacking out Partyin SOBs and we had packed a crowd Big brother got his show up at Madison Square And Im like Yeah yeah we gon be there but Not only did I not get a chance to spit it Carline told me I could buy two tickets I guess big brother was thinkin a little different And kept little brother at bay at a distance But everything that I felt was more bogus Only made me more focused only wrote more potent Only thing I wanna know is why I get looked over I guess Ill understand when I get more older Big brother saw me at the bottom of the totem Now Im on the top and everybody on the scrotum Have you ever walked in the shadow of a giant Not only a client the Presidito hola Hovito The game gettin foul so heres a free throw I was always on the other side of the peephole Then I dropped Jesus Walks now Im on the steeple And we know New Jack City got to keep my brother But to be number one Imma beat my brother On that Diamonds remix I swore I spazzed Then my big brother came through and kicked my ass Sibling rivalry only I could see It was the pride in me that was drivin me At the Grammys I said I inspired me But my big brother who I always tried to be When I kicked a flow it like pickandroll Cause even if he gave me the rock its giveandgo I guess Beanies style was more of a slam dunk But my shit was more like a finger roll But I had them singles though And them hoes at the show gonna mingle yo heh yall know I told Jay I did a song with Coldplay Next thing I know he got a song with Coldplay Back in my mind Im like Damn no way Translate espanol No way Jose Then I went and told Jay Brown Shoulda known that was gonna come back around Shoulda talked to you like a man shoulda told you first But I told somebody else and thats what made shit worse And Ill never let my son have an ego Hell be nice to everyone wherever we go I mean I might even make him be Republican So everybody know he love white people And Ill never let him leave his college girlfriend And get caught up with the groupies in the whirlwind And Ill never let him ever hit the telethon I mean even if people dyin and the world ends See I just want him to have an easy life Not like Yeezy life just want him to be someone people like Dont want him to be hated all the time judged Dont be like your daddy that would never budge And Ill never let him ever hit a strip club I learned the hard way that aint the place to get love And Ill never let his mom move to LA Knowin she couldnt take the pressure now we all pray I think I just fell in love with a porn star Turn the camera on she a born star Turn the corners in a foreign car Call the coroners do the CPR She gave that old nigga a ulcer Her bittersweet taste made his gold teeth ache Make her knees shake make a priest faint Make a nun cum make her cremate Move downtown cop a sweet space Livin life like we won the sweepstakes what We headed to hell for heavens sakes huh Well Imma levitate make the devil wait yeah Never in your wildest dreams Never in your wildest dreams in your wildest You could hear the loudest screams Comin from inside the screen you a wild bitch Tell me what I gotta do to be that guy Said her price go down she ever fuck a black guy Or do anal or do a gangbang Its kinda crazy thats all considered the same thing Well I guess a lotta niggas do gang bang And if we run trains we all in the same gang Runaway slaves all on a chain gang Bang bang bang bang bang One day Im gon marry a porn star Well have a bigass crib and a long yard Well have a mansion and some fly maids Nothin to hide we both screwed the bridesmaids She wanna role play til I roll over Imma need a whole day at least rolled doja What party is we goin to on Oscar day specially if she cant get that dress from Oscar de La Renta they wouldnt rent her they couldnt take the shame Snatched the dress off her back and told her ‚ÄúGet away‚Äù How could you say they live they life wrong When you never fuck with the lights on Mmm aint this some shit Pulled up in the AVentador And the doors raise up like praise the Lord Did the fashion show and a tour and a movie and a score This a ghetto opera Francis Foreign Car Coppola I need a new crib to hold my plaques Rick Rossd told me that Said Id be all up in Goldman Sachs like These niggas tryna hold me back These niggas tryna hold me back Im just trying to protect my stacks Mitt Romney dont pay no tax Mitt Romney dont pay no tax ChiTown til Im on my back ChiTown til Im on my back Only nigga in Beverly Hills where the hell is Axel Foley at Ease up there baby boy Ving Rhames told Jody that R Kelly and the God of rap Shitting on you holy crap I wanna tell the whole world about a friend of mine This little light of mine and Im finna let it shine Im finna take yall back to them better times Im finna talk about my mama if yall dont mind I was three years old when you and I moved to the Chi Late December harsh winter gave me a cold You fixed me up something that was good for my soul Famous homemade chicken soup can I have another bowl You work late nights just to keep on the lights Mommy got me training wheels so I could keep on my bike And you would give anything in this world Michael Jackson leather and a glove but didnt give me a curl And you never put no man over me And I love you for that mommy cant you see Seven years old caught you with tears in your eyes Cuz a nigga cheatin telling you lies then I started to cry As we knelt on the kitchen floor I said mommy Imma love you till you dont hurt no more And when Im older you aint gotta work no more And Imma get you that mansion that we couldnt afford See youre unbreakable unmistakable Highly capable lady thats makin loot A livin legend too just look at what heaven do Send us an angel and I thank you Hey Mama Forrest Gump mama said Life is like a box of chocolates My mama told me go to school get your doctorate Somethin to fall back on you could profit with But still supported me when I did the opposite Now I feel like its things I gotta get Things I gotta do just to prove to you You was getting through can the choir please Give me a verse of You Are So Beautiful To Me Cant you see youre like a book of poetry Maya Angelou Nikki Giovanni turn one page and theres my mommy Come on mommy just dance wit me let the whole world see your dancing feet Now when I say Hey yall say Mama now everybody answer me Hey Mama Tell your job you gotta fake em out Since you brought me in this world let me take you out To a restaurant upper echelon Imma get you a Jag whatever else you want Just tell me what kind of SType Donda West like Tell me the perfect color so I make it just right It dont gotta be Mothers Day or your birthday For me to just call and say Hey Mama And I heard em say nothings ever promised tomorrow today From the Chi like Tim its a harder way So this is in the name of love like Robert say Before you ask me to go get a job today Can I at least get a raise of the minimum wage And I know that the government administer AIDS So I guess we just pray like the minister say AllƒÅhu Akbar and throw him some hot cars Things we see on the screen thats not ours But these niggas from the hood so these dreams not far Where Im from the dope boys is the rock stars But they cant cop cars without seeing cop cars I guess they want us all behind bars I know it They say people in your life for seasons And anything that happen is for a reason And niggas gun clapping and keep to squeezing And Gran keep praying and keep believing In Jesus and one day that you see him Til then walk in his footsteps and try to be him The devil is alive I feel him breathin Claiming money is the key so keep on dreamin And put them lottery tickets just to tease us My Aunt Pam cant put them cigarettes down So now my little cousin smokin them cigarettes now His job try to claim that he too niggerish now Is it cause his skin blacker than licorice now I cant figure it out Im sick of it now Trying to sneak upstairs to your apartment Arent you a sight for red eyes I just flew in and slipped in on your left side Just a satin gown you asleep with no makeup Im just tryna be inside you fore you wake up We had problems but its all in the past Everybody got problems baby algebra class Remember I used to do things thatd make you laugh Like orderin a girl drink in a masculine glass You like pi√±a coladas getting caught in the rain Or rocking flannels all summer like Kurt Cobain Or that Dolce Gabbana with a few gold chains And you the type of girl that probably deserve a new last name But they never let us do our thing Everybody lying on who I bang We was on fire but they blew our flame Aint no denying baby you have changed Cause now your high heels clicking your lip gloss glisten Your hips start switching youre pissed off tripping Cause even when were kissing baby girl feel different Friends all diss him like No he didnt No he didnt is you talking about Kitten Is that bitch still stripping Trying to get a pair of Christians I swear to God that they got you going crazy But you play it off and say How is work baby Well some of the models is too coked up to walk straight But seem to still love the man that they all hate But babe I call you back and say that you say that always And kept me on the phone and demanded they all wait See she knew about all my lies the whole time And my credits so bad I cant get no one to cosign I wouldve thought she wouldve bust in the door cryin But she upped and left a nigga and she aint give me no sign Now she back in the club in a tight dress With dreams of someday wearing a white dress Seen with some lame its a miracle that shed Talk to a nigga with a tenyear ago swag Plus I dont like none of her girlfriends Quote unquote Cause her girlfriends got girlfriends On the phone hollin that niggas is whatever Lets fly to Euro and make this the best summer ever Now she heading to Rome Rome is the home Rome is where she act like she aint got no fucking phone I accept that I was wrong except a nigga grown So I cant bitch and moan in a session gettin stoned So a nigga had to hop on a plane A bus and a train to try to come and talk and explain Rented the whole bottom floor for a candlelight dinner Turned the lights out and put my candle right in her And told her Even though I met you in a club in a tight dress At first sight I could picture you in a white dress Thirty foot train diamond from Lorraine Just to make up for all the years and the pain Family on both sides Im so glad you came Aunty couldnt make it oh no thats a shame Wedding in June what could be better Lets fly to Euro make this the best summer ever Take the very last car of the Eurostar Tell the conductor Just drive so far Told some of your friends and they wasnt excited Well we gon tour the countryside and they wont be invited We will not be disturbed by the fussin and fighting Tell Peaches light the herb cause we just reunited Lets make a move from these herbs go somewhere in private Im talking just me and you and the plane and the pilot How could you be so Cold as the winter wind when it breeze yo Just remember that you talking to me though You need to watch the way you talking to me yo I mean after all the things that we been through I mean after all the things we got into Ayo I know of some things that you aint told me Ayo I did some things but thats the old me And now you wanna get me back And you gonna show me So you walk around like you dont know me You got a new friend well I got homies But in the end its still so lonely How could you be so Dr Evil You bringing out a side of me that I dont know I decided we wasnt gonna speak so Why we up AM on the phone Why do she be so mad at me for Homie I dont know shes hot and cold I wont stop wont mess my groove up Cause I already know how this thing go You run and tell your friends that youre leavin me They say that they dont see what you see in me You wait a couple of months then you gonna see Youll never find nobody better than me You dont see just how wild the crowd is realize You dont see just how fly my style is realize I dont see why I need a stylist realize When I shop so much I can speak Italian realize I dont know I just want it better for my kids realize And I aint saying we was from the projects realize But every time I wanna layaway or deposit realize My dadd say when you see clothes close your eyelids realize We was sort of like Will Smith and his son realize In the movie I aint talking bout the rich ones realize Cause every summer Hell get some brand new harebrained scheme to get rich from realize And I dont know what he did for dough realize But hell send me back to school with a new wardrobe When it feel like livings harder than dying realize For me giving ups way harder than trying realize Lauryn Hill said her heart was in Zion realize I wish her heart still was in rhyming realize Cause who the kids gon listen to huh realize I guess me if it isnt you realize Last week I paid a visit to the institute realize They got the dropout keeping kids in the school realize I guess I cleaned up my act like Princed do realize If not for pleasure then at least for the principle realize They got the CD they got to see me realize Drop gems like I dropped out of PE realize They used to feel invisible realize Now they know they invincible I paid for them titties get your own It aint safe in the city watch the throne She say I care more about them basquions Basquiats she learning a new word its yacht Blew the world up as soon as I hit the club with her Too Short called told me I fell in love with her Seat by actors ball players and drug dealers And some lesbians that never loved niggas Twisted love story True Romance Mary Magdalene from a pole dance Im a freak huh rock star life The second girl with us thats our wife Hey boys and girls I got a new riddle Whos the new old perv thats tryna play second fiddle No disrespect Im not tryna belittle But my dick worth money I put Monie in the middle Where she at In the middle Ill never be pictureperfect Beyonc√© Be light as Al B or black as Chauncey Remember him from Blackstreet He was as black as the street was Ill never be as laid back as this beat was I never could see why people reach a Fakeass facade that they couldnt keep up You see how I creeped up You see how I played a big role in Chicago like Queen Latifah Ill never rock a mink coat in the wintertime like Killa Cam Or rock some mink boots in the summertime like WillIAm Let me know if you feel it man Cause everything Im not made me everything I am And Im back to tear it up Haters start your engines I hear em gearing up People talk so much shit about me at barbershops They forget to get their hair cut Ok fair enough the streets is flaring up Cause they want gun talk or I dont wear enough Baggy clothes Reeboks or Adidos Can I add that he do spaz out at his shows So say goodbye to the NAACP award Goodbye to the India Arie award Theyd rather give me the Nigga Please Award But Ill just take the I Got a Lot of Cheese Award I know that people wouldnt usually rap this But I got the facts to back this Just last year Chicago had over caskets Man killings some wack shit Oh I forgot cept for when niggas is rappin Do you know what it feel like when people is passin He got changed over his chains a block off Ashland I need to talk to somebody pastor The church want tithe so I cant afford to pay Pink slip on my door cause I cant afford to stay My fifteen seconds up but I got more to say Thats enough Mr West please no more today You sweat her and I aint talkin bout a Coogi You a Big L and I aint talkin bout Cool J See me at the airport at least twenty Louis Treat me like the Prince and this my sweet brother Numpsay Brother Numpsay groupies say Im too choosy Take em to the show and talk all through the movies Says she want diamonds I took her to Ruby Tuesdays If we up in Fridays I still have it my way Yall dont want no prob from me What you rappers could get is a job from me Maybe you could be my intern and in turn Ill show you how I cook up summer in the winter Aaron love the raw dog when will he learn Caught something on the Usher tour he had to let it burn Plus he already got three children Arguin over babysitters like bitch its yo turn Damn Ye itd be stupid to diss you Even your superficial raps is superofficial RRRRoc pastel with Gucci on With TVs in the ride throw a movie on Said he couldnt rap now he at the top with Doobie Long Cause I dookied on any song that they threw me on gone Uhuhuh uhuhuh uh uh onnn uh uhuh onnn Uhuh onnn uh uhuh Im ahead of my time sometimes years out So the powers that be wont let me get my ideas out And that make me wanna get my advance out And move to Oklahoma and just live at my aunts house Yeah I romance the thought of leaving it all behind Kanye step away from the lime Light like when I was on the grind In the Before model chicks was bending over Or dealerships asked me Benz or Rover Man if I could just get one beat on Hova We could get up off this cheapass sofa What the summer of the Chi got to offer an eighteenyearold Sell drugs or get a job you gotta play your role My dog worked at Taco Bell hooked us up plural Fired a week later the manager count the churros Sometimes I cant believe it when I look up in the mirro How we out in Europe spending Euros They claim you never know what you got til its gone I know I got it I dont know what yall on Ima open up a store for aspiring MCs Wont sell em no dream but the inspiration is free But if they ever flip sides like Anakin Youll sell everything including the mannequin They got a new bitch now you Jennifer Aniston Hold on Ill handle it dont start panickin stay calm Shorties at the door cause they need more Inspiration for they life they souls and they songs They said Sorry Mr West is gone I told my mama I was on the come up She said You going to school Ill give you a summer Then she met No ID and gave me his number Ten years later she driving a Hummer Niggas hustle every day for a beat from Ye What I do Turn around gave them beats to Jay And Im rapping on the beat they was supposed to buy I guess Im getting high off my own supply Downtown mixing fabrics tryna find the magic Started a little blog just to get some traffic Old folksll tell you not to play in traffic A million hits and the web crashes damn South Park had them all laughing Now all my niggas designing and we all swaggin Ignore the critics just to say we did it This aint no fashion show mothafucka we live it Ive been waiting on this my whole life These dreams be waking me up at night You say I think Im never wrong You know what maybe youre right aight You say he get on your fucking nerves You hope that he get what he deserves word Do you even remember what the issue is You just trying to find where the tissue is You can still be who you wish you is It aint happen yet And thats what intuition is When you hop back in the car Drive back to the crib Run back to their arms The smokescreens The chokes and the screams You ever wonder what it all really means And Im back on my grind A psychic read my lifeline Told me in my lifetime My name would help light up the Chicago skyline And thats why Im Seven oclock thats primetime Heavenll watch God calling from the hotlines Why he keep giving me hot lines Im a star how could I not shine How many ladies in the house How many ladies in the house without a spouse Something in your blouse got me feeling so aroused What you about On that independent shit Trade it all for a husband and some kids You ever wonder what it all really mean You wonder if youll ever find your dreams If my manager insults me again I will be assaulting him After I fuck the manager up Then Im gonna shorten the register up Lets go back back to the Gap Look at my check wasnt no scratch So if I stole wasnt my fault Yeah I stole never got caught They take me to the back and pat me Askin me about some khakis But let some black people walk in I bet you they show off their token blackie Oh now they love Kanye lets put him all in the front of the store So Im on break next to the No Smokin sign with a blunt in the mall Takin my hits writing my hits Writin my rhymes playin my mind This fuckin job cant help him So I quit yall welcome Yall dont know my struggle Yall cant match my hustle You cant catch my hustle You cant fathom my love dude Lock yourself in a room doing beats a day for summers Thats a Different World like Cree Summers I deserve to do these numbers The kid that made that deserves that Maybach So many records in my basement Im just waiting on my spaceship Nnnnow my flow Is in the pocket like wallets I got the bounce like hydraulics I cant call it I got the swerve like alcoholics My freshman year I was going through hella problems Til I built up the nerve to drop my ass up out of college My teacher said Ise a loser I told her why dont you kill me I give a fuck if you fail me Im gonna follow My heart and if you follow the charts Or the plaques or the stacks You aint gotta guess whos back you see Im so Chi that you thought I was bashful But this bastards flow will bash your skull And I will cut your girl like Pastor Tro And I dont usually smoke But pass the dro And I wont give you that money that you asking for Why you think me and Dame cool We assholes Thats why we hear your music in fast forward Cuz we dont wanna hear that weak shit no mo Nnnnnnow who the hell is this Emailing me at Telling me that she plus doubled You know how girls on Black Planet be when they get bubbly At NYU but she hail from Kansas Right now she just lamping chilling on campus Sent me a picture of her feelin on Candice Who said her favorite rapper was the late great Francis WHITE its getting late mami Your screen saver say tweet so you got to call me And bring a friend for my friend his name Kweli You mean Talib Lyrics sticks to your rib I mean Thats my favorite CD that I play at my crib I mean You dont really know him why is you lyin Yo Kwe she dont believe me please pick up the line She gon think that Im lyin just spit a couple of lines Then maybe Ill be able to give her dick all the time And get her high Im in my Christian Dior with a Veronica Webb Noemie Lenoir Chanel Sessilee Lopez Arlenis Sosa Selita Ebanks Grew up on Mobb Deep speak that Jourdan Dunn language Make a phone call out to Joan Smalls I wonder how it feel to lower Stones walls Jessica Gomes yall I would damage her And see if Jessica Stam got the stamina Im in the car with Leo and the Benz swerve I heard Bar was friends with Esti Ginzburg Coco Rocha Kate Mimosa Alessandra Ambrosio Anja Rubik Get Olga Kurylenko tell her Im very single Abbey Lee too Im a freak boo Im wilding Im on a thousand I wanna see Irina Shayk next to Doutzen If this is your first time hearin this You are about to experience somethin so cold man We never had nothin handed took nothin for granted Took nothin from no man man Im my own man But as a shorty I looked up to the dopeman Only adult man I knew that wasnt broke man Flickin Starter coats man Man you dont know man We dont care what people say This is for my niggas outside all winter Cause this summer they aint finna say next summer Im finna Sittin in the hood like community colleges This dope money here is Lil Treys scholarship Cause aint no tuition for having no ambition And aint no loans for sittin your ass at home So we forced to sell crack rap and get a job You gotta do somethin man your ass is grown The second verse is for my dogs workin to that still hustle Cause a nigga cant shine off And everybody sellin makeup Jacobs And bootlegged tapes just to get they cake up We put shit on layaway then come back We claim other people kids on our income tax We take that money cop work then push packs to get paid And we dont care what people say Momma say she wanna move South Scratchin lottery tickets eyes on a new house Round the same time Doe ran up in dude house Couldnt get a job so since he couldnt get work He figured hed take work The drug game bulimic its hard to get weight A niggas money is homo its hard to get straight But we gon keep bakin til the day we get cake And we dont care what people say You know the kids gon act a fool When you stop the programs for after school And they DCFS some of em dyslexic They favorite Cent song Questions We scream rocks blow weed park see now we smart We aint retards the way teachers thought Hold up hold fast we make more cash Now tell my momma I belong in that slow class Sad enough we on welfare They tryna put me on the school bus with the space for the wheelchair Im tryna get the car with the chromie wheels here They tryna cut our lights out like we dont live here Look what was handed us fathers abandoned us When we get them hammers go on call the ambulance Sometimes I feel no one in this world understands us But we dont care what people say My niggas This is family business And this is for the family that cant be with us And this is for my cousin locked down know the answers in us This why I spit it in my songs so sweet Like a photo of your grannys picture Now that youre gone it hit us Super hard on Thankgiving and Christmas this cant be right Yeah you heard the track I did man This Cant Be Life Somebody please say grace so I can save face And have a reason to cover my face I even made you a plate soul food know how Granny do it Monkey bread on the side know how the family do it When I brought it why the guard have to look all through it As kids we used to laugh Who knew that life would move this fast Who knew Id have to look at you through a glass And look tell me you aint did it then you aint did it And if you did then thats family business This is family business And this is for everybody standing with us Come on lets take a family Grammy picture Abi remember when they aint believe in me Now she like See thats my cousin on TV Now we gettin it and we gon make it And they gon hate it and Im his favorite I cant deny it Im a straight rider But when we get together be electric slidin Grandma get em shook up Aw naw dont open the photo book up I got an Aunt Ruth that cant remember your name But I bet them Polaroidsll send her down memory lane You know that one auntie you dont mean to be rude But every holiday nobody eating her food And you dont wanna stay there cause them your worst cousins Got roaches at their crib like them your first cousins Act like you aint took a bath with your cousins Fit in the bed if its of yall Im talkin bout three by the head and three by the leg But you aint have to tell my girl I used to pee in the bed I woke up early this morning with a new state of mind A creative way to rhyme without using knives and guns Keep your nose out the sky keep your heart to God And keep your face to the risin sun All my niggas from the Chi thats my family dog And my niggas aint my guys they my family dog I feel like one day youll understand me dog You can still love your man and be manly dog You aint got to get heated at every house warmin Sittin here grillin people like George Foreman Why Uncle Ray and Aunt Shiela always performin The second she storm out then he storm in Yall gon sit down have a good time this reunion And drink some wine like Communion And act like everything fine and if it isnt We aint letting everybody in our family business Yeah uh now Ima need you to kill the hypocrisy This is an aristocracy Im Socrates but my skin more chocolatey Whats up with who Thats old news Im in a speedboat in my boat shoes Hah I swear my whole collections so cruise I might walk in Nobu wit no shoes He just walked in Nobu like it was Whole Foods That nigga crazy I told you Immature adult insecure asshole And if you fall on the concrete thats your ass fault If you pass on a Kan beat thats your last fault Get what you ask for I swear that your ass low She got a big booty but she couldnt drop that ass low Til you take your last ho and rope up all the cashflow When you gettin money they be all up on your ass yo When you gettin money cops dont let a nigga pass Go Straight to jail yo in a hellhole Right next to Lucifer tell em I said Hello Ask if Ima be there soon and tell him I said ‚ÄúHell no‚Äù Yo what you say when your people get out of jail huh Pour the champagne let your watch show Shorty got a man watch wrist look colossal I admit my first watch was a Fossil Now Im in the Louvre lookin for fossils Tention to detail is so uncanny And the whips on the Sprewells its so unCamry Somebody need to put us on camera The world of Rollies and everyone families Stay Jordan fresh suits and Ferraris Cute your shorty watch Barneys we head to Barneys End up at Marni Giorgio service from Sergio Tacchini Lamborghini the chain throw off the vertigo I know the flow just hit a hellified vertical This the Christ year last year was magic Lyrically cant none of yall murder Ye Cause yall raps aint got no vertebrae I got style ask June if she heard of me I killed the fur last Paris raised the murder rate First of all we all know the beats is Like a mix between Fergie and Jesus Imagine the direction of this immaculate conception Every one of His Majestys swim parties is pageantries Cannonball off the divin board when I am bored All my homies GDs but I am Lord Rap god Greek mythology And this life too crazy to think logically Heres somethin that you could use in analogy My life is like a childs illusions become reality Can I talk my shit again Even if I dont hit again Dog are you fucking kidding My hat my shoes my coat Louis Vuitton stitch with Donatella Versace Thats Louis Vuitton bitch I think Hennessy I drank Im gone Off that Bacardi Limon and Corona Im zoning Class back in session so I upped it a grade Two years Dwayne Wayne became Dwyane Wade And Hey Please dont start me Im like Gnarls Barkley meets Charles Barkley Im pop the Barkers Im hood the Parkers While yall was in limbo I raised the bar up I touched on everything Married to the game rocachain instead of a wedding ring Yall bridesmaids catch the garter On nights when Ye romance Cameras flash so much That I gotta do that Yayo dance Im on a world tour with Common my man After each and every show a couple dykes in the van Its easy The hood love to listen to Jeezy and Weezy And oh yeah Yeezy I did it for the glory What am I supposed to do now Man the game all messed up How Im suppose to stand out when everybody get dressed up So yeah at the Grammys I went ultra Travolta Yeah that tuxedo might have been a little guido But with my ego I can stand there in a speedo And be looked at like a fucking hero The glory the story the chain the polo the night The grind the empty bottles of NoDoz Tank on empty whipping my mammas Volvo I spent that gas money on clothes with logos The fur is Hermes shit that you dont floss The Goyard so hard man Im Hugos boss Why I gotta ask what that Tudor cost House on the hill Two doors from Tracey Ross And Im asking about her girlfriends Yeah the dark skined ones She asking about the speed boats yeah I admit we rented em When you meet me in person what do you feel like I know I know I look better in real life I hear people compare themselves to big a lot You know BIG and Pac you know to get it hot I guess after I live I wanna be compared to BIG Any one Big Pun Big L or Notorious Till then get money and stunt and stay glorious And Im gonna stop killing these niggas soon as the chorus hit I miss the misogyny bad bitches massagin me Sometimes we lowered our standards at the colleges So please dont judge me uh for the followin Fat bitches swallowin skinny bitches modelin Take off that Givenchy and lets get raunchy I have your face looking all Captain Crunchy The devil stay testing cause when you chase the pussy its a sin But if it falls in your lap its a blessin Soon as I got salad I spent it all on dressin French to be exact that Balmain was impressive Hedi Slimane leathers My homie Mali used to stay at th and May One of my best friends from back in the day Down the street from Calumet a school full of Stones He nicknamed me KRock so they would leave me alone Bulls jacket with his hat broke way off And walked around the mall with his radio face off Plus he had the spinner from his Daytons in his hand Keys in his hand reason again to let you know hes the man Back when we rocked Ellesses he had dreams of Caprices Drove by the teachers even more by polices Howd he get the cash The day his father passed away Left him with a lil somethin he was stuntin Al B Sure nigga with the hair all wavy Hit Lake Shore girls go all crazy Hit the freeway go at least bout eighty Boned so much that summer even had him a baby See backback thenthen if you had a car You was the ChiTown version of Baby And I was just a virgin a baby One of the reasons I looked up to him crazy I used to love to play my demo tape when the system yanked Felt like I was almost signed when the shit got cranked Wed take a Saturday and just circle the mall They had they Lincolns and Auroras we was hurtin em all With the girls a lot of flirtin involved but dog Fuck all that flirtin Im tryin to get in some drawers So put me on with these hoes homie He told me dont rush to get grown drive slow homie I do it for the forefathers yeah the street authors That are now ARs in the cheap office Rappers that never got signed but they keep offers Girls thats way too fine for us to keep off us Gave her a handshake only for my mans sake She in her birthday suit cause of the damn cake Now theres crumbs all over the damn place And she want me to cum all over her damn face I never understood planned parenthood Cause I never met nobody planned to be a parent in the hood Taking refills of that Plan B pill Another shorty that wont make it to the family will If I dont make it cant take it hope the family will They aint crazy they dont know how insanity feel Don C just had a shorty so its not that bad But I still hear the ghosts of the kids I never had No electro no metro a little retro ahh perfecto You know the demo your boy act wild You aint get the memo Yeezys back in style Now one room got Gidget the other got Bridget Whats more tripped out dawg is they sisters Nah you aint listen they black they sistas They momma named them after white bitches So next time you see me on your fallopian Though the jewelrys Egyptian know the hungers Ethiopian Stupid questions like ‚ÄúIs he gon be dope again Have you seen him has anybody spoke to him‚Äù This beat deserves Hennessey a bad bitch And a bag of weed the Holy Trinity In the mirror where I see my only enemy Your lifes cursed well mines an obscenity and and and and get them sit ups right and Tuck your tummy tight and do your crunches like this Give head stop breathe get up check your weave Dont drop the blunt and disrespect the weed Pick up your son and dont disrespect your seed Its a party tonight and ooh shes so excited Tell me whos invited you your friends and my dick Whats scary to me is Henny makes girls look like Halle Berry to me So excuse me miss I forgot your name Thank you God bless you good night I came I came I came Oh girl your silhouette make me wanna light a cigarette My name Kanye from the Jigga set Twista said Get It Wet Ooh girl your breath is harsh Cover your mouth up like you got SARS Off them tracks yea I bought them cars Still kill a nigga on bars We aint sweating to the oldies We juking to a cold beat Maybe one day girl we can bone So you can brag to all your homies now But I still mess with a big girl If you aint fit girl Ill still hit girl and you brought friends OK more now hop in the Benz door do you know the difference between a All the mocha lattes you gotta do Pilates You gotta pop this tape in before you start back dating Hustlers gangstas all us ballas Pray for me Im about to hit the Ye button I dont wanna say nothin wrong But itd be wrong if I aint say nothin Imagine if I aint say somethin Wouldnt none these niggas say nothin I done lost and made money Now Im makin somethin they cant take from me And Im fresh out of debt in this mothafucka And they still aint ready yet for a mothafucka Yeezy might have to go and put his Louis on Im bout to go Gucci in the Gucci store Im not loving you way I wanted to What I had to do had to run from you Im in love with you but the vibe is wrong And that haunted me all the way home So you never know never never know Never know enough til its over love Til we lose control SYSTEM OVERLOAD Screaming No no no nnooo Im not loving you way I wanted to See I wanna move but cant escape from you So I keep it low keep a secret code So everybody else dont have to know Im not loving you way I wanted to I cant keep my cool so I keep it true I got something to lose so I gotta move I cant keep myself and still keep you too So I keep in mind when Im on my own Somewhere far from home in the danger zone How many times did I tell you fore it finally got through You lose you lose Im not loving you the way I wanted to See I had to go see I had to move No more wasting time you cant wait for life Were just racing time wheres the finish line Im not loving you way I wanted to I bet no one knew I got no one new Know I said Im through but got love for you But Im not loving you the way I wanted to Gotta keep it going keep the loving going Keep it on the roll only God knows If I be with you baby Im confused You choose you choose Im not loving you way I wanted to Where I wanna go I dont need you Ive been down this road too many times before Im not loving you way I wanted to Primetime basking in the lime Cassius in his prime coloring out of the line Cause they dont want nobody thats colored out of the lines So Im late as a motherfucker colored people time Damn Yeezy it all gotta be dimes Well Adam gave up a rib so mine better be prime Niggas gonna kill me I swear they better be lying I never live in fear Im too out of my mind Primetime never hit these heights I mean its like its like our first firstclass flight Im tripping on it socks on marble floors Im slipping on it Champagne Im sipping on shit tastes different dont it You know what You right Its like the best damn champagne I had in my life When you coming home Thats a text from my wife I told her run a bubble bath And float in that motherfucker like a hovercraft And soak in that motherfucker til I call you back I mean who says shit like that and doesnt laugh Hah Feelin better than some head on a Sunday afternoon Better than a chick that say yes too soon Until you have a daughter thats what I call karma And you pray to God she dont grow breasts too soon Projects to up gang signs is thrown up Niggas hats broke off thats how we grow up Why else you think shorties write rhymes just to blow up Get they first car and then IRS show up He aint never had shit but he had that Nigga come through flickin and he had that shine Put and together and a little bad weather Gon be your whole family on that funeral line Asked the reverend was the strip clubs cool If my tips helped send a pretty girl through school Thats all I want like winos want they good whiskey I aint in the Klan but I brought my hood with me Can I talk my shit again Can I talk my shit again I cant believe Im back up in this muhfucker Imma be late though I gotta figure out what Im finna wear Yeah the Roc is definitely in the building GOOD Musics definitely in the building I gotta say whats up to Tony Williams On the vocals sings he sings quite beautifully Dont you agree Dont you agree Uhh and Jon Brion on the keys right now And Warren Campbell on the keys right now So they ask me why you call it Late Registration Ye Cause we takin these muhfuckers back to school If you know this part right here feel free to sing along I know its past visiting hours But can I please give her these flowers The doctor dont wanna take procedures He claim her heart cant take the anaesthesia Itll send her body into a seizure That lil thing by the hospital bed itll stop beepin Hey chick Im at a loss for words What do you say at this time Remember when I was Tell her everything gon be fine but I be lyin Her family cryin they want her to live and she tryin Im arguin like what kind of doctor can we fly in You know the best medicine go to people thats paid If Magic Johnson got a cure for AIDS And all the broke motherfuckers passed away You telling me if my grandmas in the NBA Right now shed be okay But since she Was just a secretary worked for the church for years Things sposed to stop right here My grandfather tryin to pull it together hes strong Thats where I get my confidence from I asked the nurse Did you do the research She asked me Can you sign some tshirts Bitch is you smokin reefer You dont see that we hurt But still They outside of the emergency room room You can feel my heartbeat beat beat If she gon pull through we gon find out soon But right now she asleep sleep sleep My momma say they say she could pass away any day Hey chick what these doctors know anyway Let me see the Xrays I aint no expert Im just hurt Cousin Kim took off of work Plus my Aunt Shirley Aunt Beverly Aunt Clay and Aunt Jean So many Aunties we could have an Auntie Team Feel like Amerie its just One Thing When they said that she made it you see they eyes gleam I think we at a alltime high To get there we run we fly we drive Cause with my family we know where home is And so instead of sending flowers were the roses Imma get on this TV mama Imma Imma put shit down Imma make sure these lightskinned niggas Never ever never come back in style Told em I finished school and I started my own business They say Oh you graduated No I decided I was finished Chasing yall dreams and what youve got planned Now I spit it so hot you got tanned Back to school and I hate it there I hate it there Everything I want I gotta wait a year I wait a year This nigga graduated at the top of our class I went to Cheesecake he was a motherfucking waiter there I got a Jones like Norah for your soror Bring more of them girls Ive seen in The Aurora Tammy Becky and Laura or a Shirley Im trying to hit it early like Im in a hurry See thats how dude became the young Pootie Tang tippy tow Rocafella chain yeah thats my rapper style Rosary piece yeah thats my Catholic style Red and white Ones yeah thats my Kappa style And I aint even pledge Crack my head on the steering wheel and I aint even dead If I could go through all that and still be breathing Bitch bend over Im here for a reason Whats your addiction Is it money Is it girls Is it weed Ive been afflicted by not one not two but all three Shes got the same thing about me but more about us Shes coming over so I guess that means Im her drugs Just let me peek now I mean damn Im so curious Shes got a lover so the lies and the lust is a rush Times of the essence I need you to be spontaneous Roll up the doja Henny and CocaCola Then Im co coming over cause its never over I see the emotion in your eyes that you try not to show We get the closest when you high or you drunk or you blown So I pour the potion so we could both get high as we could go Then Ill get the lotion and do somethin to me when your thighs is exposed Theres no turning back now I mean I dont mean to impose Not now but right now I need you to undress and then pose Im into that now catch a vibe when the doors get closed Roll up the doja Henny and Coca Cola And I keep co coming over cause its never over Lift off lift off takin my coat off Showing my tattoos Im such a show off huh I feel the pain and then roll off I got the whole city they about to go off How many niggas with me up and in the aisle How many people want to roll on me now Like you know na na na you know me by now Know me know me by now Dude Fresh off the plane Konnichiwa bitches Turn around another plane my passport on pivot Ask for it I did it that asshole done did it Talked it then he lived it spit it then he shit it I dont need writers I might bounce ideas But only I could come up with some shit like this I done played the underdog my whole career Ive been a very good sport havent I this year They say he going crazy and we seen this before But Im doing pretty good as far as geniuses go And Im doing pretty hood in my pink polo Nigga please how you gonna say I aint no Lohead Cause my Dior got me more model head Im insulted you should go head And bow so hard until your knees hit your forehead And the flow just hit code red Top MCs you aint gotta remind me Top MCs you gotta rewind me Im high up on the line you could get behind me But my heads so big you cant sit behind me And she claims she only with me for the currency You cut me deep bitch cut me like surgery And I was too proud to admit that it was hurting me Id never do that to you at least purposely We breaking up again we making up again But we dont love no more I guess we fucking then Have you ever felt you ever want to kill her And you mix them emotions with tequila And you mix that with a little bad advice On one of them bad nights yall have a bad fight And you talk about her family her aunts and shit And she say Motherfucker your mommas a bitch You know domestic drama and shit all the attitude Id never hit a girl but Ill shake the shit out of you But Imma be the bigger man Big pimpin like Jigga man Oh I guess I figure its And my niggas said I shouldnt let it worry me I need to focus on the girls we gettin currently But I been thinkin and it got me back to sinkin And this relationship it even got me back to drinkin Now this Hennessy Its gonna be the death of me And I always thought that you having my child was our destiny But I cant even vibe with you sexually Cause every time that Id try you would question me Saying You fucking them girls disrespecting me You dont see how your lies is affecting me You dont see how our life was supposed to be And I never let a nigga get that close to me And you aint cracked up to what you were supposed to be You always gone you always be where them hos will be And this the first time she ever spilled her soul to me My friend showed me pictures of his kids And all I could show him was pictures of my cribs He said his daughter got a brand new report card And all I got was a brand new sports car oh Dad cracked a joke all the kids laughed But I couldnt hear him all the way in first class Chased the good life my whole life long Look back on my life and my life gone Where did I go wrong My godsister getting married by the lake But I couldnt figure out who Id wanna take Bad enough that I showed up late I had to leave before they even cut the cake Welcome to heartbreak Driving around town looking for the best spot For the drunk and hot girls Up in the club look at here what we got Some drunk and hot girls Stop dancing with your girlfriend and come dance with me Stop talking bout your boyfriend since he is not me Stop running up my tab cause these drinks is not free You drunk and hot girl I dont want to drop your friends off I just want you You drunk and hot girl You want to sit down but we hit the drivethru You drunk and hot girl Please dont fall asleep baby we almost back Please dont throw up in the car we almost crashed Oh now you sober howd I know youd say that You drunk and hot girl Dont tell me you sing you about to get a deal You drunk and hot girl Ah da da da da Thats how the fuck you sound You drunk and hot girl yeah You only live once do whatever you like I thought Id be with you for only one night Now Im with this girl for the rest of my life That drunk and hot girl Two words Chitown South Side worldwide Cause I rep that til I fuckin die One neck two chains one waist two gats One wall twenty plaques dues paid gimme that I am limelight Blueprint five mics Go Getters rhyme like shouldve been signed twice Most imitated Grammy nominated Hotel accommodated cheerleader promdated Barbershop playahated momandpop bootlegged it Felt like it rained til the roof caved in Two words Chitown raised me crazy So I live by two words fuck you pay me Screamin Jesus save me You know how the game be I cant let em change me Cause on judgment day you gon blame me Look God its the same me And I basically know now We get racially profiled Cuffed up and hosed down pimped up and hod down Plus I got a whole city to hold down From the bottom so the tops The only place to go now I told her to drive over in your new whip bring some friends you cool with Imma bring the Cool Whipthen I want you to strip See you is my new chickso we get our grind on She be grabbing calling me Biggie like Shyne home Man I swear she finehomeswhy she always lying though Telling me them diamonds when she know they rhinestones She got a lightskinned friend look like Michael Jackson Got a darkskinned friend look like Michael Jackson I played Ready for the Worldshe was ready for some action My dogg said you aint a freak so you gotta prove my man wrong Imma play this Vandross you gon take your pants off Imma play this Gladys Knightme and you gon get right Tell me right now You really wanna spend your whole life alone A little time out might do you good might do us good Before we be done for good Cause I could make it good I could make it hood I can make you come I can make you go I can make you high I can make you fly Make you touch the sky hey maybe so All of the time You be up in mine checking through my cell phone baby no You wanna kill the vibe on another night Heres another fight oh here we go All of the time You wanna complain about the nights alone So now youre here with me Show some gratitude leave the attitude way back at home Yea you see em look Baby let em look give us cold looks cause we look cold Yea you heard about all the word of mouth Dont worry about what we cant control All the talk in the world lost in the world Till you finally let that thing go You wanna check in to the heartbreak hotel But sorry were closed How we stop the Black Panthers Ronald Reagan cooked up an answer You hear that What Gil Scott was hearing When our heroes or heroines got hooked on heroin Crack raised the murder rate in DC and Maryland We invested in that its like we got Merrill lynched And we been hangin from the same tree ever since Sometimes I feel the music is the only medicine So we cook it cut it measure it bag it Sell it the fiends cop it nowadays they cant tell if Thats that good shit we aint sure man Put the CD on your tongue yeah thats pure man From the place where the fathers gone the mothers is hardly home And the Madigans lock us up in the Audy Home How the Mexicans say we just tryin to party holmes They wanna pack us all in a box like styrofoam Who gave Saddam anthrax George Bush got the answers Back in the hood its a different type of chemical Arm Hammer baking soda raised they own quota Right when our soldiers ran for the stove cause Cause dreams of being Hova Went from bein a broke man to bein a dopeman To bein the President look theres hope man This that inspiration for the Moes and the Folks man Shorty come and see his momma straight overdosin and this is the soundtrack This the type of music that you make when you round that You cant buy this Superflyness like a shine is Your Highness is performing look how long the line is Its what happens when you make shit thats timeless Its what happens these rappers is the pioneers What do it take to be a legend like Nas is Thats so novice Im so polished I got a right to be a lil bit snobbish I did a lil bit of college Semesters it took two like Rob Base To let me figure out this wasnt my place The beats slow til you listen to my pace Cause I be killing shit but thats evident And yall feeling it but I expected it If its classic its gon last forever then Im everywhere you never been and better than I ever been Bout the baddest girl I ever seen Straight up out a movie scene Who knew she was a drama queen Thatd turn my life to Stephen Kings Up late night like she on patrol Checking everything like Im on parole I told her theres some things she dont need to know She never let it go oh Just looking at your history Youre like the girl from Misery She said she aint take it to this degree Well lets agree to disagree Shorty kind of crazy but it turn me on Keep it up enough to keep it going on I told her theres some things she dont need to know She never let it go oh Golly more of that bullshit ice rap I got to pologize to Mos and Kweli probably But is it cool to rap about gold If I told the world I copped it from Ghana and Mali Mali First nigga with a Benz and a backpack Ice chain Carti lens and a knapsack Always said if I rapped Id say somethin significant But now Im rappin bout money hoes and rims again And its still about the Benjamins Big faced hundreds and whatever other synonyms Strippers named Cinnamon More chips than Pentium Whatcha gon buy next Whatever new trend it is Im tryin to spend my stacks And Im so broke I look back like Damn was I on crack I mean twelve platinum chains was I on that What the hell was wrong with me dog Sing along with me yall Now even though I went to college and dropped out of school quick I always had a PhD a Pretty Huge Dick Ladies tired of gettin ripped off by guys like this And givin head is like a whale thats usin a toothpick Well Im in the club for a limited time Act now and get some action for free Later on I might charge for menage Heard her man was the boss of the floss But she still want to toss me the drawers And it aint gon cost me because she my caddy Cuz she grabbed my golf balls in the club And Im still actin calm denamuhh She asked Can you drive me in the hundreds where my Altima was While we drive she tellin me bout problems with her man Baby I fully understand Let me help you with a plan While he trickin off dont get no rich nigga Give ME some head thatll really piss him off I blow past low class niggas with no cash In the four dot six bitch you can go ask So when I go fast popo just laugh Right until I run out of gas or til I go crash Whatever comes first Im prepared for the worst Whatever comes second Ill be there with my weapon Pullin up in the Lexuses one on both hand So I guess them GSes was ambidextrous Coulda sworn her breasteses was sendin me messages K I need a free hand mammogram I got weed drink and a Handicam All of which is legal in Amsterdam So say my name like Candyman And Imma come and fix you up like the handyman But if you dont need a fix girl you gotta leave You cant take that all at one time ya gotta breathe Stop all your blood clot cryin I was flyin Made it to school with barely nuff time to sign in Yeah I hear the alarm yeah I hear ya mom Yeah yeah I dont wan be broke when Im They said the best classes go to the fastest Sorry Mr West theres no good classes and thats what yo ass get Not even electives Not even prerequits You mean I missed my major by a couple of seconds Now Im in the shop class or the basket weavin With all the rest of the muhfuckers underachievin Man this is an insult I went to junior high with all of them and they been slow If I can catch the beat then slow down the tempo Just throw this at the end if Im too late for the intro Will I make it from the student loans to a Benzo Like old folks pissin I guess it all depends oh oh Stop your cryin baby You know when you be late you miss all the lights Thats right thats right thats right thats right And when you get back she gon start up a fight That night that night that night Baby its too late for that lately Ive been takin it slow Try and make it to the party fore the guest list close With the freshest hoes the professors know We about to get real unprofessional Like them eskimos what would you do for a Klondike Or two dykes that look Christina Milianlike Hm Ill be on time for that I aint thought of no line that could rhyme with that Yo Ill be there in five minutes five hours later Ill be there in five minutes go head ride with it Im so live with it look how I did it Been bullshittin but I finally arrived with it I know its late and I took all year but You can stop complainin cause Im finally here yeah We gon to Mass today we have to pray Besides what the pastor say I have to say Since Pac passed away Most you rappers dont even deserve a track from me You see if you ever wanted to ever be anything Thered always be somebody that shoot down any dream Therell always be haters thats the way it is Hater niggas marry hater bitches and have hater kids But they gon have to take my life fore they take my drive Cause when I was barely livin thats what kept me alive Just the thought that maybe it could be better than what we at at this time Make it out of this grind fore Im out of my mind And get some leeway on the he say she say Your girl dont like me how long has she been gay Spanish girls say Yo no hablo ingl√©s And everybody want to run to me for their single Its funny how these wack niggas need my help Wasnt around when I couldnt feed myself Dawg if I was you I wouldnt feel myself Dawg if I was you Id kill myself Made a mil myself and Im still myself And Imma look in the mirror if I need some help Now Ill speak from the heart yall all frontin Everybody feel a way about K but at least yall feel something Such an easy morning we on a ride And Im feeling smooth as the way the Benz drive Turn the radio down if they playing that bullshit They dont want black people to think and drive I mean my whole team bout to smash the streets The Phillip Lim remind them that its Fashion Week And the weather wasnt barely hot Did I mention that the sweater was a Jeremy Scott Did I mention GOOD Music and forever we hot Motherfucker are you ready or not Merry Christmas to all and all a good night Huh now we all livin the good life Yeah though its forty below the wind chill And we wipin snow up off the windshield Its still wonderful night to be alive baby And Im so happy Im with my baby And we a little late with the Christmas gifts Rushin for the mall dont trip you know I drive crazy The streets lit up it feel like Christmas officially Told her that ‚ÄúYou the star at the top of my Christmas tree‚Äù My only question is ‚ÄúWhere my presents‚Äù She said ‚ÄúShhh‚Äù she got a gift for me that aint for the kids to see Well I like the way you think mami Now pour some more eggnog in you drink mami Youve been a bad girl give Santa three kisses Gave her the hot chocolate she said ‚ÄúIts Deericious‚Äù Why you actin all Shy and all Why is yall Lyin for I never did this before Stop that What you want some Patron I got that I mean I promise yall You fine and all And your girlfriend she kinda raw But she not like you No she not like you Right now I need you to mute all the monologue All that talking is gon give me a Tylenol You put a nigga to sleep Im tired of yall Right now the Louis Vuitton don is signing off See you know my style Im very wild And I vow that my child will be well endowed Like his daddy And tell him that your mama had a fattie He looked up at me said daddy thats the reason why you had me Yep we was praticing Til one day your ass bust through the packaging You know what though You my favorite accident So go head pop some Cristal For my newborn child cuz now yall Right now I can see it so vivid Like it was just yesterday like I could relive it Me and my grandparents on a field trip And Im the little kid tryna touch the exhibits But itll fade before I get to get a hold of that Man I wish I could stop time like a photograph Every joke that they told Id know to laugh Man man I wouldnt let a moment pass What do it mean when you dream that you fallin What do it mean when you dream that you ballin What do it mean when you never dream at all then And you dont really know cause you cant recall them Its sorta fly you get a chance to say hi to People you never got a chance to say bye to Maybe you could pull em up outta your dreams Into real life real life if you try to So close so close but so far so far And so far so far no cigar no cigar We cant dwell on the past all we got is today So Imma live like its no tomorrow No goodbyes Her heels set the mood Where did you acquire those Alaias When I met you I heard Jesus bells strings and the choir I got lines thats better than niggas albums plural The king of the urban make your shit sound rural She said I hit it so deep she need a epidural Them other niggas have you looking like a squirrel Now that nuts I only hang with white boys that like black sluts Tell them Plain Pat yo that track sucks We aint dissing you But you in the position to play something for us to listen to Im trying to worry about my scratch minus the crabs I aint stopping for you niggas like yellow cabs I got scripts so why we need a movie And if Im a douche then put me in your coochie I swear they should have never gave these niggas loose leaf And excuse me if Im trapped by the boobies booby trapped They try to tell me my chain broke the levee Maybe cause its flooded Why you walk around with a baby crosss cousin My teeth already white yall gon make me floss for nothing My teeth real diamonds whats the cause of the fronting Why yall got all caps on Don Cheadle time get extra black on em Burn Hollywood burn Take too long for niggas to get they turn Probably be cremated before I get my earn They try to tell me that aliens built the Pyramids I swear lifes a bitch on a period For every inch they cut the nose off the Sphinx I make my jeweler add a few more links You can look at me tell I dont give a fuck what nobody think And my face always looking like somebody stinks Question what color was the skin of the man who beared the cross No matter how many lashes they couldnt beat it off How many Cassius will we see in one lifetime Thats why its Miles Davis Kobe its Mike time I keep that GOAT book on the ottoman And wrote hooks about slaves that was slaughtered in the s Yall forget that I got called nigga On Twitter so many times yo I lived that Now Im just tryna find where to raise my kids at Cause they dont want niggas next to where they crib at Hey realtor Im lookin for a nice park Twelve noon she said my family gon make it too dark This is the flow that solar eclipses So hopefully one day that real soul will eclipse The bullshit they got us listening to in this existence Dont give up now just a little more persistence I am the day Ice Cube met Michael Jackson Keep him away huh Something might happen This is the making of a masterpiece So we broke out the chains and told the master Peace I sold my soul to the devil thats a crappy deal Least it came with a few toys like a Happy Meal This game you could never win Cause they love you then they hate you then they love you again Get away from me misery Get away from me lonliness Get away from me fake bitches I cant take the phoniness Get away from me wack tracks I can only make only hits Im an only child lost in the World Where do the lonely kids go when the bell ring Its feeling like Hell rings Bringing me back down Checking my background Its ironic whats happening Imagine if I didnt have the ends I wouldnt have so many imaginary friends Im spaced out Dogg I be on that moon talk Wonder if God ask Mike how to moonwalk I swear to momma wish me and my father talk more I stopped visiting around the time I was a sophmore I guess everything I hate about me I see in him And we aint finna change so well never agree again Till then Ill be pouring out my soul Just a few things I see with my eyes closed I sold my soul to the devil I know its a crappy deal At least it came with a few toys Like a Happy Meal Im spaced out dog I be on that moontalk I wonder if God asked Mike how to Moonwalk You know the entertainment Angels Adriana for Giselle Lets exchange Angels Photoshoot at my crib Lets exchange angles Rockin nothin but them Tom Binns bangles My heart so anxious gettin anxiety Begging one of these fuckin fashion houses to hire me They say Ive been an asshole I said if you acquire me I can be a quiet me call it verbal dieting Give me your herbal chai tea Ill be calm as Tai Chi With a bad white bitch like IceT Im not right dog Im slightly off Im paranoid like bonin raw dog And wakin up with a slight cough Yea thatll make ya dick quite soft Plus my neck hurt too lemme take all this ice off Never meant to hurt you I shouldve had nights off But it cost too much to live and I never took the price off Dont let me hold you back I only hold you back Were on a deadend street this block has got a culdesac So fly baby my baby so high Sometimes its so hard to say bye We made it from the alley straight up to the valley We pulled up at the valet well teach our daughter ballet Well raise us a Beyonce maybe shell be a Halle You wouldve been the best mom I would have been the best Ye You see it all in my veins like varicose I know thats very gross but we getting very close To our end though I killed most with a pen Soon as this flow end Imma let Mos begin You know what I figured out Im not a nice guy I shook hands kissed babies gave it a nice try You know what I hate pictures of other peoples kids I hate plastic couches in other peoples cribs I hate when other peoples cribs smell like shit I hate when I leave and smell like the crib Whats the cause of the poor smell She said I just cleaned up Baby I cant tell Why every ghetto bitch gotta smell like Love Spell Or that god damn cucumber Bath and Body Works I can still smell the sweat the shit hardly works What about Cool Water That shit probably worse This here a classic like the Lodi Dodi verse And my man probably hollered at the hottie first I score he took the charge Oooh that shit gotta hurt Its the nigga they love to hate But all the bad model bitches they love to date You need to check my swag and get up to date Check check my swag and get up to date We in the bathroom now she get her back blew out She cant clean but I bet she got a vacuum mouth And I bet Im going to sweat her Vidal Sassoon out Her pen busted goddamn who brought the raccoon out For the team He walked in our lives I was only five Superman pajamas I was super duper fly Sittin there like why He at least HooperSize You know I scrutinize like Who this newer guy Im my mama boyfriend Im her little husband I was the man of the house when it wasnt Tryna get to know me homie Just kill the charm You aint interested in me you just tryning to fuck my mom We all the voices of our parents bad choices The aftermath of divorces the kids of bitter splitups And babysitters and grandparents dont know what do to with us And the last thing I want to see is mamas new nigga You old Old Spice wearing short chain wearing Dress shoes and jogging pants wearing church sock wearing When you first stop caring about your appearance When you get here anyway I already got parents Dont try to put me in line I already got crayons My mama said I could do it I already got clearance Keep your hands off my mama how Anita got Clarence Yall I know she look good but you need to stop staring I drew a picture of her thatd make her proud But the door was locked and the TV up so loud I screamed out I aint going to sleep no time soon And when I do Im sleeping in my mamas room Twenty years later where has the time gone Now you see Im dating having problems of my own Now that Im grown the tables turned around I never thought Id ever raise another niggas child He dont like his mamas boyfriend just like me Dont wanna do the wrong thing thats very unSpike Lee But he be like D Bo round his mama there Cause when she here he be quiet when she leave he be talking again He be wilding out be calm I dont drink the drama or sip the DomTylerPerryon You gonna marry my mom Look I dont read palms And I dont read Psalms but I did take little man to church Took little man to school Look little man kids dont make the rules Even though I aint raised you you your mamas angel Dont get it twisted baby boy Ill Ving Rhames you There must be more good women than men percentage wise So her chance of having a husband just minimized Thats why a lot of girls claim they aint into guys And mess with other girls part time to improvise I knew she wasnt bi No I seen it in her eyes But Im like any other guy trying to get in her thighs She telling me about how black people should enterprise And Im like if you dont get your ass in this ride from Enterprise That I rented yesterday and gotta have in by With the gas fully filled up like I didnt drive Told her I had a girl nah fuck it I didnt lie Told her this rap game is alright Im just getting by She had a lil weed and would get a lil high And Im looking in her eyes and Im loving her vibe Told me back in she fell in love with the Tribe Boo back in I was just like you Please dont be confused by the ice and jewels Im like any other nigga buy ice to stay cool Like any other nigga that claim they hate school And think yeah Frees banging but shes no Rachel Was it something I did wrong Yeah I know Im wrong Shes at home alone and Im always gone Hate it when she mad but more when she passive Now she on the internet looking for classes Out of state though man that hurt yo But I got work though and Im at work yo And she dont call a lot And when she do she pouring out her heart You never listen to me then the call drop hmmm And I promised her everything Told her when I get a deal Ill get her a wedding ring But when I got my deal I was back in the ring Fighting my urges strip club splurges Never had money so I felt like a virgin And Im trying to break the banks cherry Tryin to see can I afford Canaries With a Ferrari and a dinner date with Halle Berry Went from fifty gs to fifteen hundred in a week No Im trying to callone ringtwo ringsseven ringseight rings Her mother picked up the phone Like she in school and she dont stay here no more I guess theres more good women than men percentage wise So her chance of having a husband just minimize I guess thats why she says she aint into guys And focus on school fulltime to improvise Somebody told me that Deltas brownskinned AKAs lightskinned And they supposed to be bougie so they got white friends First day of school Imma take you sight seein Show you what we do on weekends for excitement She said I know what you about to say like your hypeman Last year a nigga hit her and now she only date white men And if a nigga even wave at her its frightnin but Roll some think Ill roll some To know some if we both honest Who lasts yeah you lie Spent the whole summer Tryna be at the wrong place at the right time But I know whats mine when I see it I know I know I know when I see it Riding down the baby Pacing thinking to myself If I should make it right When I pulled up to the light And then my phone started ringing Diamonds in the colors of those eyes Dont know why but I know a sign when I see it Yeezy Neyo the remix ayo I think its time to hit em with the Mase flow My uh she was gettin the best of me But oooh child you my destiny and I know its especially Hard with all these girls just testing me Uh and you gon question me If she even stand next to me but you should laugh Cause you my better half woman laughing And these girls just fighting over the rest of me Right now it feels so crazy I know she just some lady And my outfit is just so s Not to mention McLaren Mercedes And the inch rim wheels looks so good with your inch heels Fly that you be on Gucci on aligned by Louie Vuitton And we high as the way we cruising on High like I like mercury Why do I mention the solar system Cause you in my soul and system And we gon take her home with this one I got something that you gon like You got something that I cant fight We got something that we both gon like My homie called me like what up man Not from Florida but what up fam Its been a whole lot of hatin again And if they hatin on me damn what up then I met this girl when I was years old And what I loved most she had so much soul She said Excuse me little homey I know you dont know me But my name is Windy and I like to blow trees And from that point I never blow her off Niggas come from out of town I like to show her off They like to act tough she like to tow em off And make em straighten up they hat cause she know they soft And when I grew up she showed me how to go downtown In the nighttime her face lit up so astoundin I told her in my heart is where shell always be She never messed with entertainers cause they always leave She said it felt like they walked and drove on me Knew I was gang affiliated got on TV and told on me I guess thats why last winter she got so cold on me She said Ye keep making that platinum and gold for me But if you really cared for her Then you would have never hit the airport and followed your dreams Sometimes I still talk to her But when I talk to her it always seem like she talkin bout me She said you left ya kids and they just like you They wanna rap and make soul beats just like you But they just not you And I just got through Talkin bout what niggas tryin to do just not new Now everybody got the game figured out all wrong I guess you never know what you got till is gone I guess thats why Im here and I cant come back home And guess when I heard that when I was back home In the interviews Im representin you makin you proud Shoot for the stars so if you fall you land on the clouds Jump in the crowds Spark ya lighters and wave em around If you dont know by now Im talkin about Chitown Get you a cute chick face got potential Working with her little hips waist like a pencil Know how niggas play you but you know how Ye do Says she love Beyonce let me upgrade you Spanish chick grab my chain says is that HeSus If Im unfaithful blame it on the Grey Goose All my friends says implants is a selfish gift they all up in She aint pregnant but about to have twins Now is it real love I need to ask Cupid She real smart but her ass stupid And she gon finish school and get all type of degrees But I bet she never had them Ds Walking down Melrose spot where they sell clothes That chick know she bad tell by the Chloe bag She aint no hoodrat she aint gotta prove that I peep the McCartneys Stella got her groove back Hold on lemme ask you why you spend your money on that shallow shit Why dont you buy some bigger tits Something thatll last you I couldnt tell you if Halles really real But Ima let you know soon as I get a chance to feel I dont need no hands to know Lindsey Lohan She on the same program as Britney is you wit me Thats why I respect Alicia Keys She say fk getting them Ds Ima just ride out with these They call me Edward Scissorhands cause Im trying to cut She claim she got cramps Im gone get you to suck And you not gonna use your teeth you hear You gon find out What Lies Beneath right here The Preachers Wife Dont give head get a divorce man The kids been calling you the headless horseman Like Sleepy Hollow see she swallow Suck like ol girl got booed at Apollo Ghosts use my Hollow Man for Friday th You be Ghost Backdraft from the toast Niggas who drop names is oh so shameless Get a chain thats stainless they Almost Famous My bling got em calling me Lord Of The Rings The Shining make it hard for her to Do The Right Thing But I Dont Say a Word Ill never tell Until you get a Kanye beat youll never sell Shits deeper than The Sleepers Jeeper Creepup on your block and cops Clockus Try to Baller Blockus use Absolute Power You gave him Weeks Why you trying to Rush Hours huh And in The Cell dont drop soap in the showers huh They try to give me Life Im out in an hour huh Back on the block with more Juice than Pac Makin Mo Money cause of The The The The Roc AyeB C D E F We picking up right where we left Off and I took a recess When I get back you gon take that Off in the mirror like hey me stay me I make money money dont make me Hey honey what do you take me For dont look at me like Im crazy Dont ever think thatd phase me You aint finna do nothing you aint crazy You aint built like that Hey baby what it feel like ahhh Just forget I said it screw it It dont really matter what you do when you do it Tony Williams in this bitch who you is Im feeling like Stevie right now you know‚Ä¶ I had the strangest feeling lately The niggas so fake Im off it And every time they flake like frosted I just make my profit And get a girl who barely bra fit Aw shit He back on his feet like carpet He was just playing possum Playing like I wasnt awesome Yeah I got some jokes dont I Ha ha ha laugh it up And theyll be wack And well be the last ones cracking up Matter fact because you nigga wanna doubt me Lets see how it feel without me Taking off on this rocket Yao Ming I dont wanna hear that bull shit I wanna hear that official shit Kanye and that Twista shit thats so impossible to get it its just impossible Get it thats so impossible to get it Get it thats so impossible to get it Its impossible Get it roll the weed up and lit it Smoke a little but dont admit it Do it like I did too late I did it The controversy cant worse me man Im eating but Im still thirsty and Thirsty what is you saying I gotta a duel with a couple niggas thats Thursday man Why the hell is Im worrying hopping out the Benz with the perfect Man your life must be perfect man look at how they came up with the perfect plan Its impossible Got strip clubs playin gosspital Girl so sick in the hospital You know I jumped out like Pacll do You know you throw your diamonds when I rock with you Since Michael Jackson made Rock With You I done did shit on logical Maybe cause we did the impossible Maybe we done did the impossible I wish all wack niggasd get out the game You cant con me thats half my name And if you had any brains You wouldnt wanna lose half your brain By hating on players in the game Wack nigga the beat go ‚Äúduh duh da‚Äù And then yo flow go way the fuck off I kill yall niggas on that lyrical shit Mayonnaise colored Benz I push Miracle Whips But Im not trying to cause commotion And have my niggas bring all the toast in I just want your girl to rub my balls with lotion Cuz you got madder if ya But you came at me like ‚ÄúYo I got the Kia with the woodgrain Yeah you would lame ‚ÄúOn the real in the street I got the good name I got the TV ‚Äì‚Äú Yeah thats good man Ah Yeezy Yeezy how you do it huh Its my birthday I deserve to be greedy huh She holding out she aint giving to the needy huh You go downstairs and fall asleep with the TV on Yall been together ten years you deserve a m√©nage Especially if you put that BMW in the garage Especially if you paid a couple payments on her Mamma crib Went to her nieces graduation man I hate those kids Last birthday she got you a new sweater Put it on give her a kiss and tell her do better She said how bout I get you jewelry from the West End How bout she hit the Westin and get her best friend Im joking Im just serious I asked her Dont be acting like no actress if we preaching then we practice Dont be reaching dont be touching shit We in Kanye Wests Benz Cause I will turn you back to a pedestrian Uh Uh Lets take it back to basics When shit gets worse we converse How we need a New Balance before the lines get crossed like Asics Just look at what we got if we dont shoot the Reeboks This is a beat that no flow can detox So the respect is due like my Louie back I dont wanna have to check you Im as Chi as buckfiftys and Pelle Pelle Leathers Some say my beats made the Bulls play better I say black on black is the hate that hate made Sara Lee with the dough Im talkin bout the cake maid McDonalds with the flow served over over a billion Youve seen the video words over the building Uh I wish I could give you this feeling I wish I could give you this feeling And when The Workout Plan aint work out man Me and Common is back on the corners again On the corner Yo mad niggas got dreams of the Lexus and coupes Got their signin bonus and bought TECs for the video shoot Ayo them shits backfired before the cameraman arrived he died For his image now lets start the scrimmage In the first quarter I sacked MCs By halftime you still got rhymes but they are diseased They infected with seconds of life left I cremate MCs and breathe they ashes in my lifes breath In a life or death situation I come through with the Chi representation And bleed you pussies every month like ovulation The sensationll shine through your mind Take it line for line Look I feel bad about the fact that you gotta creep with me When your man be around you dont speak to me When my girl be around I see you peepin me When they both aint around you be freakin me We used to do it secretly now you all talk You tellin everybody like you wanna get caught I think my girl catchin on cause my story keep changin up You gotta stop callin up my crib and hangin up Truthfully if you tellin people that you doin me Then you tellin me that you dont even wanna screw with me And thats a shame I cant even do my thing You get dick and you go temporarily insane You think its a game but I dont wanna play no more You wanna stay but you cant stay no more You wanna be with K but that aint okay no more You got somethin to say but you aint gotta say no more It seem like fine hoes is hard to find mostly The type of girls that give you their whereabouts supposedly And when you check they aint never where theyre supposed to be I learned my lesson now I only fuck hoes thats close to me Dont get me wrong you still gotta live close to me This aint a song I made for ugly hoes to start approachin me You know how this go I diss hoes Im very mean now my Roley face green now I bring your self esteem down Hello you there Yeah Im here You breaking up I can barely hear you Naw you clear You cool you mad You talk bad You up You been good Naw I been bad What you mean you been bad Baby girl you know I got bad nerves Got me cursing with the kids in the car Mommy daddy using bad words No more tripping while you at work No more texting while Im at church No more switching up the password Thats the shit that get your ass hurt Folks all up in our business Yeezy Season Im trending I bet you they respect the name now So are we done or we finished Cause no matter what anybody say We been through shit you cant make up And at the end of the night bae Well be back in bed like we famous Me and Guwop makin super moves Makin stupid cash stack it through the roof You dont fuck with me The feelin mutual Id feel the same if I drove that Subaru We hit the city the old me goin OC How a friend only gonna watch that its so weak Seven times in a row I could go the whole week I could take you from the nosebleeds to the floor seats But I need that in the sauna In the bathroom at your mamas Like a porn star Im a monster You a dancer on the camera In the Gstring girl I want you At the concert at the condo In my bedroom in the guestroom In the restroom fuck it every room Tryna see that Sister dont let your guard down You know theres more out there waiting for you Hell naw no sister dont let your guard down Youve come way way too far now Lesson learned lesson learned Lessons learned lessons learned lessons learned May your future last long past present Faith love hold on to heaven One hand up hold onto heaven God bless us with every second on earth Same as the legend was told To my ears at years old Sister dont let your guard down Youve got too much shit goin on yeah But I know youve been workin through all that Know you I know youve been goin through it your whole life And I say brother dont let your guards down Parties are starting right now Know youve been workin that body all night But its am and we bout to go up again Its am and were just starting again Its am and were just starting again Sister dont let your guard down I know youve been working hard now Brother dont let your guard down Nah nah nah And the fight not over the fight just beginning The lies get exposed soon as you win it The devil is smiling The guy keeps on sinning Dont let them take over the heart of then no Sister dont let your guard down Its bout to get hard now And brother dont let your love go Support her in the best way you know how Love on your woman stand by your brother Hold on to your loved ones I know weve all lost some Pray before rain falls the devils are coming They dont share the love but theyre up to something I know it I know that theyre up to something I know I know it that theyre up to something So sister dont let your guard down Shits about to get hard now Brother dont let them on now Protect them the best way you know how The best way that you know The best way that you know the best way that you know how Brother Protect her the best way that you know The best way that you know he best way that you know how Yo yo yo I use your face as a urinal Then do the same at your funeral Piss on your grave piss on your grave piss on your grave Piss on your grave piss on your grave piss on your grave This one here for the executives Fuck you and all your relatives Piss on your grave piss on your grave piss on your grave Piss on your grave piss on your grave nigga behave Nigga behave nigga behave Piss in your grave piss in your grave Turn this up teacher play this in the third grade In the third grade Cant hide from the truth yeah were bout to go ape We bout to go ape these streets is not safe These niggas aint playing These niggas aint playing These niggas aint playing This for my fam This for the fam do this for the fam Hop outta the lamb hop onto the gram What the fuck was you saying Piss in your grave piss in your grave Piss in your grave Ill piss in your face Ill piss on your bitch Ill piss on your date Fuck is you saying Fuck is you saying Fuck is you saying Me and La Flame Is you not entertained More power to you more power to you my lovely one More power to you more power to you my lonely one More power to you more power to you my lovely one Whats up bruh That all depends With friends like you who need friends Sometimes the best advice is no advice Especially when its your advice Oh Man remember Your man was on stage dressed like a family member Man everything basic to Ye Guevara That means Saint Laurent is my Zara I remember Rochelle aint wanna fuck me with the polo Ay bitch you missed out fomo I got one child one child But Im fuckin fuckin fuckin like Im tryna make four more They wanna throw me under a white jail Cause Im a black man with confidence of a white male Hallelujah Richer than white people with black kids Scarier than black people with ideas Nobody can tell me where Im headin But I feel like Michael Jordan Scottie Pippen at my weddin They say Im crazy but thats the best thing goin for me You cant Lynch Marshawn if Tom Brady throwin to me I made a million mistakes but Im successful in spite of em I believe you like a fat trainer takin a bite or somethin I wanna turn the tanks to playgrounds I dreamt of Pac he asked me Are you still down Yeah my nigga its on its on its on its on I know they tell they white daughters Dont bring home Jerome I am the free nigga archetype I am the light and the beacon You can ask the deacon Its funny when you get extra money Every joke you tell just be extra funny I mean you can even dress extra bummy Cocaine bathroom break nose extra runny And I gave you all I got you still want extra from me Oxford want a fullblown lecture from me And the Lexus pull up errr like hop I hopped out like wassup Errerrerr step back hold up my nigga you suck hold up I studied the proportions Emotions runnin at a Autobahn speedlevel Had a drink with fear and I was textin God He said I gave you a big dick so go extra hard Thats that dont play whoo thats that new Ye People sayin Im the closest thing to Mike since Janet whoo Tom Cruise homie we jumpin up on them couches Thats a fresh house is that a guest house Your house got another house Your bitch got a bitch your spouse got another spouse Young Walt Disney Ima tell you truthfully If you leave Mickey you gon end up with a Goofy I imagine thats what Chris told Karrueche Girls be actin like its diamonds in they coochie I dont give a fuck I dont give a fuck But cops chokin niggas out in the media We finna have to protest and tear the city up We bout to tear this whole place up pretty much How much I live Everything she was doin was cool but it aint Ralph though Might have gave me head in the pool that aint your mouth though Might have caught you clappin every Sunday at church You still ratchet cause they play your favorite song and you twerk Designer purse on your arm bout the size of a duffle bag And them brand new titties cost a couple racks Feelin on a girls ass with a troubled past Chainsmokin every day at least a couple packs You know I always hit you deeper than a baritone Bone you with my jewelry on thats a herringbone Hotter than Arizon fresher than aerosol These condom rappin ass niggas wasnt ever raw Its aiight but it aint Ralph though And unless youre moneytalkin keep your mouth closed We smokin indo outdoor in Palo Alto If this party aint got hoes my intros my outro Woo You will never need another lover Woo Cause you a milf and Im a motherfucker Told you give the drummer some now the drummer cummin Im pa rum pa pum pumin all on your stomach Yeah tonight I see some super freaky hoes That could go from bein stripper to a super CEO I dont know the way you do it but you do it to me though And you always told your girlfriends you need you a TV show Now you got your own money you dont need nobody else But far as handlin all that ass I think you gon need some help Let me remind you you got a you got a great future behind you You gotta tell me what we tryna do I aint no pastor dont do missionary I know good pussy when I see it Im a visionary I know them haters talkin always had us very wary Yup On the th of Nevuary Yup You love the way Im turnt After all the money you earned still show daddy what you learned That cowgirl you reverse that cowgirl You reverse you reverse and I impregnated your mouth girl ooooh Thats when I knew you could be my spouse girl We fuckin all over the house girl we just messed up a brand new couch girl You aint on site then you on Skype I put you on that bike you bound girl We too wild wont turn down We drunk in love fuck them I would like to welcome you to the world of Fake bitches no love what the fuck you take me for Show love I hate haters in the club You must not really know where I come from Exactly where my heart or you would never never NEVER UGH where do I start people ask me shit about Illuminati First off fuck that mean He loved Jesus when he he he was worse off Oh I see when they think a nigga is stupid rich People just start coming up with stupid shit Man shit I could never predict Hold up let me hit you with this Rolling in a Bugatti with fo chains is some foolishness Yea yea yea thatd be the shit Theyd rather see a nigga locked up why for stupid shit Look how they did my nigga Tip Soon as Wayne get out Tip go in Wonder why the nigga wanna make the clip go in Wonder why it so hard when it get going Hold ya head my niggas the system is Made to make niggas fall Made to make niggas fail Especially if you ball They dont take niggas well Nah you cant come through flying in a in a Bentley shining Im in the back Backseat driving screaming on a nigga like Im actually driving This is the moment grab your Kodak While Im flying with a flow that is The greatest throwback since that Nolan Ryan And the days been crazy and the nights even wilder And the lights even brighter baby stand next to my fire Only higher is Messiah or notes from Mariah rari six hundred horses thats my chariot of fire Where we flying they cant find us all them broke days behind us I just took your whole life and redesigned it I think Im Marc Jacobs I think Im Lagerfeld I think without makeup you still bad as hell Imma grab your waist then Imma grab your face and Then Imma taste it then Imma blaze it Hello all my bad girls this just in Yeezy hurt the beat Like he fucked her best friend and she let him back in And he just did it again He crazy he blazin he off the deep end Im blazin Im flagrant Im crazy Im saying Too much for the World so they abbreviate him His past is her fav his stats is amaze Her dress is just per uhh Prada coloured beige It obvi we the ishh and Im rolling with my Brits So real you so trill baby everything legit How you feel they say we crazed cause our styles so diff Theyll be jeal when we in the mag looking magnif As if I aint used Magnums on your favourite bad bitch Fuck these background niggas I was tryna adlib Add this we blazin Nicki what you think I got two White Russians but we also need some drinks Yeah Okay Ey Hey yo Poppin willy shit Lets see who really rich Yall ride the beat Imma bout to pop a wheelie bitch Really This I came up with on some silly shit Look how good it is Ill show you who you dealin with Yall illy Im Illa Im from Illinois The Big Sean why dont you call yo Chi Town boys Show me where they at I will destroy Im bout to fuck somethin up I might as well call the lawyer Good music run this bitch Yes we do I know you thinkin damn I wish Ye would bless me too In the booth I use the restroom Its best you Go ahead and kiss the jesus piece Cuz I just blessed you Uhh And holy water odds against Ye Its slaughter ever since I opened up that midnight merrauder Now its gon be a problem like a brand new installment from the late great Mr Christohper Wallace They call us pompus Can I be honest Honestly Modesty wouldnt ever end my policy Apology accepted you aint say it Shoulda said it As soon as I did all the Bullshit was deaded Get it Living life like theres no damn rules Tonight Im finna hop up in that hotel pool Grab your hand white dress you gon hop in too Get everything that bein at the top includes Whats your friends attitude why she so damn rude huh Tell her smile for a change If a baller come around she gone smile for the change I know they type I know the life I know youre living your life for the night another night Ask the city what they got for us That mean it wasnt even poppin if it not for us Then isnt isnt this all that I said itd be I want the best for you but want better for me ugh I paid the price of fame icy chain Stack my money tall height advantage When I fight and you fight we dont fight fair So I guess Ill see you in my nightmares Just remember I made you like my Nike Air YeYeezys please be easy To kill the animosity thats in the air Ill touch every curve of your body like a Herve Leger And this wasnt no ordinary love Our sex wasnt ordinary drugs Its that crack that crystal meth I mean it gets so wet I had to go in depth I mean the bitch so fresh I had to go in debt Rurunning my credit card til theres no more left Uh but thats cool you wife and Ill be groom I thought I had a sign a Seal like Heidi Klum Like Jay and B Like Chris and Ri But this Christmas youll be missing me Now once she go black she aint never coming back Im sorry Mr H I thought you already knew that You will see her on a black street like Chauncey Im a bad boy like Sean C Rock a fella like Shawn C Keep them Apes with me like Don C Like Jay keep Beyonce Im just talking nonsense so nonchalantly See my Mark like Ronsy Pop my collars like Fonzy Paparazzi is on me I see your girl want me Im filling up her glass Feeling on her ass feeling so upper class And your boy so fresh I might even flash cash So at the end of the night you aint even gotta ask Im Yeezy she say Hi Im Aria No you a angel you wave Hi to Aaliyah I got a show in Korea they built a new arena Why dont you come and watch a nigga tear the whole scene up I know I seen you before but dont know where I seen ya Oh I remember now its something that I dreamed of Don C says she cool but dont let her fuck your cream up Monica Lewinsky on the dress you take her to the cleaners Sure enough a week later Im in extra love And everybody know shes mine so she extra plugged Every bouncer every club show her extra love We just praying the new fame dont get the best of us But all good things gotta come to a ena She let it go to her head No not my Aria The height of her shopping was writers blocking me I couldnt get my shit out anyway I hope you die Aria We the cause of all the commotion Your mouth running but where is you going What is you smoking man That aint potent What is you talking man That aint important Illuminati High society We in this party and nobody invited me We going crazy and I always use my best sense But it dont matter cause I stay on my fresh prince Maxin relaxin shootin some pool and Playing some bball outside of the school and Girls with they top off outside of the pool and Whips with the drop off outside of the Louvre You just look stupid to be ignoring The Delorean parked in front of Armani emporium And parties at Richie is getting risky Victorias Secret show they miss me Voices in my head I need choices in my bed AHHHHH get out my fucking head Its just me and my bad bitch So you can say Im on my Brad Pitt Back to the la familia Im aligned with Before I betray them I slit my wrists At the top is just us nigga Cause I dont really trust niggas And we made it through the hurricane So celebrate and light the Mary Jane We gon make it thats on everything Truest girls get half naked every spring They saying Hey Kanye We need you to go deeper than Tay Zonday Cause my verses got pain Chocolate Rain So many lines you photograph and it make arms break On the radio man I miss myself I need to just step back and kiss myself Baby just step up and kiss the belt A little lower thats whats up Somebody pour her another cup Is it too much to ask you keep your diamonds up I swear until my time is up My style is sex in the shower fresh as fuck How much they hate it very Kiss girls like Katy Perry I am never sprung but I Spring er Jerry Dont try this at home results may vary King like TI but in the Chi Larry We killing the game its not fair You muthafuckers stay right there Cause we too high up in the air We blasting off just like a laser Nigga peeune peeune peeune Get back gimme room room room DB like vroom vroom vroom Young Hov what we doin doin doin I got a big ego hahaha Im such a big ego uhuhuh I got a big eheheh ego She love my big eheheh Ego She stroke my big eheheh Ego I like to joke around a little bit but here we go Welcome to the wonderful world Of goldplated Earl cause Everything I throw up blow up Talking to the girl She said Know what grow up you nasty I dont understand why they trippin if you ask me Flow is just the nicest I admit the propane I just spit probably Just raised the gas prices Everybody in the club Try and get as fresh as me What you want dog Trying to stay recession free And spit refreshingly When I rock the stadium You probably get sweaty You should bring a extra tee Now Im standing next to Jay Who standing next to B You coulda been anywhere in the world But youre here with me Thats good for my ego Me and my ego And it go wherever we go My ego is my imaginary friend He was with me when I was only imagining I had dreams of the league One day I play Kobe I walk up to Puff and he already know me Coulda let the dream killers kill my self esteem Or use the arrogance as a steam that power my dreams And my ego On a scale of one to ten what do you rate yourself Heres some champagne hydrate yourself I know Im lookin good you lookin great yourself I mean you shittin on these bitches you should hate yourself My style so cold I could skate myself But I go so hard I could make it melt I mean the flow so solar every bar Could power an electric car My my my whips is sidebyside He just talkin mines outside Do you mind if I Take you on a test Do you have allwheel drive And if that baby purr Im gonna baby her Bitches gon hate and maybe worse Cause your ice so brrr I copped you a baby fur Just to work I know you was on purpur But this is a whole new arena See niggas come by talkin bout they make it rain Ill make that bitch Katrina Mr Kanye Omari with my Entourage no Ari And a motorcycle jacket no Harley She said dude thats cool Gnarly Ye is in the buliding let everybody know I got the world in my hand and I aint finna let it go Is that yo girlfriend I really like her Im talkin only for a night I wouldnt wife her I got them Yeezys on my feet I got them Louies in the sto Want some And I dropped another album fore we finished up the tour And its still top bout fifteen weeks later So thats a middle finger for you haters I got my superman power my superman cape These the last hours but superman late The clock is ticking damn can you wait Man will he come back and save the day Fly across the earth put things in reverse I wish this life was a movie I could just rehearse Certain things I cant doctor and you say Im the worst I aint have enough patients but I needed a nurse Thatll come by my bed late See if my head ache Then get my head straight Then give my head great Every time I popped up like the VCR I took your breath away then we performed CPR With all the cars the clothes the lights the boats I guess I was just trying to sow my royal oats In the penthouse position With penthouse bitches See I Pimpd My crib so I must exhibit Shit these last years been a haze like Issac So I close my eyes Tighter than Asian eyes get Realized I got the same wings angels fly with Louis Vuitton feathers now that some fly shit Verbal asked me do I need a pen Not right now Everything I write now I dont even write down I dont need her right now But Im so bad Ask her can she hold my gonads before they go bad Since I did a song with Teriyaki I been acting very cocky Using every opportunity to shit on everybody If you heard Ill be in Houston like Bobby Puffing on a blunt until the B got me body There fees in the party Chillin in the lobbies Anything you heard happened yo it probably did Full Force trying to find where the Party is For the last time to kick it like Karate Kid Man that line was way obvious Way out of my jurisdiction of my high snob On my job kill a nigga no prob type flow Just seen a nigga get Rob like Whoa Oh should have tucked your chain Niggas aint playing man it aint a fuckin game All that frontin for the audience Make em not exist no more Yugoslavians Ohhhhh ohhhh ohhh you too much pressure doll You gon raise my cholesterol I gotta lower the phone decibels Just to talk just a thought Imma get a girl with a ass just as soft You swear men dogs like reservoir and I was Mr Pink Remember those nights on the kitchen sink I was choking you in a good way good way Now we in the streets and Im chokin you in a hood way When the cops come what I could say You know how all that gossip is Next morning Bossip Perez Any girl I take out Mediatakeout I need a break now Before I break now ah ah ah ah Show me your Janet Jacksons if you nasty You said you want to cut my nuts off like Jesse Jackson classy Ohhh why she say that OUCH Bitch give me back my couch On that same couch casting Now listen to TPain and sing When you take the picture cut off your face And cover up the tattoo by the waist Let the MC Serch til I reach rd Base And when I get home Imma hit home plate Wait could this be considered our first date Ye the picture just looks so trash Your body make a baller spend cooked coke cash Plus every good girl wanna go bad In Playboy mags like Stacy Dash Or Kim Kardashian be a lady aaaaat it You know whats a crazy thing Some girlsll make you wait longer than AC Green Passion of the Christ Year Old Virgin Thats disrespectful baby dont encourage him I like em brown yellow Puerto Rican or Persian Dashiki kimono or turban They say I dress white but my swag so urban Tryin my luck I hit her with the text say Baby you up uestion mark And she respond YESSSIR Everybody saying please dont let go I hear it over and over and over like a echo I see it in my dreams I feel the effect though People drowning in debt Somebody to the rescue Everybodys saying we need something special Nah man we need something extra terrestrial Outta this world speak for us Be the vessel Outta the box reach for it through the threshold Uh through all of the stress though Whats best of all people screaming like a festival Just applaud this moment is special yall We lost a four leaf clover Dont ask why shorty be over News flash shorty we over We like Def Jam and Hova We like Bobby and Whitney Except without the kiddies Like Pamela Andersons career Except without the titties We had some good times didnt we I know I wont forget that But we had some bad times and Thats time I wish I could get back We coulda had it all But I guess well never know You been around me long enough To know that now its over I go the hardest flow so retarded Im disgusted with myself I mean were do I start First I spin around and vomit then I shit up on it Fuck the beat up so bad wont nobody get up on it I flow sick nigga how sick sea sick Got your hand out dont look at me bitch You lookin at who made me rich You lookin at who made me rich I had some wins some losses Just a life of a God damn boss With the top off lookin for a girl with a ass as fat as Tracee Rosss This is dope as is get is to it Dope as a mother fuckin acid trip Fly as fiftyseven passengers This finna be another classic bitch Everybody know I got it if you want it then get at it But I aint goin have it No I aint goin have it I aint ever been scurred Never been the type to bite my words When I came up yall gave me shit Now Im finna make yall eat them turds Always said what the fuck I felt Go head spit that murder I wrote Man I dont care bout what you felt Fuck you nigga I know Im dope Felt like Im comin to get my all Felt like I had to play the fly on the wall Felt like niggas was stuntin on me Funny how Im flyer than them all Now Im at the top aint nowhere to go now Instead of me she goin go down Maybe I would have slowed down if I knew what I know now Im stupid yea I know Im dumb This could fuckin get old well its good Im young Before my heart get cold as the hood Im from Tell me what it take to be number one I guess its goin be what its goin be But heres one thing yall got to hear Imma tell you like George Bush told me Fuck yall niggas Im out of here Uh heres an impromptu I want you Im goin to tell you what I want to do to you Your girlfriend she wants to beautiful Just flew in from Paris voulezvous In the city that dont snooze Smooze amongst the Whos Whos And I use my celeb to get this one home Why everything that feel so good gotta be so wrong Gimme room now Im like a vampire on the full moon now And I dont know about you now But I think I wanna try sumthin new now see what it do now And when you sat down Uh cause you was losing yo breath now Uh cause you be doing it to def now She be doin E to F now whats left now Mr West now can you get any more fresh now I think I just did just now Talkin my shit thats how Im a professional I admit that Flashing Lights show I live that Fame is a drug wanna hit that Cause they know exactly where to get that did you get that Hey do you have any black inside you Would you like some Like some Ha you know you got a right to do whatever you like to Don C we got the right one that right one In the club always the flyest Always got her hands the highest She stopped drinking Diet Coke She on that coke diet She bat she bat her eyelids That girl is so wired I know she so tired but ooh she on fire Hundred dollar bill look at you look at you A hundred dollar bills this aint new this aint new From that Paris Lindsay Britney MaryKate and Whitney People say that they clean motherfucker dont bullshit me Uh Mr West is in the building children ladies Call the shrink up they about to go crazy Hold your drinks up like you was celebrating Hold your guns if they is hella hating Im so clean and them they got rabies I can see it through the lens of my Raybe Ans Wayfarers mmmhmm Ye do you play fair mmmnnnn Grab your remote for the reason they made Tivo Snap the Nikons with the icons with Nikes on I heard you like to do it with the lights on But I really make babies when the mics on Check out all my kids that bought all my cribs Got me out of that apartment you have got to pardon him I am so retarded with a spit like a retarded kid that spits Oops I aint mean to say that shit I told my homie Chris these chicks is dangerous You need a girl thats A List not one thats just barely made it on a list Cause from Wall to Wall we got it Poppin right now Its a hundred girls tryna get down down down You messin up my mo my whole mood told you oh Lose eat crews like crews like soulfood The only producer that feel like fuck rappers Only backpacker with a chip like hackers Only Michael Richardson only much blacker So if he say nigga then Imma say cracker Is this the Ritz Carlton Dress like fresh like just like Im the shit Uggh You aint figured out what Im about yet Always rockin that this aint out yet But this aint bout that From a city where niggas plug like outlets Far as music go yo it aint no outlets so When I go out niggers always out to get me in the studio And I aint in the mood to flow Im with my girl and Im tryin to hit the movies yo And they tryna act stupid oh In the club with Silicone Suzie What happened to real girls like Rudy With real titties like Tootie This girl got a silicone booty And got the nerve to act moody Now I aint tryin to judge like Judy But bitch you a man you cant fool me Act like throw her in a pool G I know youre thinking thinking that it must be Armor All flow cause it never get rusty I aint gotta say it man dawg trust me Bust somebody head GLC where was we Still rock the Prada fore that rock the Starter Niggas had the Georgetown the Magic way harder Thinking back to the projects and they way they tore em all up Like when I do a project and come back and tear the mall up Your fly is open McFly The crowd is open I think I know why Im back from the future seen it with my own eyes And yep Im still the future of the Chi Back in college I had to get my back up off the futon I knew that I couldnt cop a coup with no coupons Look at that neutron on his green like croutons People asking him do you have any grey poupon With niggas masked up like Phantom of the Opera Dreaming of the day they push a phantom to the operas Cant wait till they say Ye ran up at the Oscars Poppa I heard his life is like a movie Like when Em played him and Mekhi played a rasta Mexicans gonna love it like it was for La Raza But this is for the mobsters Holla We some true Chitown legends accept no imposters And we standin on the couch With my drink and my two step my drink and my two step Three glasses in a row you start to think I was QTip Bartender pour a round I took a few sips Stumblin fallin down I aint drunk thats my new step Now why would I listen to bullshit they shovel When they taste level aint at my waist level Im fly get on a plane jet lagged already Im tired the Goyard bags is heavy Im fire the flow hard as a Chevy I told her me like ye she said she like me ha When see me with a CL like Pete Rock She just wanna grab a microphone and beat box Even in high school I was always a special kid First pack of condoms I asked for extra big Now I got a flow they sit me right next to Big And all these old rappers dont know where the exit is But but but no buts nigga What nigga We fired motherfuckers Donald Trump nigga Im killin these niggas cant front nigga Now lets drink to that until drunk nigga He pulled up at in a As he waving Shorty hi you know he showin his bling out She got in the car he drove he pulled his thing out His girl caught feelings she mad she threw the ring out How she found out she dreamt the whole thing out Yall be going through problems you gotta work the kinks out When you go to sleep What do you think bout If yall get a divorce She gon take everything except the kitchen sink out Make it so cold that you gotta pull your mink out Or grab your roller skates and turn a roller rink out You now back up in the club in the club tryna mingle Meanwhile she out doing the same thing now Nightmares from your dream gal make you scream out Ay pimp its Ye pimp told me they fuck with me in the Bay pimp So Imma ride down with the dos open Yeah thats the way to get the hoes open Yeah high inch stilettos with the toes open And any haters get they nose broken Now tell me when to go tell me where the hoes She told me they was cold now you act like you dont know Like ummmm ummmm Imma hit the liquor store Imma be on the low Imma have my hoodie on If you call out my name then you know they gon go Dumb you fuckin up my mode man I told you only call me by my codename They already recognize me from my gold chain The same one I gave Keyshia Cole man Now go dumb like Cole on Martin Im retarded Kanye to the I ask God to help me fly away And if not Then please keep your eye on me These niggas is bringing out the worst side of me When you wired me You inspired me To become the higher me These execs All want the details How I made the world bounce like Full messages on emails But they hiding something like shemales So We still Pull up in Sprewells The ice and me chill Like Goldmember I love gold Whats the point to gain the world if you lose your soul Now Niggas forcing me to keep the heat up Black strap white handle I got jungle fever I went platinum And I dont rap guns My diamonds is whiter than Michael Jacksons Me and Miri make music you can hold in time So take a second to listen it may blow your mind Ahh The sweet taste of victory Go head and breathe it in like antihistamine I know they sayin Damn Ye snapped with this beat Fuck you expect Ive got a history Groupie love now gotta be them wheels Haters back down gotta be that steel I know they cant wait till ya outta ya deal Look how they did DAngelo ask em how do it feel My best friends worry bout me Cause they know when you famous And you had made cash The media aims at us And you be up so high If you ever fall off it feel like a plane crash But God dont ever give me nothin I cant handle So please dont ever give me records I cant sample So I could vacate where it aint no channels But its quite ok for a gangsta to wear sandals They say because of the fame and stardom Im somewhere in between the church and insane asylum I guess its messin with my health then And this verse so crazy when I finish Im just gon check myself in again Yeah history in the makin Do or Die Yeah yeah uh uh uh Me and Do or Die got maneuvers Cold pimp tactics all in one package Hollerin at a chick that could of been a actress Right now her back is layin on my mattress Why your team pissed like urine Only rock things made for a king Tell me tell me it was the LV Bigger that the jeans of the Rap floor green Thats how I gotcha So I you want a role model to call like Patra Quit hollerin at them losers And get with this shit that Got his own business an entrepreneur Now if my man Benzino got a Benz and they call him Benzino When I get my Bentley they gon call me Bentlino Lot of shit changed since I hooked with JayZ yo For the tracks I done got Cnotes So glad I aint take the drive to Home Depot Right now my car and home would be repod Fuckin with my girl today around threeoh My man said lets call some girls that we know Ohhhhhhhh Sometimes I wanna say fuck my bitch But I dont want nobody to fuck my bitch Even if a modelin chick sucked my dick It wouldnt make me now feel so sick just because They came over to cheer me up Smoked drink and yeah we fucked No matter what they do it cant be enough Ever since I been flossin My girls totally awesome Girls wait to exhale They dont breathe often Claim that my game stone cold Steve Austin Claim that I boss em Basically Diana Ross em But whos to blame for all these fights When you aint always wrong Im just always right And I just always like To see exactly how your face look Right when I walk down that hallway right When I pack my bags When I got that cab You never thought Kanye would ever got that mad You acting like I aint the reason that you got that Jag That you got that bag Lets talk about amnesia Yeah you got that bad Kanye the best dressed nigga next to fags And Im the best version of Mase next to Fab And Imma call your best friend up just to stab Cause of the way that you do Mae said cmon Mike said chamone Started up early like RavenSymon√© Keisha KnightPull Emmanuel I dropped out of school with no manual Nothin handed to dude but did I complain Every time magazines try to taint my name But yall cant hold me down like restraint I took the T off out the word cant round same time when Nas said I can Bush for sendin our fam to Iran Im in the club with a henny ass in my other hand Lord please forgive me Im just a man Right now Im trying to make some adjustments Before they do me like they did Janet and Just and em Me and my cuz and them Trying to rap like bust and them And my clothes was busted and bummy But I aint eva eva accept no money from these so called sponsors They was in Benzes I was in Hondas Now I wonder where they all at like Ananda Hmm yea that something to ponder The money I make on this ones for Donda Thats West to you you the next I cant hold my breath for you What you need to do is turn it up some decibels And put some more zeroes in front of that decimal nigga Man how did she bring it up How did she break it down Man you at the clinic Dog slow down thats your child But if you keep it then you gotta tell your girl you was cheatin And you went raw dog when you beat it Thats when she gon tell you to beat it You know it aint yall little secret you famous you cant go nowhere Cause everytime you go there its hoes there So basically you and your girl over I know when she broke the news you told her Man dont say that Matter fact like Pat dont say jack Everytime a nigga sittin on pay stacks Things come up from way way way back I go by the name Kanye Omari And I wrote this just to say Im sorry I have foreign cars and houses I have porno stars and spouses You tryin to stab one like Jack the Ripper I was tryin to stab two like Jack the Tripper My nigga Tone been locked for a minute He come home he from the street He gon want him some strippers And Im a big tipper I dont need to be trippin This my first Rolex it dont even be tickin This my first pair of earrings I can wear in the shower Without them clouding up in half an hour So that basically mean my paper getting mean Basically mean Im into better things I was an addict of cheating but I stopped before You an addict you go with Janet Jackson you cured Yeah Kanye to the yeah Im with this bad Ethiopian chick drinkin straight up liquor I told her Im Nigerian a straight up nigga Now is it just me or do them Uggs Have girls feet lookin like sheepskin rugs Some rhyme with a name some rhyme nameless Dont try to treat me like I aint famous My apologies are you into astrology Cause Im Im tryin to make it to Uranus See thats a little Don Juan game All across your chest like Sean John name Niggas tryin to figure out since Kan came Who the rookie of the year me or LeBron James They say whoa dont get caught up in the hype Aint no tellin they gon love you after tonight Well if tonights the night pop bottles fuck models Spend money til you broke my nigga live your life Now how the hell I end up arguing with this bitch aww Know everything but dont know shit aww Kinda reminiscent of Anna Nicole Smith aww I just turn my music up like Damn thats some cold shit aww I mighta known her bout a couple of months Since then she gained a couple of chunks She went from being a strobe light To that old lady on Boomerang Lady Eloise I need no lights And I swear she a riot folks How she order all that food and a motherfucking Diet Coke He said You lying yo why is you lying yo Cut it out quit it G you hurting my kidineys Naw she talking bout a couple of kids for me aww Shes hinting at a ring from Tiffanys Right then and there I had an epiphany I swear since that day Ive been treating fat hoes differently Theres only one girl on my agenda You talking bout Brenda Naw Im talking bout Linda from last September Now Linda love lace like Linda Lovelace LaFace says she like Mase but she love Face And I know that Linda was a hiphophead And I know that Linda gave HipHop head But I feel I could convert her Cuz I aint here to hurt her mayn And she was messin wit me when I was still at Burger King She aint hop in my bed cuz of the whips and cream Cuz when I had her in bed I had whip cream Shakespearian midsummer night dream I unzip things and pull out big things They was flashin grgreen she was like chching Got em but she know a rreeal nigga when she spot him So now shes pickin dresses from Vera Wang Scratchin out her maiden and heres my name Now Im sittin at the bar wit all my guys They sayin Cheers to you for your future years of pain Like Dog you ready to give all this shit up The summers on its way and these hoes doin situps And when they see the way the G lights lit up Youre gonna wanna have two like John Ritter But naww I bought her a brand new BM He said Dog slow down like Brand Nubian now It cost Kobe seven digits to pay off Bridgett And get acquitted and break that bitch off cause he aint did it Here go the Henny swig it You know its frigid I got em chillin in the cooler Break out the ruler Damn Them the biggest tits I ever seen We smokin killer Cali gettin weeded Make it feel like Maui Now we feel the good vibrations So many BIs so much inspiration Hey miss Whos there No time to do hair Im through here The show tonight So get right You look aight Lets club now A rub down Starts flavor while we grind in the theater Im tryin to cut in the movies Im tryin to give her something else to drink besides a smoothie Niggas is jealous cause we in drops The cops wanna stop us about every four blocks Cause what we smokin them sacks got no seeds And what they got in they pockets is no cheese Now bring some more stacks Before you ask About the price of the tracks The game on smash Look Dont change the facts about these plaques Because in fact My freestyle hours over powers Brothers cant hack it Sensitive to truth and mack bitch me Quence and Plain Pat bitch From what I hear Kanye is killing the game very bad My girl rocking the little lamb that Mary had A l ittle bit of Ghosts style mixed with Mos style Im versatile Im the poster child Getting cheese so Im suppose to smile get it We making hits like Sosa now hit it And I hate when girls acting bougie as hell And I already seen them naked like Blu Cantrell If I talk to people like they stupid as hell Do that mean God gone make my kids be stupid as well Well our father please forgive me Im sinner slash winner slash soul inventer Now if my man Benzino got a Benz and they call him Benzino When I get my Bentley they gon call me Bentlino A lot of shit changed since I hooked with JayZ yo For the tracks charge around Cnotes So glad I aint take the job at Home Depot Right now my car and home would be repod I broke up with my girl today around My man said Lets call some girls that we know Sometimes I wanna say Fuck my bitch But I dont want nobody to fuck my bitch Even if a modelin chick sucked my dick It wouldnt make me not feel so sick Just because they came over to cheer me up Smoked drank and yeah we fucked But nothin that they did couldve been enough Now this weed drank got me faded That Malibu is so underrated She mad at me thats an understatement I can just see your girlfriends hatin Girl told you dont leave his ass And when that nigga blow he gon leave your ass But when he get low he gon need your ass If he cryin callin bawlin Yallve been together too long for all this name callin Yallll be back together in a day or two Yeah we be makin up but when we makin up All were makin up is the truth Damn I know she love me oh But Im in the Matrix and Im feelin Im Neo She could fight for my love like Aaliyah Or write a four page letter like Aaliyah But Im a Gemini thats bossy like a Leo And sometimes I dont know what side Im on I just know this Patr√≥n got me gone And Ive done fucked up so bad that I cant go home Kanye the best in the game now we got that that thing clear Kanye West is the name Southside up in here Yall niggas stole the soul yall niggas all some clones Yall need to change yall tone nigga I control the go Motherfucker close the do light the weed and let the douja blow Why you keep bawlin though girl you aint been around niggas before Why my chain rosey gold why my wrist below zero How the hell I know BLo why them girls tell you no means no No means no just as sure as green means go Green means paper dream team caper We see haters like shorty on the Sixth Sense Yall finna see some dead people Come through ya block and air people My people aint scared people only FIGIAIR people Uh if you got any little freak in you then Imma find it These niggas read the pimp manual but I designed it I see you bouncing it up and down and ooh I like it I know you gon be mine because ooh Im psychic You said you taste like candy do right Why dont you go ahead let me get two bites How about this bust out the whip cream We could have a real freaky food fight Oh no its getting too tight So I never ever say Im rapping too tight If I come in the middle of the night then Myleka Imma do whatever you like Good morning to umm I dont remember your name But I remember the brain here go a fare for the train and Good morning to ChiTown where my niggas ride down To bust clowns and look for some bust downs to bust down Yeah she aint got a car she on the bus now But her gear is bangin she one of us now I wanted badly to bone cause she was bad to the bone She from a battered home she mad when she at home So I gave her my number to peep off she wanted to take a week off Bustin Scary Movie nuts I had to get the freak off That new Tom Cruise to the Moulin Rouge On a too long cruise she said I aint bonin you With them too long shoes and acted bougie in a Grey Poupon mood So Imma act cheap in a coupon mood She said Ye you dont love me I told her it was good its too bad it got ugly Listen yo I drove to New York with ten dollars to my name Brought back a couple platinum plaques on a plane Brought back the soul to change the game Had a little beef I had to aim its stainless steel The lyrics in my heart I cant restrain they real I swear to God I wish I had a dollar bill For every time a nigga told me stick to the beats I could have ate at Cheesecake at least six times a week Plus Im killin these niggas on that lyrical shit Mayonnaise colored Benz I push miracle whips Dawg Im killin these niggas on that lyrical shit Mayonnaise colored Benz I push miracle whips Changing lanes Yeah Im changing lanes Magazines call me a rock star girls call me cock star Billboard pop star neighborhood block star ChiTown gogettin pimps we mobsters Gingerbread Man even said Youre a monster Yeah thats how I feel To be down you must appeal To the crew were rated R OC OG Bobby Johnson son Ask me Ray Ray is that yo car I seen MTV I know who you are You did Takeover do you got beef with Nas I did take over the game brought back the soul Got tracks to go got plaques thats gold Platinum to go yeah thats the flow All I know I gots to blow And I dont play pause Im from Chicago With my tuxedo He asked me do you take this Woman to hold and keep the safest Plus to lace her floss wit paper Crib and a car man you know tha basics Diamonds your bestfriend That makes sense because Your a princess and you deserve the princess cuts But as long as you gots your defenses up You can never get the love that was meant for ya Shouldnt you know that I use to come through wanna Club Real thugs dont never fall in love Always on the go for the do Man I had to take to smits some cutie Since my money get right theses days I wanna give you more ice than the ice capades I gots the church the ring Theres something Im forgetting Oh we gotta have JE sing at the wedding For the nigga they love to hate But all the bad model girls they love to date You need to check my swag and get up to date Check check check my swag and get up to date Cause when we cut Im razorbladin Im so Lazer Im so Major Im so Flava Im so Flava baby I should have a clock on Why you get ya get ya get ya pretty girl rock on For all my girls from Atlanta down to Stockholm And they looking like what the hell you got on What you mean baby girl I got homes Different cribs new whips And Im feelin fly fly like a G Fly my swag hit on ladies unknowingly Please to meet ya its a pleasure knowing me Back when I was poor I used to pull em with my poetry Tick that yes or no for me I guarantee she go with me But the only thing I need to know right now What a pretty girl like you doing in this part of town With a city girl swag and a country girl smile I mean you demoralizing bitches with your style Wow well how about now My jewelery so blow my girls so wow I mean I mean swag so loud I guess thats the reason all the concerts so owww Okay okay okay okay okay okay That part Beggars cant be choosers bitch this aint Chipotle Nigga with an attitude I feel like OShea Walkin livin legend man I feel like Kobe I just left the strip club got some glitter on me Wifey gonna kill me she the female OJ Yall dont feel me man this aint okay Four Seasons take a shower new clothes Im reloaded Rich nigga still eatin catfish That bitch aint really bad thats a catfish If I walk up out of Saks Fifth Have the paparazzi doin backflips If I lay you down on the mattress Blow the back out til you backless Thick we already established She just got em done brastrapless There go another lawsuit In court so much man I shouldve went to law school Everybody brawlin it was all cool Til I hit the bartender with the barstool I dont fuck with fake dudes wearin fake Trues I just talked to Chainz and he said TRUUU I feel like MJ Im in his shoes Im talkin Montell Jordan this is how we do Bust a nigga head and then I lay low These niggas asswater get the Drano She aint really bad she a photo thot I should hire this bitch she so damn good at Photoshop That Lexapro got me drowsy then a heart attack I think they finally think got me where they want me at I got emails in my inbox What that mean I aint callin nobody back Since the truth keep niggas traumatized They tryna compromise my condom size So I Snapchat that whole shit Tryna see titties tryna show dick And I swear to God I hope they post it Im blessed Even though I get slammed with lawsuits like car doors See three POs like Star Wars They want me by the road holding up cardboard So I go extra hard on the hard floor Right now Im calling you from my home gym Right after that nigga Im gon swim Just did a couple laps in my home pool And my daughter right there getting homeschooled Im blessed And I was thinking bout starting up my own school A Montessori And the hallway looking like a monastery oh yes Im way up I feel blessed You the number one trophy wife So its only right to live the trophy life You grew up on J Lo Timberlands by Manolo now Till one day I put an angel in your ultra sound I wanna dip that ass in gold I wanna dip that ass in gold I made it over NBA NFL players So every time I score its like the Super Bowl Baby we should hit the south of France So you could run around without them pants I put that glacier on your little hand Now thats the only thing without a tan My trophy on that Bound bike I gave you only pipe If people dont hate then it wont be right You could look at Kylie Kendall Kourtney and Khloe All your Mama ever made was trophies right They said thou shall not be ill thou shall not feel Thou should not be trill not be drill not be real Niggas selling packs niggas flipping pills They got heroin and cracks man these niggas hot for real Every year gon be our year every year gon be my year These niggas really is out here these niggas really is out here The block is at war post traumatic stress Ran up outta pills rob that CVS Niggas getting bust over In God We Trust We believe in God but do God believe in us If we believe enough will we ever get to know im That lean got us dozing we forget that we the chosen I wish you would nigga I wish you would nigga You see you got a couple cases still look good nigga You see these niggasll try to play ya know how ya feel nigga Eh yup thatd be the day you wanna kill a nigga But you gon chill nigga just for your kids nigga Cause now theres kids doing grown man biz nigga You just got home nigga you tryna live nigga You dont wanna do another years nigga The boss is testing yo ass the fedsll question yo ass They be drug testin yo ass and then they pray you dont pass And then you look in the sky you got some questions to ask With no response make you wanna grab the tech and the mac Hold up talk to the talk to the hand Bitch you talking to a grown ass man Its like waywayway too much up in your pants For us not to make the bed squeak There goes the bed sheets Everybody rip the swag off fore I rip the tag off Why my pants sag off Cause Im rapping my ass off Flow so ugly money so handsome This the fucking anthem get it The fucking anthem I dont really wanna uh talk too much shit But you love it when I talk like I lost it And I love how you look when you blazin And I swear you turn at least half Asian And we about to have a liaison She so cool give head with her shades on You should just go and throw a cape on And its just so amazing So amazing so amazing I got a dirty mind I got filthy ways Im tryna bathe my ape ape In your milky way way Im a legend Im irreverent I be reverend Ill be so faaaaaar up We dont give a fuuuhuhuck Welcome to the danger zone Step into the fantasy You are not invited to the other side of sanity Theyre callin me an alien a big headed astronaut Maybe its because your boy Yeezy get ass a lot I know a bar out in Mars Where they drivin spaceships instead of cars Cop a prada space suit about the stars Getting stupid hah straight up out the jars Pockets on shrek rockets on deck Tell me whats next Alien sex Imma disrobe you Then Imma probe you See Ive abducted you So Ill tell you what to do I tell you what to do what to do what to do Everever Mr West is in the building Aint no question who about to kill em I used to have hood dreams big fame big chains I stuck my dick inside this life until that bitch came And went hard all fall like the ball teams Just so I can make it rain all spring Yall seen my story my glory I had raped the game young you can call it statutory When a nigga blow up they gonna build statues for me Old money Benjamin Button What nothin Now super bad chicks giving me McLovin You would think I ran the world like Michelles husband You would think these niggas know me When they really doesnt Like they was down with the old me ‚Äì no you fucking wasnt Um youre such a fucking loser He aint even go to class Bueller Trade the Grammy plaques just to have my granny back Remember she had that bad hip like a fanny pack Chasing the stardom will turn you to a maniac All the way in Hollywood and I cant even act They pull the cameras out and goddamn he snap I used to want this thing forever yall can have it back Baby girl youre dangerous Everybody know that you love those lights Baby girl youre dangerous So dangerous but its only right Im back in your life Return Of The Jedi LA for a night then return on the red eye Its a party in your closet I swear its going off I see its Dolce Gabbana Viktor Rolf Ann Roth Uh huh Not to shabby Youre good around celebs not too laughy So you deserve a rapper andor athlete Andor something more than just a backseat Action I had more beats than I had rhymes Now they say you got more girls than you got time To spend with em So I throw them all on the team Only problem is I see they all want a ring ring Let me tell you once ting Its gonna take a lot to be down with the king king Down down with the king Now are you really ready for the big screen Oh they got it all you can see they got it all They got the cars the boat and the beautiful house by the shore And you know theres more But I cant take another minute of it at all He wants his kids and the dog He wants his breakfast in bed Hes got his trust fund saved Not a worry in his head Its not you homie I wanna break up the scene and see you running back to me She said she want whatever she like She said she gon bring her friend And we goin have a hell of a night through the day I made her say Hold up yeah born in Word How old is that Man Old enough I got seniority with the sororities So that explain why I love college Getting brain in the library cause I love knowledge When you use your medulla oblongata And give me scoliosis until I comatoses And do it while Im sleep yeah a little osmosis And thats my commandment you aint gotta ask Moses More champagne more toastses More damn planes more coastses And fuck a bus the Benz is parked like Rosa Ohsa Its crazy how you can go from being Joe Blow To everybody on your dick no homo I bought my whole family whips no Volvos Next time Im in church please no photos Police escorts everybody passports This the life that everybody ask for This the fast life we are on a crash course What you think I rap for to push a fuckin Rav But I know that if I stay stunting All these girls only gonna want one thing I can spend my whole life goodwill hunting Only good gonna come is its good when Im cumming She got an ass thatll swallow up a Gstring And up top ah two bee stings And Im beasting off the Riesling And my nigga just made it out the precinct We give a damn about the drama that your dude bring Im just tryin to change the color on your mood ring Reebok baby you need to try some new things Have you ever had shoes without shoe strings Whats that Ye Baby these heels Is that a Maywhat Baby these wheels You trippin when you aint sippin have a refill You feeling like you running huh Now you know how we feel Im known for running my mouth I will not be accountable for what comes out uh I dunno I might have said it I was kinda gone and lightheaded And my jacket kinda fresh bright red And as usual my pants tightthreaded It seem like everybody dress tight now And I just want my credit Dont get it twisted or dreaded I am the king and will not be headed To the morgue no time soon brethren Being broke made my head hurt So I need the bread or an Excedrin Thatll only get my engine revving While yall on Im on Imma make the news be on at Matter fact Im on this very second Im in first and yall in second And this verse only add to the freshness Call to the club tell them add to the guest list What you think Way more bitches I can never be too big for my britches Yall motherfuckers know who this is Im gifted Merry Christmas Merry Christmas Aye aye Dream Im too good at this Uhh uhh uhh I cant contain it No no no I cant restrain it Theres a lot of stars in here aint it But you shine so much they dont seem famous Whered you come from on this lonely night I swear God must have made lightning strike And I bottled it up You hit the red carpet and modeled it up We hopped in the rari and throttled it up Now everybody clappin they bravoed it up All just because its more than a buzz More than a drink but I took a few sips And let it do what it does Now drunk textin Like its all about you Like I cant spend another minute without you You know the drinks let you say things you aint allowed to Things that you fear but youre way to proud to Say out loud Cause niggas gonna clown you Put your Blackberry down People is around you Ill put my mack berry down I aint tryin to hound you Just tryin to take you where the stars gonna surround you And Uhmm maybe ice down you And Uhmm maybe white gown you And Uhmm maybe we should talk about all this after I pound you Ha you know Im just playin with you I know a lot of people mad cause they aint with you Wait is it because we on the moon Tell em to save the hate well be home soon Ayo Im sitting on top of the its More Than a Feeling aint it I be killing damn it Im ill and Im ill and ayayay Meet Mr Popular go get your binoculars And see Penthouse where a nigga be Spitting fire on the PJ in my PJs Fire Marshall said I took it to the max like TJ Yall aint peep I said Marshalls replay I guess Im like the black Marshall meets Jay Meet Ye alligator souffle got it made Special Ed got head from a girl in special ed You know the pretty ones in that dumb class But she got that dumb ass Hit high school and got pregnant dumb fast What happened Teesha your boyfriend come fast Turn around give me pound like we folks Hell no I went rawdog three strokes Tell me now can you make it past your Caspers So we can finally fly off into NASA You was always the cheerleader of my dream That seem to only date the head of football teams And I was the class clown that always kept you laughing We were never meant to be baby we just happened So please dont mess up the trick Hey Young World Im the new Slick Rick They say I move too quick but we cant let this moment pass us Let the hourglass pass right into ashes Let the wind blow the ash right before my glasses So I wrote this love letter right before my classes How could a goddess ask someone thats only average For advice OMG you listen to that bitch Woe is me baby this is tragic Cause we had it we was magic I was flying now Im crashing This is Bad real bad Michael Jackson Now Im mad real mad Joe Jackson You should leave your boyfriend now Im gon ask him What she got is so Niagara Make a young nigga straight need Viagra Make a old nigga give keys to Jaguar Just to keep from all the tease and laughter Her telling her homegirls that he couldnt stay up In the restaurant with her voice way up Please keep it discreet Keep the business out of the street She said I would if hell handle biz up in the sheets Pop off like a thang thang He keep keep And every time that she bang bang He skeet skeet And he so bullheaded tried to three peat Try imagining something passionate Between you Cassie and Kim Kardashian Maybe thatll work when you get to hit that ass again Or you can grab a Red Bull and sip that twice Now yall can have sexy time its nice Man this is classic Call her National Geographic Her ass is African but her eyes so Asian Plus the waist and times awastin This some good pussy dog please dont waste it You said Fuck that man Im gon tape it And came before you barely even got the tape in She had the maid outfit its all on her apron I know a friend who got drunk and claim a fat bitch raped him I feel like its still niggas that owe me checks I feel like its still bitches that owe me sex I feel like this but niggas dont know hes stressed I lost the only girl in the world that know me best I got the money and the fame man that dont mean shit I got the Jesus on a chain man that dont mean shit Cause when the Jesus pieces cant bring me peace Yo I need just at least uh one of Russells nieces On I let my nightmares go I put on everybody that I knew from the Go I know hoes that was frontin when they knew he was broke They say Damn Yeezy Yeezy you dont know us no more You got that big fame homie and you just changed on me You can ask big homie man the top so lonely Aieeah so lonely aieeah Let me see what we have tonight Im high as a satellite I see those flashing lights cause every night every night I put on This a number one champion sound yeah Yeah Estelle we about to get down get down Who the hottest in the world right now ha Just touched down in London town ha Bet they give me a pound Tell them put the money in my hand right now yes Tell the promoter we need more seats We just sold out all the floor seats Who killing them in the UK everybody going to say you K Reluctantly because most of this press dont fuck wit me Estelle once said to me Cool down down Dont act a fool now now I always act a fool oww oww aint nothing new now now He crazy I know what you thinking Ribena I know what youre drinking Rap singer chain blinger Holler at the next chick soon as youre blinking Whats your persona about this Americana rhymer Am I shallow cuz all my clothes designer Dressed smart like a London bloke before he speak his suit bespoke And you thought he was cute before look at this pea coat tell me hes broke And I know you aint into all that I heard your lyrics I feel your spirit But I still talk that CAAASH cause a lot wags want to hear it And Im feeling like Mike at his Baddest Like The Pips at their gladdest And I know they love it So to hell with all that rubbish Aye yo this mutherfuckas jammin Im on it its an anthem Who is that in the Phantom please no cameras They gone have me on Concrete Loop in my pajamas To hide the goods I would need pants big as Hammers I be tippin them dancers they be sayin Im handsome I was pretty before the dough but now Im just the man You remind me of my old chick On that eighty four shit Oh shit Did you see the way she got her toes did This is what yall all looking forward to This is more than historical anything that I say that is audible Ought to blow just like a chick givin oral yo Lick the black get the cream like a Oreo Hit the track get the CREAM same story yo Trick that on Armani Emporium its more important though Yes sir my aura is orchestral but way fresher Cause I simply throw a symphony on a SMPTE but I know That niggas steal beats so after I emcee I empty the MP So I can stay out of reach they used to say Youse a producer Im glad I never listened to you losers cause now Im in Shibuya buyin somethin thats way too exclusive Uh rararararappers are in danger this floor is from a manger But meaner than Lucifer yeah and this is the new drug Im the new high yall want ya weed back Yell I still love HER Hanto E Rap E Rap Pop quiz how many topless black foxes Did I have under my belt like boxers Not to brag but if it add up One two nigga thats mad nuts Game you mad nuts how you gon call out all these Bitches knowin damn well they gon call me The only dream of that ghetto prom queen Was to make it to the screen maybe get seen Maybe get chose by a nigga from my team Head so good he dont ask for a pre nup Now ask yourself this question umm Would you be with JayZ if he wasnt CEO Would you be with FABO if he drove a Neo Would you ride with NeYo if he was in a Geo Well why the hell you think these bitches comin at me fo But since they all fall in my Palm I take a trio yo Yesterday I was half the man you see Baby thats because you the other half of me You my number hit on the line of the charts Imma FedEx my love and have you sign for my heart For my number I keep ya dumb fly Fresh to death you like after death I resurrected my gold Jesus of Nazareth Now we Fresh as a Prince while they Jazzy Jeff And you dont be sayin shit when they askin questions Aaand you be givin me my space aaand You dont be runnin on MySpace aaand You know some other shit I hate wwwhat Wwwhen they violate bbut Tonight man I aint in the mood for it Dont matter who wore it you wore it Look how ya coor Dinated man thats my favorite I love the way that it GLC gon be stoned as Angie I be Don C Johnny Patron and me Its a celebration bitches more bottles of champaign In love with the same stripper that sprung TPain And all this Louis Vuitton shit aint cheap mayn Dawg I cant keep saying GOOD music the greatest latest Stunting out the middle of nowhere like Vegas From the Chi the city of hella haters Where we keep rising to the top like elevators Hi haters Im back off hiatus I feel just like you I mean even I hate us Turn the radio down I mean every song Yeezy got a vision thats clearer than Evian Used to hit the radio them faggots aint let me on Until Khaled turned up the volume Hit the club with it come on homie they wilding Nas done told you come on homie we major Really Doe told you hoes where we staying GOOD music up in this bitch now quit playing Bein at the bar tryin ask what that hypno hit fo Hit fo Knowin I cant afford to get mo Get mo Heres a broke nigga tricked buy one bottle and sip slow sip slow Or or leave the club now Do like I did come back when u get dough A fishstick nigga now we messing with lobsters We messin with Grammies we messin with Oscars You messin with that dranky drank Plus you puffin on that stanky stank In the morning you gon draw a blank The hotel said yall was on em My girl wasnt on shit I picked the wrong one Steady talkin bout I aint like them other girls Well tonight Im tryin to find them other girls Bring they own rubber girl Never meet ya mother girl You know they love it when you love em And they tell they friends girl They say your attitude determines your latitude Im high as a motherfucker fly as a motherfucker And still the motherfucker you love to hate But cant because you love what I make Now aint that about a bitch And Imma talk shit until Im out of hits They dont want to turn they speakers up they claim I aint deep enough All that talkin I feed off of keep it up Im relaxin my feet is up Im leavin you haters like when Shaq left the Lakers just to Heat it up I state the stats to stunt I dont need to front Make black history every day I dont need a month The survey says by the streets according Kanyes just important as Michael Jordan Was to the NBA when he was scorin Ralph Lauren was borin before I wore him and I keep you laced up so you aint gotta borrow nothing From them broke ass friends who be bargain hunting They say they shop on eBay baby why is they frontin They be on the internet but they never cop nothin I keep you in Girl what is those on your toes And your neck staying froze off that rose colored gold I suppose you was told by them hoes I was cheatin Thinkin my heart dont got nothing to do with my penis He got a mind of his own and he just be seeing shit And I dont wanna cheat but I dont be saying shit I try to jack off he ask me who is you playin wit But I know he love you he told me you was his favorite I had that little ass Nissan at your crib showin up Liquor store out of Arbor Mist we Irish Rosed it up Then we rolled to the movies you rocked your fake Chloes You had Gap and Gucci thats still two Gs But thats that last year purse like its still too cheap Ooh you so bougie boo you could have fooled me Cuz five years ago you was so Fugees Now you dont want nothin unless it cost a few Gs You like the lightskinned Ania the darkskinned Aaliyah The black Jennifer Lopez a ghetto senorita You remind me of my Jeep but not no Kia We can talk on your cell but not Nokia It be goin in and out thats why I barely hear ya It be goin in and out like a robbery ah Im tryin to take this money like Rob and G Dep Then Imma take you to the house like Trick and Trina My favorite girl wanna leave me just because I got a girlfriend My freak girl told me now she a Christian My White girl wanna move back to Michigan Im pulling girls off the bench like a sixth man Im in the club doing the same ol two step While Omegas doing the same ol Q step I have my money on my mind I was thinking green She a pledge AKA she was pink and green I want a good girl she want a gentleman We saying the same thing like a synonym I wasnt really spitting game I was scrimmaging My penmanship so hard it needs censorship Im a Chicagoan till Chicago ends Till we blow like Chicago wind I dont know whats better getting laid or getting paid I just know when Im getting one the others getting away This way Plain Pat what up Lifestyles of the broke and famous Let you know how crazy this game is Look at all the new beautiful faces At home supermodel myspaces Long for their shot on the TV screens American Idol never seen these dreams Just last week they want to see ID Now they got you in VIP huh How many people almost famous You almost remember what they name is Like Hey didnt you play in No it couldnt be quit playin Try to keep that balance After MTV thats a Real World Challenge Back on that train Never to be heard from again Yes Mr Wests turn that new child rebel Loud as a badass child level Who need a chorus We do it tyrannosaurus Tyrone its been a year with no phone Could you explain how high is your zone Well take the plane rub his nose in cocaine Theres hoes in magazines you layin saying youre lame And for the hate in advance pull down your pants Make em kiss both cheeks like we living in France Diamonds blue his business managers Jewish And if I get sued my lawyers Jews Some girls do grab the cojones Say you got enough diamonds to at least Sierra loan us Brand new Ferraris I gotta make the donuts CRS is like a hiphop Chris bonus Niggas is hating on the internet I couldnt tell I was too busy rapping GOOD as hell I was too busy flying parasail To Colette to get the new shit that Paris sell Tarantino Da Vinci getting Benjies get half off of Fendi Half of thats to Cindys Hopped out the spaceship put my Mork in Mindy Popped too many corks to let you dorks offend me Props in New York but ChiTowns the city Get my groupie hoochies Gucci Monica Belluccis Are those the real millionnaires or the bendies Im so ultra Im even over Oprah But let me check your account haha no sir Niggas be lovin the old Ye they sayin the new Ye that nigga be spazzin But when Ali turn up and be Ali you cant ever change that nigga back to Cassius So you can gon and make up lies but Im so sanctified I dont sweat it wipe my forehead with a handkerchief And wash my sins in the blood of Jesus Ross grunt People sayin Ye we need another Yeezus Ross grunt Lames try to tell me Cut the wildin out out But who the fuck is you reachin Pass me bottles champagne procession Thats that Holy water sanctified refreshments God sent me a message said Im too aggressive Really Me Too aggressive You say you wrong you wrong Im right Im right Youre wrong we fight Ok Im running from the light running from the day to night Oh the quiet silence defines our misery The riot inside keeps trying to visit me No matter how we try its too much history Too many bad notes playing in our symphony So let it breathe let it fly let it go Let it fall let it crash burn slow And then you call upon God Oh you call upon God We keep these Gs in an alloy safe And stash the weed in an Altoids case They say good things come to those who wait So Imma be at least about a hour late Im so fresh bitch I should be arrested New Cody Chesnutt with my nuts on your chest bitch She said ‚Äúhey Ye‚Äù I said ‚ÄúYes bitch‚Äù Damn Im only asking you a question I met this milf at the AllStar getting action A cougar with more rings than Phil Jackson Told her beauty is why God invented eyeballs And her booty is why God invented my balls Im a rockstar huh start it up Start it up huh start it up So popular you should get a shot of us Niggas dont take shots at us that is only obvious The first album I vomited the second I colonicd it Aint nobody fucking with me I Platonicd it Bet I got some slippers on bet niggas gon honor it These aint even real clothes homie Im pajama rich Banks told me homie go switch the style up These bitches on me homie only to arouse us Told her I aint paying tonight Im only browsing She pulled her blouse up said ‚ÄúIts free‚Äù I said WOWZERS Im going in and Ima go hard I mean whats the point if it aint no scars A little teeth marks Blood on the collar Thats real love mmhmm ahhnah She said uh How could you love someone that hurt you played you spoke to provoke you How could you love someone that burns you turns you into a werewolf And in the moment you might do some things youre not aware of No ones prepared for the scale of this and now you fear love And war and war and more and more drama looking for a score State youre looking for a tour Her allure is more couture tailormade Til your screams in rage I mean ahhhhh Im breaking out the damn cage aghh Hannibal Lector my American Psycho A iller version of Ike yo The Thriller version of Michael My recital is as bright as the light show up at the Eiffel A werewolf up in Paris Im livin off your vitals I mean Ill be your con man Ill be your damn liar Lets start the interview Ill be your vampire I gotta feel you bite your neck to get familiar And if you die guess what I fuckin killed you You know what yo You a bitch You should have a travel agent cause you a trip You should make your own toilet tissue since you the shit But all you got is some fucking issues you fucking bitch I hate niggas but I love your mom Give her a kiss for me her second son Get your mind right baby or get your shit together You gonna be hot a little while Imma be rich forever Girl seducers they come in deuces But when I cut em off they always become a nuisance Niggas take my old flows and they take my old swag He just took my old bitch and turn it to his new bitch Im stupid but I wont get my drama on What Im dealing with is too real for me to comment on Jay finally got it through my head not to run my mouth So when you talk bout ‚Äúyou know who‚Äù I dont know who you talking bout Unfortunately for the rest of yall Im way better than the best of all And even though they focus on just the flaws They still gonna annihilate the festivals And we still gonna sip Dom Perignon And still gonna eat the filet mignon Yeah yeah yeah Ive been known to cover up my eyes With the Ray Beons Flashing lights the stress of life Its way too much to handle in one night Live this life like theres no tomorrow Wake up in Paris with a Russian model Throw your hands in the sky If anybody got five dollars in your pocket right now I call this club Titanic Why cause its going down For all my young ladies ladies that driving Miss Daisy Driving me crazy rock the beat baby Hop up out the ERR she eat up the pavement I dont give a ERR baby he crazy Im back by unpopular demand Least he still popping in Japan shopping in Milan Hopping out the van screams from the fans Yeezy always knew youd be on top again And we bout to hit Jacob the Jeweler So I can be like Slick Rick and rule ya Dr Martin Louis the King Junior And Imma never let the dream turn to Kruegers My outfit so disrespectful You can go head and sneeze cause my presence blessed you I mean we walked in this bitch so stylish Niggas done mistook me for my stylist And I know its superficial and you say its just clothes But we shopping in that motherfucker and they just closed So go ahead and just pose When she walked up out the dressing room the store just froze And I know they tryna get they cool back And them ghetto bitches hollin How you do that So they could never say we never lived it And if I see Biggie tonight I loved every minute Martin Louie the King Jr Starting all that stunting is gonna ruin you If BI was alive hed probly have the tone With the Grey Poupon anything Ye poop on Will explode cause I am the shit and this is my commode Uhoh there they go Talkin bout how your boys clothes extratight I just remembered that my limelight extrabright I hit the strip club and girls get extrahype You hit the strip club and girls turn extradyke We know who not getting no sex tonight And a lap dancell probly be a blessing right So all the shit you talking dead coffin Light the weed coughin new crib loft in Where its at Austin Where is that Texas Whats in front Benzes What else Lexus Well whos Maybach is this Mr Wests Mr West is in the buildin Swagger on a hundred thousand trillion Ayo I know I got it first Im Christopher Columbus yall just the Pilgrims Thanksgiving do we even got a question Hermes pastel I pass the dressing My attitude is tattooed that mean its permanent So I guess we should address it huh My swagger is Mick Jagger Every time I breathe on a track I asthma attack it Why you so mad for Why you gotta have it Cause I slaved my whole life now Im the master Naaaaananaaaaa How it feel to wake up and be the shit and the urine Naaaaananaaaaa Tryin to get that Kobe number one over Jordan Lollipop lollipop Breasts is just like Dolly Parton She ride my spaceship til she hit the top That hit the spot til she ask How many liiliilicks do it take til she get to shop Dont worry why my wrists got so freeze Tell her Girl like Doritos thats nacho cheese Tell her friends Like Fritos Im trying to lay I cant only have one and I aint tryin to wait This a song with Wayne so you know its gonna melt But you aint finna murder me like everybody else Imma rap like I got some type of respect for myself I dont do it for my health man I do it for the belt Man I do it to the death til the roof get melt Hundred degrees drop the roof so the coupe dont melt Man the flow so cold chicken soup wont help We need fo mo hoes we need ohohohoh You know what it is when were outta town We ball in seats and you out of bounds So come here baby girl Youre now fuckin with the best in the world Lollipop The best in the world I aint tryin to stress my wealth But sometimes I gotta American Express myself When the pastor asked me why Im flashy Well sometimes I gotta bless myself I see you shining shining like a mirror ball Why when were abroad we dont never hear of yall You local retard Im the king of the world So the king of your city by default Niggas pullin out cash in wads My pants kinda tight only fit a credit card But please dont get to spazzin on em Really Doe got a different type of plastic on him And all my niggas is big tippers Why A little rain never hurt no strippers And it aint like I cant get along with you But I need you to get along while I get richer Speakin of richer you talkin bout prior Lets talk about now and the future which I am All star ah Super Bowl shuffle Suicide door ah big world tour ah I am the menorah of this new era And uh you are dawg whatever Got to excuse the cockiness But only an asshole can give you this much shit Right about this time raise your glasses Whats my motivation that ass is Start a conversation like as if You really want to know about a day in that shit Go ahead and tell the DJ to play Swizz So I aint gotta tell these hoes who I is Bitches hatin again thats music to my ears Whats you think my fuel was for all Of these years Im inspired when people dont like me It keep me writing so exciting Man the drama is so enticing I might just bite a motherfucker like Tyson And just too fly a motherfucker show your chain Throw your cash thats cake and icing I asked her you buying She said no just sight seeing Maybe thats just because you aint found the right thing yeah Lookin out my loft windows man my dreams became true Lookin at the mirror wondering if its the same dude Lookin at my closet wondering if its all about clothes Look right next to me wondering if its all about Hop in the car and asked the OnStar where this life goes And I drive so fast I blur the light post They say Drive Slow I say I know Then errrr away I go And the way I flew In this year or two I know this is what God put me here to do But in this excitement You just might miss A shorty with a demo like Hey you might like this And see He Remind me of me Just a year ago Now he Tellin me Im his herrooh I took his CD and asked him what hes lookin for He said Man I dont know Maybe a miracle Excuse me but this verse Has not been Russell Simmons approved uhuh You wont see it on Runs house uhuh You wont see it at a nuns house My New York nigga said he heard it at sons house Talkin bout how this ho is poor as my low is Baby is my Lois maybe Im just bogus Cause she dont want you to buy her a drank Swizz said she aint got no money in the bank And she be standin there cause its cameras Tryin to show yo legs off you aint Amerie If I fall in love a girl gon live on rodeo Until that dayo she take the monorail And I dont want no girl that will answer to ayo Make it more harder make me put some work in You get to flirtin play her just perfect Fuck a drank Imma buy tha bar if ya worth it Now I dont know what the hell this song is talkin bout Do you She said Yeah I been spendin all day tryin to figure that out You too The arms race made em raise they arm and race straight to the top Who knew who knew Right now they got that number one spot do you want that want that Me too One thing I gotta call out boy take a look at Fall Out Boy Since they aint black when they get money they dont ball out boy They just buy tight jeans till their nuts hang all out boy They figure Ye dress tight so we gonna dress tighter He dress white so we gone dress whiter So in spite of Anything you mightve Seen or heard This scene occurred Word How can you say Kan is so pompous You aint been to his concerts You just talking that nonsense He in the same league Nas is Or Jay is My favorite A lot of people say thats where Ye is Though a freshman still the West man One of the best man like Taye Diggs And I was oh so patient While niggas straight disrespectin him So I did what they aint expect from him Dropped The Dropout and blazed em And aint nobody feel my pain Until the hits that I came with Im Kanye not Kayne But to you Im Rick James bitch Uh And Ill be trying to come around my girl acting like Mr Friendly And steal the spotlight like Mr Bentley I spotted her like Spud McKenzie And for them fake boobies I payed them Benjies Get your own I got Paris he got Nicky he tried to get em a Clone He said yeah you know you got extra hoes And everything you do is extra cold From the Polo fleece to the Jesus piece I got family in high places like Jesus niece Can I please say my peace If yall fresh to death then Im deceased And this one here is a heat rocks Spit like a beat box the way the beat rocks New version of Pete Rock But for that Benz I get CL love So I switch my girls around like LW Im calling You my name is Kanye from the Rocafam When the Glocks on jam so when we pop em scram We showed you on champions how we get down So dont twist your lips up like bobby brown You got LL on your bedroom wall Well Ill be double L trying to talk to yall Now I aint even stay in class To figure out RnB to get all of that Yow cuence this girl is bad Im getting spins all day in LA We can go to the D where Dwele dwell DC PG or ATL Back in the Chi mean my life like a magazine Honey wanna know the details about my ebony Well thats XXL Far as the penthouse yeah thats upscale Mademoiselle got a hell of a Black tail Im feeling her vibe her Body and Soul I heard you stay in a metropolitan home Well lets kill all the parlayin and offer you a cosmopolitan Lets jet out the club get some oxygen Your friends claim Im a player you be lucky to keep me But you know people gon be talking bout us weekly My car be in a Robb Report but whats more important to me Is that you'"
            ],
            "application/vnd.google.colaboratory.intrinsic+json": {
              "type": "string"
            }
          },
          "metadata": {},
          "execution_count": 47
        }
      ],
      "source": [
        "# Concatenamos todos los rows en un solo valor\n",
        "corpus = df.apply(lambda row: ' '.join(row.values.astype(str)), axis=0)[0]\n",
        "corpus"
      ]
    },
    {
      "cell_type": "code",
      "execution_count": 48,
      "metadata": {
        "id": "_KlsYd7_uOez",
        "colab": {
          "base_uri": "https://localhost:8080/"
        },
        "outputId": "a57d4d17-fa75-4b53-d917-1d228c23aae8"
      },
      "outputs": [
        {
          "output_type": "execute_result",
          "data": {
            "text/plain": [
              "['let',\n",
              " 'the',\n",
              " 'suicide',\n",
              " 'doors',\n",
              " 'up',\n",
              " 'i',\n",
              " 'threw',\n",
              " 'suicides',\n",
              " 'on',\n",
              " 'the',\n",
              " 'tour',\n",
              " 'bus',\n",
              " 'i',\n",
              " 'threw',\n",
              " 'suicides',\n",
              " 'on',\n",
              " 'the',\n",
              " 'private',\n",
              " 'jet',\n",
              " 'you']"
            ]
          },
          "metadata": {},
          "execution_count": 48
        }
      ],
      "source": [
        "# Transformar el corpus a tokens\n",
        "tokens=text_to_word_sequence(corpus)\n",
        "# Vistazo general de los primeros tokens\n",
        "tokens[:20]"
      ]
    },
    {
      "cell_type": "code",
      "execution_count": 49,
      "metadata": {
        "id": "GlqpZSJOJ1xQ",
        "colab": {
          "base_uri": "https://localhost:8080/"
        },
        "outputId": "06bf8f99-458b-4a0f-bf11-622af1dd51c3"
      },
      "outputs": [
        {
          "output_type": "stream",
          "name": "stdout",
          "text": [
            "Cantidad de tokens en el corpus: 51398\n"
          ]
        }
      ],
      "source": [
        "print(\"Cantidad de tokens en el corpus:\", len(tokens))"
      ]
    },
    {
      "cell_type": "code",
      "execution_count": 50,
      "metadata": {
        "id": "RhQevOynuYk2"
      },
      "outputs": [],
      "source": [
        "# Código para hacer el desfazaje de las palabras\n",
        "# según el train_len\n",
        "text_sequences = []\n",
        "for i in range(train_len, len(tokens)):\n",
        "  seq = tokens[i-train_len:i]\n",
        "  text_sequences.append(seq)"
      ]
    },
    {
      "cell_type": "code",
      "execution_count": 51,
      "metadata": {
        "id": "FU3FuqHSuhzq",
        "colab": {
          "base_uri": "https://localhost:8080/"
        },
        "outputId": "4c8109cb-28df-4704-e3bd-255c9b6dc6c6"
      },
      "outputs": [
        {
          "output_type": "execute_result",
          "data": {
            "text/plain": [
              "[['let', 'the', 'suicide', 'doors'],\n",
              " ['the', 'suicide', 'doors', 'up'],\n",
              " ['suicide', 'doors', 'up', 'i'],\n",
              " ['doors', 'up', 'i', 'threw'],\n",
              " ['up', 'i', 'threw', 'suicides'],\n",
              " ['i', 'threw', 'suicides', 'on'],\n",
              " ['threw', 'suicides', 'on', 'the'],\n",
              " ['suicides', 'on', 'the', 'tour'],\n",
              " ['on', 'the', 'tour', 'bus'],\n",
              " ['the', 'tour', 'bus', 'i'],\n",
              " ['tour', 'bus', 'i', 'threw'],\n",
              " ['bus', 'i', 'threw', 'suicides'],\n",
              " ['i', 'threw', 'suicides', 'on'],\n",
              " ['threw', 'suicides', 'on', 'the'],\n",
              " ['suicides', 'on', 'the', 'private'],\n",
              " ['on', 'the', 'private', 'jet'],\n",
              " ['the', 'private', 'jet', 'you'],\n",
              " ['private', 'jet', 'you', 'know'],\n",
              " ['jet', 'you', 'know', 'what'],\n",
              " ['you', 'know', 'what', 'that']]"
            ]
          },
          "metadata": {},
          "execution_count": 51
        }
      ],
      "source": [
        "# Demos un vistazo a nuestros vectores para entrenar el modelo\n",
        "text_sequences[:20]"
      ]
    },
    {
      "cell_type": "code",
      "execution_count": 52,
      "metadata": {
        "id": "064N2jtLvHRg",
        "colab": {
          "base_uri": "https://localhost:8080/"
        },
        "outputId": "50f30e07-c4d0-43a3-8191-f6582d8b8b25"
      },
      "outputs": [
        {
          "output_type": "execute_result",
          "data": {
            "text/plain": [
              "[[77, 1, 1342, 718],\n",
              " [1, 1342, 718, 19],\n",
              " [1342, 718, 19, 2],\n",
              " [718, 19, 2, 1099],\n",
              " [19, 2, 1099, 1744],\n",
              " [2, 1099, 1744, 14],\n",
              " [1099, 1744, 14, 1],\n",
              " [1744, 14, 1, 501],\n",
              " [14, 1, 501, 928],\n",
              " [1, 501, 928, 2],\n",
              " [501, 928, 2, 1099],\n",
              " [928, 2, 1099, 1744],\n",
              " [2, 1099, 1744, 14],\n",
              " [1099, 1744, 14, 1],\n",
              " [1744, 14, 1, 1100],\n",
              " [14, 1, 1100, 1101],\n",
              " [1, 1100, 1101, 3],\n",
              " [1100, 1101, 3, 26],\n",
              " [1101, 3, 26, 38],\n",
              " [3, 26, 38, 9]]"
            ]
          },
          "metadata": {},
          "execution_count": 52
        }
      ],
      "source": [
        "# Proceso de tokenizacion\n",
        "tok = Tokenizer() \n",
        "tok.fit_on_texts(text_sequences) \n",
        "\n",
        "# Convertimos las palabras a números\n",
        "# entran palabras -> salen números\n",
        "sequences = tok.texts_to_sequences(text_sequences)\n",
        "\n",
        "# Damos un vistazo\n",
        "sequences[:20]"
      ]
    },
    {
      "cell_type": "code",
      "execution_count": 53,
      "metadata": {
        "id": "vwsvmvDKKXSP",
        "colab": {
          "base_uri": "https://localhost:8080/"
        },
        "outputId": "9e83acc9-b6dd-4817-fbf1-b8ad332f85a5"
      },
      "outputs": [
        {
          "output_type": "stream",
          "name": "stdout",
          "text": [
            "Cantidad de rows del dataset: 51394\n"
          ]
        }
      ],
      "source": [
        "print(\"Cantidad de rows del dataset:\", len(sequences))"
      ]
    },
    {
      "cell_type": "markdown",
      "metadata": {
        "id": "QMVP4bj0vL2e"
      },
      "source": [
        "### 3 - Input y target"
      ]
    },
    {
      "cell_type": "code",
      "execution_count": 54,
      "metadata": {
        "id": "mx2xwdz3KloJ",
        "colab": {
          "base_uri": "https://localhost:8080/"
        },
        "outputId": "3804611a-0bc9-4ffd-a926-8037d032ff0e"
      },
      "outputs": [
        {
          "output_type": "execute_result",
          "data": {
            "text/plain": [
              "array([[1, 2, 3, 4],\n",
              "       [5, 6, 7, 8]])"
            ]
          },
          "metadata": {},
          "execution_count": 54
        }
      ],
      "source": [
        "# Con numpy es muy fácil realizar el slicing de vectores\n",
        "ex = np.array([[1,2,3,4],[5,6,7,8]])\n",
        "ex"
      ]
    },
    {
      "cell_type": "code",
      "execution_count": 55,
      "metadata": {
        "id": "BEod7qghvTVt",
        "colab": {
          "base_uri": "https://localhost:8080/"
        },
        "outputId": "0a1a2681-5b6b-46b9-cec1-b80e083dcd38"
      },
      "outputs": [
        {
          "output_type": "stream",
          "name": "stdout",
          "text": [
            "Dimension: (2, 4)\n",
            "Todos los elementos: [[1 2 3 4]\n",
            " [5 6 7 8]]\n",
            "Todos los elementos menos el último: [[1 2 3]\n",
            " [5 6 7]]\n"
          ]
        }
      ],
      "source": [
        "# Con numpy es muy fácil realizar el slicing de vectores\n",
        "print(\"Dimension:\", ex.shape)\n",
        "print(\"Todos los elementos:\", ex)\n",
        "print(\"Todos los elementos menos el último:\", ex[:, :-1])"
      ]
    },
    {
      "cell_type": "code",
      "execution_count": 56,
      "metadata": {
        "id": "i95xWqtCvp8T",
        "colab": {
          "base_uri": "https://localhost:8080/"
        },
        "outputId": "54b6c421-9233-48bd-f093-664383a7378c"
      },
      "outputs": [
        {
          "output_type": "stream",
          "name": "stdout",
          "text": [
            "Input: [[1 2 3]\n",
            " [5 6 7]]\n",
            "Target: [4 8]\n"
          ]
        }
      ],
      "source": [
        "input = ex[:,:-1] # todos los rows, menos la ultima col\n",
        "target = ex[:, -1] # última col de cada row\n",
        "\n",
        "print(\"Input:\", input)\n",
        "print(\"Target:\", target)"
      ]
    },
    {
      "cell_type": "code",
      "execution_count": 57,
      "metadata": {
        "id": "e1vJTG65v4Qn",
        "colab": {
          "base_uri": "https://localhost:8080/"
        },
        "outputId": "0272bf04-d700-4434-e91f-5b0fa141ae1d"
      },
      "outputs": [
        {
          "output_type": "stream",
          "name": "stdout",
          "text": [
            "(51394, 3)\n",
            "(51394,)\n"
          ]
        }
      ],
      "source": [
        "arr_sequences = np.array(sequences)\n",
        "x_data = arr_sequences[:,:-1]\n",
        "y_data_int = arr_sequences[:,-1] # aún falta el oneHotEncoder\n",
        "\n",
        "print(x_data.shape)\n",
        "print(y_data_int.shape)"
      ]
    },
    {
      "cell_type": "code",
      "execution_count": 58,
      "metadata": {
        "id": "ln6kVWVlwBBs",
        "colab": {
          "base_uri": "https://localhost:8080/"
        },
        "outputId": "472dccc3-4e8e-4562-f34d-6896dfba6f30"
      },
      "outputs": [
        {
          "output_type": "execute_result",
          "data": {
            "text/plain": [
              "{1: 'the',\n",
              " 2: 'i',\n",
              " 3: 'you',\n",
              " 4: 'a',\n",
              " 5: 'and',\n",
              " 6: 'to',\n",
              " 7: 'my',\n",
              " 8: 'in',\n",
              " 9: 'that',\n",
              " 10: 'me',\n",
              " 11: 'it',\n",
              " 12: 'im',\n",
              " 13: 'like',\n",
              " 14: 'on',\n",
              " 15: 'we',\n",
              " 16: 'they',\n",
              " 17: 'your',\n",
              " 18: 'of',\n",
              " 19: 'up',\n",
              " 20: 'so',\n",
              " 21: 'but',\n",
              " 22: 'she',\n",
              " 23: 'got',\n",
              " 24: 'with',\n",
              " 25: 'is',\n",
              " 26: 'know',\n",
              " 27: 'get',\n",
              " 28: 'dont',\n",
              " 29: 'this',\n",
              " 30: 'be',\n",
              " 31: 'now',\n",
              " 32: 'for',\n",
              " 33: 'just',\n",
              " 34: 'all',\n",
              " 35: 'aint',\n",
              " 36: 'was',\n",
              " 37: 'when',\n",
              " 38: 'what',\n",
              " 39: 'her',\n",
              " 40: 'if',\n",
              " 41: 'at',\n",
              " 42: 'its',\n",
              " 43: 'out',\n",
              " 44: 'he',\n",
              " 45: 'no',\n",
              " 46: 'thats',\n",
              " 47: 'do',\n",
              " 48: 'niggas',\n",
              " 49: 'cause',\n",
              " 50: 'say',\n",
              " 51: 'back',\n",
              " 52: 'man',\n",
              " 53: 'shit',\n",
              " 54: 'from',\n",
              " 55: 'go',\n",
              " 56: 'nigga',\n",
              " 57: 'see',\n",
              " 58: 'how',\n",
              " 59: 'make',\n",
              " 60: 'cant',\n",
              " 61: 'more',\n",
              " 62: 'right',\n",
              " 63: 'some',\n",
              " 64: 'off',\n",
              " 65: 'girl',\n",
              " 66: 'said',\n",
              " 67: 'need',\n",
              " 68: 'have',\n",
              " 69: 'not',\n",
              " 70: 'never',\n",
              " 71: 'had',\n",
              " 72: 'as',\n",
              " 73: 'then',\n",
              " 74: 'can',\n",
              " 75: 'love',\n",
              " 76: 'one',\n",
              " 77: 'let',\n",
              " 78: 'way',\n",
              " 79: 'about',\n",
              " 80: 'yeah',\n",
              " 81: 'why',\n",
              " 82: 'take',\n",
              " 83: 'been',\n",
              " 84: 'them',\n",
              " 85: 'want',\n",
              " 86: 'bitch',\n",
              " 87: 'good',\n",
              " 88: 'could',\n",
              " 89: 'new',\n",
              " 90: 'life',\n",
              " 91: 'yall',\n",
              " 92: 'tell',\n",
              " 93: 'only',\n",
              " 94: 'down',\n",
              " 95: 'fuck',\n",
              " 96: 'these',\n",
              " 97: 'gon',\n",
              " 98: 'his',\n",
              " 99: 'time',\n",
              " 100: 'still',\n",
              " 101: 'feel',\n",
              " 102: 'us',\n",
              " 103: 'baby',\n",
              " 104: 'or',\n",
              " 105: 'too',\n",
              " 106: 'em',\n",
              " 107: 'told',\n",
              " 108: 'where',\n",
              " 109: 'look',\n",
              " 110: 'even',\n",
              " 111: 'him',\n",
              " 112: 'did',\n",
              " 113: 'money',\n",
              " 114: 'keep',\n",
              " 115: 'wanna',\n",
              " 116: 'black',\n",
              " 117: 'who',\n",
              " 118: 'gotta',\n",
              " 119: 'people',\n",
              " 120: 'bout',\n",
              " 121: 'ill',\n",
              " 122: 'than',\n",
              " 123: 'god',\n",
              " 124: 'by',\n",
              " 125: 'bad',\n",
              " 126: 'give',\n",
              " 127: 'made',\n",
              " 128: 'hit',\n",
              " 129: 'ass',\n",
              " 130: 'mean',\n",
              " 131: 'come',\n",
              " 132: 'call',\n",
              " 133: 'every',\n",
              " 134: 'well',\n",
              " 135: 'whole',\n",
              " 136: 'day',\n",
              " 137: 'girls',\n",
              " 138: 'yo',\n",
              " 139: 'talk',\n",
              " 140: 'imma',\n",
              " 141: 'over',\n",
              " 142: 'through',\n",
              " 143: 'damn',\n",
              " 144: 'think',\n",
              " 145: 'best',\n",
              " 146: 'ever',\n",
              " 147: 'would',\n",
              " 148: 'guess',\n",
              " 149: 'here',\n",
              " 150: 'youre',\n",
              " 151: 'an',\n",
              " 152: 'before',\n",
              " 153: 'real',\n",
              " 154: 'always',\n",
              " 155: 'everybody',\n",
              " 156: 'home',\n",
              " 157: 'our',\n",
              " 158: 'ye',\n",
              " 159: 'uh',\n",
              " 160: 'first',\n",
              " 161: 'head',\n",
              " 162: 'put',\n",
              " 163: 'ask',\n",
              " 164: 'really',\n",
              " 165: 'big',\n",
              " 166: 'turn',\n",
              " 167: 'thing',\n",
              " 168: 'around',\n",
              " 169: 'again',\n",
              " 170: 'club',\n",
              " 171: 'yeezy',\n",
              " 172: 'hate',\n",
              " 173: 'gonna',\n",
              " 174: 'show',\n",
              " 175: 'whats',\n",
              " 176: 'last',\n",
              " 177: 'night',\n",
              " 178: 'little',\n",
              " 179: 'kids',\n",
              " 180: 'oh',\n",
              " 181: 'til',\n",
              " 182: 'hard',\n",
              " 183: 'same',\n",
              " 184: 'tryna',\n",
              " 185: 'world',\n",
              " 186: 'ya',\n",
              " 187: 'old',\n",
              " 188: 'something',\n",
              " 189: 'huh',\n",
              " 190: 'came',\n",
              " 191: 'lets',\n",
              " 192: 'there',\n",
              " 193: 'hell',\n",
              " 194: 'things',\n",
              " 195: 'try',\n",
              " 196: 'much',\n",
              " 197: 'talking',\n",
              " 198: 'everything',\n",
              " 199: 'bitches',\n",
              " 200: 'hold',\n",
              " 201: 'play',\n",
              " 202: 'game',\n",
              " 203: 'white',\n",
              " 204: 'buy',\n",
              " 205: 'school',\n",
              " 206: 'though',\n",
              " 207: 'fly',\n",
              " 208: 'might',\n",
              " 209: 'will',\n",
              " 210: 'high',\n",
              " 211: 'since',\n",
              " 212: 'couldnt',\n",
              " 213: 'tryin',\n",
              " 214: 'next',\n",
              " 215: 'please',\n",
              " 216: 'crazy',\n",
              " 217: 'should',\n",
              " 218: 'soul',\n",
              " 219: 'car',\n",
              " 220: 'flow',\n",
              " 221: 'name',\n",
              " 222: 'act',\n",
              " 223: 'am',\n",
              " 224: 'two',\n",
              " 225: 'house',\n",
              " 226: 'trying',\n",
              " 227: 'stop',\n",
              " 228: 'getting',\n",
              " 229: 'ive',\n",
              " 230: 'better',\n",
              " 231: 'seen',\n",
              " 232: 'other',\n",
              " 233: 'maybe',\n",
              " 234: 'hey',\n",
              " 235: 'jesus',\n",
              " 236: 'top',\n",
              " 237: 'heard',\n",
              " 238: 'done',\n",
              " 239: 'friends',\n",
              " 240: 'going',\n",
              " 241: 'wasnt',\n",
              " 242: 'hoes',\n",
              " 243: 'family',\n",
              " 244: 'somebody',\n",
              " 245: 'hear',\n",
              " 246: 'kanye',\n",
              " 247: 'took',\n",
              " 248: 'years',\n",
              " 249: 'are',\n",
              " 250: 'cold',\n",
              " 251: 'after',\n",
              " 252: 'remember',\n",
              " 253: 'theres',\n",
              " 254: 'id',\n",
              " 255: 'thought',\n",
              " 256: 'stay',\n",
              " 257: 'benz',\n",
              " 258: 'fuckin',\n",
              " 259: 'dick',\n",
              " 260: 'gone',\n",
              " 261: 'cool',\n",
              " 262: 'homie',\n",
              " 263: 'went',\n",
              " 264: 'fucking',\n",
              " 265: 'broke',\n",
              " 266: 'wrong',\n",
              " 267: 'rap',\n",
              " 268: 'own',\n",
              " 269: 'wont',\n",
              " 270: 'realize',\n",
              " 271: 'beat',\n",
              " 272: 'start',\n",
              " 273: 'another',\n",
              " 274: 'dreams',\n",
              " 275: 'leave',\n",
              " 276: 'long',\n",
              " 277: 'fresh',\n",
              " 278: 'nobody',\n",
              " 279: 'mind',\n",
              " 280: 'face',\n",
              " 281: 'hot',\n",
              " 282: 'eyes',\n",
              " 283: 'swear',\n",
              " 284: 'gave',\n",
              " 285: 'kill',\n",
              " 286: 'clothes',\n",
              " 287: 'used',\n",
              " 288: 'drive',\n",
              " 289: 'away',\n",
              " 290: 'least',\n",
              " 291: 'live',\n",
              " 292: 'year',\n",
              " 293: 'many',\n",
              " 294: 'looking',\n",
              " 295: 'mad',\n",
              " 296: 'myself',\n",
              " 297: 'throw',\n",
              " 298: 'talkin',\n",
              " 299: 'motherfucker',\n",
              " 300: 'saying',\n",
              " 301: 'mama',\n",
              " 302: 'any',\n",
              " 303: 'blow',\n",
              " 304: 'lot',\n",
              " 305: 'work',\n",
              " 306: 'enough',\n",
              " 307: 'wish',\n",
              " 308: 'while',\n",
              " 309: 'mr',\n",
              " 310: 'dog',\n",
              " 311: 'jay',\n",
              " 312: 'feeling',\n",
              " 313: 'heart',\n",
              " 314: 'bring',\n",
              " 315: 'late',\n",
              " 316: 'west',\n",
              " 317: 'check',\n",
              " 318: 'knew',\n",
              " 319: 'piss',\n",
              " 320: 'dress',\n",
              " 321: 'louis',\n",
              " 322: 'crib',\n",
              " 323: 'rock',\n",
              " 324: 'cut',\n",
              " 325: 'their',\n",
              " 326: 'chain',\n",
              " 327: 'goin',\n",
              " 328: 'wait',\n",
              " 329: 'were',\n",
              " 330: 'soon',\n",
              " 331: 'into',\n",
              " 332: 'hood',\n",
              " 333: 'extra',\n",
              " 334: 'nothin',\n",
              " 335: 'asked',\n",
              " 336: 'gold',\n",
              " 337: 'without',\n",
              " 338: 'chi',\n",
              " 339: 'style',\n",
              " 340: 'class',\n",
              " 341: 'gettin',\n",
              " 342: 'finna',\n",
              " 343: 'light',\n",
              " 344: 'lookin',\n",
              " 345: 'stupid',\n",
              " 346: 'music',\n",
              " 347: 'wouldnt',\n",
              " 348: 'left',\n",
              " 349: 'end',\n",
              " 350: 'because',\n",
              " 351: 'most',\n",
              " 352: 'party',\n",
              " 353: 'watch',\n",
              " 354: 'room',\n",
              " 355: 'hurt',\n",
              " 356: 'far',\n",
              " 357: 'doing',\n",
              " 358: 'brother',\n",
              " 359: 'drunk',\n",
              " 360: 'straight',\n",
              " 361: 'drink',\n",
              " 362: 'met',\n",
              " 363: 'until',\n",
              " 364: 'anything',\n",
              " 365: 'king',\n",
              " 366: 'run',\n",
              " 367: 'use',\n",
              " 368: 'boy',\n",
              " 369: 'famous',\n",
              " 370: 'felt',\n",
              " 371: 'believe',\n",
              " 372: 'city',\n",
              " 373: 'friend',\n",
              " 374: 'couple',\n",
              " 375: 'haters',\n",
              " 376: 'power',\n",
              " 377: 'dream',\n",
              " 378: 'plus',\n",
              " 379: 'somethin',\n",
              " 380: 'move',\n",
              " 381: 'whatever',\n",
              " 382: 'nothing',\n",
              " 383: 'morning',\n",
              " 384: 'pussy',\n",
              " 385: 'find',\n",
              " 386: 'chick',\n",
              " 387: 'ah',\n",
              " 388: 'listen',\n",
              " 389: 'michael',\n",
              " 390: 'line',\n",
              " 391: 'drop',\n",
              " 392: 'lights',\n",
              " 393: 'grave',\n",
              " 394: 'step',\n",
              " 395: 'ima',\n",
              " 396: 'hes',\n",
              " 397: 'die',\n",
              " 398: 'rich',\n",
              " 399: 'free',\n",
              " 400: 'different',\n",
              " 401: 'past',\n",
              " 402: 'pop',\n",
              " 403: 'beats',\n",
              " 404: 'week',\n",
              " 405: 'phone',\n",
              " 406: 'times',\n",
              " 407: 'wanted',\n",
              " 408: 'tonight',\n",
              " 409: 'sometimes',\n",
              " 410: 'hand',\n",
              " 411: 'break',\n",
              " 412: 'pass',\n",
              " 413: 'fight',\n",
              " 414: 'plane',\n",
              " 415: 'okay',\n",
              " 416: 'church',\n",
              " 417: 'weed',\n",
              " 418: 'pain',\n",
              " 419: 'summer',\n",
              " 420: 'lost',\n",
              " 421: 'young',\n",
              " 422: 'second',\n",
              " 423: 'cash',\n",
              " 424: 'question',\n",
              " 425: 'hands',\n",
              " 426: 'matter',\n",
              " 427: 'paid',\n",
              " 428: 'hop',\n",
              " 429: 'close',\n",
              " 430: 'slow',\n",
              " 431: 'supposed',\n",
              " 432: 'shoes',\n",
              " 433: 'very',\n",
              " 434: 'ring',\n",
              " 435: 'child',\n",
              " 436: 'else',\n",
              " 437: 'till',\n",
              " 438: 'half',\n",
              " 439: 'outta',\n",
              " 440: 'diamonds',\n",
              " 441: 'star',\n",
              " 442: 'fall',\n",
              " 443: 'body',\n",
              " 444: 'fore',\n",
              " 445: 'grab',\n",
              " 446: 'momma',\n",
              " 447: 'roll',\n",
              " 448: 'store',\n",
              " 449: 'mouth',\n",
              " 450: 'song',\n",
              " 451: 'number',\n",
              " 452: 'ice',\n",
              " 453: 'ride',\n",
              " 454: 'don',\n",
              " 455: 'picture',\n",
              " 456: 'four',\n",
              " 457: 'three',\n",
              " 458: 'welcome',\n",
              " 459: 'already',\n",
              " 460: 'pull',\n",
              " 461: 'shorty',\n",
              " 462: 'change',\n",
              " 463: 'shes',\n",
              " 464: 'bet',\n",
              " 465: 'cuz',\n",
              " 466: 'million',\n",
              " 467: 'movie',\n",
              " 468: 'business',\n",
              " 469: 'mine',\n",
              " 470: 'spend',\n",
              " 471: 'blame',\n",
              " 472: 'news',\n",
              " 473: 'doin',\n",
              " 474: 'probably',\n",
              " 475: 'help',\n",
              " 476: 'side',\n",
              " 477: 'bought',\n",
              " 478: 'kiss',\n",
              " 479: 'streets',\n",
              " 480: 'called',\n",
              " 481: 'few',\n",
              " 482: 'brought',\n",
              " 483: 'swag',\n",
              " 484: 'chitown',\n",
              " 485: 'closed',\n",
              " 486: 'open',\n",
              " 487: 'lose',\n",
              " 488: 'cars',\n",
              " 489: 'fire',\n",
              " 490: 'tv',\n",
              " 491: 'must',\n",
              " 492: 'chicago',\n",
              " 493: 'low',\n",
              " 494: 'caught',\n",
              " 495: 'job',\n",
              " 496: 'spit',\n",
              " 497: 'makin',\n",
              " 498: 'favorite',\n",
              " 499: 'ego',\n",
              " 500: 'claim',\n",
              " 501: 'tour',\n",
              " 502: 'death',\n",
              " 503: 'ball',\n",
              " 504: 'paris',\n",
              " 505: 'living',\n",
              " 506: 'champagne',\n",
              " 507: 'christmas',\n",
              " 508: 'control',\n",
              " 509: 'coming',\n",
              " 510: 'thinking',\n",
              " 511: 'slaves',\n",
              " 512: 'blood',\n",
              " 513: 'la',\n",
              " 514: 'tried',\n",
              " 515: 'nice',\n",
              " 516: 'red',\n",
              " 517: 'devil',\n",
              " 518: 'hundred',\n",
              " 519: 'fake',\n",
              " 520: 'both',\n",
              " 521: 'problem',\n",
              " 522: 'fast',\n",
              " 523: 'tight',\n",
              " 524: 'changed',\n",
              " 525: 'place',\n",
              " 526: 'pretty',\n",
              " 527: 'vuitton',\n",
              " 528: 'ones',\n",
              " 529: 'team',\n",
              " 530: 'has',\n",
              " 531: 'street',\n",
              " 532: 'green',\n",
              " 533: 'type',\n",
              " 534: 'dude',\n",
              " 535: 'walk',\n",
              " 536: 'laugh',\n",
              " 537: 'shine',\n",
              " 538: 'thatll',\n",
              " 539: 'bust',\n",
              " 540: 'almost',\n",
              " 541: 'yes',\n",
              " 542: 'jackson',\n",
              " 543: 'bed',\n",
              " 544: 'date',\n",
              " 545: 'sell',\n",
              " 546: 'gucci',\n",
              " 547: 'chains',\n",
              " 548: 'deep',\n",
              " 549: 'round',\n",
              " 550: 'wonder',\n",
              " 551: 'asshole',\n",
              " 552: 'keys',\n",
              " 553: 'running',\n",
              " 554: 'floor',\n",
              " 555: 'middle',\n",
              " 556: 'track',\n",
              " 557: 'sex',\n",
              " 558: 'days',\n",
              " 559: 'driving',\n",
              " 560: 'heres',\n",
              " 561: 'c',\n",
              " 562: 'making',\n",
              " 563: 'wife',\n",
              " 564: 'super',\n",
              " 565: 'fucked',\n",
              " 566: 'door',\n",
              " 567: 'cops',\n",
              " 568: 'barely',\n",
              " 569: 'mom',\n",
              " 570: 'those',\n",
              " 571: 'magic',\n",
              " 572: 'eat',\n",
              " 573: 'pray',\n",
              " 574: 'freak',\n",
              " 575: 'feelin',\n",
              " 576: 'says',\n",
              " 577: 'stars',\n",
              " 578: 'brand',\n",
              " 579: 'youve',\n",
              " 580: 'fame',\n",
              " 581: 'whips',\n",
              " 582: 'lies',\n",
              " 583: 'loving',\n",
              " 584: 'playing',\n",
              " 585: 'rappers',\n",
              " 586: 'level',\n",
              " 587: 'youll',\n",
              " 588: 'sayin',\n",
              " 589: 'bar',\n",
              " 590: 'forget',\n",
              " 591: 'coke',\n",
              " 592: 'telling',\n",
              " 593: 'wake',\n",
              " 594: 'fur',\n",
              " 595: 'wear',\n",
              " 596: 'today',\n",
              " 597: 'died',\n",
              " 598: 'reason',\n",
              " 599: 'ready',\n",
              " 600: 'future',\n",
              " 601: 'winter',\n",
              " 602: 'miss',\n",
              " 603: 'sorry',\n",
              " 604: 'stacks',\n",
              " 605: 'words',\n",
              " 606: 'thou',\n",
              " 607: 'five',\n",
              " 608: 'dumb',\n",
              " 609: 'pay',\n",
              " 610: 'worry',\n",
              " 611: 'played',\n",
              " 612: 'daughter',\n",
              " 613: 'full',\n",
              " 614: 'funny',\n",
              " 615: 'boss',\n",
              " 616: 'sign',\n",
              " 617: 'park',\n",
              " 618: 'pac',\n",
              " 619: 'minute',\n",
              " 620: 'truth',\n",
              " 621: 'admit',\n",
              " 622: 'dope',\n",
              " 623: 'front',\n",
              " 624: 'hope',\n",
              " 625: 'whos',\n",
              " 626: 'cover',\n",
              " 627: 'folks',\n",
              " 628: 'cop',\n",
              " 629: 'crack',\n",
              " 630: 'guy',\n",
              " 631: 'pulled',\n",
              " 632: 'care',\n",
              " 633: 'college',\n",
              " 634: 'livin',\n",
              " 635: 'lil',\n",
              " 636: 'didnt',\n",
              " 637: 'later',\n",
              " 638: 'dawg',\n",
              " 639: 'bang',\n",
              " 640: 'figure',\n",
              " 641: 'yea',\n",
              " 642: 'pants',\n",
              " 643: 'mall',\n",
              " 644: 'deserve',\n",
              " 645: 'dance',\n",
              " 646: 'excuse',\n",
              " 647: 'except',\n",
              " 648: 'kinda',\n",
              " 649: 'perfect',\n",
              " 650: 'ayo',\n",
              " 651: 'skin',\n",
              " 652: 'pastor',\n",
              " 653: 'remind',\n",
              " 654: 'raised',\n",
              " 655: 'bullshit',\n",
              " 656: 'bag',\n",
              " 657: 'afford',\n",
              " 658: 'theyre',\n",
              " 659: 'ran',\n",
              " 660: 'advice',\n",
              " 661: 'seem',\n",
              " 662: 'alive',\n",
              " 663: 'vibe',\n",
              " 664: 'lord',\n",
              " 665: 'block',\n",
              " 666: 'problems',\n",
              " 667: 'thank',\n",
              " 668: 'workin',\n",
              " 669: 'push',\n",
              " 670: 'hair',\n",
              " 671: 'hours',\n",
              " 672: 'hour',\n",
              " 673: 'ooh',\n",
              " 674: 'dropped',\n",
              " 675: 'treat',\n",
              " 676: 'thousand',\n",
              " 677: 'dollar',\n",
              " 678: 'daddy',\n",
              " 679: 'anybody',\n",
              " 680: 'moment',\n",
              " 681: 'killing',\n",
              " 682: 'write',\n",
              " 683: 'rhyme',\n",
              " 684: 'pour',\n",
              " 685: 'wall',\n",
              " 686: 'calling',\n",
              " 687: 'sip',\n",
              " 688: 'spent',\n",
              " 689: 'drama',\n",
              " 690: 'killed',\n",
              " 691: 'worse',\n",
              " 692: 'ladies',\n",
              " 693: 'drove',\n",
              " 694: 'inside',\n",
              " 695: 'drug',\n",
              " 696: 'son',\n",
              " 697: 'ghetto',\n",
              " 698: 'men',\n",
              " 699: 'outside',\n",
              " 700: 'deal',\n",
              " 701: 'word',\n",
              " 702: 'nuts',\n",
              " 703: 'behind',\n",
              " 704: 'town',\n",
              " 705: 'walked',\n",
              " 706: 'nah',\n",
              " 707: 'together',\n",
              " 708: 'means',\n",
              " 709: 'sick',\n",
              " 710: 'plaques',\n",
              " 711: 'strip',\n",
              " 712: 'learned',\n",
              " 713: 'raise',\n",
              " 714: 'wit',\n",
              " 715: 'guard',\n",
              " 716: 'ha',\n",
              " 717: 'impossible',\n",
              " 718: 'doors',\n",
              " 719: 'quit',\n",
              " 720: 'taste',\n",
              " 721: 'waist',\n",
              " 722: 'mary',\n",
              " 723: 'meet',\n",
              " 724: 'bathroom',\n",
              " 725: 'whip',\n",
              " 726: 'bougie',\n",
              " 727: 'maybach',\n",
              " 728: 'rather',\n",
              " 729: 'sun',\n",
              " 730: 'turned',\n",
              " 731: 'read',\n",
              " 732: 'model',\n",
              " 733: 'water',\n",
              " 734: 'wild',\n",
              " 735: 'piece',\n",
              " 736: 'spouse',\n",
              " 737: 'tear',\n",
              " 738: 'air',\n",
              " 739: 'sittin',\n",
              " 740: 'action',\n",
              " 741: 'mike',\n",
              " 742: 'mommy',\n",
              " 743: 'may',\n",
              " 744: 'talked',\n",
              " 745: 'father',\n",
              " 746: 'whoo',\n",
              " 747: 'sky',\n",
              " 748: 'forgot',\n",
              " 749: 'add',\n",
              " 750: 'k',\n",
              " 751: 'become',\n",
              " 752: 'true',\n",
              " 753: 'neck',\n",
              " 754: 'sleep',\n",
              " 755: 'needed',\n",
              " 756: 'gas',\n",
              " 757: 'grind',\n",
              " 758: 'tellin',\n",
              " 759: 'platinum',\n",
              " 760: 'mamas',\n",
              " 761: 'hotel',\n",
              " 762: 'blessed',\n",
              " 763: 'alone',\n",
              " 764: 'being',\n",
              " 765: 'grown',\n",
              " 766: 'trip',\n",
              " 767: 'six',\n",
              " 768: 'building',\n",
              " 769: 'uhh',\n",
              " 770: 'aww',\n",
              " 771: 'rain',\n",
              " 772: 'hov',\n",
              " 773: 'wrote',\n",
              " 774: 'having',\n",
              " 775: 'asking',\n",
              " 776: 'questions',\n",
              " 777: 'attitude',\n",
              " 778: 'especially',\n",
              " 779: 'heaven',\n",
              " 780: 'ago',\n",
              " 781: 'fat',\n",
              " 782: 'plan',\n",
              " 783: 'history',\n",
              " 784: 'wack',\n",
              " 785: 'loved',\n",
              " 786: 'hah',\n",
              " 787: 'girlfriend',\n",
              " 788: 'feet',\n",
              " 789: 'looked',\n",
              " 790: 'safe',\n",
              " 791: 'messed',\n",
              " 792: 'guys',\n",
              " 793: 'story',\n",
              " 794: 'sure',\n",
              " 795: 'russell',\n",
              " 796: 'tracks',\n",
              " 797: 'jordan',\n",
              " 798: 'mo',\n",
              " 799: 'stand',\n",
              " 800: 'yourself',\n",
              " 801: 'chance',\n",
              " 802: 'nights',\n",
              " 803: 'aunt',\n",
              " 804: 'speak',\n",
              " 805: 'hits',\n",
              " 806: 'breathe',\n",
              " 807: 'finally',\n",
              " 808: 'mood',\n",
              " 809: 'important',\n",
              " 810: 'cribs',\n",
              " 811: 'tom',\n",
              " 812: 'cruise',\n",
              " 813: 'passed',\n",
              " 814: 'birthday',\n",
              " 815: 'forever',\n",
              " 816: 'tired',\n",
              " 817: 'under',\n",
              " 818: 'touch',\n",
              " 819: 'diamond',\n",
              " 820: 'playin',\n",
              " 821: 'couldve',\n",
              " 822: 'stole',\n",
              " 823: 'part',\n",
              " 824: 'askin',\n",
              " 825: 'happened',\n",
              " 826: 'sound',\n",
              " 827: 'found',\n",
              " 828: 'brown',\n",
              " 829: 'dead',\n",
              " 830: 'acting',\n",
              " 831: 'sing',\n",
              " 832: 'goddamn',\n",
              " 833: 'easy',\n",
              " 834: 'gs',\n",
              " 835: 'yeezys',\n",
              " 836: 'ay',\n",
              " 837: 'pack',\n",
              " 838: 'ray',\n",
              " 839: 'soft',\n",
              " 840: 'booty',\n",
              " 841: 'g',\n",
              " 842: 'list',\n",
              " 843: 'invited',\n",
              " 844: 'drivin',\n",
              " 845: 'pink',\n",
              " 846: 'jewelry',\n",
              " 847: 'eye',\n",
              " 848: 'titties',\n",
              " 849: 'lyin',\n",
              " 850: 'glass',\n",
              " 851: 'nike',\n",
              " 852: 'couches',\n",
              " 853: 'pick',\n",
              " 854: 'st',\n",
              " 855: 'system',\n",
              " 856: 'roc',\n",
              " 857: 'fit',\n",
              " 858: 'sold',\n",
              " 859: 'shot',\n",
              " 860: 'd',\n",
              " 861: 'lying',\n",
              " 862: 'trippin',\n",
              " 863: 'corny',\n",
              " 864: 'husband',\n",
              " 865: 'lady',\n",
              " 866: 'shouldve',\n",
              " 867: 'started',\n",
              " 868: 'wave',\n",
              " 869: 'nas',\n",
              " 870: 'happy',\n",
              " 871: 'finished',\n",
              " 872: 'standing',\n",
              " 873: 'polo',\n",
              " 874: 'pimp',\n",
              " 875: 'american',\n",
              " 876: 'belt',\n",
              " 877: 'mase',\n",
              " 878: 'spot',\n",
              " 879: 'dior',\n",
              " 880: 'nowhere',\n",
              " 881: 'flying',\n",
              " 882: 'paper',\n",
              " 883: 'jail',\n",
              " 884: 'lit',\n",
              " 885: 'locked',\n",
              " 886: 'war',\n",
              " 887: 'reach',\n",
              " 888: 'da',\n",
              " 889: 'raw',\n",
              " 890: 'imagine',\n",
              " 891: 'angel',\n",
              " 892: 'kid',\n",
              " 893: 'ahead',\n",
              " 894: 'harder',\n",
              " 895: 'hustle',\n",
              " 896: 'basically',\n",
              " 897: 'wearing',\n",
              " 898: 'mirror',\n",
              " 899: 'miracle',\n",
              " 900: 'gang',\n",
              " 901: 'ma',\n",
              " 902: 'fine',\n",
              " 903: 'great',\n",
              " 904: 'jack',\n",
              " 905: 'radio',\n",
              " 906: 'boys',\n",
              " 907: 'legend',\n",
              " 908: 'henny',\n",
              " 909: 'sit',\n",
              " 910: 'hi',\n",
              " 911: 'verse',\n",
              " 912: 'smokin',\n",
              " 913: 'thatd',\n",
              " 914: 'girlfriends',\n",
              " 915: 'lonely',\n",
              " 916: 'b',\n",
              " 917: 'lines',\n",
              " 918: 'cake',\n",
              " 919: 'naw',\n",
              " 920: 'drank',\n",
              " 921: 'cost',\n",
              " 922: 'colored',\n",
              " 923: 'bein',\n",
              " 924: 'sister',\n",
              " 925: 'pool',\n",
              " 926: 'cream',\n",
              " 927: 'messin',\n",
              " 928: 'bus',\n",
              " 929: 'order',\n",
              " 930: 'prince',\n",
              " 931: 'drugs',\n",
              " 932: 'dealer',\n",
              " 933: 'jacket',\n",
              " 934: 'lee',\n",
              " 935: 'mtv',\n",
              " 936: 'burn',\n",
              " 937: 'rome',\n",
              " 938: 'worst',\n",
              " 939: 'teacher',\n",
              " 940: 'cheap',\n",
              " 941: 'beautiful',\n",
              " 942: 'clean',\n",
              " 943: 'unless',\n",
              " 944: 'picked',\n",
              " 945: 'bentley',\n",
              " 946: 'coat',\n",
              " 947: 'spendin',\n",
              " 948: 'leaves',\n",
              " 949: 'bobby',\n",
              " 950: 'hampton',\n",
              " 951: 'limelight',\n",
              " 952: 'lie',\n",
              " 953: 'reverse',\n",
              " 954: 'jeans',\n",
              " 955: 'woman',\n",
              " 956: 'smile',\n",
              " 957: 'media',\n",
              " 958: 'rose',\n",
              " 959: 'j',\n",
              " 960: 'focus',\n",
              " 961: 'motherfuckers',\n",
              " 962: 'ten',\n",
              " 963: 'th',\n",
              " 964: 'kind',\n",
              " 965: 'popped',\n",
              " 966: 'month',\n",
              " 967: 'hollywood',\n",
              " 968: 'road',\n",
              " 969: 'taking',\n",
              " 970: 'rapper',\n",
              " 971: 'bite',\n",
              " 972: 'chillin',\n",
              " 973: 'helped',\n",
              " 974: 'copped',\n",
              " 975: 'debt',\n",
              " 976: 'smoke',\n",
              " 977: 'cameras',\n",
              " 978: 'lyrical',\n",
              " 979: 'seat',\n",
              " 980: 'strippers',\n",
              " 981: 'steve',\n",
              " 982: 'tickets',\n",
              " 983: 'thinkin',\n",
              " 984: 'pressure',\n",
              " 985: 'kim',\n",
              " 986: 'e',\n",
              " 987: 'crash',\n",
              " 988: 'sweet',\n",
              " 989: 'message',\n",
              " 990: 'lebron',\n",
              " 991: 'grey',\n",
              " 992: 'shut',\n",
              " 993: 'screams',\n",
              " 994: 'tripping',\n",
              " 995: 'lightskinned',\n",
              " 996: 'embarrass',\n",
              " 997: 'respect',\n",
              " 998: 'fell',\n",
              " 999: 'thang',\n",
              " 1000: 'along',\n",
              " ...}"
            ]
          },
          "metadata": {},
          "execution_count": 58
        }
      ],
      "source": [
        "# Palabras del vocabulario\n",
        "tok.index_word"
      ]
    },
    {
      "cell_type": "code",
      "execution_count": 61,
      "metadata": {
        "id": "gJgVhq1zwEpf",
        "colab": {
          "base_uri": "https://localhost:8080/"
        },
        "outputId": "b14de5db-553f-43fc-f39b-dc85e1d1a958"
      },
      "outputs": [
        {
          "output_type": "execute_result",
          "data": {
            "text/plain": [
              "6166"
            ]
          },
          "metadata": {},
          "execution_count": 61
        }
      ],
      "source": [
        "# Cantidad de palabras en el vocabulario\n",
        "vocab_size = len(tok.word_counts)\n",
        "vocab_size"
      ]
    },
    {
      "cell_type": "code",
      "execution_count": 63,
      "metadata": {
        "id": "gIg2e2WCwXbG",
        "colab": {
          "base_uri": "https://localhost:8080/"
        },
        "outputId": "55b3caba-ce4c-43ba-9f4f-c33c30293d9d"
      },
      "outputs": [
        {
          "output_type": "execute_result",
          "data": {
            "text/plain": [
              "(51394, 6166)"
            ]
          },
          "metadata": {},
          "execution_count": 63
        }
      ],
      "source": [
        "y_data_int_offset = y_data_int - 1\n",
        "y_data = to_categorical(y_data_int_offset, num_classes=vocab_size) \n",
        "y_data.shape"
      ]
    },
    {
      "cell_type": "markdown",
      "metadata": {
        "id": "GmJWNyxQwfCE"
      },
      "source": [
        "### 4 - Entrenar el modelo"
      ]
    },
    {
      "cell_type": "code",
      "execution_count": 65,
      "metadata": {
        "id": "0cOmNZT_weK2",
        "colab": {
          "base_uri": "https://localhost:8080/"
        },
        "outputId": "2e149679-dbbb-427b-e307-1493f56dfbb0"
      },
      "outputs": [
        {
          "output_type": "execute_result",
          "data": {
            "text/plain": [
              "3"
            ]
          },
          "metadata": {},
          "execution_count": 65
        }
      ],
      "source": [
        "# largo de la secuencia de entrada\n",
        "input_seq_len = x_data.shape[1] \n",
        "input_seq_len"
      ]
    },
    {
      "cell_type": "code",
      "execution_count": 66,
      "metadata": {
        "id": "qtwITjgnwlgp",
        "colab": {
          "base_uri": "https://localhost:8080/"
        },
        "outputId": "9cc47bc6-52a1-4b02-ee8b-3aedc9db63b7"
      },
      "outputs": [
        {
          "output_type": "execute_result",
          "data": {
            "text/plain": [
              "6166"
            ]
          },
          "metadata": {},
          "execution_count": 66
        }
      ],
      "source": [
        "# Largo del vector de salida --> vocab_size\n",
        "output_size = vocab_size\n",
        "output_size"
      ]
    },
    {
      "cell_type": "code",
      "execution_count": 67,
      "metadata": {
        "id": "jzTZRXrrwrvi",
        "colab": {
          "base_uri": "https://localhost:8080/"
        },
        "outputId": "0f8ed421-0758-40dd-bc2e-d97c221d9330"
      },
      "outputs": [
        {
          "output_type": "stream",
          "name": "stdout",
          "text": [
            "Model: \"sequential\"\n",
            "_________________________________________________________________\n",
            " Layer (type)                Output Shape              Param #   \n",
            "=================================================================\n",
            " embedding (Embedding)       (None, 3, 5)              30835     \n",
            "                                                                 \n",
            " lstm (LSTM)                 (None, 3, 64)             17920     \n",
            "                                                                 \n",
            " dropout (Dropout)           (None, 3, 64)             0         \n",
            "                                                                 \n",
            " lstm_1 (LSTM)               (None, 64)                33024     \n",
            "                                                                 \n",
            " dense (Dense)               (None, 32)                2080      \n",
            "                                                                 \n",
            " dense_1 (Dense)             (None, 6166)              203478    \n",
            "                                                                 \n",
            "=================================================================\n",
            "Total params: 287,337\n",
            "Trainable params: 287,337\n",
            "Non-trainable params: 0\n",
            "_________________________________________________________________\n"
          ]
        }
      ],
      "source": [
        "model = Sequential()\n",
        "\n",
        "# Embedding:\n",
        "# input_seq_len = 3 --> ingreso 3 palabras\n",
        "# input_dim = vocab_size --> 1628 palabras distintas\n",
        "# output_dim = 5 --> crear embeddings de tamaño 3 (tamaño variable y ajustable)\n",
        "model.add(Embedding(input_dim=vocab_size+1, output_dim=5, input_length=input_seq_len))\n",
        "\n",
        "model.add(LSTM(64, return_sequences=True))\n",
        "model.add(Dropout(0.2))\n",
        "model.add(LSTM(64)) # La última capa LSTM no lleva return_sequences\n",
        "model.add(Dense(32, activation='relu'))\n",
        "\n",
        "# Predicción de clasificación con softmax\n",
        "# La salida vuelve al espacio de 1628 palabras posibles\n",
        "model.add(Dense(vocab_size, activation='softmax'))\n",
        "\n",
        "# Clasificación multiple categórica --> loss = categorical_crossentropy\n",
        "model.compile(loss='categorical_crossentropy', optimizer='adam', metrics=['accuracy'])\n",
        "\n",
        "model.summary()"
      ]
    },
    {
      "cell_type": "code",
      "execution_count": 68,
      "metadata": {
        "id": "oQq1PHDkxDvN",
        "colab": {
          "base_uri": "https://localhost:8080/"
        },
        "outputId": "9f39adb9-5a75-4077-d333-1ade921bdccb"
      },
      "outputs": [
        {
          "output_type": "stream",
          "name": "stdout",
          "text": [
            "Epoch 1/50\n",
            "1285/1285 [==============================] - 31s 15ms/step - loss: 6.8104 - accuracy: 0.0378 - val_loss: 6.7676 - val_accuracy: 0.0367\n",
            "Epoch 2/50\n",
            "1285/1285 [==============================] - 12s 10ms/step - loss: 6.4507 - accuracy: 0.0389 - val_loss: 6.7776 - val_accuracy: 0.0367\n",
            "Epoch 3/50\n",
            "1285/1285 [==============================] - 12s 9ms/step - loss: 6.3394 - accuracy: 0.0391 - val_loss: 6.8786 - val_accuracy: 0.0367\n",
            "Epoch 4/50\n",
            "1285/1285 [==============================] - 12s 10ms/step - loss: 6.2473 - accuracy: 0.0449 - val_loss: 6.8839 - val_accuracy: 0.0383\n",
            "Epoch 5/50\n",
            "1285/1285 [==============================] - 15s 12ms/step - loss: 6.1143 - accuracy: 0.0480 - val_loss: 6.9367 - val_accuracy: 0.0424\n",
            "Epoch 6/50\n",
            "1285/1285 [==============================] - 13s 10ms/step - loss: 5.9727 - accuracy: 0.0522 - val_loss: 6.9750 - val_accuracy: 0.0427\n",
            "Epoch 7/50\n",
            "1285/1285 [==============================] - 17s 13ms/step - loss: 5.8677 - accuracy: 0.0550 - val_loss: 7.1020 - val_accuracy: 0.0484\n",
            "Epoch 8/50\n",
            "1285/1285 [==============================] - 15s 12ms/step - loss: 5.7780 - accuracy: 0.0583 - val_loss: 7.1753 - val_accuracy: 0.0487\n",
            "Epoch 9/50\n",
            "1285/1285 [==============================] - 13s 10ms/step - loss: 5.6939 - accuracy: 0.0607 - val_loss: 7.2763 - val_accuracy: 0.0497\n",
            "Epoch 10/50\n",
            "1285/1285 [==============================] - 12s 9ms/step - loss: 5.6163 - accuracy: 0.0623 - val_loss: 7.3986 - val_accuracy: 0.0471\n",
            "Epoch 11/50\n",
            "1285/1285 [==============================] - 13s 10ms/step - loss: 5.5419 - accuracy: 0.0650 - val_loss: 7.3934 - val_accuracy: 0.0477\n",
            "Epoch 12/50\n",
            "1285/1285 [==============================] - 13s 10ms/step - loss: 5.4721 - accuracy: 0.0679 - val_loss: 7.5862 - val_accuracy: 0.0506\n",
            "Epoch 13/50\n",
            "1285/1285 [==============================] - 14s 11ms/step - loss: 5.4007 - accuracy: 0.0699 - val_loss: 7.7048 - val_accuracy: 0.0510\n",
            "Epoch 14/50\n",
            "1285/1285 [==============================] - 13s 10ms/step - loss: 5.3276 - accuracy: 0.0728 - val_loss: 7.7916 - val_accuracy: 0.0505\n",
            "Epoch 15/50\n",
            "1285/1285 [==============================] - 13s 10ms/step - loss: 5.2554 - accuracy: 0.0778 - val_loss: 7.8630 - val_accuracy: 0.0520\n",
            "Epoch 16/50\n",
            "1285/1285 [==============================] - 12s 9ms/step - loss: 5.1877 - accuracy: 0.0806 - val_loss: 8.0088 - val_accuracy: 0.0516\n",
            "Epoch 17/50\n",
            "1285/1285 [==============================] - 13s 10ms/step - loss: 5.1219 - accuracy: 0.0831 - val_loss: 8.2879 - val_accuracy: 0.0520\n",
            "Epoch 18/50\n",
            "1285/1285 [==============================] - 12s 9ms/step - loss: 5.0591 - accuracy: 0.0854 - val_loss: 8.3360 - val_accuracy: 0.0512\n",
            "Epoch 19/50\n",
            "1285/1285 [==============================] - 13s 10ms/step - loss: 4.9975 - accuracy: 0.0899 - val_loss: 8.6803 - val_accuracy: 0.0506\n",
            "Epoch 20/50\n",
            "1285/1285 [==============================] - 14s 11ms/step - loss: 4.9363 - accuracy: 0.0910 - val_loss: 8.8243 - val_accuracy: 0.0530\n",
            "Epoch 21/50\n",
            "1285/1285 [==============================] - 13s 10ms/step - loss: 4.8807 - accuracy: 0.0943 - val_loss: 9.0475 - val_accuracy: 0.0527\n",
            "Epoch 22/50\n",
            "1285/1285 [==============================] - 12s 9ms/step - loss: 4.8277 - accuracy: 0.0969 - val_loss: 9.2275 - val_accuracy: 0.0510\n",
            "Epoch 23/50\n",
            "1285/1285 [==============================] - 12s 9ms/step - loss: 4.7726 - accuracy: 0.0997 - val_loss: 9.4028 - val_accuracy: 0.0564\n",
            "Epoch 24/50\n",
            "1285/1285 [==============================] - 12s 9ms/step - loss: 4.7215 - accuracy: 0.1037 - val_loss: 9.6385 - val_accuracy: 0.0549\n",
            "Epoch 25/50\n",
            "1285/1285 [==============================] - 12s 9ms/step - loss: 4.6774 - accuracy: 0.1059 - val_loss: 9.8424 - val_accuracy: 0.0535\n",
            "Epoch 26/50\n",
            "1285/1285 [==============================] - 12s 9ms/step - loss: 4.6305 - accuracy: 0.1086 - val_loss: 10.2725 - val_accuracy: 0.0546\n",
            "Epoch 27/50\n",
            "1285/1285 [==============================] - 12s 9ms/step - loss: 4.5861 - accuracy: 0.1129 - val_loss: 10.4089 - val_accuracy: 0.0535\n",
            "Epoch 28/50\n",
            "1285/1285 [==============================] - 11s 9ms/step - loss: 4.5459 - accuracy: 0.1162 - val_loss: 10.6389 - val_accuracy: 0.0524\n",
            "Epoch 29/50\n",
            "1285/1285 [==============================] - 11s 9ms/step - loss: 4.5132 - accuracy: 0.1184 - val_loss: 10.7016 - val_accuracy: 0.0532\n",
            "Epoch 30/50\n",
            "1285/1285 [==============================] - 12s 9ms/step - loss: 4.4751 - accuracy: 0.1226 - val_loss: 11.0516 - val_accuracy: 0.0534\n",
            "Epoch 31/50\n",
            "1285/1285 [==============================] - 11s 9ms/step - loss: 4.4456 - accuracy: 0.1265 - val_loss: 11.2900 - val_accuracy: 0.0546\n",
            "Epoch 32/50\n",
            "1285/1285 [==============================] - 11s 9ms/step - loss: 4.4130 - accuracy: 0.1282 - val_loss: 11.5301 - val_accuracy: 0.0532\n",
            "Epoch 33/50\n",
            "1285/1285 [==============================] - 12s 9ms/step - loss: 4.3798 - accuracy: 0.1337 - val_loss: 11.6598 - val_accuracy: 0.0526\n",
            "Epoch 34/50\n",
            "1285/1285 [==============================] - 12s 9ms/step - loss: 4.3578 - accuracy: 0.1337 - val_loss: 11.9017 - val_accuracy: 0.0526\n",
            "Epoch 35/50\n",
            "1285/1285 [==============================] - 11s 9ms/step - loss: 4.3311 - accuracy: 0.1378 - val_loss: 12.0710 - val_accuracy: 0.0542\n",
            "Epoch 36/50\n",
            "1285/1285 [==============================] - 12s 9ms/step - loss: 4.3114 - accuracy: 0.1409 - val_loss: 12.2925 - val_accuracy: 0.0517\n",
            "Epoch 37/50\n",
            "1285/1285 [==============================] - 12s 9ms/step - loss: 4.2854 - accuracy: 0.1430 - val_loss: 12.3476 - val_accuracy: 0.0532\n",
            "Epoch 38/50\n",
            "1285/1285 [==============================] - 11s 9ms/step - loss: 4.2661 - accuracy: 0.1461 - val_loss: 12.5935 - val_accuracy: 0.0512\n",
            "Epoch 39/50\n",
            "1285/1285 [==============================] - 12s 10ms/step - loss: 4.2412 - accuracy: 0.1489 - val_loss: 12.6321 - val_accuracy: 0.0491\n",
            "Epoch 40/50\n",
            "1285/1285 [==============================] - 11s 9ms/step - loss: 4.2191 - accuracy: 0.1509 - val_loss: 12.8956 - val_accuracy: 0.0497\n",
            "Epoch 41/50\n",
            "1285/1285 [==============================] - 11s 9ms/step - loss: 4.2036 - accuracy: 0.1531 - val_loss: 12.8940 - val_accuracy: 0.0539\n",
            "Epoch 42/50\n",
            "1285/1285 [==============================] - 12s 9ms/step - loss: 4.1773 - accuracy: 0.1570 - val_loss: 13.1486 - val_accuracy: 0.0529\n",
            "Epoch 43/50\n",
            "1285/1285 [==============================] - 13s 10ms/step - loss: 4.1622 - accuracy: 0.1585 - val_loss: 13.0865 - val_accuracy: 0.0507\n",
            "Epoch 44/50\n",
            "1285/1285 [==============================] - 13s 10ms/step - loss: 4.1461 - accuracy: 0.1602 - val_loss: 13.3000 - val_accuracy: 0.0508\n",
            "Epoch 45/50\n",
            "1285/1285 [==============================] - 13s 10ms/step - loss: 4.1298 - accuracy: 0.1619 - val_loss: 13.6407 - val_accuracy: 0.0530\n",
            "Epoch 46/50\n",
            "1285/1285 [==============================] - 12s 9ms/step - loss: 4.1128 - accuracy: 0.1646 - val_loss: 13.6207 - val_accuracy: 0.0514\n",
            "Epoch 47/50\n",
            "1285/1285 [==============================] - 13s 10ms/step - loss: 4.0992 - accuracy: 0.1668 - val_loss: 13.6493 - val_accuracy: 0.0533\n",
            "Epoch 48/50\n",
            "1285/1285 [==============================] - 13s 10ms/step - loss: 4.0859 - accuracy: 0.1706 - val_loss: 13.8566 - val_accuracy: 0.0525\n",
            "Epoch 49/50\n",
            "1285/1285 [==============================] - 13s 10ms/step - loss: 4.0688 - accuracy: 0.1705 - val_loss: 13.9321 - val_accuracy: 0.0512\n",
            "Epoch 50/50\n",
            "1285/1285 [==============================] - 13s 10ms/step - loss: 4.0523 - accuracy: 0.1728 - val_loss: 14.1499 - val_accuracy: 0.0494\n"
          ]
        }
      ],
      "source": [
        "hist = model.fit(x_data, y_data, epochs=50, validation_split=0.2)"
      ]
    },
    {
      "cell_type": "code",
      "execution_count": 69,
      "metadata": {
        "id": "q_orBXOrCsNn",
        "colab": {
          "base_uri": "https://localhost:8080/",
          "height": 430
        },
        "outputId": "0dde2141-94a8-4812-bb97-db37e6142ec6"
      },
      "outputs": [
        {
          "output_type": "display_data",
          "data": {
            "text/plain": [
              "<Figure size 640x480 with 1 Axes>"
            ],
            "image/png": "[encoded data removed]"
          },
          "metadata": {}
        }
      ],
      "source": [
        "import matplotlib.pyplot as plt\n",
        "import seaborn as sns\n",
        "\n",
        "# Entrenamiento\n",
        "epoch_count = range(1, len(hist.history['accuracy']) + 1)\n",
        "sns.lineplot(x=epoch_count,  y=hist.history['accuracy'], label='train')\n",
        "sns.lineplot(x=epoch_count,  y=hist.history['val_accuracy'], label='valid')\n",
        "plt.show()"
      ]
    },
    {
      "cell_type": "markdown",
      "metadata": {
        "id": "KN6Fg_BsxJe6"
      },
      "source": [
        "### 5 - Predicción de próxima palabra"
      ]
    },
    {
      "cell_type": "code",
      "execution_count": null,
      "metadata": {
        "id": "iy_AXWQWzeeE"
      },
      "outputs": [],
      "source": [
        "# Keras pad_sequences\n",
        "# https://www.tensorflow.org/api_docs/python/tf/keras/preprocessing/sequence/pad_sequences\n",
        "# Si la secuencia de entrada supera al input_seq_len (3) se trunca\n",
        "# Si la secuencia es más corta se agregna ceros al comienzo"
      ]
    },
    {
      "cell_type": "code",
      "execution_count": 70,
      "metadata": {
        "id": "IBvKHFPmzpy2",
        "colab": {
          "base_uri": "https://localhost:8080/"
        },
        "outputId": "56a856ba-ebf5-46fb-a328-3449dd7fde64"
      },
      "outputs": [
        {
          "output_type": "stream",
          "name": "stdout",
          "text": [
            "\u001b[2K     \u001b[90m━━━━━━━━━━━━━━━━━━━━━━━━━━━━━━━━━━━━━━━━\u001b[0m \u001b[32m17.3/17.3 MB\u001b[0m \u001b[31m79.8 MB/s\u001b[0m eta \u001b[36m0:00:00\u001b[0m\n",
            "\u001b[2K     \u001b[90m━━━━━━━━━━━━━━━━━━━━━━━━━━━━━━━━━━━━━━━━\u001b[0m \u001b[32m1.0/1.0 MB\u001b[0m \u001b[31m59.6 MB/s\u001b[0m eta \u001b[36m0:00:00\u001b[0m\n",
            "\u001b[2K     \u001b[90m━━━━━━━━━━━━━━━━━━━━━━━━━━━━━━━━━━━━━━━━\u001b[0m \u001b[32m57.0/57.0 kB\u001b[0m \u001b[31m7.3 MB/s\u001b[0m eta \u001b[36m0:00:00\u001b[0m\n",
            "\u001b[?25h  Preparing metadata (setup.py) ... \u001b[?25l\u001b[?25hdone\n",
            "\u001b[2K     \u001b[90m━━━━━━━━━━━━━━━━━━━━━━━━━━━━━━━━━━━━━━\u001b[0m \u001b[32m286.7/286.7 kB\u001b[0m \u001b[31m31.1 MB/s\u001b[0m eta \u001b[36m0:00:00\u001b[0m\n",
            "\u001b[2K     \u001b[90m━━━━━━━━━━━━━━━━━━━━━━━━━━━━━━━━━━━━━━━━\u001b[0m \u001b[32m75.3/75.3 kB\u001b[0m \u001b[31m9.8 MB/s\u001b[0m eta \u001b[36m0:00:00\u001b[0m\n",
            "\u001b[2K     \u001b[90m━━━━━━━━━━━━━━━━━━━━━━━━━━━━━━━━━━━━━━\u001b[0m \u001b[32m224.5/224.5 kB\u001b[0m \u001b[31m25.0 MB/s\u001b[0m eta \u001b[36m0:00:00\u001b[0m\n",
            "\u001b[2K     \u001b[90m━━━━━━━━━━━━━━━━━━━━━━━━━━━━━━━━━━━━━━━━\u001b[0m \u001b[32m50.5/50.5 kB\u001b[0m \u001b[31m6.4 MB/s\u001b[0m eta \u001b[36m0:00:00\u001b[0m\n",
            "\u001b[2K     \u001b[90m━━━━━━━━━━━━━━━━━━━━━━━━━━━━━━━━━━━━━━\u001b[0m \u001b[32m135.6/135.6 kB\u001b[0m \u001b[31m17.2 MB/s\u001b[0m eta \u001b[36m0:00:00\u001b[0m\n",
            "\u001b[2K     \u001b[90m━━━━━━━━━━━━━━━━━━━━━━━━━━━━━━━━━━━━━━━━\u001b[0m \u001b[32m45.7/45.7 kB\u001b[0m \u001b[31m6.1 MB/s\u001b[0m eta \u001b[36m0:00:00\u001b[0m\n",
            "\u001b[2K     \u001b[90m━━━━━━━━━━━━━━━━━━━━━━━━━━━━━━━━━━━━━━━━\u001b[0m \u001b[32m58.3/58.3 kB\u001b[0m \u001b[31m8.3 MB/s\u001b[0m eta \u001b[36m0:00:00\u001b[0m\n",
            "\u001b[2K     \u001b[90m━━━━━━━━━━━━━━━━━━━━━━━━━━━━━━━━━━━━━━\u001b[0m \u001b[32m129.9/129.9 kB\u001b[0m \u001b[31m16.8 MB/s\u001b[0m eta \u001b[36m0:00:00\u001b[0m\n",
            "\u001b[2K     \u001b[90m━━━━━━━━━━━━━━━━━━━━━━━━━━━━━━━━━━━━━━\u001b[0m \u001b[32m114.5/114.5 kB\u001b[0m \u001b[31m13.4 MB/s\u001b[0m eta \u001b[36m0:00:00\u001b[0m\n",
            "\u001b[2K     \u001b[90m━━━━━━━━━━━━━━━━━━━━━━━━━━━━━━━━━━━━━━\u001b[0m \u001b[32m268.8/268.8 kB\u001b[0m \u001b[31m30.6 MB/s\u001b[0m eta \u001b[36m0:00:00\u001b[0m\n",
            "\u001b[2K     \u001b[90m━━━━━━━━━━━━━━━━━━━━━━━━━━━━━━━━━━━━━━\u001b[0m \u001b[32m149.6/149.6 kB\u001b[0m \u001b[31m18.8 MB/s\u001b[0m eta \u001b[36m0:00:00\u001b[0m\n",
            "\u001b[2K     \u001b[90m━━━━━━━━━━━━━━━━━━━━━━━━━━━━━━━━━━━━━━━━\u001b[0m \u001b[32m66.9/66.9 kB\u001b[0m \u001b[31m7.8 MB/s\u001b[0m eta \u001b[36m0:00:00\u001b[0m\n",
            "\u001b[2K     \u001b[90m━━━━━━━━━━━━━━━━━━━━━━━━━━━━━━━━━━━━━━━━\u001b[0m \u001b[32m70.6/70.6 kB\u001b[0m \u001b[31m8.1 MB/s\u001b[0m eta \u001b[36m0:00:00\u001b[0m\n",
            "\u001b[2K     \u001b[90m━━━━━━━━━━━━━━━━━━━━━━━━━━━━━━━━━━━━━━━━\u001b[0m \u001b[32m58.3/58.3 kB\u001b[0m \u001b[31m7.8 MB/s\u001b[0m eta \u001b[36m0:00:00\u001b[0m\n",
            "\u001b[?25h  Building wheel for ffmpy (setup.py) ... \u001b[?25l\u001b[?25hdone\n"
          ]
        }
      ],
      "source": [
        "# Se utilizará gradio para ensayar el modelo\n",
        "# Herramienta poderosa para crear interfaces rápidas para ensayar modelos\n",
        "# https://gradio.app/\n",
        "import sys\n",
        "!{sys.executable} -m pip install gradio --quiet"
      ]
    },
    {
      "cell_type": "code",
      "execution_count": 77,
      "metadata": {
        "id": "HNyBykvhzs7-",
        "colab": {
          "base_uri": "https://localhost:8080/",
          "height": 1000
        },
        "outputId": "4148a2e8-bfba-4206-a570-3367dabcb99a"
      },
      "outputs": [
        {
          "output_type": "stream",
          "name": "stderr",
          "text": [
            "/usr/local/lib/python3.10/dist-packages/gradio/deprecation.py:40: UserWarning: `layout` parameter is deprecated, and it has no effect\n",
            "  warnings.warn(value)\n"
          ]
        },
        {
          "output_type": "stream",
          "name": "stdout",
          "text": [
            "Colab notebook detected. This cell will run indefinitely so that you can see errors and logs. To turn off, set debug=False in launch().\n",
            "Note: opening Chrome Inspector may crash demo inside Colab notebooks.\n",
            "\n",
            "To create a public link, set `share=True` in `launch()`.\n"
          ]
        },
        {
          "output_type": "display_data",
          "data": {
            "text/plain": [
              "<IPython.core.display.Javascript object>"
            ],
            "application/javascript": [
              "(async (port, path, width, height, cache, element) => {\n",
              "                        if (!google.colab.kernel.accessAllowed && !cache) {\n",
              "                            return;\n",
              "                        }\n",
              "                        element.appendChild(document.createTextNode(''));\n",
              "                        const url = await google.colab.kernel.proxyPort(port, {cache});\n",
              "\n",
              "                        const external_link = document.createElement('div');\n",
              "                        external_link.innerHTML = `\n",
              "                            <div style=\"font-family: monospace; margin-bottom: 0.5rem\">\n",
              "                                Running on <a href=${new URL(path, url).toString()} target=\"_blank\">\n",
              "                                    https://localhost:${port}${path}\n",
              "                                </a>\n",
              "                            </div>\n",
              "                        `;\n",
              "                        element.appendChild(external_link);\n",
              "\n",
              "                        const iframe = document.createElement('iframe');\n",
              "                        iframe.src = new URL(path, url).toString();\n",
              "                        iframe.height = height;\n",
              "                        iframe.allow = \"autoplay; camera; microphone; clipboard-read; clipboard-write;\"\n",
              "                        iframe.width = width;\n",
              "                        iframe.style.border = 0;\n",
              "                        element.appendChild(iframe);\n",
              "                    })(7860, \"/\", \"100%\", 500, false, window.element)"
            ]
          },
          "metadata": {}
        },
        {
          "output_type": "stream",
          "name": "stdout",
          "text": [
            "1/1 [==============================] - 0s 22ms/step\n",
            "Texto ingresado: Bam bam bam - Predicción: you\n",
            "1/1 [==============================] - 0s 19ms/step\n",
            "Texto ingresado: Gets the people - Predicción: with\n",
            "1/1 [==============================] - 0s 20ms/step\n",
            "Texto ingresado: Talk and talk - Predicción: the\n",
            "1/1 [==============================] - 0s 20ms/step\n",
            "Texto ingresado: In the night - Predicción: a\n",
            "1/1 [==============================] - 0s 19ms/step\n",
            "Texto ingresado: No one knows - Predicción: i\n",
            "1/1 [==============================] - 0s 21ms/step\n",
            "Texto ingresado: You are now - Predicción: the\n",
            "1/1 [==============================] - 0s 18ms/step\n",
            "Texto ingresado: let me into - Predicción: tinted\n",
            "1/1 [==============================] - 0s 18ms/step\n",
            "Texto ingresado: How could you - Predicción: this\n",
            "1/1 [==============================] - 0s 31ms/step\n",
            "Texto ingresado: friend look like - Predicción: \n",
            "1/1 [==============================] - 0s 20ms/step\n",
            "Texto ingresado: Tom Cruise on - Predicción: dawgs\n",
            "Keyboard interruption in main thread... closing server.\n"
          ]
        },
        {
          "output_type": "execute_result",
          "data": {
            "text/plain": []
          },
          "metadata": {},
          "execution_count": 77
        }
      ],
      "source": [
        "import gradio as gr\n",
        "\n",
        "def model_response(human_text):\n",
        "\n",
        "    # Encodeamos\n",
        "    encoded = tok.texts_to_sequences([human_text])[0]\n",
        "    # Si tienen distinto largo\n",
        "    encoded = pad_sequences([encoded], maxlen=3, padding='pre')\n",
        "    \n",
        "    # Predicción softmax\n",
        "    y_hat = model.predict(encoded).argmax(axis=-1)\n",
        "\n",
        "    # Debemos buscar en el vocabulario la palabra\n",
        "    # que corresopnde al indice (y_hat) predicho por le modelo\n",
        "    out_word = ''\n",
        "    for word, index in tok.word_index.items():\n",
        "        if index == y_hat:\n",
        "            out_word = word\n",
        "            break\n",
        "\n",
        "    # Agrego la palabra a la frase predicha\n",
        "    print(\"Texto ingresado:\", human_text,\"- Predicción:\", out_word)\n",
        "    return human_text + ' ' + out_word\n",
        "\n",
        "iface = gr.Interface(\n",
        "    fn=model_response,\n",
        "    inputs=[\"textbox\"],\n",
        "    outputs=\"text\",\n",
        "    layout=\"vertical\")\n",
        "\n",
        "iface.launch(debug=True)"
      ]
    },
    {
      "cell_type": "markdown",
      "metadata": {
        "id": "T2SHmXbgxQH9"
      },
      "source": [
        "### 7 - Conclusiones\n",
        "- Se observó en las métricas parciales que el modelo entrenado no estaba generalizando de forma correcta\n",
        "- En las primeras pruebas de predicción ingresando textos por la interfaz se obtuvieron resultados bastante pobres, no completó estribillos o frases repetitivas como era esperado.\n",
        "- Sin embargo, la mayoría de las veces la predicción tenía bastante sentido\n",
        "- Se podría modificar la arquitectura, agregando capas o neuronaes, etc y entrenar mayor cantidad de épocas para ver si mejoran los resultados\n"
      ]
    },
    {
      "cell_type": "code",
      "source": [],
      "metadata": {
        "id": "mIxaX29Dncao"
      },
      "execution_count": null,
      "outputs": []
    }
  ],
  "metadata": {
    "accelerator": "GPU",
    "colab": {
      "provenance": []
    },
    "kernelspec": {
      "display_name": "Python 3",
      "name": "python3"
    },
    "language_info": {
      "name": "python"
    }
  },
  "nbformat": 4,
  "nbformat_minor": 0
}