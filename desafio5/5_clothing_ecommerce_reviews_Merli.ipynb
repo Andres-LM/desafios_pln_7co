{
  "nbformat": 4,
  "nbformat_minor": 0,
  "metadata": {
    "colab": {
      "provenance": []
    },
    "kernelspec": {
      "name": "python3",
      "display_name": "Python 3"
    },
    "language_info": {
      "name": "python"
    },
    "accelerator": "GPU"
  },
  "cells": [
    {
      "cell_type": "markdown",
      "metadata": {
        "id": "kBLpTr7plguX"
      },
      "source": [
        "<img src=\"https://github.com/hernancontigiani/ceia_memorias_especializacion/raw/master/Figures/logoFIUBA.jpg\" width=\"500\" align=\"center\">\n",
        "\n",
        "\n",
        "# Procesamiento de lenguaje natural\n",
        "## Sentiment analysis con Embeddings + LSTM"
      ]
    },
    {
      "cell_type": "markdown",
      "metadata": {
        "id": "9W6nuajhlqZD"
      },
      "source": [
        "### Objetivo\n",
        "El objetivo es utilizar las críticas de compradores de ropa para que el sistema determine la evaluación del comprador y su crítica (cuantas estrellas le asigna al producto)."
      ]
    },
    {
      "cell_type": "code",
      "source": [
        "!pip install --upgrade --no-cache-dir gdown --quiet"
      ],
      "metadata": {
        "id": "i6zvzv3qZ6xS"
      },
      "execution_count": 1,
      "outputs": []
    },
    {
      "cell_type": "code",
      "metadata": {
        "id": "hCpOVzJdl8_p"
      },
      "source": [
        "import numpy as np\n",
        "import random\n",
        "import io\n",
        "import pickle\n",
        "import pandas as pd\n",
        "\n",
        "import matplotlib.pyplot as plt\n",
        "import seaborn as sns\n",
        "\n",
        "import tensorflow as tf\n",
        "from tensorflow import keras\n",
        "from tensorflow.keras import layers\n",
        "\n",
        "from keras.utils.np_utils import to_categorical\n",
        "from tensorflow.keras.utils import pad_sequences\n",
        "from keras.models import Sequential\n",
        "from keras.layers import Dense\n",
        "from keras.layers import LSTM\n",
        "from keras.layers import Embedding"
      ],
      "execution_count": 2,
      "outputs": []
    },
    {
      "cell_type": "markdown",
      "metadata": {
        "id": "8UPeRkrAmbF3"
      },
      "source": [
        "### Datos\n",
        "Utilizaremos como dataset críticas de compradores de ropa (eCommerce) los cuales puntuaron a cada prenda con un puntaje de 1 a 5 estrellas.\\\n",
        "Referencia del dataset: [LINK](https://www.kaggle.com/nicapotato/womens-ecommerce-clothing-reviews/version/1)"
      ]
    },
    {
      "cell_type": "code",
      "metadata": {
        "id": "C7jLvTU3lSyL",
        "colab": {
          "base_uri": "https://localhost:8080/"
        },
        "outputId": "1ce6486c-a3f6-4b8e-f533-4aa75f7e2d47"
      },
      "source": [
        "# Descargar la carpeta de dataset\n",
        "import os\n",
        "import gdown\n",
        "if os.access('clothing_ecommerce_reviews.csv', os.F_OK) is False:\n",
        "    url = 'https://drive.google.com/uc?id=1Urn1UFSrodN5BuW6-sc_igtaySGRwhV8'\n",
        "    output = 'clothing_ecommerce_reviews.csv'\n",
        "    gdown.download(url, output, quiet=False)\n",
        "else:\n",
        "    print(\"El dataset ya se encuentra descargado\")"
      ],
      "execution_count": 3,
      "outputs": [
        {
          "output_type": "stream",
          "name": "stdout",
          "text": [
            "El dataset ya se encuentra descargado\n"
          ]
        }
      ]
    },
    {
      "cell_type": "code",
      "metadata": {
        "id": "o-SV1P3dnD1J",
        "colab": {
          "base_uri": "https://localhost:8080/",
          "height": 206
        },
        "outputId": "eb6a265a-3dc6-44e7-d77f-4f1586a8ab25"
      },
      "source": [
        "# Armar el dataset\n",
        "df = pd.read_csv('clothing_ecommerce_reviews.csv')\n",
        "df.drop(columns = ['Unnamed: 0'], inplace = True)\n",
        "df.head()"
      ],
      "execution_count": 4,
      "outputs": [
        {
          "output_type": "execute_result",
          "data": {
            "text/plain": [
              "   Clothing ID  Age                    Title  \\\n",
              "0          767   33                      NaN   \n",
              "1         1080   34                      NaN   \n",
              "2         1077   60  Some major design flaws   \n",
              "3         1049   50         My favorite buy!   \n",
              "4          847   47         Flattering shirt   \n",
              "\n",
              "                                         Review Text  Rating  Recommended IND  \\\n",
              "0  Absolutely wonderful - silky and sexy and comf...       4                1   \n",
              "1  Love this dress!  it's sooo pretty.  i happene...       5                1   \n",
              "2  I had such high hopes for this dress and reall...       3                0   \n",
              "3  I love, love, love this jumpsuit. it's fun, fl...       5                1   \n",
              "4  This shirt is very flattering to all due to th...       5                1   \n",
              "\n",
              "   Positive Feedback Count   Division Name Department Name Class Name  \n",
              "0                        0       Initmates        Intimate  Intimates  \n",
              "1                        4         General         Dresses    Dresses  \n",
              "2                        0         General         Dresses    Dresses  \n",
              "3                        0  General Petite         Bottoms      Pants  \n",
              "4                        6         General            Tops    Blouses  "
            ],
            "text/html": [
              "\n",
              "  <div id=\"df-d11f3839-7722-4c3f-8acc-80762f01830a\">\n",
              "    <div class=\"colab-df-container\">\n",
              "      <div>\n",
              "<style scoped>\n",
              "    .dataframe tbody tr th:only-of-type {\n",
              "        vertical-align: middle;\n",
              "    }\n",
              "\n",
              "    .dataframe tbody tr th {\n",
              "        vertical-align: top;\n",
              "    }\n",
              "\n",
              "    .dataframe thead th {\n",
              "        text-align: right;\n",
              "    }\n",
              "</style>\n",
              "<table border=\"1\" class=\"dataframe\">\n",
              "  <thead>\n",
              "    <tr style=\"text-align: right;\">\n",
              "      <th></th>\n",
              "      <th>Clothing ID</th>\n",
              "      <th>Age</th>\n",
              "      <th>Title</th>\n",
              "      <th>Review Text</th>\n",
              "      <th>Rating</th>\n",
              "      <th>Recommended IND</th>\n",
              "      <th>Positive Feedback Count</th>\n",
              "      <th>Division Name</th>\n",
              "      <th>Department Name</th>\n",
              "      <th>Class Name</th>\n",
              "    </tr>\n",
              "  </thead>\n",
              "  <tbody>\n",
              "    <tr>\n",
              "      <th>0</th>\n",
              "      <td>767</td>\n",
              "      <td>33</td>\n",
              "      <td>NaN</td>\n",
              "      <td>Absolutely wonderful - silky and sexy and comf...</td>\n",
              "      <td>4</td>\n",
              "      <td>1</td>\n",
              "      <td>0</td>\n",
              "      <td>Initmates</td>\n",
              "      <td>Intimate</td>\n",
              "      <td>Intimates</td>\n",
              "    </tr>\n",
              "    <tr>\n",
              "      <th>1</th>\n",
              "      <td>1080</td>\n",
              "      <td>34</td>\n",
              "      <td>NaN</td>\n",
              "      <td>Love this dress!  it's sooo pretty.  i happene...</td>\n",
              "      <td>5</td>\n",
              "      <td>1</td>\n",
              "      <td>4</td>\n",
              "      <td>General</td>\n",
              "      <td>Dresses</td>\n",
              "      <td>Dresses</td>\n",
              "    </tr>\n",
              "    <tr>\n",
              "      <th>2</th>\n",
              "      <td>1077</td>\n",
              "      <td>60</td>\n",
              "      <td>Some major design flaws</td>\n",
              "      <td>I had such high hopes for this dress and reall...</td>\n",
              "      <td>3</td>\n",
              "      <td>0</td>\n",
              "      <td>0</td>\n",
              "      <td>General</td>\n",
              "      <td>Dresses</td>\n",
              "      <td>Dresses</td>\n",
              "    </tr>\n",
              "    <tr>\n",
              "      <th>3</th>\n",
              "      <td>1049</td>\n",
              "      <td>50</td>\n",
              "      <td>My favorite buy!</td>\n",
              "      <td>I love, love, love this jumpsuit. it's fun, fl...</td>\n",
              "      <td>5</td>\n",
              "      <td>1</td>\n",
              "      <td>0</td>\n",
              "      <td>General Petite</td>\n",
              "      <td>Bottoms</td>\n",
              "      <td>Pants</td>\n",
              "    </tr>\n",
              "    <tr>\n",
              "      <th>4</th>\n",
              "      <td>847</td>\n",
              "      <td>47</td>\n",
              "      <td>Flattering shirt</td>\n",
              "      <td>This shirt is very flattering to all due to th...</td>\n",
              "      <td>5</td>\n",
              "      <td>1</td>\n",
              "      <td>6</td>\n",
              "      <td>General</td>\n",
              "      <td>Tops</td>\n",
              "      <td>Blouses</td>\n",
              "    </tr>\n",
              "  </tbody>\n",
              "</table>\n",
              "</div>\n",
              "      <button class=\"colab-df-convert\" onclick=\"convertToInteractive('df-d11f3839-7722-4c3f-8acc-80762f01830a')\"\n",
              "              title=\"Convert this dataframe to an interactive table.\"\n",
              "              style=\"display:none;\">\n",
              "        \n",
              "  <svg xmlns=\"http://www.w3.org/2000/svg\" height=\"24px\"viewBox=\"0 0 24 24\"\n",
              "       width=\"24px\">\n",
              "    <path d=\"M0 0h24v24H0V0z\" fill=\"none\"/>\n",
              "    <path d=\"M18.56 5.44l.94 2.06.94-2.06 2.06-.94-2.06-.94-.94-2.06-.94 2.06-2.06.94zm-11 1L8.5 8.5l.94-2.06 2.06-.94-2.06-.94L8.5 2.5l-.94 2.06-2.06.94zm10 10l.94 2.06.94-2.06 2.06-.94-2.06-.94-.94-2.06-.94 2.06-2.06.94z\"/><path d=\"M17.41 7.96l-1.37-1.37c-.4-.4-.92-.59-1.43-.59-.52 0-1.04.2-1.43.59L10.3 9.45l-7.72 7.72c-.78.78-.78 2.05 0 2.83L4 21.41c.39.39.9.59 1.41.59.51 0 1.02-.2 1.41-.59l7.78-7.78 2.81-2.81c.8-.78.8-2.07 0-2.86zM5.41 20L4 18.59l7.72-7.72 1.47 1.35L5.41 20z\"/>\n",
              "  </svg>\n",
              "      </button>\n",
              "      \n",
              "  <style>\n",
              "    .colab-df-container {\n",
              "      display:flex;\n",
              "      flex-wrap:wrap;\n",
              "      gap: 12px;\n",
              "    }\n",
              "\n",
              "    .colab-df-convert {\n",
              "      background-color: #E8F0FE;\n",
              "      border: none;\n",
              "      border-radius: 50%;\n",
              "      cursor: pointer;\n",
              "      display: none;\n",
              "      fill: #1967D2;\n",
              "      height: 32px;\n",
              "      padding: 0 0 0 0;\n",
              "      width: 32px;\n",
              "    }\n",
              "\n",
              "    .colab-df-convert:hover {\n",
              "      background-color: #E2EBFA;\n",
              "      box-shadow: 0px 1px 2px rgba(60, 64, 67, 0.3), 0px 1px 3px 1px rgba(60, 64, 67, 0.15);\n",
              "      fill: #174EA6;\n",
              "    }\n",
              "\n",
              "    [theme=dark] .colab-df-convert {\n",
              "      background-color: #3B4455;\n",
              "      fill: #D2E3FC;\n",
              "    }\n",
              "\n",
              "    [theme=dark] .colab-df-convert:hover {\n",
              "      background-color: #434B5C;\n",
              "      box-shadow: 0px 1px 3px 1px rgba(0, 0, 0, 0.15);\n",
              "      filter: drop-shadow(0px 1px 2px rgba(0, 0, 0, 0.3));\n",
              "      fill: #FFFFFF;\n",
              "    }\n",
              "  </style>\n",
              "\n",
              "      <script>\n",
              "        const buttonEl =\n",
              "          document.querySelector('#df-d11f3839-7722-4c3f-8acc-80762f01830a button.colab-df-convert');\n",
              "        buttonEl.style.display =\n",
              "          google.colab.kernel.accessAllowed ? 'block' : 'none';\n",
              "\n",
              "        async function convertToInteractive(key) {\n",
              "          const element = document.querySelector('#df-d11f3839-7722-4c3f-8acc-80762f01830a');\n",
              "          const dataTable =\n",
              "            await google.colab.kernel.invokeFunction('convertToInteractive',\n",
              "                                                     [key], {});\n",
              "          if (!dataTable) return;\n",
              "\n",
              "          const docLinkHtml = 'Like what you see? Visit the ' +\n",
              "            '<a target=\"_blank\" href=https://colab.research.google.com/notebooks/data_table.ipynb>data table notebook</a>'\n",
              "            + ' to learn more about interactive tables.';\n",
              "          element.innerHTML = '';\n",
              "          dataTable['output_type'] = 'display_data';\n",
              "          await google.colab.output.renderOutput(dataTable, element);\n",
              "          const docLink = document.createElement('div');\n",
              "          docLink.innerHTML = docLinkHtml;\n",
              "          element.appendChild(docLink);\n",
              "        }\n",
              "      </script>\n",
              "    </div>\n",
              "  </div>\n",
              "  "
            ]
          },
          "metadata": {},
          "execution_count": 4
        }
      ]
    },
    {
      "cell_type": "markdown",
      "metadata": {
        "id": "q-OwSePKm-FK"
      },
      "source": [
        "### 1 - Limpieza de datos\n",
        "Alumno:\n",
        "- Del dataset unicamente utilizar las columnas \"Review Text\" y \"Rating.\n",
        "- Tranformar el rating 1-5 a una escala numérica de 0 a 4.\n",
        "\n"
      ]
    },
    {
      "cell_type": "code",
      "metadata": {
        "id": "-hc7-AmYnPC3",
        "colab": {
          "base_uri": "https://localhost:8080/",
          "height": 206
        },
        "outputId": "e0434ad6-952b-4d97-a2a9-d12fc0045c14"
      },
      "source": [
        "df_reviews = df.loc[:, ['Review Text', 'Rating']].dropna()\n",
        "df_reviews['Rating'] = df_reviews['Rating'] - 1\n",
        "df_reviews.head()"
      ],
      "execution_count": 5,
      "outputs": [
        {
          "output_type": "execute_result",
          "data": {
            "text/plain": [
              "                                         Review Text  Rating\n",
              "0  Absolutely wonderful - silky and sexy and comf...       3\n",
              "1  Love this dress!  it's sooo pretty.  i happene...       4\n",
              "2  I had such high hopes for this dress and reall...       2\n",
              "3  I love, love, love this jumpsuit. it's fun, fl...       4\n",
              "4  This shirt is very flattering to all due to th...       4"
            ],
            "text/html": [
              "\n",
              "  <div id=\"df-e8f2037e-5bbe-4b7a-aa33-028c62d3faaa\">\n",
              "    <div class=\"colab-df-container\">\n",
              "      <div>\n",
              "<style scoped>\n",
              "    .dataframe tbody tr th:only-of-type {\n",
              "        vertical-align: middle;\n",
              "    }\n",
              "\n",
              "    .dataframe tbody tr th {\n",
              "        vertical-align: top;\n",
              "    }\n",
              "\n",
              "    .dataframe thead th {\n",
              "        text-align: right;\n",
              "    }\n",
              "</style>\n",
              "<table border=\"1\" class=\"dataframe\">\n",
              "  <thead>\n",
              "    <tr style=\"text-align: right;\">\n",
              "      <th></th>\n",
              "      <th>Review Text</th>\n",
              "      <th>Rating</th>\n",
              "    </tr>\n",
              "  </thead>\n",
              "  <tbody>\n",
              "    <tr>\n",
              "      <th>0</th>\n",
              "      <td>Absolutely wonderful - silky and sexy and comf...</td>\n",
              "      <td>3</td>\n",
              "    </tr>\n",
              "    <tr>\n",
              "      <th>1</th>\n",
              "      <td>Love this dress!  it's sooo pretty.  i happene...</td>\n",
              "      <td>4</td>\n",
              "    </tr>\n",
              "    <tr>\n",
              "      <th>2</th>\n",
              "      <td>I had such high hopes for this dress and reall...</td>\n",
              "      <td>2</td>\n",
              "    </tr>\n",
              "    <tr>\n",
              "      <th>3</th>\n",
              "      <td>I love, love, love this jumpsuit. it's fun, fl...</td>\n",
              "      <td>4</td>\n",
              "    </tr>\n",
              "    <tr>\n",
              "      <th>4</th>\n",
              "      <td>This shirt is very flattering to all due to th...</td>\n",
              "      <td>4</td>\n",
              "    </tr>\n",
              "  </tbody>\n",
              "</table>\n",
              "</div>\n",
              "      <button class=\"colab-df-convert\" onclick=\"convertToInteractive('df-e8f2037e-5bbe-4b7a-aa33-028c62d3faaa')\"\n",
              "              title=\"Convert this dataframe to an interactive table.\"\n",
              "              style=\"display:none;\">\n",
              "        \n",
              "  <svg xmlns=\"http://www.w3.org/2000/svg\" height=\"24px\"viewBox=\"0 0 24 24\"\n",
              "       width=\"24px\">\n",
              "    <path d=\"M0 0h24v24H0V0z\" fill=\"none\"/>\n",
              "    <path d=\"M18.56 5.44l.94 2.06.94-2.06 2.06-.94-2.06-.94-.94-2.06-.94 2.06-2.06.94zm-11 1L8.5 8.5l.94-2.06 2.06-.94-2.06-.94L8.5 2.5l-.94 2.06-2.06.94zm10 10l.94 2.06.94-2.06 2.06-.94-2.06-.94-.94-2.06-.94 2.06-2.06.94z\"/><path d=\"M17.41 7.96l-1.37-1.37c-.4-.4-.92-.59-1.43-.59-.52 0-1.04.2-1.43.59L10.3 9.45l-7.72 7.72c-.78.78-.78 2.05 0 2.83L4 21.41c.39.39.9.59 1.41.59.51 0 1.02-.2 1.41-.59l7.78-7.78 2.81-2.81c.8-.78.8-2.07 0-2.86zM5.41 20L4 18.59l7.72-7.72 1.47 1.35L5.41 20z\"/>\n",
              "  </svg>\n",
              "      </button>\n",
              "      \n",
              "  <style>\n",
              "    .colab-df-container {\n",
              "      display:flex;\n",
              "      flex-wrap:wrap;\n",
              "      gap: 12px;\n",
              "    }\n",
              "\n",
              "    .colab-df-convert {\n",
              "      background-color: #E8F0FE;\n",
              "      border: none;\n",
              "      border-radius: 50%;\n",
              "      cursor: pointer;\n",
              "      display: none;\n",
              "      fill: #1967D2;\n",
              "      height: 32px;\n",
              "      padding: 0 0 0 0;\n",
              "      width: 32px;\n",
              "    }\n",
              "\n",
              "    .colab-df-convert:hover {\n",
              "      background-color: #E2EBFA;\n",
              "      box-shadow: 0px 1px 2px rgba(60, 64, 67, 0.3), 0px 1px 3px 1px rgba(60, 64, 67, 0.15);\n",
              "      fill: #174EA6;\n",
              "    }\n",
              "\n",
              "    [theme=dark] .colab-df-convert {\n",
              "      background-color: #3B4455;\n",
              "      fill: #D2E3FC;\n",
              "    }\n",
              "\n",
              "    [theme=dark] .colab-df-convert:hover {\n",
              "      background-color: #434B5C;\n",
              "      box-shadow: 0px 1px 3px 1px rgba(0, 0, 0, 0.15);\n",
              "      filter: drop-shadow(0px 1px 2px rgba(0, 0, 0, 0.3));\n",
              "      fill: #FFFFFF;\n",
              "    }\n",
              "  </style>\n",
              "\n",
              "      <script>\n",
              "        const buttonEl =\n",
              "          document.querySelector('#df-e8f2037e-5bbe-4b7a-aa33-028c62d3faaa button.colab-df-convert');\n",
              "        buttonEl.style.display =\n",
              "          google.colab.kernel.accessAllowed ? 'block' : 'none';\n",
              "\n",
              "        async function convertToInteractive(key) {\n",
              "          const element = document.querySelector('#df-e8f2037e-5bbe-4b7a-aa33-028c62d3faaa');\n",
              "          const dataTable =\n",
              "            await google.colab.kernel.invokeFunction('convertToInteractive',\n",
              "                                                     [key], {});\n",
              "          if (!dataTable) return;\n",
              "\n",
              "          const docLinkHtml = 'Like what you see? Visit the ' +\n",
              "            '<a target=\"_blank\" href=https://colab.research.google.com/notebooks/data_table.ipynb>data table notebook</a>'\n",
              "            + ' to learn more about interactive tables.';\n",
              "          element.innerHTML = '';\n",
              "          dataTable['output_type'] = 'display_data';\n",
              "          await google.colab.output.renderOutput(dataTable, element);\n",
              "          const docLink = document.createElement('div');\n",
              "          docLink.innerHTML = docLinkHtml;\n",
              "          element.appendChild(docLink);\n",
              "        }\n",
              "      </script>\n",
              "    </div>\n",
              "  </div>\n",
              "  "
            ]
          },
          "metadata": {},
          "execution_count": 5
        }
      ]
    },
    {
      "cell_type": "code",
      "metadata": {
        "id": "sZtvASVOn3ty",
        "colab": {
          "base_uri": "https://localhost:8080/"
        },
        "outputId": "1683363f-2cf6-4b67-824c-23b098031047"
      },
      "source": [
        "# Alumno: Observar como está distribuido el dataset respecto a la columna Rating\n",
        "# es decir, observar que tan balanceado se encuentra respecot a cada clase\n",
        "df_reviews['Rating'].value_counts()"
      ],
      "execution_count": 6,
      "outputs": [
        {
          "output_type": "execute_result",
          "data": {
            "text/plain": [
              "4    12540\n",
              "3     4908\n",
              "2     2823\n",
              "1     1549\n",
              "0      821\n",
              "Name: Rating, dtype: int64"
            ]
          },
          "metadata": {},
          "execution_count": 6
        }
      ]
    },
    {
      "cell_type": "code",
      "source": [
        "sns.countplot(x='Rating', data=df_reviews)\n",
        "plt.show()"
      ],
      "metadata": {
        "colab": {
          "base_uri": "https://localhost:8080/",
          "height": 449
        },
        "id": "OaF4aQxKGrka",
        "outputId": "e6111161-f739-4031-e793-91181a64f8d0"
      },
      "execution_count": 7,
      "outputs": [
        {
          "output_type": "display_data",
          "data": {
            "text/plain": [
              "<Figure size 640x480 with 1 Axes>"
            ],
            "image/png": "[encoded data removed]"
          },
          "metadata": {}
        }
      ]
    },
    {
      "cell_type": "code",
      "source": [
        "df_reviews['Rating'].value_counts()/len(df_reviews['Rating'])"
      ],
      "metadata": {
        "colab": {
          "base_uri": "https://localhost:8080/"
        },
        "id": "CF9uPzaclofi",
        "outputId": "a2d5ff3f-4dd0-4248-a0ea-684cfc94c24f"
      },
      "execution_count": 8,
      "outputs": [
        {
          "output_type": "execute_result",
          "data": {
            "text/plain": [
              "4    0.553862\n",
              "3    0.216775\n",
              "2    0.124685\n",
              "1    0.068416\n",
              "0    0.036262\n",
              "Name: Rating, dtype: float64"
            ]
          },
          "metadata": {},
          "execution_count": 8
        }
      ]
    },
    {
      "cell_type": "code",
      "source": [
        "# Vamos a utilizar el parámetro class_weight a la hora de hacer el fit del modelo\n",
        "# Class_weights\n",
        "class_weight = {0: 0.04,\n",
        "                1: 0.07,\n",
        "                2: 0.12,\n",
        "                3: 0.22,\n",
        "                4: 0.55}"
      ],
      "metadata": {
        "id": "jEkU14v0G6J9"
      },
      "execution_count": 9,
      "outputs": []
    },
    {
      "cell_type": "code",
      "metadata": {
        "id": "gVJ_RVi4o1h3",
        "colab": {
          "base_uri": "https://localhost:8080/"
        },
        "outputId": "6f3c5c44-977c-4ad2-ab96-4fd314ebd0e4"
      },
      "source": [
        "# Alumno: tomar la columna de las review y almacenarlo todo en un vector numpy de reviews\n",
        "text_sequences = df_reviews['Review Text'].values\n",
        "text_sequences.shape"
      ],
      "execution_count": 10,
      "outputs": [
        {
          "output_type": "execute_result",
          "data": {
            "text/plain": [
              "(22641,)"
            ]
          },
          "metadata": {},
          "execution_count": 10
        }
      ]
    },
    {
      "cell_type": "code",
      "metadata": {
        "id": "4nT5Un_co65Q",
        "colab": {
          "base_uri": "https://localhost:8080/"
        },
        "outputId": "c1c2e5ae-252e-4f9e-b773-fc776c01ab1d"
      },
      "source": [
        "# Alumno: Cuantas reviews (rows) hay para evaluar?\n",
        "len(text_sequences)"
      ],
      "execution_count": 11,
      "outputs": [
        {
          "output_type": "execute_result",
          "data": {
            "text/plain": [
              "22641"
            ]
          },
          "metadata": {},
          "execution_count": 11
        }
      ]
    },
    {
      "cell_type": "code",
      "metadata": {
        "id": "HP5uN9tqpHu_"
      },
      "source": [
        "# Alumno: Concatenar todas las reviews para armar el corpus\n",
        "corpus = ' '.join(text_sequences)"
      ],
      "execution_count": 12,
      "outputs": []
    },
    {
      "cell_type": "code",
      "metadata": {
        "id": "FEzmePgdpf74",
        "colab": {
          "base_uri": "https://localhost:8080/"
        },
        "outputId": "17f5f377-a068-478c-f205-bf4180f54ced"
      },
      "source": [
        "# Alumno: ¿Cuál es la longitud de ese corpus?\n",
        "len(corpus)"
      ],
      "execution_count": 13,
      "outputs": [
        {
          "output_type": "execute_result",
          "data": {
            "text/plain": [
              "7011643"
            ]
          },
          "metadata": {},
          "execution_count": 13
        }
      ]
    },
    {
      "cell_type": "code",
      "metadata": {
        "id": "MYeJLdDmpvOe"
      },
      "source": [
        "# Alumno: Utilizar \"text_to_word_sequence\" para separar las palabras en tokens\n",
        "# recordar que text_to_word_sequence automaticamente quita los signos de puntuacion y pasa el texto a lowercase\n",
        "from keras.preprocessing.text import text_to_word_sequence\n",
        "tokens = text_to_word_sequence(corpus)"
      ],
      "execution_count": 14,
      "outputs": []
    },
    {
      "cell_type": "code",
      "metadata": {
        "id": "M6L-fnWAp_lA",
        "colab": {
          "base_uri": "https://localhost:8080/"
        },
        "outputId": "87f1169d-15c9-435a-c2a7-04374137d3b0"
      },
      "source": [
        "# Alumno: Dar un vistazo a los primeros 20 tokens/palabras\n",
        "tokens[:20]"
      ],
      "execution_count": 15,
      "outputs": [
        {
          "output_type": "execute_result",
          "data": {
            "text/plain": [
              "['absolutely',\n",
              " 'wonderful',\n",
              " 'silky',\n",
              " 'and',\n",
              " 'sexy',\n",
              " 'and',\n",
              " 'comfortable',\n",
              " 'love',\n",
              " 'this',\n",
              " 'dress',\n",
              " \"it's\",\n",
              " 'sooo',\n",
              " 'pretty',\n",
              " 'i',\n",
              " 'happened',\n",
              " 'to',\n",
              " 'find',\n",
              " 'it',\n",
              " 'in',\n",
              " 'a']"
            ]
          },
          "metadata": {},
          "execution_count": 15
        }
      ]
    },
    {
      "cell_type": "code",
      "metadata": {
        "id": "-8QgwwMUqG0d",
        "colab": {
          "base_uri": "https://localhost:8080/"
        },
        "outputId": "b095082a-2cdf-4a67-c6d4-58705057f56c"
      },
      "source": [
        "# Alumno: ¿Cuántos tokens/palabras hay?\n",
        "len(tokens)"
      ],
      "execution_count": 16,
      "outputs": [
        {
          "output_type": "execute_result",
          "data": {
            "text/plain": [
              "1372203"
            ]
          },
          "metadata": {},
          "execution_count": 16
        }
      ]
    },
    {
      "cell_type": "code",
      "metadata": {
        "id": "TFukNZdOsZ8_"
      },
      "source": [
        "# Alumno: Tokenizar las palabras con el Tokenizer de Keras\n",
        "# Definir una máxima cantidad de palabras a utilizar:\n",
        "# num_words --> the maximum number of words to keep, based on word frequency.\n",
        "# Only the most common num_words-1 words will be kept.\n",
        "from keras.preprocessing.text import Tokenizer\n",
        "num_words = 2000\n",
        "vocab_size = num_words\n",
        "tok = Tokenizer(num_words=2000) \n",
        "tok.fit_on_texts(tokens)"
      ],
      "execution_count": 17,
      "outputs": []
    },
    {
      "cell_type": "code",
      "metadata": {
        "id": "JnR1tlqZy94X",
        "colab": {
          "base_uri": "https://localhost:8080/"
        },
        "outputId": "6a086e98-c01b-4b88-9816-8b29c2b5455f"
      },
      "source": [
        "# Alumno: Obtener el diccionario de palabra (word) a índice\n",
        "# y observar la cantidad total del vocabulario\n",
        "word_index = tok.word_index\n",
        "len(word_index)"
      ],
      "execution_count": 18,
      "outputs": [
        {
          "output_type": "execute_result",
          "data": {
            "text/plain": [
              "14847"
            ]
          },
          "metadata": {},
          "execution_count": 18
        }
      ]
    },
    {
      "cell_type": "code",
      "metadata": {
        "id": "AvWzzSretQXf",
        "colab": {
          "base_uri": "https://localhost:8080/"
        },
        "outputId": "c5a4f1a7-2685-45ed-cfa5-3da4da4d9dd8"
      },
      "source": [
        "# Alumno: Convertir las palabras/tokens a números\n",
        "sequences = tok.texts_to_sequences(text_sequences)\n",
        "sequences[0][:10]"
      ],
      "execution_count": 19,
      "outputs": [
        {
          "output_type": "execute_result",
          "data": {
            "text/plain": [
              "[253, 532, 917, 3, 662, 3, 68]"
            ]
          },
          "metadata": {},
          "execution_count": 19
        }
      ]
    },
    {
      "cell_type": "code",
      "metadata": {
        "id": "za73M5SRtbrP",
        "colab": {
          "base_uri": "https://localhost:8080/"
        },
        "outputId": "6d18be74-5ede-489f-fe28-f6abd16d0988"
      },
      "source": [
        "# Alumno: Determinar cual es la oración más larga\n",
        "seqs_lenght = [len(s) for s in sequences]\n",
        "print(f'el máximo es {max(seqs_lenght)}')"
      ],
      "execution_count": 20,
      "outputs": [
        {
          "output_type": "stream",
          "name": "stdout",
          "text": [
            "el máximo es 115\n"
          ]
        }
      ]
    },
    {
      "cell_type": "code",
      "source": [
        "plt.figure()\n",
        "plt.hist(seqs_lenght,bins=100)"
      ],
      "metadata": {
        "colab": {
          "base_uri": "https://localhost:8080/",
          "height": 859
        },
        "id": "f1PC4ShnIaWK",
        "outputId": "734ab77f-3430-441b-d83d-b0c43a3ea20f"
      },
      "execution_count": 21,
      "outputs": [
        {
          "output_type": "execute_result",
          "data": {
            "text/plain": [
              "(array([ 21.,  15.,  26.,  22.,  39.,  54.,  78., 293., 147., 132., 189.,\n",
              "        168., 195., 188., 180., 389., 204., 227., 225., 229., 240., 227.,\n",
              "        254., 504., 249., 265., 243., 289., 238., 257., 503., 262., 278.,\n",
              "        268., 287., 306., 258., 243., 494., 269., 252., 227., 266., 230.,\n",
              "        229., 243., 506., 257., 231., 224., 236., 231., 229., 464., 212.,\n",
              "        222., 220., 223., 204., 195., 195., 399., 171., 200., 197., 171.,\n",
              "        186., 191., 178., 412., 206., 215., 244., 201., 255., 287., 600.,\n",
              "        317., 350., 368., 367., 390., 346., 313., 639., 247., 246., 194.,\n",
              "        144., 113.,  71.,  50.,  75.,  20.,   7.,  12.,   2.,   4.,   1.,\n",
              "          1.]),\n",
              " array([  2.  ,   3.13,   4.26,   5.39,   6.52,   7.65,   8.78,   9.91,\n",
              "         11.04,  12.17,  13.3 ,  14.43,  15.56,  16.69,  17.82,  18.95,\n",
              "         20.08,  21.21,  22.34,  23.47,  24.6 ,  25.73,  26.86,  27.99,\n",
              "         29.12,  30.25,  31.38,  32.51,  33.64,  34.77,  35.9 ,  37.03,\n",
              "         38.16,  39.29,  40.42,  41.55,  42.68,  43.81,  44.94,  46.07,\n",
              "         47.2 ,  48.33,  49.46,  50.59,  51.72,  52.85,  53.98,  55.11,\n",
              "         56.24,  57.37,  58.5 ,  59.63,  60.76,  61.89,  63.02,  64.15,\n",
              "         65.28,  66.41,  67.54,  68.67,  69.8 ,  70.93,  72.06,  73.19,\n",
              "         74.32,  75.45,  76.58,  77.71,  78.84,  79.97,  81.1 ,  82.23,\n",
              "         83.36,  84.49,  85.62,  86.75,  87.88,  89.01,  90.14,  91.27,\n",
              "         92.4 ,  93.53,  94.66,  95.79,  96.92,  98.05,  99.18, 100.31,\n",
              "        101.44, 102.57, 103.7 , 104.83, 105.96, 107.09, 108.22, 109.35,\n",
              "        110.48, 111.61, 112.74, 113.87, 115.  ]),\n",
              " <BarContainer object of 100 artists>)"
            ]
          },
          "metadata": {},
          "execution_count": 21
        },
        {
          "output_type": "display_data",
          "data": {
            "text/plain": [
              "<Figure size 640x480 with 1 Axes>"
            ],
            "image/png": "[encoded data removed]"
          },
          "metadata": {}
        }
      ]
    },
    {
      "cell_type": "code",
      "metadata": {
        "id": "oCkO9Wc9tls1"
      },
      "source": [
        "# Alumno: Realizar padding de las sentencias al mismo tamaño\n",
        "# tomando de referencia la máxima sentencia\n",
        "from tensorflow.keras.utils import pad_sequences\n",
        "maxlen = 115\n",
        "X = pad_sequences(sequences, padding='pre', maxlen=maxlen)"
      ],
      "execution_count": 22,
      "outputs": []
    },
    {
      "cell_type": "code",
      "metadata": {
        "id": "kGHHabVdt_aa",
        "colab": {
          "base_uri": "https://localhost:8080/"
        },
        "outputId": "9fec9b2c-73b8-4dd5-c6c4-4cfccfc3e195"
      },
      "source": [
        "# Alumno: Observar las dimensiones de la variable input\n",
        "X.shape"
      ],
      "execution_count": 23,
      "outputs": [
        {
          "output_type": "execute_result",
          "data": {
            "text/plain": [
              "(22641, 115)"
            ]
          },
          "metadata": {},
          "execution_count": 23
        }
      ]
    },
    {
      "cell_type": "code",
      "metadata": {
        "id": "llVM-tzQo9_F",
        "colab": {
          "base_uri": "https://localhost:8080/"
        },
        "outputId": "c4779ad8-68cd-4ec9-ca36-ec93b3d2aaac"
      },
      "source": [
        "# Alumno tomar la columna rating y alcemacenarla en una variable \"y\" transformada a oneHotEncoding\n",
        "# Su shape debe ser equivalente la cantidad de rows del corpus y a la cantidad\n",
        "# de clases que se deseen predecir (en este ejemplo son 5)\n",
        "y = pd.get_dummies(df_reviews['Rating']).values\n",
        "\n",
        "print(y.shape)"
      ],
      "execution_count": 24,
      "outputs": [
        {
          "output_type": "stream",
          "name": "stdout",
          "text": [
            "(22641, 5)\n"
          ]
        }
      ]
    },
    {
      "cell_type": "code",
      "source": [
        "y"
      ],
      "metadata": {
        "colab": {
          "base_uri": "https://localhost:8080/"
        },
        "id": "NLY1pzx1KT6m",
        "outputId": "64daa350-46f7-4c5a-81fb-b98e85f8310c"
      },
      "execution_count": 25,
      "outputs": [
        {
          "output_type": "execute_result",
          "data": {
            "text/plain": [
              "array([[0, 0, 0, 1, 0],\n",
              "       [0, 0, 0, 0, 1],\n",
              "       [0, 0, 1, 0, 0],\n",
              "       ...,\n",
              "       [0, 0, 1, 0, 0],\n",
              "       [0, 0, 1, 0, 0],\n",
              "       [0, 0, 0, 0, 1]], dtype=uint8)"
            ]
          },
          "metadata": {},
          "execution_count": 25
        }
      ]
    },
    {
      "cell_type": "code",
      "metadata": {
        "id": "Rmz9A6n4uK4V"
      },
      "source": [
        "# Alumno: Dividir los datos en train y test\n",
        "from sklearn.model_selection import train_test_split\n",
        "X_train, X_test, y_train, y_test = train_test_split(X, y, test_size=0.2, random_state=55)"
      ],
      "execution_count": 26,
      "outputs": []
    },
    {
      "cell_type": "code",
      "metadata": {
        "id": "EcDPlhEouQ9E",
        "colab": {
          "base_uri": "https://localhost:8080/"
        },
        "outputId": "803c8a21-1025-402e-e3ce-bf55d22caf76"
      },
      "source": [
        "# Alumno: determinar la dimensiones de entrada y salida\n",
        "in_shape = X_train.shape[1] # max input sentence len\n",
        "out_shape = 5 # Clasificacion multiclase  \n",
        "print(\"in_shape\", in_shape, \", out_shape\", out_shape)"
      ],
      "execution_count": 27,
      "outputs": [
        {
          "output_type": "stream",
          "name": "stdout",
          "text": [
            "in_shape 115 , out_shape 5\n"
          ]
        }
      ]
    },
    {
      "cell_type": "markdown",
      "metadata": {
        "id": "NpbQHExL6OTu"
      },
      "source": [
        "### 2 - Entrenar el modelo con Embeddings Fasttext + LSTM"
      ]
    },
    {
      "cell_type": "code",
      "metadata": {
        "id": "NUkuWBsM6cx3"
      },
      "source": [
        "# Alumno: Entrene su modelo con LSTM entrenando sus propios embeddings\n",
        "# o utilizando embeddings pre-entrenados.\n",
        "# Utilizaremos embedding pre-entrenados--Fasttext\n",
        "from keras.layers import LSTM\n",
        "from keras.layers import Embedding\n",
        "from keras.layers import Dropout"
      ],
      "execution_count": 28,
      "outputs": []
    },
    {
      "cell_type": "code",
      "source": [
        "!curl -L -o 'fasttext.pkl' 'https://drive.google.com/u/0/uc?id=1Qi1r-u5lsEsNqRSxLrpNOqQ3B_ufltCa&export=download&confirm=t'"
      ],
      "metadata": {
        "id": "0YvakJCrMcw5",
        "colab": {
          "base_uri": "https://localhost:8080/"
        },
        "outputId": "aa503cba-c8cc-41e0-f695-e8ee1529767c"
      },
      "execution_count": 29,
      "outputs": [
        {
          "output_type": "stream",
          "name": "stdout",
          "text": [
            "  % Total    % Received % Xferd  Average Speed   Time    Time     Time  Current\n",
            "                                 Dload  Upload   Total   Spent    Left  Speed\n",
            "  0     0    0     0    0     0      0      0 --:--:--  0:00:01 --:--:--     0\n",
            "  0     0    0     0    0     0      0      0 --:--:--  0:00:01 --:--:--     0\n",
            "100 2746M  100 2746M    0     0   198M      0  0:00:13  0:00:13 --:--:--  230M\n"
          ]
        }
      ]
    },
    {
      "cell_type": "code",
      "source": [
        "import logging\n",
        "import os\n",
        "from pathlib import Path\n",
        "from io import StringIO\n",
        "import pickle\n",
        "\n",
        "class WordsEmbeddings(object):\n",
        "    logger = logging.getLogger(__name__)\n",
        "\n",
        "    def __init__(self):\n",
        "        # load the embeddings\n",
        "        words_embedding_pkl = Path(self.PKL_PATH)\n",
        "        if not words_embedding_pkl.is_file():\n",
        "            words_embedding_txt = Path(self.WORD_TO_VEC_MODEL_TXT_PATH)\n",
        "            assert words_embedding_txt.is_file(), 'Words embedding not available'\n",
        "            embeddings = self.convert_model_to_pickle()\n",
        "        else:\n",
        "            embeddings = self.load_model_from_pickle()\n",
        "        self.embeddings = embeddings\n",
        "        # build the vocabulary hashmap\n",
        "        index = np.arange(self.embeddings.shape[0])\n",
        "        # Dicctionarios para traducir de embedding a IDX de la palabra\n",
        "        self.word2idx = dict(zip(self.embeddings['word'], index))\n",
        "        self.idx2word = dict(zip(index, self.embeddings['word']))\n",
        "\n",
        "    def get_words_embeddings(self, words):\n",
        "        words_idxs = self.words2idxs(words)\n",
        "        return self.embeddings[words_idxs]['embedding']\n",
        "\n",
        "    def words2idxs(self, words):\n",
        "        return np.array([self.word2idx.get(word, -1) for word in words])\n",
        "\n",
        "    def idxs2words(self, idxs):\n",
        "        return np.array([self.idx2word.get(idx, '-1') for idx in idxs])\n",
        "\n",
        "    def load_model_from_pickle(self):\n",
        "        self.logger.debug(\n",
        "            'loading words embeddings from pickle {}'.format(\n",
        "                self.PKL_PATH\n",
        "            )\n",
        "        )\n",
        "        max_bytes = 2**28 - 1 # 256MB\n",
        "        bytes_in = bytearray(0)\n",
        "        input_size = os.path.getsize(self.PKL_PATH)\n",
        "        with open(self.PKL_PATH, 'rb') as f_in:\n",
        "            for _ in range(0, input_size, max_bytes):\n",
        "                bytes_in += f_in.read(max_bytes)\n",
        "        embeddings = pickle.loads(bytes_in)\n",
        "        self.logger.debug('words embeddings loaded')\n",
        "        return embeddings\n",
        "\n",
        "    def convert_model_to_pickle(self):\n",
        "        # create a numpy strctured array:\n",
        "        # word     embedding\n",
        "        # U50      np.float32[]\n",
        "        # word_1   a, b, c\n",
        "        # word_2   d, e, f\n",
        "        # ...\n",
        "        # word_n   g, h, i\n",
        "        self.logger.debug(\n",
        "            'converting and loading words embeddings from text file {}'.format(\n",
        "                self.WORD_TO_VEC_MODEL_TXT_PATH\n",
        "            )\n",
        "        )\n",
        "        structure = [('word', np.dtype('U' + str(self.WORD_MAX_SIZE))),\n",
        "                     ('embedding', np.float32, (self.N_FEATURES,))]\n",
        "        structure = np.dtype(structure)\n",
        "        # load numpy array from disk using a generator\n",
        "        with open(self.WORD_TO_VEC_MODEL_TXT_PATH, encoding=\"utf8\") as words_embeddings_txt:\n",
        "            embeddings_gen = (\n",
        "                (line.split()[0], line.split()[1:]) for line in words_embeddings_txt\n",
        "                if len(line.split()[1:]) == self.N_FEATURES\n",
        "            )\n",
        "            embeddings = np.fromiter(embeddings_gen, structure)\n",
        "        # add a null embedding\n",
        "        null_embedding = np.array(\n",
        "            [('null_embedding', np.zeros((self.N_FEATURES,), dtype=np.float32))],\n",
        "            dtype=structure\n",
        "        )\n",
        "        embeddings = np.concatenate([embeddings, null_embedding])\n",
        "        # dump numpy array to disk using pickle\n",
        "        max_bytes = 2**28 - 1 # # 256MB\n",
        "        bytes_out = pickle.dumps(embeddings, protocol=pickle.HIGHEST_PROTOCOL)\n",
        "        with open(self.PKL_PATH, 'wb') as f_out:\n",
        "            for idx in range(0, len(bytes_out), max_bytes):\n",
        "                f_out.write(bytes_out[idx:idx+max_bytes])\n",
        "        self.logger.debug('words embeddings loaded')\n",
        "        return embeddings\n",
        "\n",
        "\n",
        "class GloveEmbeddings(WordsEmbeddings):\n",
        "    WORD_TO_VEC_MODEL_TXT_PATH = 'glove.twitter.27B.50d.txt'\n",
        "    PKL_PATH = 'gloveembedding.pkl'\n",
        "    N_FEATURES = 50\n",
        "    WORD_MAX_SIZE = 60\n",
        "\n",
        "\n",
        "class FasttextEmbeddings(WordsEmbeddings):\n",
        "    WORD_TO_VEC_MODEL_TXT_PATH = 'cc.en.300.vec'\n",
        "    PKL_PATH = 'fasttext.pkl'\n",
        "    N_FEATURES = 300\n",
        "    WORD_MAX_SIZE = 60"
      ],
      "metadata": {
        "id": "bNPxxqcxMlck"
      },
      "execution_count": 30,
      "outputs": []
    },
    {
      "cell_type": "code",
      "source": [
        "model_fasttext = FasttextEmbeddings()"
      ],
      "metadata": {
        "id": "RIZo4EcgMml2"
      },
      "execution_count": 31,
      "outputs": []
    },
    {
      "cell_type": "code",
      "source": [
        "\n",
        "print('preparing embedding matrix...')\n",
        "embed_dim = 300 # fasttext\n",
        "words_not_found = []\n",
        "\n",
        "# word_index proviene del tokenizer\n",
        "\n",
        "nb_words = min(num_words, len(word_index)) # vocab_size\n",
        "embedding_matrix = np.zeros((nb_words, embed_dim))\n",
        "\n",
        "# word_index está ordenado de mayor a menor frecuencia de palabras\n",
        "# las primeras que entren en el ciclo for serán las más frecuentes\n",
        "# Atención! El tokenizador de Keras no tiene soporte para stop words\n",
        "# las primeras palabras probablemente sean stopwords, para eliminarlas\n",
        "# hay que procesar el word_index o bien elegir otra librería para preprocesamiento\n",
        "# ¡ver clase 2! ;)\n",
        "for word, i in word_index.items():\n",
        "    if i >= nb_words:\n",
        "        continue\n",
        "    embedding_vector = model_fasttext.get_words_embeddings(word)[0]\n",
        "    if (embedding_vector is not None) and len(embedding_vector) > 0:\n",
        "        embedding_matrix[i] = embedding_vector\n",
        "    else:\n",
        "        # words que no estén en el índice de la matriz de embedding tendrán\n",
        "        # como vector de embedding correspondiente todos ceros\n",
        "        words_not_found.append(word)\n",
        "        print(word)\n",
        "\n",
        "print('number of null word embeddings:', np.sum(np.sum(embedding_matrix**2, axis=1) == 0))"
      ],
      "metadata": {
        "id": "s9JSBTgYMmiV",
        "colab": {
          "base_uri": "https://localhost:8080/"
        },
        "outputId": "e540df09-6cc8-45e9-af33-208edc0625cd"
      },
      "execution_count": 32,
      "outputs": [
        {
          "output_type": "stream",
          "name": "stdout",
          "text": [
            "preparing embedding matrix...\n",
            "number of null word embeddings: 2\n"
          ]
        }
      ]
    },
    {
      "cell_type": "code",
      "source": [
        "# definimos funcion F1 Score = 2 * (precision * recall) / (precision + recall)\n",
        "# Utilizo implementacion del F1 score https://neptune.ai/blog/implementing-the-macro-f1-score-in-keras\n",
        "\n",
        "from tensorflow.keras import backend as K\n",
        "\n",
        "def custom_f1(y_true, y_pred):\n",
        "    def recall_m(y_true, y_pred):\n",
        "        TP = K.sum(K.round(K.clip(y_true * y_pred, 0, 1)))\n",
        "        Positives = K.sum(K.round(K.clip(y_true, 0, 1)))\n",
        "\n",
        "        recall = TP / (Positives+K.epsilon())\n",
        "        return recall\n",
        "\n",
        "\n",
        "    def precision_m(y_true, y_pred):\n",
        "        TP = K.sum(K.round(K.clip(y_true * y_pred, 0, 1)))\n",
        "        Pred_Positives = K.sum(K.round(K.clip(y_pred, 0, 1)))\n",
        "\n",
        "        precision = TP / (Pred_Positives+K.epsilon())\n",
        "        return precision\n",
        "\n",
        "    precision, recall = precision_m(y_true, y_pred), recall_m(y_true, y_pred)\n",
        "\n",
        "    return 2*((precision*recall)/(precision+recall+K.epsilon()))"
      ],
      "metadata": {
        "id": "vHIKf6Wdm5vW"
      },
      "execution_count": 33,
      "outputs": []
    },
    {
      "cell_type": "code",
      "source": [
        "# Definimos el modelo\n",
        "\n",
        "model = Sequential()\n",
        "# input_dim = vocab_size (max n_words)\n",
        "# input_length = setencias con padding a 115\n",
        "# output_dim = embed_dim (depende que embeddings pre entrenados utilizamos)\n",
        "model.add(Embedding(input_dim=vocab_size, # definido en el Tokenizador\n",
        "                     output_dim=embed_dim, # dimensión de los embeddings utilizados\n",
        "                     input_length=in_shape, # máxima sentencia de entrada\n",
        "                     weights=[embedding_matrix], # matrix de embeddings\n",
        "                    trainable=False)) # marcar como layer no entrenable\n",
        "\n",
        "model.add(LSTM(units=64, return_sequences=True))\n",
        "model.add(Dropout(0.2))\n",
        "model.add(LSTM(units=64)) # La última capa LSTM no lleva return_sequences\n",
        "\n",
        "model.add(Dense(units=128, activation='relu'))\n",
        "model.add(Dropout(rate=0.2))\n",
        "model.add(Dense(units=out_shape, activation='softmax'))\n",
        "\n",
        "model.compile(optimizer=\"adam\",\n",
        "              loss='categorical_crossentropy',\n",
        "              metrics=['accuracy', custom_f1])\n",
        "\n",
        "model.summary()"
      ],
      "metadata": {
        "id": "-Oje6x4EMme-",
        "colab": {
          "base_uri": "https://localhost:8080/"
        },
        "outputId": "0f2ac4b9-c920-4286-981b-04f87e45be4b"
      },
      "execution_count": 34,
      "outputs": [
        {
          "output_type": "stream",
          "name": "stdout",
          "text": [
            "Model: \"sequential\"\n",
            "_________________________________________________________________\n",
            " Layer (type)                Output Shape              Param #   \n",
            "=================================================================\n",
            " embedding (Embedding)       (None, 115, 300)          600000    \n",
            "                                                                 \n",
            " lstm (LSTM)                 (None, 115, 64)           93440     \n",
            "                                                                 \n",
            " dropout (Dropout)           (None, 115, 64)           0         \n",
            "                                                                 \n",
            " lstm_1 (LSTM)               (None, 64)                33024     \n",
            "                                                                 \n",
            " dense (Dense)               (None, 128)               8320      \n",
            "                                                                 \n",
            " dropout_1 (Dropout)         (None, 128)               0         \n",
            "                                                                 \n",
            " dense_1 (Dense)             (None, 5)                 645       \n",
            "                                                                 \n",
            "=================================================================\n",
            "Total params: 735,429\n",
            "Trainable params: 135,429\n",
            "Non-trainable params: 600,000\n",
            "_________________________________________________________________\n"
          ]
        }
      ]
    },
    {
      "cell_type": "code",
      "source": [
        "hist = model.fit(X_train, y_train, epochs=50, validation_split=0.2, class_weight=class_weight)"
      ],
      "metadata": {
        "id": "dh7FMrFqNNf9",
        "colab": {
          "base_uri": "https://localhost:8080/"
        },
        "outputId": "e41f40c6-6c7f-458d-a9ef-93eacfdae216"
      },
      "execution_count": 35,
      "outputs": [
        {
          "output_type": "stream",
          "name": "stdout",
          "text": [
            "Epoch 1/50\n",
            "453/453 [==============================] - 16s 14ms/step - loss: 0.2441 - accuracy: 0.5550 - custom_f1: 0.5481 - val_loss: 1.4477 - val_accuracy: 0.5471 - val_custom_f1: 0.5482\n",
            "Epoch 2/50\n",
            "453/453 [==============================] - 6s 14ms/step - loss: 0.2332 - accuracy: 0.5561 - custom_f1: 0.5561 - val_loss: 1.3289 - val_accuracy: 0.5471 - val_custom_f1: 0.5482\n",
            "Epoch 3/50\n",
            "453/453 [==============================] - 5s 11ms/step - loss: 0.2295 - accuracy: 0.5561 - custom_f1: 0.5560 - val_loss: 1.3492 - val_accuracy: 0.5471 - val_custom_f1: 0.5484\n",
            "Epoch 4/50\n",
            "453/453 [==============================] - 6s 12ms/step - loss: 0.2259 - accuracy: 0.5561 - custom_f1: 0.5570 - val_loss: 1.4078 - val_accuracy: 0.5471 - val_custom_f1: 0.5488\n",
            "Epoch 5/50\n",
            "453/453 [==============================] - 6s 12ms/step - loss: 0.2240 - accuracy: 0.5561 - custom_f1: 0.5588 - val_loss: 1.4200 - val_accuracy: 0.5471 - val_custom_f1: 0.5502\n",
            "Epoch 6/50\n",
            "453/453 [==============================] - 5s 12ms/step - loss: 0.2211 - accuracy: 0.5577 - custom_f1: 0.5618 - val_loss: 1.4032 - val_accuracy: 0.5495 - val_custom_f1: 0.5513\n",
            "Epoch 7/50\n",
            "453/453 [==============================] - 6s 13ms/step - loss: 0.2183 - accuracy: 0.5590 - custom_f1: 0.5646 - val_loss: 1.3113 - val_accuracy: 0.5504 - val_custom_f1: 0.5524\n",
            "Epoch 8/50\n",
            "453/453 [==============================] - 5s 12ms/step - loss: 0.2156 - accuracy: 0.5610 - custom_f1: 0.5659 - val_loss: 1.3254 - val_accuracy: 0.5520 - val_custom_f1: 0.5534\n",
            "Epoch 9/50\n",
            "453/453 [==============================] - 6s 13ms/step - loss: 0.2140 - accuracy: 0.5633 - custom_f1: 0.5685 - val_loss: 1.4994 - val_accuracy: 0.5509 - val_custom_f1: 0.5522\n",
            "Epoch 10/50\n",
            "453/453 [==============================] - 5s 11ms/step - loss: 0.2106 - accuracy: 0.5648 - custom_f1: 0.5710 - val_loss: 1.4590 - val_accuracy: 0.5509 - val_custom_f1: 0.5528\n",
            "Epoch 11/50\n",
            "453/453 [==============================] - 6s 13ms/step - loss: 0.2085 - accuracy: 0.5691 - custom_f1: 0.5746 - val_loss: 1.3136 - val_accuracy: 0.5556 - val_custom_f1: 0.5574\n",
            "Epoch 12/50\n",
            "453/453 [==============================] - 5s 12ms/step - loss: 0.2049 - accuracy: 0.5719 - custom_f1: 0.5773 - val_loss: 1.3208 - val_accuracy: 0.5545 - val_custom_f1: 0.5582\n",
            "Epoch 13/50\n",
            "453/453 [==============================] - 6s 14ms/step - loss: 0.2024 - accuracy: 0.5783 - custom_f1: 0.5830 - val_loss: 1.3113 - val_accuracy: 0.5575 - val_custom_f1: 0.5602\n",
            "Epoch 14/50\n",
            "453/453 [==============================] - 5s 11ms/step - loss: 0.1995 - accuracy: 0.5833 - custom_f1: 0.5870 - val_loss: 1.4239 - val_accuracy: 0.5595 - val_custom_f1: 0.5616\n",
            "Epoch 15/50\n",
            "453/453 [==============================] - 6s 12ms/step - loss: 0.1964 - accuracy: 0.5858 - custom_f1: 0.5890 - val_loss: 1.2720 - val_accuracy: 0.5559 - val_custom_f1: 0.5578\n",
            "Epoch 16/50\n",
            "453/453 [==============================] - 6s 13ms/step - loss: 0.1927 - accuracy: 0.5948 - custom_f1: 0.5966 - val_loss: 1.3143 - val_accuracy: 0.5581 - val_custom_f1: 0.5613\n",
            "Epoch 17/50\n",
            "453/453 [==============================] - 5s 12ms/step - loss: 0.1886 - accuracy: 0.6017 - custom_f1: 0.5991 - val_loss: 1.3088 - val_accuracy: 0.5515 - val_custom_f1: 0.5495\n",
            "Epoch 18/50\n",
            "453/453 [==============================] - 6s 13ms/step - loss: 0.1857 - accuracy: 0.6062 - custom_f1: 0.6078 - val_loss: 1.3690 - val_accuracy: 0.5548 - val_custom_f1: 0.5566\n",
            "Epoch 19/50\n",
            "453/453 [==============================] - 5s 12ms/step - loss: 0.1820 - accuracy: 0.6136 - custom_f1: 0.6107 - val_loss: 1.3051 - val_accuracy: 0.5584 - val_custom_f1: 0.5586\n",
            "Epoch 20/50\n",
            "453/453 [==============================] - 6s 13ms/step - loss: 0.1785 - accuracy: 0.6204 - custom_f1: 0.6214 - val_loss: 1.3549 - val_accuracy: 0.5584 - val_custom_f1: 0.5572\n",
            "Epoch 21/50\n",
            "453/453 [==============================] - 5s 12ms/step - loss: 0.1745 - accuracy: 0.6304 - custom_f1: 0.6282 - val_loss: 1.2682 - val_accuracy: 0.5526 - val_custom_f1: 0.5510\n",
            "Epoch 22/50\n",
            "453/453 [==============================] - 6s 13ms/step - loss: 0.1705 - accuracy: 0.6371 - custom_f1: 0.6327 - val_loss: 1.4114 - val_accuracy: 0.5537 - val_custom_f1: 0.5498\n",
            "Epoch 23/50\n",
            "453/453 [==============================] - 5s 12ms/step - loss: 0.1650 - accuracy: 0.6466 - custom_f1: 0.6459 - val_loss: 1.3888 - val_accuracy: 0.5504 - val_custom_f1: 0.5506\n",
            "Epoch 24/50\n",
            "453/453 [==============================] - 6s 13ms/step - loss: 0.1631 - accuracy: 0.6466 - custom_f1: 0.6483 - val_loss: 1.3523 - val_accuracy: 0.5526 - val_custom_f1: 0.5495\n",
            "Epoch 25/50\n",
            "453/453 [==============================] - 5s 12ms/step - loss: 0.1569 - accuracy: 0.6617 - custom_f1: 0.6600 - val_loss: 1.4778 - val_accuracy: 0.5617 - val_custom_f1: 0.5602\n",
            "Epoch 26/50\n",
            "453/453 [==============================] - 6s 13ms/step - loss: 0.1526 - accuracy: 0.6679 - custom_f1: 0.6678 - val_loss: 1.4715 - val_accuracy: 0.5462 - val_custom_f1: 0.5378\n",
            "Epoch 27/50\n",
            "453/453 [==============================] - 5s 12ms/step - loss: 0.1519 - accuracy: 0.6683 - custom_f1: 0.6673 - val_loss: 1.4796 - val_accuracy: 0.5534 - val_custom_f1: 0.5546\n",
            "Epoch 28/50\n",
            "453/453 [==============================] - 5s 12ms/step - loss: 0.1457 - accuracy: 0.6798 - custom_f1: 0.6802 - val_loss: 1.4525 - val_accuracy: 0.5589 - val_custom_f1: 0.5541\n",
            "Epoch 29/50\n",
            "453/453 [==============================] - 6s 13ms/step - loss: 0.1394 - accuracy: 0.6908 - custom_f1: 0.6931 - val_loss: 1.6293 - val_accuracy: 0.5584 - val_custom_f1: 0.5578\n",
            "Epoch 30/50\n",
            "453/453 [==============================] - 5s 12ms/step - loss: 0.1406 - accuracy: 0.6918 - custom_f1: 0.6906 - val_loss: 1.5210 - val_accuracy: 0.5504 - val_custom_f1: 0.5451\n",
            "Epoch 31/50\n",
            "453/453 [==============================] - 6s 13ms/step - loss: 0.1329 - accuracy: 0.7056 - custom_f1: 0.7057 - val_loss: 1.6353 - val_accuracy: 0.5551 - val_custom_f1: 0.5526\n",
            "Epoch 32/50\n",
            "453/453 [==============================] - 5s 12ms/step - loss: 0.1353 - accuracy: 0.6971 - custom_f1: 0.6983 - val_loss: 1.6386 - val_accuracy: 0.5413 - val_custom_f1: 0.5387\n",
            "Epoch 33/50\n",
            "453/453 [==============================] - 6s 13ms/step - loss: 0.1287 - accuracy: 0.7143 - custom_f1: 0.7131 - val_loss: 1.6294 - val_accuracy: 0.5457 - val_custom_f1: 0.5420\n",
            "Epoch 34/50\n",
            "453/453 [==============================] - 5s 12ms/step - loss: 0.1222 - accuracy: 0.7221 - custom_f1: 0.7206 - val_loss: 1.7261 - val_accuracy: 0.5330 - val_custom_f1: 0.5277\n",
            "Epoch 35/50\n",
            "453/453 [==============================] - 6s 13ms/step - loss: 0.1268 - accuracy: 0.7178 - custom_f1: 0.7187 - val_loss: 1.6994 - val_accuracy: 0.5509 - val_custom_f1: 0.5479\n",
            "Epoch 36/50\n",
            "453/453 [==============================] - 5s 11ms/step - loss: 0.1169 - accuracy: 0.7348 - custom_f1: 0.7347 - val_loss: 1.7831 - val_accuracy: 0.5393 - val_custom_f1: 0.5377\n",
            "Epoch 37/50\n",
            "453/453 [==============================] - 6s 13ms/step - loss: 0.1145 - accuracy: 0.7353 - custom_f1: 0.7361 - val_loss: 1.6916 - val_accuracy: 0.5457 - val_custom_f1: 0.5449\n",
            "Epoch 38/50\n",
            "453/453 [==============================] - 5s 12ms/step - loss: 0.1127 - accuracy: 0.7401 - custom_f1: 0.7407 - val_loss: 1.8383 - val_accuracy: 0.5476 - val_custom_f1: 0.5454\n",
            "Epoch 39/50\n",
            "453/453 [==============================] - 5s 12ms/step - loss: 0.1101 - accuracy: 0.7437 - custom_f1: 0.7462 - val_loss: 1.7344 - val_accuracy: 0.5476 - val_custom_f1: 0.5451\n",
            "Epoch 40/50\n",
            "453/453 [==============================] - 6s 13ms/step - loss: 0.1069 - accuracy: 0.7471 - custom_f1: 0.7497 - val_loss: 1.8415 - val_accuracy: 0.5399 - val_custom_f1: 0.5349\n",
            "Epoch 41/50\n",
            "453/453 [==============================] - 5s 12ms/step - loss: 0.1016 - accuracy: 0.7577 - custom_f1: 0.7601 - val_loss: 1.9219 - val_accuracy: 0.5349 - val_custom_f1: 0.5306\n",
            "Epoch 42/50\n",
            "453/453 [==============================] - 6s 13ms/step - loss: 0.1004 - accuracy: 0.7588 - custom_f1: 0.7606 - val_loss: 1.9271 - val_accuracy: 0.5330 - val_custom_f1: 0.5252\n",
            "Epoch 43/50\n",
            "453/453 [==============================] - 5s 12ms/step - loss: 0.0968 - accuracy: 0.7646 - custom_f1: 0.7679 - val_loss: 1.9810 - val_accuracy: 0.5410 - val_custom_f1: 0.5416\n",
            "Epoch 44/50\n",
            "453/453 [==============================] - 6s 13ms/step - loss: 0.0991 - accuracy: 0.7608 - custom_f1: 0.7628 - val_loss: 1.9074 - val_accuracy: 0.5418 - val_custom_f1: 0.5433\n",
            "Epoch 45/50\n",
            "453/453 [==============================] - 5s 12ms/step - loss: 0.0954 - accuracy: 0.7664 - custom_f1: 0.7685 - val_loss: 2.0283 - val_accuracy: 0.5371 - val_custom_f1: 0.5340\n",
            "Epoch 46/50\n",
            "453/453 [==============================] - 6s 13ms/step - loss: 0.0929 - accuracy: 0.7711 - custom_f1: 0.7729 - val_loss: 2.0217 - val_accuracy: 0.5294 - val_custom_f1: 0.5272\n",
            "Epoch 47/50\n",
            "453/453 [==============================] - 5s 12ms/step - loss: 0.0875 - accuracy: 0.7793 - custom_f1: 0.7811 - val_loss: 2.1172 - val_accuracy: 0.5225 - val_custom_f1: 0.5211\n",
            "Epoch 48/50\n",
            "453/453 [==============================] - 6s 12ms/step - loss: 0.0926 - accuracy: 0.7733 - custom_f1: 0.7753 - val_loss: 2.0004 - val_accuracy: 0.5322 - val_custom_f1: 0.5323\n",
            "Epoch 49/50\n",
            "453/453 [==============================] - 6s 12ms/step - loss: 0.0869 - accuracy: 0.7802 - custom_f1: 0.7833 - val_loss: 2.0627 - val_accuracy: 0.5288 - val_custom_f1: 0.5273\n",
            "Epoch 50/50\n",
            "453/453 [==============================] - 5s 12ms/step - loss: 0.0846 - accuracy: 0.7829 - custom_f1: 0.7861 - val_loss: 2.2201 - val_accuracy: 0.5319 - val_custom_f1: 0.5300\n"
          ]
        }
      ]
    },
    {
      "cell_type": "code",
      "source": [
        "import matplotlib.pyplot as plt\n",
        "import seaborn as sns\n",
        "epoch_count = range(1, len(hist.history['accuracy']) + 1)\n",
        "sns.lineplot(x=epoch_count,  y=hist.history['accuracy'], label='train')\n",
        "sns.lineplot(x=epoch_count,  y=hist.history['val_accuracy'], label='valid')\n",
        "plt.show()"
      ],
      "metadata": {
        "id": "OwHiepTMNNdP",
        "colab": {
          "base_uri": "https://localhost:8080/",
          "height": 430
        },
        "outputId": "5736ea81-4656-415e-eed5-c3547657f1e2"
      },
      "execution_count": 36,
      "outputs": [
        {
          "output_type": "display_data",
          "data": {
            "text/plain": [
              "<Figure size 640x480 with 1 Axes>"
            ],
            "image/png": "[encoded data removed]"
          },
          "metadata": {}
        }
      ]
    },
    {
      "cell_type": "code",
      "source": [
        "sns.lineplot(x=epoch_count,  y=hist.history['custom_f1'], label='train')\n",
        "sns.lineplot(x=epoch_count,  y=hist.history['val_custom_f1'], label='valid')\n",
        "plt.show()"
      ],
      "metadata": {
        "colab": {
          "base_uri": "https://localhost:8080/",
          "height": 430
        },
        "id": "5JPyKIBbrEBe",
        "outputId": "bf23d0a1-81d8-4739-af0b-a7ce6b5b9c67"
      },
      "execution_count": 37,
      "outputs": [
        {
          "output_type": "display_data",
          "data": {
            "text/plain": [
              "<Figure size 640x480 with 1 Axes>"
            ],
            "image/png": "[encoded data removed]"
          },
          "metadata": {}
        }
      ]
    },
    {
      "cell_type": "code",
      "source": [
        "model.evaluate(X_test, y_test)"
      ],
      "metadata": {
        "id": "1f5pA8YbNNUi",
        "colab": {
          "base_uri": "https://localhost:8080/"
        },
        "outputId": "625c1ebe-1629-4b90-ed8b-23956b6cf090"
      },
      "execution_count": 38,
      "outputs": [
        {
          "output_type": "stream",
          "name": "stdout",
          "text": [
            "142/142 [==============================] - 1s 8ms/step - loss: 2.0958 - accuracy: 0.5454 - custom_f1: 0.5438\n"
          ]
        },
        {
          "output_type": "execute_result",
          "data": {
            "text/plain": [
              "[2.0957629680633545, 0.5453742742538452, 0.543786883354187]"
            ]
          },
          "metadata": {},
          "execution_count": 38
        }
      ]
    },
    {
      "cell_type": "markdown",
      "source": [
        "### Conclusion\n",
        "- El modelo no parece generalizar de forma correcta y tendería a hacer overfitting\n",
        "- Quizás el parámetro class_weight no performa de la forma que esperaba\n",
        "- Se podría trabajar previamente en el balanceo de clases para evaluar que el impacto en la performance de hacer undersampling u oversampling o agrupar clases"
      ],
      "metadata": {
        "id": "QUg_kbDHOCUZ"
      }
    },
    {
      "cell_type": "code",
      "source": [],
      "metadata": {
        "id": "eQW1X3Obsx2a"
      },
      "execution_count": 38,
      "outputs": []
    }
  ]
}